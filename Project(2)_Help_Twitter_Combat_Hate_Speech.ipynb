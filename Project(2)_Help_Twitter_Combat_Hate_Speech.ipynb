{
 "cells": [
  {
   "cell_type": "markdown",
   "metadata": {
    "id": "DAUA0hArnciK"
   },
   "source": [
    "**Steps**\n",
    "\n",
    "1. Load the tweets file using read_csv function from Pandas package.\n",
    "\n",
    "2. Get the tweets into a list for easy text cleanup and manipulation.\n",
    "\n",
    "3. To cleanup:\n",
    "    1. Normalize the casing.\n",
    "    2. Using regular expressions, remove user handles. These begin with '@’.\n",
    "    3. Using regular expressions, remove URLs.\n",
    "    4. Using TweetTokenizer from NLTK, tokenize the tweets into individual terms.\n",
    "    5. Remove stop words.\n",
    "    6. Remove redundant terms like ‘amp’, ‘rt’, etc.\n",
    "    7. Remove ‘#’ symbols from the tweet while retaining the term.\n",
    "\n",
    "4. Extra cleanup by removing terms with a length of 1.\n",
    "\n",
    "5. Check out the top terms in the tweets:\n",
    "    1. First, get all the tokenized terms into one large list.\n",
    "    2. Use the counter and find the 10 most common terms.\n",
    "\n",
    "6. Data formatting for predictive modeling:\n",
    "    1. Join the tokens back to form strings. This will be required for the vectorizers.\n",
    "    2. Assign x and y.\n",
    "    3. Perform train_test_split using sklearn.\n",
    "\n",
    "7. We’ll use TF-IDF values for the terms as a feature to get into a vector space model.\n",
    "    1. Import TF-IDF  vectorizer from sklearn.\n",
    "    2. Instantiate with a maximum of 5000 terms in your vocabulary.\n",
    "    3. Fit and apply on the train set.\n",
    "    4. Apply on the test set.\n",
    "\n",
    "8. Model building: Ordinary Logistic Regression\n",
    "    1. Instantiate Logistic Regression from sklearn with default parameters.\n",
    "    2. Fit into  the train data.\n",
    "    3. Make predictions for the train and the test set.\n",
    "\n",
    "9. Model evaluation: Accuracy, recall, and f_1 score.\n",
    "    1. Report the accuracy on the train set.\n",
    "    2. Report the recall on the train set: decent, high, or low.\n",
    "    3. Get the f1 score on the train set.\n",
    "\n",
    "10. Looks like you need to adjust the class imbalance, as the model seems to focus on the 0s.\n",
    "    1. Adjust the appropriate class in the LogisticRegression model.\n",
    "\n",
    "11. Train again with the adjustment and evaluate.\n",
    "    1. Train the model on the train set.\n",
    "    2. Evaluate the predictions on the train set: accuracy, recall, and f_1 score.\n",
    "\n",
    "12. Regularization and Hyperparameter tuning:\n",
    "    1. Import GridSearch and StratifiedKFold because of class imbalance.\n",
    "    2. Provide the parameter grid to choose for ‘C’ and ‘penalty’ parameters.\n",
    "    3. Use a balanced class weight while instantiating the logistic regression.\n",
    "\n",
    "13. Find the parameters with the best recall in cross-validation.\n",
    "    1. Choose ‘recall’ as the metric for scoring.\n",
    "    2. Choose a stratified 4 fold cross-validation scheme.\n",
    "    3. Fit into  the train set.\n",
    "\n",
    "14. What are the best parameters?\n",
    "\n",
    "15. Predict and evaluate using the best estimator.\n",
    "    1. Use the best estimator from the grid search to make predictions on the test set.\n",
    "    2. What is the recall on the test set for the toxic comments?\n",
    "    3. What is the f_1 score?"
   ]
  },
  {
   "cell_type": "code",
   "execution_count": 65,
   "metadata": {
    "colab": {
     "base_uri": "https://localhost:8080/"
    },
    "id": "OyenwGdwHxib",
    "outputId": "5dc4443a-7c82-494d-aea3-18dd4da47cad"
   },
   "outputs": [
    {
     "name": "stdout",
     "output_type": "stream",
     "text": [
      "Drive already mounted at /content/drive/; to attempt to forcibly remount, call drive.mount(\"/content/drive/\", force_remount=True).\n"
     ]
    }
   ],
   "source": [
    "from google.colab import drive\n",
    "drive.mount('/content/drive/')"
   ]
  },
  {
   "cell_type": "code",
   "execution_count": 66,
   "metadata": {
    "colab": {
     "base_uri": "https://localhost:8080/"
    },
    "id": "xz2a7MNvX23_",
    "outputId": "07b214ce-37e0-4d24-96c0-3a1047e9027e"
   },
   "outputs": [
    {
     "name": "stdout",
     "output_type": "stream",
     "text": [
      "Using matplotlib backend: agg\n"
     ]
    }
   ],
   "source": [
    "import numpy as np\n",
    "import pandas as pd\n",
    "import matplotlib.pyplot as plt\n",
    "%matplotlib\n",
    "import nltk\n",
    "import re\n",
    "import os"
   ]
  },
  {
   "cell_type": "markdown",
   "metadata": {
    "id": "Bn_6RRE42gKX"
   },
   "source": [
    "**1. Load the tweets file using read_csv function from Pandas package.**"
   ]
  },
  {
   "cell_type": "code",
   "execution_count": 67,
   "metadata": {
    "colab": {
     "base_uri": "https://localhost:8080/",
     "height": 206
    },
    "id": "JSyWnwnx1F2E",
    "outputId": "c4b7cbd2-4838-4669-a080-d621ae633c89"
   },
   "outputs": [
    {
     "data": {
      "text/html": [
       "\n",
       "  <div id=\"df-46106f66-e1e3-48b7-84aa-41b88405a738\">\n",
       "    <div class=\"colab-df-container\">\n",
       "      <div>\n",
       "<style scoped>\n",
       "    .dataframe tbody tr th:only-of-type {\n",
       "        vertical-align: middle;\n",
       "    }\n",
       "\n",
       "    .dataframe tbody tr th {\n",
       "        vertical-align: top;\n",
       "    }\n",
       "\n",
       "    .dataframe thead th {\n",
       "        text-align: right;\n",
       "    }\n",
       "</style>\n",
       "<table border=\"1\" class=\"dataframe\">\n",
       "  <thead>\n",
       "    <tr style=\"text-align: right;\">\n",
       "      <th></th>\n",
       "      <th>id</th>\n",
       "      <th>label</th>\n",
       "      <th>tweet</th>\n",
       "    </tr>\n",
       "  </thead>\n",
       "  <tbody>\n",
       "    <tr>\n",
       "      <th>0</th>\n",
       "      <td>1</td>\n",
       "      <td>0</td>\n",
       "      <td>@user when a father is dysfunctional and is s...</td>\n",
       "    </tr>\n",
       "    <tr>\n",
       "      <th>1</th>\n",
       "      <td>2</td>\n",
       "      <td>0</td>\n",
       "      <td>@user @user thanks for #lyft credit i can't us...</td>\n",
       "    </tr>\n",
       "    <tr>\n",
       "      <th>2</th>\n",
       "      <td>3</td>\n",
       "      <td>0</td>\n",
       "      <td>bihday your majesty</td>\n",
       "    </tr>\n",
       "    <tr>\n",
       "      <th>3</th>\n",
       "      <td>4</td>\n",
       "      <td>0</td>\n",
       "      <td>#model   i love u take with u all the time in ...</td>\n",
       "    </tr>\n",
       "    <tr>\n",
       "      <th>4</th>\n",
       "      <td>5</td>\n",
       "      <td>0</td>\n",
       "      <td>factsguide: society now    #motivation</td>\n",
       "    </tr>\n",
       "  </tbody>\n",
       "</table>\n",
       "</div>\n",
       "      <button class=\"colab-df-convert\" onclick=\"convertToInteractive('df-46106f66-e1e3-48b7-84aa-41b88405a738')\"\n",
       "              title=\"Convert this dataframe to an interactive table.\"\n",
       "              style=\"display:none;\">\n",
       "        \n",
       "  <svg xmlns=\"http://www.w3.org/2000/svg\" height=\"24px\"viewBox=\"0 0 24 24\"\n",
       "       width=\"24px\">\n",
       "    <path d=\"M0 0h24v24H0V0z\" fill=\"none\"/>\n",
       "    <path d=\"M18.56 5.44l.94 2.06.94-2.06 2.06-.94-2.06-.94-.94-2.06-.94 2.06-2.06.94zm-11 1L8.5 8.5l.94-2.06 2.06-.94-2.06-.94L8.5 2.5l-.94 2.06-2.06.94zm10 10l.94 2.06.94-2.06 2.06-.94-2.06-.94-.94-2.06-.94 2.06-2.06.94z\"/><path d=\"M17.41 7.96l-1.37-1.37c-.4-.4-.92-.59-1.43-.59-.52 0-1.04.2-1.43.59L10.3 9.45l-7.72 7.72c-.78.78-.78 2.05 0 2.83L4 21.41c.39.39.9.59 1.41.59.51 0 1.02-.2 1.41-.59l7.78-7.78 2.81-2.81c.8-.78.8-2.07 0-2.86zM5.41 20L4 18.59l7.72-7.72 1.47 1.35L5.41 20z\"/>\n",
       "  </svg>\n",
       "      </button>\n",
       "      \n",
       "  <style>\n",
       "    .colab-df-container {\n",
       "      display:flex;\n",
       "      flex-wrap:wrap;\n",
       "      gap: 12px;\n",
       "    }\n",
       "\n",
       "    .colab-df-convert {\n",
       "      background-color: #E8F0FE;\n",
       "      border: none;\n",
       "      border-radius: 50%;\n",
       "      cursor: pointer;\n",
       "      display: none;\n",
       "      fill: #1967D2;\n",
       "      height: 32px;\n",
       "      padding: 0 0 0 0;\n",
       "      width: 32px;\n",
       "    }\n",
       "\n",
       "    .colab-df-convert:hover {\n",
       "      background-color: #E2EBFA;\n",
       "      box-shadow: 0px 1px 2px rgba(60, 64, 67, 0.3), 0px 1px 3px 1px rgba(60, 64, 67, 0.15);\n",
       "      fill: #174EA6;\n",
       "    }\n",
       "\n",
       "    [theme=dark] .colab-df-convert {\n",
       "      background-color: #3B4455;\n",
       "      fill: #D2E3FC;\n",
       "    }\n",
       "\n",
       "    [theme=dark] .colab-df-convert:hover {\n",
       "      background-color: #434B5C;\n",
       "      box-shadow: 0px 1px 3px 1px rgba(0, 0, 0, 0.15);\n",
       "      filter: drop-shadow(0px 1px 2px rgba(0, 0, 0, 0.3));\n",
       "      fill: #FFFFFF;\n",
       "    }\n",
       "  </style>\n",
       "\n",
       "      <script>\n",
       "        const buttonEl =\n",
       "          document.querySelector('#df-46106f66-e1e3-48b7-84aa-41b88405a738 button.colab-df-convert');\n",
       "        buttonEl.style.display =\n",
       "          google.colab.kernel.accessAllowed ? 'block' : 'none';\n",
       "\n",
       "        async function convertToInteractive(key) {\n",
       "          const element = document.querySelector('#df-46106f66-e1e3-48b7-84aa-41b88405a738');\n",
       "          const dataTable =\n",
       "            await google.colab.kernel.invokeFunction('convertToInteractive',\n",
       "                                                     [key], {});\n",
       "          if (!dataTable) return;\n",
       "\n",
       "          const docLinkHtml = 'Like what you see? Visit the ' +\n",
       "            '<a target=\"_blank\" href=https://colab.research.google.com/notebooks/data_table.ipynb>data table notebook</a>'\n",
       "            + ' to learn more about interactive tables.';\n",
       "          element.innerHTML = '';\n",
       "          dataTable['output_type'] = 'display_data';\n",
       "          await google.colab.output.renderOutput(dataTable, element);\n",
       "          const docLink = document.createElement('div');\n",
       "          docLink.innerHTML = docLinkHtml;\n",
       "          element.appendChild(docLink);\n",
       "        }\n",
       "      </script>\n",
       "    </div>\n",
       "  </div>\n",
       "  "
      ],
      "text/plain": [
       "   id  label                                              tweet\n",
       "0   1      0   @user when a father is dysfunctional and is s...\n",
       "1   2      0  @user @user thanks for #lyft credit i can't us...\n",
       "2   3      0                                bihday your majesty\n",
       "3   4      0  #model   i love u take with u all the time in ...\n",
       "4   5      0             factsguide: society now    #motivation"
      ]
     },
     "execution_count": 67,
     "metadata": {},
     "output_type": "execute_result"
    }
   ],
   "source": [
    "twitter_data = pd.read_csv('/content/drive/MyDrive/nltk/TwitterHate.csv')\n",
    "twitter_data.head()"
   ]
  },
  {
   "cell_type": "code",
   "execution_count": 68,
   "metadata": {
    "colab": {
     "base_uri": "https://localhost:8080/"
    },
    "id": "iZ2sUAjk1Zim",
    "outputId": "dcc0a659-6d5d-450e-8e98-dae813d22a5e"
   },
   "outputs": [
    {
     "data": {
      "text/plain": [
       "id       False\n",
       "label    False\n",
       "tweet    False\n",
       "dtype: bool"
      ]
     },
     "execution_count": 68,
     "metadata": {},
     "output_type": "execute_result"
    }
   ],
   "source": [
    "twitter_data.isnull().any()"
   ]
  },
  {
   "cell_type": "code",
   "execution_count": 69,
   "metadata": {
    "colab": {
     "base_uri": "https://localhost:8080/"
    },
    "id": "yOBDFmMn1jLf",
    "outputId": "b06eb5e0-ee4f-4bf6-9c31-a983fbc6662a"
   },
   "outputs": [
    {
     "name": "stdout",
     "output_type": "stream",
     "text": [
      "<class 'pandas.core.frame.DataFrame'>\n",
      "RangeIndex: 31962 entries, 0 to 31961\n",
      "Data columns (total 3 columns):\n",
      " #   Column  Non-Null Count  Dtype \n",
      "---  ------  --------------  ----- \n",
      " 0   id      31962 non-null  int64 \n",
      " 1   label   31962 non-null  int64 \n",
      " 2   tweet   31962 non-null  object\n",
      "dtypes: int64(2), object(1)\n",
      "memory usage: 749.2+ KB\n"
     ]
    }
   ],
   "source": [
    "twitter_data.info()"
   ]
  },
  {
   "cell_type": "code",
   "execution_count": 70,
   "metadata": {
    "colab": {
     "base_uri": "https://localhost:8080/"
    },
    "id": "xhkmhxoW17Wy",
    "outputId": "2da32e74-6ba1-4965-bd01-f47fd55a9db0"
   },
   "outputs": [
    {
     "data": {
      "text/plain": [
       "<bound method DataFrame.value_counts of           id  label                                              tweet\n",
       "0          1      0   @user when a father is dysfunctional and is s...\n",
       "1          2      0  @user @user thanks for #lyft credit i can't us...\n",
       "2          3      0                                bihday your majesty\n",
       "3          4      0  #model   i love u take with u all the time in ...\n",
       "4          5      0             factsguide: society now    #motivation\n",
       "...      ...    ...                                                ...\n",
       "31957  31958      0  ate @user isz that youuu?ðððððð...\n",
       "31958  31959      0    to see nina turner on the airwaves trying to...\n",
       "31959  31960      0  listening to sad songs on a monday morning otw...\n",
       "31960  31961      1  @user #sikh #temple vandalised in in #calgary,...\n",
       "31961  31962      0                   thank you @user for you follow  \n",
       "\n",
       "[31962 rows x 3 columns]>"
      ]
     },
     "execution_count": 70,
     "metadata": {},
     "output_type": "execute_result"
    }
   ],
   "source": [
    "twitter_data.value_counts"
   ]
  },
  {
   "cell_type": "code",
   "execution_count": 71,
   "metadata": {
    "colab": {
     "base_uri": "https://localhost:8080/"
    },
    "id": "QkkOSKms3FAE",
    "outputId": "86443d2b-63ec-409d-c87d-d33945aee486"
   },
   "outputs": [
    {
     "data": {
      "text/plain": [
       "0     @user when a father is dysfunctional and is s...\n",
       "1    @user @user thanks for #lyft credit i can't us...\n",
       "2                                  bihday your majesty\n",
       "3    #model   i love u take with u all the time in ...\n",
       "4               factsguide: society now    #motivation\n",
       "Name: tweet, dtype: object"
      ]
     },
     "execution_count": 71,
     "metadata": {},
     "output_type": "execute_result"
    }
   ],
   "source": [
    "twitter_data['tweet'].head()"
   ]
  },
  {
   "cell_type": "code",
   "execution_count": 72,
   "metadata": {
    "colab": {
     "base_uri": "https://localhost:8080/"
    },
    "id": "vDGR8eC3BrEE",
    "outputId": "ac5890e9-6bb9-4c99-f673-e1fdc0184c75"
   },
   "outputs": [
    {
     "data": {
      "text/plain": [
       "[' @user when a father is dysfunctional and is so selfish he drags his kids into his dysfunction.   #run',\n",
       " \"@user @user thanks for #lyft credit i can't use cause they don't offer wheelchair vans in pdx.    #disapointed #getthanked\",\n",
       " '  bihday your majesty',\n",
       " '#model   i love u take with u all the time in urð\\x9f\\x93±!!! ð\\x9f\\x98\\x99ð\\x9f\\x98\\x8eð\\x9f\\x91\\x84ð\\x9f\\x91\\x85ð\\x9f\\x92¦ð\\x9f\\x92¦ð\\x9f\\x92¦  ',\n",
       " ' factsguide: society now    #motivation',\n",
       " '[2/2] huge fan fare and big talking before they leave. chaos and pay disputes when they get there. #allshowandnogo  ',\n",
       " ' @user camping tomorrow @user @user @user @user @user @user @user dannyâ\\x80¦',\n",
       " \"the next school year is the year for exams.ð\\x9f\\x98¯ can't think about that ð\\x9f\\x98\\xad #school #exams   #hate #imagine #actorslife #revolutionschool #girl\",\n",
       " 'we won!!! love the land!!! #allin #cavs #champions #cleveland #clevelandcavaliers  â\\x80¦ ',\n",
       " \" @user @user welcome here !  i'm   it's so #gr8 ! \",\n",
       " ' â\\x86\\x9d #ireland consumer price index (mom) climbed from previous 0.2% to 0.5% in may   #blog #silver #gold #forex',\n",
       " 'we are so selfish. #orlando #standwithorlando #pulseshooting #orlandoshooting #biggerproblems #selfish #heabreaking   #values #love #',\n",
       " 'i get to see my daddy today!!   #80days #gettingfed',\n",
       " \"@user #cnn calls #michigan middle school 'build the wall' chant '' #tcot  \",\n",
       " 'no comment!  in #australia   #opkillingbay #seashepherd #helpcovedolphins #thecove  #helpcovedolphins',\n",
       " 'ouch...junior is angryð\\x9f\\x98\\x90#got7 #junior #yugyoem   #omg ',\n",
       " 'i am thankful for having a paner. #thankful #positive     ',\n",
       " 'retweet if you agree! ',\n",
       " 'its #friday! ð\\x9f\\x98\\x80 smiles all around via ig user: @user #cookies make people   ',\n",
       " 'as we all know, essential oils are not made of chemicals. ',\n",
       " '#euro2016 people blaming ha for conceded goal was it fat rooney who gave away free kick knowing bale can hit them from there.  ',\n",
       " 'sad little dude..   #badday #coneofshame #cats #pissed #funny #laughs ',\n",
       " \"product of the day: happy man #wine tool  who's   it's the #weekend? time to open up &amp; drink up!\",\n",
       " '@user @user lumpy says i am a . prove it lumpy.',\n",
       " ' @user #tgif   #ff to my #gamedev #indiedev #indiegamedev #squad! @user @user @user @user @user',\n",
       " 'beautiful sign by vendor 80 for $45.00!! #upsideofflorida #shopalyssas   #love ',\n",
       " ' @user all #smiles when #media is   !! ð\\x9f\\x98\\x9cð\\x9f\\x98\\x88 #pressconference in #antalya #turkey ! sunday #throwback  love! ð\\x9f\\x98\\x8að\\x9f\\x98\\x98â\\x9d¤ï¸\\x8f ',\n",
       " 'we had a great panel on the mediatization of the public service   #ica16',\n",
       " \"happy father's day @user ð\\x9f\\x92\\x93ð\\x9f\\x92\\x93ð\\x9f\\x92\\x93ð\\x9f\\x92\\x93  \",\n",
       " \"50 people went to nightclub to have a good night and 1 man's actions means those people are lost to their families forever #rip#orlando\",\n",
       " 'i have never had a chance to vote for a presidential candidate i was excited about and this cycle looks to be no different.  ',\n",
       " '  #alohafriday #time does #not #exist #positivevibes #hawaiian @user @user @user @user ',\n",
       " ' @user rip to the fellow nohern ireland fan who sadley passed away tonight!.. gawa, forever singing and cheering on fire  ',\n",
       " 'it was a hard monday due to cloudy weather. disabling oxygen production for today. #goodnight #badmonday  ',\n",
       " \"it's unbelievable that in the 21st century we'd need something like this. again. #neverump  #xenophobia \",\n",
       " '#taylorswift1989   bull up: you will dominate your bull and you will direct it whatever you want it to do. w ',\n",
       " 'morning~~ #travelingram #dalat   #ripinkylife ',\n",
       " '@user once more only one word tells it all: #photoshop.  #enoughisenough #dontphotoshopeverything #wheresallthenaturalphotos  ',\n",
       " 'oh, #cedarpoint. waited 2 hours in the valravn line and it stopped working. we were so close.  ',\n",
       " 'i am thankful for sunshine. #thankful #positive     ',\n",
       " \"when you finally finish a book you've been working on for awhile...  #bookworm #ontothenextnovel \",\n",
       " 'yup, being a knicks fan is hard, so its easier to just be an nba fan when the playoffs roll around ð\\x9f\\x98\\x8e ',\n",
       " 'there is life after social networking. embrace each day. be   ',\n",
       " 'my mom shares the same bihday as @user   bihday snake! see you this weekend ð\\x9f\\x99\\x8cð\\x9f\\x8f¼',\n",
       " 'lovely echeveria blooms#flowers #grow #gardening #iphonesia #bliss #blooms #basilicabotanica   ',\n",
       " 'i am amazing. #i_am #positive #affirmation     ',\n",
       " '#model   i love u take with u all the time in urð\\x9f\\x93±!!! ð\\x9f\\x98\\x99ð\\x9f\\x98\\x8eð\\x9f\\x91\\x84ð\\x9f\\x91\\x85ð\\x9f\\x92¦ð\\x9f\\x92¦ð\\x9f\\x92¦  ',\n",
       " '#whenever im   and #something goes #wrong  |  ',\n",
       " 'feeling blue #illustration   ',\n",
       " 'the best pa about life is knowing who you are! ð\\x9f\\x98\\x8aâ\\x98\\x80ï¸\\x8fð\\x9f\\x8c¼ð\\x9f\\x8c»  â\\x80¦ ',\n",
       " '#abc2020 getting ready 2 remove the victums frm #pulseclub #prayfororlando  ',\n",
       " 'for her #bihday we got her a #nose #job @user  ð\\x9f\\x8e\\x88ð\\x9f\\x90¶ð\\x9f\\x8e\\x89ð\\x9f\\x8e\\x82ð\\x9f\\x8e\\x81    #bihday #petunia we love you ð\\x9f\\x99\\x83 ',\n",
       " 'off to concelebrate at the #albanpilgrimage for the first time.   @user',\n",
       " ' @user let the scum-baggery begin..... ',\n",
       " 'thank you! ð\\x9f\\x98\\x8dð\\x9f\\x98\\x86 super love it! â\\x9d¤ï¸\\x8f zpamdelacruz   #wedding# @ dolores, capas tarlac. ',\n",
       " 'a scourge on those playing baroque pieces on piano    beyond belief ',\n",
       " '@user lets fight against  #love #peace ',\n",
       " ' happy fatherâ\\x80\\x99s day, mr. rayos #video   #fathers #day #rayos #world #hotvideo #videos',\n",
       " ' @user ascot times with this babe â\\x9d¤ï¸\\x8fâ\\x9d¤ï¸\\x8f #ascot #fashion #monochrome #style   #instahappyday ',\n",
       " 'the weekend..is here!!ð\\x9f\\x99\\x8cð\\x9f\\x98\\x89ð\\x9f\\x98\\x98ð\\x9f\\x92\\x99ð\\x9f\\x98\\x8a #selfie   #yolo #xoxo #like4like ',\n",
       " \"happy at work conference: right' mindset leads to culture-of-development organizations    #work #mindset\",\n",
       " \"christina grimmie's  last performance before being shot...  via @user #christinarip #voice #christinagrimmie  \",\n",
       " 'we are ready to dance #roar #preschoolers   #students #proudâ\\x80¦ ',\n",
       " \"you've really hu my feelings :(  \",\n",
       " \"@user my wife whom i adore had to miss your poland show because she had surgery. her name is bridget &amp; she's my everything.  \",\n",
       " '@user i am so jealous of you right now.... #chatiado  ',\n",
       " \"i celebrate every man that has played it's fatherly role.   father's day#\",\n",
       " \"i'm sure they are just as happy.... ð\\x9f\\x91\\x8fð\\x9f\\x8f½ð\\x9f\\x91\\x8fð\\x9f\\x8f½ð\\x9f\\x91\\x8fð\\x9f\\x8f½   hour  \",\n",
       " \"ð\\x9f\\x98©the white establishment can't have blk folx running around loving themselves and promoting our greatness  \",\n",
       " 'good morning! the journey begins! ð\\x9f\\x98\\x84ð\\x9f\\x91\\x8dð\\x9f\\x8f»ð\\x9f\\x9b³   #travel #yeah #thejourneybegins #helloâ\\x80¦ ',\n",
       " ' @user # if you #luv #hottweets like this from â\\x96¶ â\\x99¥#venusexchangeâ\\x99¥ ',\n",
       " 'our new brochures have arrived! how exciting!! #aworks #solutions   ',\n",
       " 'so much stuff happening in florida! first #orlando shooting and now #disneygatorattack on a two year old kidð\\x9f\\x98¥ð\\x9f\\x90\\x8a  ',\n",
       " '@user ferrari will do itð\\x9f\\x92ªð\\x9f\\x8f¼ for the sake of the championship. this gp is clearly a turning point rb, ferrari,mercs...ð\\x9f\\x98\\x8d  ',\n",
       " 'aced my first test!   #proud ',\n",
       " \"  seeks probe into #udtapunjab' leak, points finger at #amarinder, #aap  \",\n",
       " '@user wrapping up #senseaboutmaths @user 6th   @user @user @user ',\n",
       " \"@user hey, white people: you can call people 'white' by @user  #race  #identity #medâ\\x80¦\",\n",
       " '@user @user you might be. just have not shown here today. regurgitated talking points and name calling?  ',\n",
       " 'sometimes you have to raise a few brows to raise the bar. #golfstrengthandconditioning   #strong #felixfoisgolf',\n",
       " '  about that ð\\x9f\\x98\\x80ð\\x9f\\x98\\x80ð\\x9f\\x98\\x80 #greathonour #careerconvos @user @user ',\n",
       " ' @user designing #innovative learning space @user to include #wateringhole #cave #mountaintop #campfire @user   hâ\\x80¦',\n",
       " 'how the #altright uses  &amp; insecurity to lure men into #whitesupremacy    ',\n",
       " \"carrying a gun wouldn't of helped if you can't take it in with you. gun control won't stop the black market! terrorism will get worse!  \",\n",
       " 'use the power of your mind to #heal your body!! -     #altwaystoheal #healthy   #peace! ',\n",
       " 'woohoo!! just over 5 weeks to go!   ',\n",
       " 'being in a far away place where you have no family members hus  ',\n",
       " 'ready to rehearse tonight with new music and new videos, look out for the announcement! #midweek #newmusic #watchthisspace #guitar  ',\n",
       " 'now on monday nights at 8pm on #up channel!!!! i finally get to see what all the fuss is about!!!   ',\n",
       " 'watching the new episodes of @user on @user  ',\n",
       " ' @user offline now after a very nice and long night.. ð\\x9f\\x98\\x9a #snapchat @user   #redhead #vermillionred ',\n",
       " ' 15 things incredibly   #people do ',\n",
       " 'yes! received my acceptance letter for my masters so will be back at @user again in october!    #goodtimes #history',\n",
       " 'daughter riding her bike around driveway, son playing his guitar for us while we enjoy ð\\x9f\\x8dº by the campfire... #summeime   #memories',\n",
       " 'omg!!! loving this station!!! way to jam out at work!!! while getting work done of course!!!!   #memories @user ',\n",
       " \"@user i'll always hope that one day i'll get to hug you, but i don't think that it's gonna happen anytime soon... \",\n",
       " '#model   i love u take with u all the time in urð\\x9f\\x93±!!! ð\\x9f\\x98\\x99ð\\x9f\\x98\\x8eð\\x9f\\x91\\x84ð\\x9f\\x91\\x85ð\\x9f\\x92¦ð\\x9f\\x92¦ð\\x9f\\x92¦  ',\n",
       " '  couple having sex fat naked japanese girls  ',\n",
       " '#hump on that    #hump day #humpersð\\x9f\\x98© @ edwardsville, pennsylvania ',\n",
       " 'personalised we... gbp 7.99 get here:  #shop #cool   #home #fun ',\n",
       " 'there are some truly sick ppl out there.   ',\n",
       " 'trump calling on obama to resign over the orlando shootings? the boy has a point. 8 years and all he did was \"talk\" about change.  ',\n",
       " '@user @user @user @user not long now!!!   #nashvilletour2016 #nashvilleforever ð\\x9f\\x92\\x96ð\\x9f\\x92\\x96ð\\x9f\\x92\\x96 ',\n",
       " ' â\\x86\\x9d #eur/usd clears 1.1400 barrier, jumps to fresh 4-week high   #blog #silver #gold #forex',\n",
       " 'going to la tomorrow!!!  ',\n",
       " 'i am thankful for good friends. #thankful #positive     ',\n",
       " 'i still can not wrap my head around the fact that #christinagrimmie is gone. and the fact that a man destroyed #prayfororlando just  ',\n",
       " \"just received dis from @user can't wait to sta baking #eyelids .ð\\x9f\\x98\\x9að\\x9f\\x98\\x9að\\x9f\\x98\\x8eð\\x9f\\x98\\x8eð\\x9f\\x98\\x8eð\\x9f\\x98\\x8e   ð\\x9f\\x98\\x89ð\\x9f\\x98\\x89ð\\x9f\\x98\\x89â\\x80¦ \",\n",
       " 'we were so   to be playing for #vigilfororlando #harp #clonakilty #rip  via @user',\n",
       " ' @user yes yes yes   #ihavenofriends #someonecomewithme ',\n",
       " 'sunday...ð\\x9f\\x92\\x95 #weekend #relax #icon #woman #sundaymorning #sunday   #marilynmonroe ',\n",
       " \"@user i'm not interested in a #linguistics that doesn't address #race &amp; . racism is about #power. #raciolinguistics bringsâ\\x80¦\",\n",
       " 'one of my beloved long lost cds, now recovered thanks to apple music.  !  ',\n",
       " '#marvel #song #musica #weed #ripchristina #adele   #dance (vine by @user ',\n",
       " '@user why not @user mocked obama for being black.  @user @user @user @user #brexit',\n",
       " ' â\\x86\\x9d #under the spell of brexit referendum - commerzbank   #blog #silver #gold #forex',\n",
       " '100 amazing health benefits of cucumbers!    #healthy is  !!  #altwaystoheal! ',\n",
       " '#model   i love u take with u all the time in urð\\x9f\\x93±!!! ð\\x9f\\x98\\x99ð\\x9f\\x98\\x8eð\\x9f\\x91\\x84ð\\x9f\\x91\\x85ð\\x9f\\x92¦ð\\x9f\\x92¦ð\\x9f\\x92¦  ',\n",
       " 'off to work ð\\x9f\\x92ªð\\x9f\\x8f»ð\\x9f\\x9a¶ð\\x9f\\x8f¼ #ofw #pinoy #followme #igers #instagood #smile   #love # ',\n",
       " '#toradora #anime #animeedit i made it.   #breakups #alone #lonely ',\n",
       " '50 laps of pool, 10k ride done and picked up a gym membership form  ',\n",
       " '#cotd   polar bear climb racing: angry polar bear climb racing, the polar bear living in cold places looking ',\n",
       " ' @user @user gets him angry.  a muslim assassinating 50 not so much.    ',\n",
       " 'happy snappy ð\\x9f\\x99\\x8cð\\x9f\\x8f¼ waiting for the football   #football #snapchat ',\n",
       " 'friday i miss you!!   #fringes#qcbags#summer ð\\x9f\\x98\\x8eð\\x9f\\x98\\x8eð\\x9f\\x98\\x8eð\\x9f\\x8c\\x9eð\\x9f\\x8c\\x9eð\\x9f\\x8c\\x9eó¾®\\x9eð\\x9f\\x8f» ',\n",
       " '#nochebuena   #lasvegas #usa @ las vegas strip ',\n",
       " 'ma fleurette ð\\x9f\\x91¯ð\\x9f\\x92\\x95 #instaboy#instaman#sefie#septum#friend #smiles#blackandwhite ',\n",
       " 'sad in the branches itâ\\x80\\x99s just rainy day writing tears are flying birds   #haiku #3lines #micropoetry  ',\n",
       " 'yeah! new buttons in the mail for me ð\\x9f\\x92\\x96  they are so pretty! :) #jewelrymaking #buttons   ',\n",
       " ' @user driver hit female moose on river rd #weston.  moose was killed. driver is ok. crews removing animal now  ',\n",
       " 'afterpas.   made in japan. ï¼\\x83madeinjapan  #eos  ï¼\\x83cute #fun #cawaii #love   #strawberry #tomato ',\n",
       " \"#people aren't protesting #trump because a #republican won-they do so because trump has fuhered  &amp;â\\x80¦ \",\n",
       " 'i need to find a way to spend my time so you are not always on my mind. . .  #me #boy #guy  â\\x80¦ ',\n",
       " '[1466047260.15] update @  #social #analytics   #photooftheday #igers #likes ',\n",
       " 'anyone know the date our #doj and #fbi became corrupted? #emailgate #hillary2016 #shameful #disgraceful #ridiculous  ',\n",
       " '#stupidity makes me more   than even #negligence.why put #sachintendulkar a installation if u were going to take it off?',\n",
       " 'ð\\x9f\\x98\\x86ð\\x9f\\x92\\x95ð\\x9f\\x8c\\x9fð\\x9f\\x92\\x93â\\x9c¨â\\xad\\x90ï¸\\x8f  #ã\\x82\\x86ã\\x82\\x8aã\\x81\\x9dã\\x82\\x93   bihdayð\\x9f\\x8e\\x89 #21thbihday ð\\x9f\\x92\\x93 #bestfriend ð\\x9f\\x8c\\x9f #loveð\\x9f\\x91¼ ',\n",
       " ' @user ð\\x9f\\x92\\x8b d most impoant thing is to #enjoy your life - to be   - itâ\\x80\\x99s all that matters. life is too sho. #pooh4u ',\n",
       " 'happy bihday chris evansð\\x9f\\x8e\\x87ð\\x9f\\x8e\\x89ð\\x9f\\x8e\\x8að\\x9f\\x8e\\x81ð\\x9f\\x8e\\x82ð\\x9f\\x8e\\x86ð\\x9f\\x8e\\x88 a great actor and human ð\\x9f\\x98\\x81ð\\x9f\\x98\\x8dð\\x9f\\x98³ð\\x9f\\x98\\x98ð\\x9f\\x98»ð\\x9f\\x98¸ð\\x9f\\x92\\x9cð\\x9f\\x92\\x93ð\\x9f\\x92\\x9e #chrisevans   #bihdayâ\\x80¦ ',\n",
       " 'our heas, thoughts, prayers go out to the more than 50 people who were murdered @ a gay nightclub in #florida   ',\n",
       " ' @user demoing guitars for new album #newalbum #indie #guitars   #echobelly ',\n",
       " 'retweeted lion pro (@user  #tgif #webmareting #seo #community #management   #weekend... ',\n",
       " ' â\\x86\\x9d #nzd/usd: targets the 100 week sma at 0.7190   #blog #silver #gold #forex',\n",
       " \" @user i've had pretty bad bihday weeks before, but so far this is the worst ever. ð\\x9f\\x98\\x92 #bihdayweeksucks #bithday27   #tâ\\x80¦\",\n",
       " \"so blessed to have worked with sa's best leading ladiesð\\x9f\\x98\\x84ð\\x9f\\x98\\x84 \",\n",
       " 'happiest place on eah ð\\x9f\\x92« #disneysmagickingdom #disney #magickingdom #disneyland   #orlandoâ\\x80¦ ',\n",
       " 'is kinda   to be among humans again.',\n",
       " \"just found out @user is at @user after i'd been exclaiming to @user how gr8 blain's hair was the other nite.   ð\\x9f\\x98\\xad\",\n",
       " '@user &lt;3 listen to my most beautiful best friend  @user  singing with her most amazing voice &lt;3 &lt;3 &lt;3 &lt;3 17 ',\n",
       " 'be   n #healthy freedom from effo in the present merely means that there has been effo stored up in the past. â\\x80\\x93 theodore rooseveltâ\\x80¦',\n",
       " 'when you know yall 2 aint going know where :) #love #commitment #trust #faithful  ',\n",
       " \"yes it's  when you call #michelleobama a gorilla because racists have long thought of black people as no betâ\\x80¦ \",\n",
       " '#newarkfestival this is us all this year waiting for the show to sta our 3rd year running   ',\n",
       " \"when the internet is broken so you can't watch netflix. #mochithepug #puglife   \",\n",
       " '@user @user @user and she will do just that....then what..business as usual.  ',\n",
       " 'hbd to this dick suckin tequila lovin slut, i wouldnt want u any other way ð\\x9f\\x92\\x95ð\\x9f\\x98\\x98   #justalillate #butstillontime ',\n",
       " 'as the smaller hands show, barry probably lied about  being why his #knicks game sucked more than his #golfâ\\x80¦ ',\n",
       " 'good morning friday! what is everyone doing this weekend? #goodmorning #friday #girls   #love #florida ',\n",
       " \"  challenges #aap's claim that 70% #punjabis are #drugaddicts, dares it to prove   \",\n",
       " '#tracerequest sending my deepest condolences to the orlando gay families. zimbabwe gay community has you at hea   #touched',\n",
       " 'new selfie \\\\Â¤.Â¤/  #guy   #mato #chapones ',\n",
       " 'saturday afternoon chi meet up #friends    @user  @user  @user ',\n",
       " '#model   i love u take with u all the time in urð\\x9f\\x93±!!! ð\\x9f\\x98\\x99ð\\x9f\\x98\\x8eð\\x9f\\x91\\x84ð\\x9f\\x91\\x85ð\\x9f\\x92¦ð\\x9f\\x92¦ð\\x9f\\x92¦  ',\n",
       " 'soed out all my nut &amp; bolts.   #bloke',\n",
       " \"aww yeah it's all good bing bong bing bong   \",\n",
       " 'just dawned on me in 2 months i will be seeing @user live. i am so excited ð\\x9f\\x98\\x8dð\\x9f\\x98\\x8dð\\x9f\\x98\\x8d #vfest #summer  ',\n",
       " ' @user happy 35th bihday shane robe watson!!    #bihday #shane #watson #australia #cricker ',\n",
       " '@user @user you point one finger @user millions are pointed right back at you,  #jewishsupremacist',\n",
       " 'sad to hear the announcers say that \"it may have moved the player to one or two out of the lead\" #whoknows!  ',\n",
       " \"#radio1 i'm going to #coldplay tonight   oh yes.\",\n",
       " 'u think like this too? the god who is not coming through for me. the god who is not keeping me  . ',\n",
       " '@user terrorist = constitutional rights?  this is just another excuse by republicans to appease the nra with no gun control measures. !',\n",
       " \" @user it's all about @user   #gloucesterrugby \",\n",
       " ' @user very sad, @user what happened? ',\n",
       " 'everyone is everything   #sad #together #alone #up #down #fine #dandy #lonely #exuberant #depressed #halffull #halfempty',\n",
       " '#mikeashley #sposdirectshame , perhapse a good example of the need to protect #workersrights from within europe. #euref   #remain',\n",
       " 'angry birds stella bad princess   #birds #stella #bad #princess birdsstellabadprincess.  time post: wedâ\\x80¦ ',\n",
       " 'check  @user incredibly   to have made great  memories with great people , we did an ...',\n",
       " 'saw a t shi last night that said \"rip  to when i cared\"   #really',\n",
       " \" @user hilarious, @user i'm already blocked by @user for asking one, not paicularly difficult, question.   @user\",\n",
       " 'devastating news.  my hea goes out to the victims and their families.  #orlando #heabreaking   ',\n",
       " '\"happiness is not a state to arrive at, but a manner of traveling.\" margaret lee #runbeck   #happiness #quotes #inspirational',\n",
       " 'safe ways to heal your #acne!!    #altwaystoheal #healthy   #healing!! ',\n",
       " 'what i am creating right now. #beats #makingbeats #thursday   #work #istandard #akaiproâ\\x80¦ ',\n",
       " 'wedding number 10! ð\\x9f\\x98\\x9cð\\x9f\\x98\\x9cð\\x9f\\x92\\x96ð\\x9f\\x92\\x96ð\\x9f\\x92\\x90ð\\x9f\\x8d¾ð\\x9f\\x8d¾  #wedding #weddingpay     #love #forever #weddingdressâ\\x80¦ ',\n",
       " \"we're looking forward to attending the  cipd ireland conference &amp; workshop   #cpd #onemoreday @user  @user\",\n",
       " 'finally reached 200 followers on #twitch. follower hypu #stream tomorrow! â\\x9d¤  ',\n",
       " \"words r free, it's how u use em that can cost you! #verbal #abuse   #hu #love  #adult #teen @user \",\n",
       " 'after what our country went through this last year to see people bring a \"bomb\" to the stadium &amp; come here for everything but football  ',\n",
       " 'i am thankful for cats. #thankful #positive      ',\n",
       " 'time to eat with my bae swalscha ð\\x9f\\x98\\x8dâ\\x9c¨ð\\x9f\\x98\\x8b #dejeuner #lunch   #happiness #love #amoureuxâ\\x80¦ ',\n",
       " 'ilovethesecret  #lawofattraction  #quiz #love #happiness #motivation #success   #joy #lifeâ\\x80¦ ',\n",
       " 'you might be a libtard if... #libtard  #sjw #liberal #politics ',\n",
       " \"it's about to go down... #pole #bgp #rozthediva #blackgirlspole #bodyandpole #live #love  â\\x80¦ \",\n",
       " '#argentina2015   attack bull game 3d: do you really think that his head was empty around the city. each side ',\n",
       " 'what a self-serving hypocrite! always keep your eye on the bouncing ball with this nimrod president.   ',\n",
       " '#nohcarolina   bull up: you will dominate your bull and you will direct it whatever you want it to do. whe ',\n",
       " '#building   polar bear climb racing: angry polar bear climb racing, the polar bear living in cold places loo ',\n",
       " '@user @user if they want reelection money. #ksleg  ',\n",
       " 'my hea is with #orlando right now. i truly cannot imagine. could have easily happened anywhere. :(  ',\n",
       " 'alreemgroup #aly_alshahawy #ad #cute #summer #photographerdubai #sun   #hair #mydubaiâ\\x80¦ ',\n",
       " 'it seems like the only place with action here is montreal :(   ',\n",
       " ' @user that, and you are old and washed up! ',\n",
       " 'i am spirited. #i_am #positive #affirmation     ',\n",
       " 'i am thankful for enteainment. #thankful #positive     ',\n",
       " '@user @user @user this shows truly how bad brisbane are  ',\n",
       " \"@user can't wait for #wimbledon2016  \",\n",
       " 'happy man!!!  #success #model #entrepreneur  #speaker #ff #fresh #confident    #fashionâ\\x80¦ ',\n",
       " '#gala moments ...   #day #kid #bipolar #frikiegirl2016 @ the lucky chinatown mall, binondo,â\\x80¦ ',\n",
       " \"this really takes the piss. i'm so angry. just goes to show who is valued and who isn't. you complete and utter moron.  \",\n",
       " '@user take out the #trash america...  - i voted against #hate - i voted against  - i voted against  - i votâ\\x80¦ ',\n",
       " '  fathers day to all the #amazing #dads out there that give up so much for their families! #enjoy your... ',\n",
       " 'does #magnettherapy really work?   #altwaystoheal #healing #healthy   !! ',\n",
       " 'sebbo has said it all!  @user ',\n",
       " 'ð\\x9f\\x98\\x81ð\\x9f\\x98\\x81ð\\x9f\\x98\\x81â\\x9d¤ï¸\\x8f egã\\x80\\x9cï¼\\x9fï¼\\x9fï¼\\x9f smile!!!!!â\\x9d¤ï¸\\x8fð\\x9f\\x97£ð\\x9f¤\\x98ð\\x9f\\x8f½ ã\\x83» #smile#egsmile #torio  ',\n",
       " '@user brilliant service at your kettering branch today   customer',\n",
       " '@user will be here for a screening. i will miss it. so i will sing all the songs from potp and shock treatment, because i can.  ',\n",
       " 'on the way toraya #bus #alamindah #white #music #carrieunderwood   ',\n",
       " '#model   i love u take with u all the time in urð\\x9f\\x93±!!! ð\\x9f\\x98\\x99ð\\x9f\\x98\\x8eð\\x9f\\x91\\x84ð\\x9f\\x91\\x85ð\\x9f\\x92¦ð\\x9f\\x92¦ð\\x9f\\x92¦  ',\n",
       " 'good day - 6 new beers at bridpo food &amp; beer fest. back at the campsite drunk the @user starstruck &amp; moved on to @user #5.  ',\n",
       " 'g o a l s ð\\x9f\\x92\\x99 repost from @user #propey #ocean #summer   #life #family @ sydneyâ\\x80¦ ',\n",
       " \"i want to teach you love like you've never felt it before.  #quote #quotes #love #pakistan #allin216 #girls #boys #fashion   #feelings\",\n",
       " 'i am thankful for now. #thankful #positive     ',\n",
       " \"omg just 100 days left!! #countdown   #nolefam @user can't wait for him to come to milan! #22092016 ð\\x9f\\x98\\x8dð\\x9f\\x94\\x9c \",\n",
       " ' @user stone roses done. now time for @user in a d club.   days',\n",
       " '\"there\\'s a reason why two people stay together, they give each other something nobody else can.\" hopelly greats day ',\n",
       " 'you never know who might have a crush on you! #wakow #buzz   #moment #ride #love #crush #dating #hookup #app ',\n",
       " 'my friend just got engaged  ð\\x9f\\x91©â\\x80\\x8dâ\\x9d¤ï¸\\x8fâ\\x80\\x8dð\\x9f\\x92\\x8bâ\\x80\\x8dð\\x9f\\x91©',\n",
       " '298 days lef b4 end of classez yay    #risay18 #risaypls',\n",
       " '  #thursday ð\\x9f\\x98\\x8a may we watch how we say what needs to be be saidâ\\x80¦ ',\n",
       " 'i am legendary. #i_am #positive #affirmation     ',\n",
       " \"to the united states of america, from the rest of the world: i think you've proven you don't have the right to own firearms.    \",\n",
       " \"if you hold open a door for a woman because she's a woman and not because it's a nice thing to do, that's . don't even try to deny it\",\n",
       " 'when your having a good weekend and it shows :) #thankful #blessed   // #jeffreycwilliams ð\\x9f\\x92\\x8eâ\\x80¦ ',\n",
       " 'when you have a good hea and help everyone you always seem to be the one who gets hu   #buttrue',\n",
       " 'the happiest baby ive ever knownð\\x9f\\x92\\x93 #cute #smiles   #babygirl #beautiful #niece #blessed #xo ',\n",
       " 'are you ready for #t.b.c ? #oneteamlincoln are... ð\\x9f\\x98\\x8d  @user @user @user @user ',\n",
       " \"can't wait for carowinds! ready to see @user  and @user  time to #rockthepark    #timetogetmyjesuson\",\n",
       " 'already bought my finding dory ticket  ',\n",
       " 'for every minute you are   you lose sixty seconds of #happiness - and you should do the same ð\\x9f\\x98ª',\n",
       " '#sanjapan   #animeconvention see you guys in september! ',\n",
       " 'question of the day: excited for motoâ\\x80\\x99sâ\\x80¦  #tech #announcements   #moto_s #question ',\n",
       " 'make today count! #mondaymotivation #livelifetothefullest   #healthy #everydaycounts ',\n",
       " 'happy morning 8degree with anna #classmate #friends   @ 92â\\x80¦ ',\n",
       " '@user would u be able to suppo our event #brentwood #homesta they lost funding and may have to close   ',\n",
       " 'we are happy little peoples ð\\x9f\\x98\\x8a   happyhappy people #kitten #cat #blackkittenâ\\x80¦ ',\n",
       " '@user @user @user thank you very much for this oppounity will cherish it forever   ð\\x9f\\x87¿ð\\x9f\\x87¦ð\\x9f\\x8d» ð\\x9f\\x8f\\x89ð\\x9f\\x92ªð\\x9f\\x8f»ð\\x9f\\x91\\x8dð\\x9f\\x8f¼',\n",
       " 'ð\\x9f\\x93· themeowood:   puppy ',\n",
       " 'few more days till who is  ? ð\\x9f\\x98\\x8d ',\n",
       " '\"happy\" by pharrell williams    #pharrellwilliams lyrics â\\x86º',\n",
       " ' @user happy at w.ork conference: right mindset leads to culture-of-development organizations    #workâ\\x80¦',\n",
       " 'we lost another member of our family yesterday:-( #gutted   #rosie ',\n",
       " 'yayyy.... trailer 2morrow #fever super   @user @user @user',\n",
       " 'watch fancy tails\\'s vine \"mad #mad   #teeth #bite #pissed #dog   #biting #dogbite #dogtreat  ',\n",
       " '#dreamcatcher   bull up: you will dominate your bull and you will direct it whatever you want it to do. when ',\n",
       " \"i'm so ready for tomorrow ð\\x9f\\x91\\x93ð\\x9f\\x93\\x9að\\x9f\\x93\\x9að\\x9f\\x93\\x9að\\x9f\\x93\\x96ð\\x9f\\x93\\x91#englishteacher #teacher #ecuador   \",\n",
       " 'in memory of my wonderful dad, always missed, eternally loved. #strong   #greatquotesâ\\x80¦ ',\n",
       " ' @user @user on dallas shooting \"the video you\\'re about to see is disturbing, so viewer discretion\" then they play it in a loop oveâ\\x80¦',\n",
       " \"#itako#alone#it's fine.  a little. \",\n",
       " 'sunshine &amp; stickers kind of saturday ð\\x9f\\x91¸ð\\x9f\\x8f½  #letthembelittle #childhoodunplugged   ',\n",
       " 'had a wonderful day today â\\x98\\x80ï¸\\x8f #calm #sunny   #chubbygirl #glasses #finnishgirl #finn ',\n",
       " 'buka bersama tma family...   #yuhuuuuu #tmaâ\\x80¦ (w/ risha, meylucky, &amp; 3 others at mayfair townhouse) [pic] â\\x80\\x94 ',\n",
       " 'he loves you more than you know.ð\\x9f\\x98\\x8að\\x9f\\x92\\x96 #nationalbestfriendsday #true  ',\n",
       " '@user this man ran for governor of ny, the state with the biggest african-american population    #â\\x80¦',\n",
       " '#stereotyping #prejudice  offer no #hope or solutions but create the same old repetitive #hate #conflictâ\\x80¦ ',\n",
       " 'who can get the pussy quicker these days   ð\\x9f\\x98\\x94',\n",
       " \"i'll probably be 30 by the time @user comes back home   #ugh\",\n",
       " '#model   i love u take with u all the time in urð\\x9f\\x93±!!! ð\\x9f\\x98\\x99ð\\x9f\\x98\\x8eð\\x9f\\x91\\x84ð\\x9f\\x91\\x85ð\\x9f\\x92¦ð\\x9f\\x92¦ð\\x9f\\x92¦  ',\n",
       " ' @user anyone playing voez? kinda in love with this game ð\\x9f\\x98\\x98ð\\x9f\\x98\\x98ð\\x9f\\x98\\x98 #game   #gaming #girlgamer #voez ',\n",
       " 'how many#pols passed by how many times and said nothing?   #bluelivesmatter #draintheswamp  #ferguson  ',\n",
       " 'sequoia is   about the #weekend! ',\n",
       " 'some bitches care more about their eyebrows then how much $$$ they makin at the end of the week  ',\n",
       " 'bham is pride paradeready#beyou# #ofbham   @user @user @user ',\n",
       " '  #fathersday to all the guys who play dad out there we #love you ð\\x9f\\x92\\x95 ',\n",
       " '#æ\\x9c´å®\\x9då\\x89\\x910616ç\\x94\\x9fæ\\x97¥å¿«ä¹\\x90  bihday to my bogummy!!!love you forever!hope you happy everyday!good night!ð\\x9f\\x92\\x95@user ',\n",
       " 'wishing all our clients had baby goats to cuddle!   ',\n",
       " '  #positivevibes #fresh love you guys. get some!!! @ concord mills mall ',\n",
       " \"the #conjuring2 get ready to be scared! tonight it's on! #readyornot #truestory   \",\n",
       " 'â\\x80\\x9ctoday is the day to make the change. eliminate negativity and choose to live a positive lifestyle instead.â\\x80\\x9d   ',\n",
       " ' @user aaahh! nabilah looks so   ð\\x9f\\x98\\x8d   arigatou jkt48! have a very happy daaay â\\x98ºï¸\\x8f #iwearbanana  ',\n",
       " 'last day at work tomorrow for me- self employed from monday #scared   #redditchbizhour',\n",
       " '@user im half boy half man.... so im dumb too??   ð\\x9f\\x98¢ð\\x9f\\x98\\x82',\n",
       " 'my happy little boy! #smiles   #corbinrayp ',\n",
       " \"never been more appropriate: i have zero idea of what i'm feeling right now #scared   #missyou #whatwasthat \",\n",
       " ' @user have a magnificent monday! #mondaymorning #mondaymotivation #monday   #indraloka ',\n",
       " 'i just dont understand y these designers print animals on fabric, just bought @user muzlin 5b #sanasafinaz   #noexchangepolicy',\n",
       " 'maybe 4 happy hour you can get a \"  #ending\" ó¾®\\x97ó¾\\x8cµó¾\\xad» ',\n",
       " '#littlebear and her friend #joy   #toddlerfriends #puresweetness #latergram #toddlerfun ',\n",
       " \"if you have never lost a loved one to senseless violence you don't get a fucking opinion on the 2nd amendment   \",\n",
       " 'where is the world heading? you could lose your life just for leaving your home. #orlando  ',\n",
       " 'i heard him say that, he was trying to lock the shooter in,  but kept other patrons from getting out!    ',\n",
       " 'good mood flight with @user off to munich for @user interviews!   #pharrell ',\n",
       " 'first presentation by @user in the netherlands by @user   ',\n",
       " 'u made us proud i hv been reading ur words &amp;  assured it will b a assoment of petite emotions wish u the best. ',\n",
       " 'happiness vs joy. happiness is temporary and leaves u hu. joy last forever and never leaves. #real #tru   ',\n",
       " 'twinklatinboys - na: #slut #snapshot #hot #nasty #naughty #sexy #horny #shy #porn #nude   #kinky #xxx #y... ',\n",
       " ' @user it is not   people who are thankful. it is thankful people who are happy.  #thankfulthursday ',\n",
       " 'i am creative. #i_am #positive #affirmation     ',\n",
       " 'i have held back tears. i have cried happy tears &amp; finally we leave a week tomorrow!!! @user @user #canadianravers  ',\n",
       " 'bihday pressie from my mummy and my granny #michaelkors #luckygirl   #bihday #liverpool ',\n",
       " ' @user stuck in athens instead of santorini because @user said it was to windy to land! shocking service on every level since!â\\x80¦',\n",
       " ' @user these happy folks had the very first #freakshake at the launch. #freaks   #yum #dalston @user ',\n",
       " 'what a \"huge\" crowd for trump. ',\n",
       " 'i am thankful for saturdays. #thankful #positive     ',\n",
       " 'good god, why?!   ð\\x9f\\x98³ ',\n",
       " ' @user enjoying these delicious melons! #vegan #organic #fresh #fruit #organic #healthy #healthyliving   #life ',\n",
       " \"first months, then weeks, now it's only days till the beginning of the end of @user i am both   and #sad at the same time.ð\\x9f\\x98\\x80ð\\x9f\\x98¢\",\n",
       " \"it's a firework!! weeheeeee~ ð\\x9f\\x8e\\x87ð\\x9f\\x8e\\x87ð\\x9f\\x8e\\x87ð\\x9f\\x92\\x83ð\\x9f\\x8f»ð\\x9f\\x92\\x83ð\\x9f\\x8f»ð\\x9f\\x92\\x83ð\\x9f\\x8f»ð\\x9f\\x98\\x81ð\\x9f\\x98\\x81ð\\x9f\\x98\\x81  â\\x80¦ \",\n",
       " '#blackpool   attack bull game 3d: do you really think that his head was empty around the city. each side is ',\n",
       " '  #fathersday to all our the amazing fathers out there today. ',\n",
       " 'i just want to be  . is that too much to ask for? ð\\x9f\\x99\\x84',\n",
       " '@user ready and waiting! #newblood16   ',\n",
       " \"i'm sad. my aunt passed away. she was 96.   #funeral\",\n",
       " '7 horribly  ads from #2016 that made us cringe ',\n",
       " \"wouldn't mind robson-kanu at s6. decent player. available on a free transfer too  \",\n",
       " \" @user come on @user ...you can do better than this. please put yourself in @user 's shoes. unnecessary stress hâ\\x80¦\",\n",
       " \"stalk me. watch me. i'm just a peon. poor. disabled. kill me.this #usa is not the usa i used 2b proud of &amp; the universe doesn't care.  .\",\n",
       " \"#stephcurry's outburst begs the question: can christians get  ? #nbafinals \",\n",
       " \"i'm so   and #grateful now that - #affirmations \",\n",
       " '8 more weeks to go then im san antonio bound to see @user  i cant wait to see my little brother! #missyou   #mybrotherskeeper',\n",
       " 'listen up &gt;&gt;&gt;&gt;&gt;&gt;&gt; ',\n",
       " '@user \"the dying of the light\"  village green/townÂ²  #antisemitism #hocoschools #columbiamd #hocomd',\n",
       " 'hahaha.. this is me last #friday   &amp; #weird ',\n",
       " 'hey, i noticed that u are a training lover, so i ask u to check my free app, it\\'s known as \"my training\" on apple ',\n",
       " 'sexy as fuck #directioner   #niall #nialhoranfacts #niallerwins #hot #justindrewbieber #justindb #believetou... ',\n",
       " ' @user   #father\\'sday! say \"i love you\" to your dad right now! #sanya #whererefreshingbegins ',\n",
       " 'guess who back, back again! #lifeaftersurgery ð\\x9f\\x91\\x8fð\\x9f\\x8f¼#dog #dogslife #labrador #labradorretriever #lifeofsam   ',\n",
       " 'hey superspoilt, you may want to check  for latest updates on #glastofest ð\\x9f\\x94¥_ ',\n",
       " '@user @user @user @user @user    bihday sid... god bless you.. hav a successful career',\n",
       " \"nba finals = ambivalent , love steph and thompson, kyrie stinking it up, green is an class a doosh, lebron won't talk to guillermo  \",\n",
       " \"check out my production team's web-series episode that was edited by yours truly.   #mep #webseries \",\n",
       " '#model   i love u take with u all the time in urð\\x9f\\x93±!!! ð\\x9f\\x98\\x99ð\\x9f\\x98\\x8eð\\x9f\\x91\\x84ð\\x9f\\x91\\x85ð\\x9f\\x92¦ð\\x9f\\x92¦ð\\x9f\\x92¦  ',\n",
       " \"@user you never answered me about your statement on the #nazi's over #hatred,  &amp; #bigotry being found wâ\\x80¦ \",\n",
       " '  #juneteenth #independenceday #food4thought #rich #ancestral #heritage @ independence hall ',\n",
       " '#river   gorilla simulator: you need to do to adapt to the environment. the need to tear the city. material ',\n",
       " \"watching the @user leadership embrace &amp; kiss donald's ass is #pathetic &amp;  . this is now the @user pay. a pay of racism &amp; hate. #ripgop\",\n",
       " 'i love how i am so mature for my ageð\\x9f\\x98\\x87  ð\\x9f¤\\x91ð\\x9f\\x98\\x85',\n",
       " \"aww yeah it's all good bing bong bing bong   \",\n",
       " \" @user it's such a good feeling when this happens. #smile   #instalike #instamood #instapic \",\n",
       " 'check it  #graffiti  #dublin #ireland #music #vimeo #movie #video #europe #people #flow #fun   #rafalwojcicki',\n",
       " '#oitnbseason4 in 2 days!!! aaahhhhh  ',\n",
       " \" @user it's @user #iampossible today! #extraordinaryladyspeaks #starawards   @user @user htâ\\x80¦\",\n",
       " 'sun is out! happy thursday! â\\x98\\x80ï¸\\x8fð\\x9f\\x8c»â\\x98\\x80ï¸\\x8fð\\x9f\\x8c»â\\x98\\x80ï¸\\x8f #breakfast in the #sun   #day #sunnyday #sun #blueâ\\x80¦ ',\n",
       " 'packing sneak-peek!   to be working with the #yellowjackets of the #neshl for 2016! @user #bhl #hockey ',\n",
       " 'tony sunday! #tonyawards  ',\n",
       " \"happy father's day 2016 to my dad and all of the dad's out there!!  #fathers#day  #2016 \",\n",
       " \" @user theverdict is in; i'm an idiot #country #rock #bluegrass #beatles #love #pop   #romance  \",\n",
       " ' â\\x86\\x9d #projects of the week, june 13, 2016   #blog #silver #gold #forex',\n",
       " ' @user #300dayshappy @user #dayseventyseven #day77  #happiness #love#lifequotes #lifeâ\\x80¦ ',\n",
       " 'my little brother has a higher tolerance of alcohol than me!   lol',\n",
       " 'wishing this guy a   #bihday !!  blaze says @user is the spitting image of aâ\\x80¦ ',\n",
       " 'i am thankful for hiking trails. #thankful #positive     ',\n",
       " \"all pay meeting to tackle a movie which uncovers a problem we don't want the world to know.  \",\n",
       " ' @user chill relaxing piano music to keep your pet #quiet and   during #july4th #fireworks  â\\x80¦ ',\n",
       " 'you might be a libtard if... #libtard  #sjw #liberal #politics ',\n",
       " \"@user nothing says 'merica, like that @user tweet.   \",\n",
       " 'always be   #paratyphoid ',\n",
       " ' @user \"today i lost a #thevoice sister senselessly - we sing for love not death people.\" #stopthehate #ripchristina   ',\n",
       " 'some guys too concerned about their twitter \"brand\" to be honest with their followers.  ',\n",
       " \"i hate like 90% of my family.... i was really born into a big ass toxic bomb! mother fuckers don't give a fuck about me cuz i got money  \",\n",
       " 'get #up get   get  #enjoy #music #today #free #apps #free #music ',\n",
       " 'best #lawofattraction #resources for #healing!    #altwaystoheal #healthy is  ! #idwp ! ',\n",
       " 'trump ny co-chair makes racist remarks about michelle obama  #p2 #p21 #fyi  #tcot',\n",
       " 'are you a @user fan? this should make you      ',\n",
       " '#music as #therapy as a tool for #healing!   #altwaystoheal #healthy is  !! ',\n",
       " 'how can food make a family fight mxm  ',\n",
       " 'delicious sangria#salud#cheers #smile @ the pub pembroke ',\n",
       " 'have a fabulous weekend beautiful souls #nofilter   ð\\x9f\\x98\\x98 ',\n",
       " \"when i'm feeling #overwhelmed and   i look down and see a million reasons to be #happy again. i love you craig!! \",\n",
       " 'back to the day job for shane lowry!   ',\n",
       " '  hour right now! 2-4-1 bottles &amp; drinks from 4-7pm @user 42 w. chippewa st. #buffalo ',\n",
       " 'anas + nimra + farishta + mawia + khushal  960 + 952 + 503 + 484 + 435 = 3334   the number of marks obtained is too damn high   :p',\n",
       " 'my monday is so empty without the bachelorette ð\\x9f\\x98©ð\\x9f\\x8c¹ð\\x9f\\x8d· #thebachelorette   #empty #nowine',\n",
       " \" suppoing family, god, chivalry, tradition, and pride in one's heritage is now controversial.  \",\n",
       " '@user the pic says otherwise for young girls confined in that kitchen. you are void of meaning, beyond cheap publicity #topoli ',\n",
       " '#good night!  ??  #faith ever #vaitacacommafiasdv',\n",
       " 'do what you love to do simply for the love of it. #love #success   #work #businessâ\\x80¦ ',\n",
       " 'lunchtime with mom. #torrington #lunch #afterschool #instadaily #yummy   #withmom @user ',\n",
       " \" @user my sister ain't even know i was watching her argue with the nigga ð\\x9f\\x98\\x82ð\\x9f\\x98\\x82ð\\x9f\\x98\\x82 was waiting for him too say the wrong shit  \",\n",
       " 'ride out, ride back ...done! #cycling #sunset   #ride #bikes #fitness #cardio #deseâ\\x80¦ ',\n",
       " 'well i was gonna go see adtr with bae...  ',\n",
       " ' @user #tagsforlikes #me #food#friends#summer#swag#quotes #love#god#girl   #weekend #polaroid #followme #teen #win#job ',\n",
       " '#payintheusa   polar bear climb racing: angry polar bear climb racing, the polar bear living in cold place ',\n",
       " '11:11   healthy fam',\n",
       " 'dream palace, can we move in already? #stellar   #girls #dreamy #goodmorning daysâ\\x80¦ ',\n",
       " 'im waiting for a follow since the x factor   ',\n",
       " \"@user but it's your fault you have to use it to pointscore. \",\n",
       " \" @user this week staed off kinda lame but it's getting better! #yay   #wednesdaywisdom\",\n",
       " \" @user #forever @user   young man he luks too hot wen he is in temper i'll b alwys ur fan till my lst breathâ\\x98º hâ\\x80¦\",\n",
       " \"don't worry #bee   \",\n",
       " 'double tap and follow me #beautiful #smooth #lifestyle #skin #instasize  #f4f #fashion  â\\x80¦ ',\n",
       " '#lawofattraction for #healing #loa   be #healthy   #well #idwp ! ',\n",
       " ' â\\x86\\x9d #oil turns flat to $50.40, eyeing eia inventory data for fuher direction   #blog #silver #gold #forex',\n",
       " \"training in new employee's is fun. #newblood  \",\n",
       " '  #first #bihday to our #puppy #eloise #sweetbabins #dog #growingup #cute #bihdaygirl @user ',\n",
       " ' @user   - 5,000 pigs burn alive in saskatchewan barn fire (video) ',\n",
       " \" @user you'll never convince me that americans have the right to bear these.   #prayfororlando #guncontrol \",\n",
       " 'with my beautiful ladies!!! is a blessing to know them !!ó¾\\x8c¬ó¾\\x8c¬. #smile   #lovethemâ\\x80¦  ',\n",
       " 'today baba siddique ifftar pay at mumbai. @user &amp; @user dono ayenge.   to see both again',\n",
       " '  hands | #ombre #blue ',\n",
       " \" @user i can't wait to go see warcraft, ugh ð\\x9f\\x98\\xadð\\x9f\\x98\\xadð\\x9f\\x98\\xad   #warcraft\",\n",
       " 'cousins reunited...  #family#fun@user wellness ',\n",
       " \"at @user for 'an audience with duane henry ' ....should be very insightful  \",\n",
       " \"my train hasn't moved so i'm binge tweeting  \",\n",
       " 'have my lover stop being angry at me visit us..&gt;&gt;&gt;  #lover   #friend #astrologer #love ',\n",
       " \"@user when you're blocked by a  troll because you promise to  #blacklivesmatter &amp; let his nonsensical rants boosâ\\x80¦ \",\n",
       " \"  father's day to all the dads here and the one's that are in heaven \",\n",
       " '#sdl326am @user   june 16 @user',\n",
       " 'how creepy awesome are these baboons climbing the fire escape like humans on @user   #summev #zoo ',\n",
       " 'use the power of your mind to #heal your body!    #altwaystoheal #healthy is  !! ',\n",
       " \"dude i'm a tiger! #roar #tiger #annaswelshzoo   #bihdaycelebrations \",\n",
       " \" @user we don't #laugh because we're happy... we're   because we laugh. - william james.  #xtra\",\n",
       " 'have a happy sunday everyone! i think today is going to be a good day :) #positivevibes   #sunshine #sunday ',\n",
       " \"can we talk about the ways in which organizations dehumanize us? and how they're never held accountable?  \",\n",
       " 'stuck in the rat race? find your freedom.   #masterkeyexperience ',\n",
       " \"i have to study...   #face #pizza (i stole my roommate's idea for taking this pic) \",\n",
       " 'dinner with sister!! ð\\x9f\\x98\\x8aâ\\x9d¤ï¸\\x8fð\\x9f\\x91¯ð\\x9f\\x8e\\x89    #sisteradventures #sister #ilovemysisterâ\\x80¦ ',\n",
       " 'who else is planning on watching @user tomorrow? ð\\x9f\\x98\\x8d   ð\\x9f\\x98\\x83',\n",
       " \"#usn rifle day 'snowed out', so ar-15 is closest to m-16 i ever got. @user @user @user   #navy\",\n",
       " 'euro 2016: bbc pundits make their predictions for france  #euros sta today -    ',\n",
       " ' @user because i am happy! ð\\x9f\\x98\\x8eð\\x9f\\x98\\x8e #happiness #minions   ',\n",
       " 'no elder scrolls for many years?!! wah wah    #bethesda #e3 #e32016',\n",
       " ' @user poor #tiggy ð\\x9f\\x98¢ and a little bit cheeky #jax &amp;   ð\\x9f\\x98\\x88 #soa #throwbackthursday @user @user @user ',\n",
       " 'cannot wait for #eurogamer this year! #pumped   #eurogamer2016',\n",
       " 'very   to work with russell.beckwith soon #staytuned ð\\x9f\\x93¸: my friend lyle!! #tapfoags ..â\\x80¦ ',\n",
       " 'why the nazis studied american race laws for inspiration â\\x80\\x93  #ushistory  #eugenics',\n",
       " 'sharing ice cream #sun #love #outdoors #picnic #summer #family #daughter #father #desse #icecream   ',\n",
       " 'nothing like a river island sale shopping spree to cheer you up #retailtherapy #riverisland #shoppingqueen #alwayscheersyouup   ð\\x9f\\x91¸ð\\x9f\\x8f¼',\n",
       " \"cleaning ze house and zoing ziy laundry. ã\\x83\\x84 i'm finally free from fever and colds. â\\x88©__â\\x88©i'm happy! #cleaning #laundryday  \",\n",
       " '2 new listings are up!   #ebay     #woohoo #sell #selling #buy #shop #shopping ',\n",
       " 'i am thankful for my challenges. #thankful #positive     ',\n",
       " 'chilled night in with ice cream&amp; grown up2! #chilled  ',\n",
       " '@user #biherism absolutely originated in hateful  #bigotry #altright hatred of our african american #potus #theresistance',\n",
       " ' @user * sweets ð\\x9f\\x8d°ð\\x9f\\x8d©ð\\x9f\\x8d¬ð\\x9f\\x8d\\xadð\\x9f\\x8d«â\\x9c¨!!!!!! * #instagood #ì\\x95\\x84ì\\x9d´ë\\x8f\\x8c #å\\x81¶å\\x83\\x8f #idola #idol #à¹\\x84à¸\\xadà¸\\x94à¸\\xadà¸¥ #followme #selfie   #ã\\x81©ã\\x82\\x8bã\\x81\\x88ã\\x82\\x8câ\\x80¦ ',\n",
       " 'all these tragedies in america first with the killing of #christinagrimmie and now #orlando #america is not a safe place to be today!  ',\n",
       " ' â\\x86\\x9d #brexit angst a factor helping drive down interest rates in germany and japan - bbh   #blog #silver #gold #â\\x80¦',\n",
       " 'fab &amp; interesting day at #eacbpm. now dash to a quiet place to dial into iiba emea region meeting #busy   :)',\n",
       " \"kayak, sup, snorkel, swim...whatever your pleasure, we'll put it together!  #alohabeachbus   #hawaii #explore \",\n",
       " 'u can hold a man down for years ...and watch him change on u over some hear say..    no loyalty.. no... ',\n",
       " \"we'll back going to tacloban now! see ya later!ó¾\\x8cµâ\\x9d¤   #great â\\x80\\x94 traveling to tacloban city from catbalogan \",\n",
       " \"@user how do you feel about that? you haven't won any olympics medal  \",\n",
       " 'angry birds il film download ita â\\x80\\x93 720p hdtc (2016)    #birds #download #film #il #ita',\n",
       " '  #sunday to you all ð\\x9f\\x98\\x98 #photo by @user  #model #urbex #topless #tits #mono #retweet # #sexy #heels #ace ',\n",
       " 'fo woh officer in viral arrest video was â\\x80\\x98rude not racistâ\\x80\\x99: chief  #crime #officerâ\\x80¦ ',\n",
       " '@user @user @user @user   saturday  friends',\n",
       " 'yayyyy my friend got married today ð\\x9f\\x91°ð\\x9f\\x91°ð\\x9f\\x91°ð\\x9f\\x91«ð\\x9f\\x91« congratulations guys. â\\x9d¤ï¸\\x8fâ\\x9d¤ï¸\\x8f  #shegotmarried  â\\x80¦ ',\n",
       " '#model   i love u take with u all the time in urð\\x9f\\x93±!!! ð\\x9f\\x98\\x99ð\\x9f\\x98\\x8eð\\x9f\\x91\\x84ð\\x9f\\x91\\x85ð\\x9f\\x92¦ð\\x9f\\x92¦ð\\x9f\\x92¦  ',\n",
       " 'if lewis remains perfect, the rangers announcers are gonna stroke out.  ',\n",
       " 'chris is so   to be back to #soccer after missing most of #spring #season with a brokenâ\\x80¦ ',\n",
       " 'train tickets booked for my opera week in wales  ',\n",
       " \"it's a beautiful day..... #sun   #fun #beachpark @ beach park \",\n",
       " 'the big screen is being fitted right now   #euros2016 ',\n",
       " 'not all love stories are happy ending.  #anime #love #story #not   #ending #like4likeâ\\x80¦ ',\n",
       " '#poet   bull up: you will dominate your bull and you will direct it whatever you want it to do. when you sta ',\n",
       " 'i am tranquil. #i_am #positive #affirmation     ',\n",
       " '@user is that the name of any upcoming new track? ð\\x9f\\x98\\x81ð\\x9f\\x98\\x81   #2pm #kpop',\n",
       " 'best #essentialoils for #anxiety !!     #healthy   #peace !!  #altwaystoheal !! ',\n",
       " \"@user @user @user  wow some people's children have nothing better to do then insult people on twitter .  .\",\n",
       " 'thinking maybe i should have bought @user instead of @user   #gettingold #becomingboring #notborderlands #goblizzard',\n",
       " 'the fact that @user album is an hour away from dripping has me losing my mind..   #fatkidinacandystore',\n",
       " 'ryderrideu - see you c2c and cum together: #snapshot #young #shy #kinky #wet #porn #hot   #xxx #horny #s... ',\n",
       " 'ð\\x9f\\x8c¸ð\\x9f\\x8c»ð\\x9f\\x8c¼ð\\x9f\\x8d\\x83ð\\x9f\\x8cº snapchat: gaby_china20  #love #girl #snapchat   #flowers #instasmile #instaloveâ\\x80¦ ',\n",
       " 'i am brilliant. #i_am #positive #affirmation     ',\n",
       " ' @user true :/ niggas dont go looking for apaments they go look at shoes and jewelry  ',\n",
       " 'safe ways to heal your #acne!!    #altwaystoheal #healthy   #healing!! ',\n",
       " '#msgapparelstoday  @user  u r so special 4 us   father day',\n",
       " 'camping next weekend.   #lovecamping  #brownwood',\n",
       " \"i'm so   and #grateful now that - #affirmations \",\n",
       " 'my #forever bestie ð\\x9f\\x92\\x8b #karaoke #friends #friendship #love #nofilter #instacool #instagood  â\\x80¦ ',\n",
       " '@user absolutely love this place. fantastic welcome from carlos, receptionist. 5th time here. room request granted as usual. #318  ',\n",
       " 'headed to #thealter with my peculiar family!   ',\n",
       " ' â\\x86\\x9d #us retail sales control group likely rose 0.2% m/m in may â\\x80\\x93 danske bank   #blog #silver #gold #forex',\n",
       " 'happy fathers day. you are love of my life &amp;the best father in the world. â\\x9d¤ï¸\\x8fð\\x9f\\x98\\x98 @user #fathersday #love   ',\n",
       " ' coolestlifehack: worlds smallest snake    #motivation',\n",
       " \"this is a shockingly   and increasingly #violent #world we live in and the #uk has gun control laws. i feel for the mp's family &amp; friends\",\n",
       " '  ? #funny ? or simply so #truestory :) ',\n",
       " 'happy bihday to me!... brithday day holidays  #monday #menmodelsâ\\x80¦ ',\n",
       " 'i am saddened that no-one has thought to groom her for the position before asking her opinion on such an issue.   ',\n",
       " \"ukrainians athletes are not in grosseto for @user ... watching livestream without seeing them it's not the same...  \",\n",
       " 'new season of oitnb stas tonight ð\\x9f\\x99\\x8cð\\x9f\\x8f¼   #oitnbseason4 ð\\x9f\\x98¬ð\\x9f\\x98¬',\n",
       " ' @user excited to be on the other side of the cuain for once tonight. looking forward to seeing @user on broadwayâ\\x80¦',\n",
       " 'when quay collab with @user says sold out!!!ð\\x9f\\x98©ð\\x9f\\x98«ð\\x9f\\x98©ð\\x9f\\x98«ð\\x9f\\x98©ð\\x9f\\x98«ð\\x9f\\x98©ð\\x9f\\x98«ð\\x9f\\x98©ð\\x9f\\x98«ð\\x9f\\x98©ð\\x9f\\x98«ð\\x9f\\x98©   #noooo #whyyyy #loveyoudesi # ',\n",
       " \"i'm   to finally get my #jordans and i get #paid to #wear them too! #lowtopsâ\\x80¦ \",\n",
       " 'i am impressive. #i_am #positive #affirmation     ',\n",
       " \"  father's day to all the fathers out there out there making it happen ...... #salute to y'all ..\",\n",
       " 'our view from the 27th floor! :) #nyc #newyorkcity #myview   girl #wine #fridaynightâ\\x80¦ ',\n",
       " \"discussing republicans is the same thing as critiquing . we can't ignore the consequences.\",\n",
       " 'got school tomorrow my last integration  ',\n",
       " 'amen!! truth. always. &lt;3 &lt;3  #love     #blessed ',\n",
       " \"@user and the stamford kid got 6 months for rape.but that wasn't boredom...it was 20 minutes of action.   .\",\n",
       " 'lets colorized your life w/ rainbow #danian #love #colour #rainbow   @ depok ',\n",
       " '#aiel #aielmaharashtra rude customer care executive makes me want to switch my loyalty to another provider.   #irritated',\n",
       " 'hi teddy corpuz... #rocksteddy #band #enjoy #idol   #omg ð\\x9f\\x98\\x8dð\\x9f\\x98\\x8dð\\x9f\\x98\\x84ð\\x9f\\x98\\x84ð\\x9f\\x98\\x84ð\\x9f\\x98\\x84ð\\x9f\\x98\\x84 ',\n",
       " \"@user wow, what a great daughter you are! to send that to your father right before father's day. #cheapshot #lowblow   #shame\",\n",
       " '6 reasons to be happyâ\\x80¦when your kid is mid-tantrum    #parenting #tantrum #toddler #calm #mindfulness   #strong',\n",
       " 'i am truthful. #i_am #positive #affirmation     ',\n",
       " 'yup #siri on #macos #wwdc2016 - :) woot! next did they work on her listening skills?  ',\n",
       " '#diy done! #dresser #nicknacks #newelectricscrewdriver   @ brockely london ',\n",
       " 'are you #black &amp; feel like the  are stomping on you? â\\x80¦  #retweet #tampa #miamiâ\\x80¦ ',\n",
       " ' @user @user thats the problem, only one police officer. you need more, with bigger guns and perhaps one tank with soldiersâ\\x80¦',\n",
       " \"  father's day to all friends#\",\n",
       " \"if you're not   with your #choices this fall, you can #always write a candidate in.. â\\x80¦  \",\n",
       " '@user  #ë\\x8b¤ì\\x9d´ì\\x95\\x84_ê·¸ê¸¸ì\\x97\\x90ì\\x84\\x9c_ì\\x8a¤í\\x8a¸ë¦¬ë°\\x8d #ê·¸ê¸¸ì\\x97\\x90ì\\x84\\x9c #ì\\x97°ì\\x8aµì\\x83\\x9d   ending ',\n",
       " \"get to know the team behind the #app that's keeping our tummies   in our #june #issue @user #bazaarmagâ\\x80¦ \",\n",
       " 'actually going fishing today somewhere nice â\\x98ºï¸\\x8fð\\x9f\\x98\\x8d.  ',\n",
       " 'how cute, they both look like dolls. ',\n",
       " '@user i did and im  ',\n",
       " 'love this vacation ð\\x9f\\x98\\x8a   #enjoy #greece #crete #sabinedrift #chillinn #blondegirl #bluedressâ\\x80¦ ',\n",
       " '@user unreal 3 advisors refuse to take my payment!?? and say wait for pcn is this customer service when ur site wasnt working??  ',\n",
       " \"@user i'm #gameready for forza horizon on the pc! what a time we live in...  \",\n",
       " ' @user life better in tahiti #summer #life #no_school #tahiti   #like',\n",
       " 'i know their males but i thought they had a vagina like in video games xd #stupidthoughts #quote   #lmao',\n",
       " 'pa of the pack was taken and brainwashed by cheetahs   #downasquadmember #treeouts',\n",
       " ' â\\x86\\x9d #japan domestic corporate goods price index (yoy) in line with expectations (-4.2%) in may   #blog #silver â\\x80¦',\n",
       " 'remember the day when people on #bbuk went on to become reality tv stars, no it seems reality tv stars become big brother contestants.  ',\n",
       " '@user #allahsoil the more familiar we become the more difficult it is to stereotype. . â\\x80¦ â\\x80¦â\\x80¦ ',\n",
       " ' @user #good #morning ! if you want to live a   life, tie it to a goal, not to people or things. ',\n",
       " ' @user friday &lt;3 #fridayfeeling   #relax @user  #bristol ',\n",
       " '  days porn movie pussy pay pics  ',\n",
       " 'it looked easy till my turn  #rap #hiphop #rock #funny #comedy #pop   #kanyewest ',\n",
       " 'banner #merry #christmas and   #new #year  #freepik #ad #decoration newyear',\n",
       " '@user @user yay! thanks for letting me know. my pa will be a very happy man! :-)  ',\n",
       " 'in my exam room ð\\x9f\\x98\\xadð\\x9f\\x98\\xadð\\x9f\\x98\\xad #testing #tired #annoyed #why  ',\n",
       " 'best homeopathic remedies for #anxiety  -    #altwaystoheal   #healing #peace !! ',\n",
       " 'rest in peace christina.     ',\n",
       " 'those bamas you fool around with might be raising your child. ppl dont think that far in advance. they just see \"fun\" or whatever  ',\n",
       " 'anti racist is a codeword for antiwhite   asia for the asians  africa for the africans  white countries for everyonâ\\x80¦ ',\n",
       " '.@user on #periscope: my first god baby graduated from high school!!! #collegebound   ',\n",
       " 'nearly there folks   #nervous #curious just finalised my stuff with a few pointers from grainne #bringiton ',\n",
       " 'fellowship. ð\\x9f\\x98\\x8a #lifegroup  ',\n",
       " \"i just caught myself eating chocolate sliced bread beside the ref realizing i still didn't eat my dinner.  \",\n",
       " '@user you #praised #cleveland police during #rnc the police are under a consent decree! 75% are #white  #tamirrice #rip',\n",
       " 'best #lawofattraction #resources for #healing!    #altwaystoheal #healthy is  ! #idwp ! ',\n",
       " 'everything you need for #surfday.  #fathersday to all the #dads out there from #novyspos.#novytowel#surfgear ',\n",
       " '@user 100% agree  ',\n",
       " \" @user our next show is monday at the fiddler's elbow in camden. it's looking like it's going to be a huge night!   htâ\\x80¦\",\n",
       " \"@user no swimming signs everywhere. parent's weren't watching a 2 year old.  \",\n",
       " 'mitchellrattle mitchell goodson ',\n",
       " \" @user getting ready for saturday's jeep run with nbjc!    3 days until #showyourjeepday  #jeepmafia #jeeplife #jeep httâ\\x80¦\",\n",
       " '@user attempt at czech fury, only for croatia to score their second.   ',\n",
       " 'the latest dairy k.s!  thanks to @user @user @user #ä½\\x90é\\x87\\x8eå\\x85\\x83æ\\x98¥  ',\n",
       " ' @user yep - grateful for everyday :)))) #gratitude  #laurasworld   ',\n",
       " \"i've had the ebook for awhile but it's so nice to have the hard copy!!!   \",\n",
       " 'nba finals. game 7. what more could a basketball fan ask for?!   #nbafinals',\n",
       " \"@user that doesn't prevent you from being a  and a #bigot\",\n",
       " \"dear #uot, despite our attempts to #savecharity, i regret to announce that we've lost her!   #tragic #rip angelic friend. we will miss u!\",\n",
       " '  #space place  color #blue #fabricsourcing  or #finished #pillow #cushions  use usâ\\x80¦ ',\n",
       " 'perfect moment of the day!!!   ',\n",
       " 'waited for @user for an hour to come out just for an autograph, finally walk away...he comes out. of course! disappointing!  ',\n",
       " '  #fathersday!  gift your #dad a secured #financial #future! #save #insure #invest!   ',\n",
       " ' girls in the world sexy mature housewife ',\n",
       " \"time to get happy! it's saturday ð\\x9f\\x92\\x98    #saturday #weekend \",\n",
       " 'to my 3 awesome dads.. my almighty father (my lord) my darling dad (rip, sweethea) my husband (my babies daddy/1st son)   #fathersday',\n",
       " 'owens football tornament #football  ',\n",
       " \"come on #ee piss poor reception today Â£20 a month and struggle to get a signal in #buxton put more masts up or i'm switching   #grumpy\",\n",
       " 'excited na me ð\\x9f\\x98\\x8dð\\x9f\\x98\\x8d ',\n",
       " ' @user let #troopingthecolour begin, we are very  .  bihdayyourmajesty #thequeenat90  htâ\\x80¦',\n",
       " '#work #fusiona wolves in last stage #development   #chase @user @user now ',\n",
       " \"@user i don't like the #blacklivesmatter slogan.  talk about being .\",\n",
       " 'r.i.p little bear bear... #hamster #rip #imissyou   ',\n",
       " 'give me a hug #love my cats  moment ð\\x9f\\x98\\x8d ',\n",
       " 'your lips like fire, my blood like gasoline ð\\x9f\\x94¥ð\\x9f\\x92\\x98  #love #boyfriend #smile   ',\n",
       " \"here. we. go. let's do this people! #icrs2016  \",\n",
       " \"life isn't a race: allow yourself to be   in the present  @user #fun\",\n",
       " 'dental  testimonials from our #lichfield clients -    ',\n",
       " 'thank youð\\x9f\\x99\\x8fsoo muchð\\x9f\\x98\\x98 pretty @user i feel soo blessed &amp; lucky!!plz do keep showering ur lyks on með\\x9f\\x98\\x9d#surprised   #2likes #unexpected',\n",
       " \"@user @user @user nice 2c susanna smiling 2day,who needs false promises of flying dragons when she's got ben  \",\n",
       " '@user 1d not back yet  ',\n",
       " \"i got the call yesterday.  mom was diagnosed with stage 3 ovarian cancer.  i'm terrified, she's terrified.  just don't know what to do.  \",\n",
       " '@user #feminismiscancer #feminismisterrorism #feminismmuktbharat why  #malevote is ignored  @user',\n",
       " '@user @user @user is on the other side of history and our allies on this issue.  #embarrassing  ',\n",
       " \"fox new just coming out and saying it bluntly. one of the most  things i've read. \",\n",
       " 'good morning all !  #internationaldayofyoga2016 #yogalove #yoga   #relax #healthy #positiveâ\\x80¦ ',\n",
       " '@user monkeys are also declared as vermin. no protest from bajrang dal?   @user @user',\n",
       " ' @user new plants from @user are here and ready for the garden at gardening know how!    ',\n",
       " ' @user coldplay last night with my fave ð\\x9f\\x91«ð\\x9f\\x92\\x83ð\\x9f\\x8f»ð\\x9f\\x92\\x95 #coldplay #conce #hampden #fave #couple #cute  â\\x80¦ ',\n",
       " 'use the power of your mind to #heal your body!! -     #altwaystoheal #healthy   #peace! ',\n",
       " \"  #flagday!   here's mine in this gorgeous #texas sky!  #householdname #takingoverâ\\x80¦ \",\n",
       " \"aww yeah it's all good bing bong bing bong   \",\n",
       " '@user yes lets do this,suppoing a openly ,#prowar #anti #islamic,#homophobic,#rapist,who advocates more of same,#hypocrite',\n",
       " ' , #cat, #furry, #persiancat | #4798 | pixion - wallpapers, images, a ',\n",
       " 'good moooooorning #tgif ð\\x9f\\x92\\x8b  #kiss #kisses #friday #fridayfun   ',\n",
       " ' @user enjoy everything already given to you rather than always needing more. #blessed   #thankful ',\n",
       " '#euro2016 match schedule design - france vs romania  ! ð\\x9f\\x98\\x83  all feedback is appreciated! ',\n",
       " 'for fathers day too should take your dad to @user for the 2 for $20 he will love it   ',\n",
       " 'berlin before and after.  thank you so much @user - that was incredible. #theriveourberlin #theboss   ',\n",
       " 'why listen incubus never hus! ð\\x9f\\x98\\x9cð\\x9f\\x99\\x8c #nowplaying #sick   #little #world - nissan #live #set de @user â\\x99« ',\n",
       " '@user anderson cooper &amp; don lemon will not like gays being thrown off buildings by sharia. #2ndamendment  ',\n",
       " 'bei is   on a field for dog-walking.  #dogs ',\n",
       " 'who would steal awork from @user #boohiss  ',\n",
       " 'competing for a listing today!   #whenrealtorscompeteyouwin #callme #gotheextramileâ\\x80¦ ',\n",
       " '@user great park but a totally disorganised one!!! #poaventura #whatajoke  ',\n",
       " \"i've got news for you, bernie wasn't winning dc even if the vote was held last month. #dcvotes \",\n",
       " ' â\\x86\\x9d #eur/usd printing new monthly tops above 1.1400, draghi eyed   #blog #silver #gold #forex',\n",
       " \"our two presidential candidates, everybody. this is what we've devolved into. #elections2016 #america   #smh #usa \",\n",
       " 'poor pup. #animals #puppy #vine #magic   #subscribe #youtube (vine by @user ',\n",
       " 'rare pic of superstar @user with @user    bihday sivakoratala  :) ',\n",
       " '@user and @user how is it 2016 and i am moving just outside of downtown gr mi and neither of you offer better than 6 mbps.  ',\n",
       " ' @user wishing all the dadâ\\x80\\x99s a happy fatherâ\\x80\\x99s day! #dads #fathersday #2016 #intellicred   ',\n",
       " \"met this girl 5 yrs ago online b-ng gay friend. y does she look like this when she didn't b4?  @user \",\n",
       " 'that face says it all!  #pwcproud  ',\n",
       " '| b u s y |    #love #instagood @user #tbt #cute #me #beautiful #followme  â\\x80¦ ',\n",
       " 'enjoy this weekend with your family at your home. happy weekend my dear friends :)   #weekend #family #home... ',\n",
       " 'another senseless tragedy.    #tragic #pulse #orlandostaystrong #thoughtsandprayersâ\\x80¦ ',\n",
       " ' @user loving #yrkkh frm the bottom of my hea frm the day it stared.. &amp; what do v get in return.. #uglyspat @user @user',\n",
       " 'captain felix at rutland water. the little boat behind is about to go on a very grand adventure....  ',\n",
       " 'binge watching series 1 of #thekilling so as to completely avoid football.  ',\n",
       " 'to quote jeremy corbyn: \"here we, here we, here we fucking go!\"   ',\n",
       " 'happyð\\x9f\\x92\\x99 #travel#time #instamood  #moments #love#mylife #russian#girl #model #4likeâ\\x80¦ ',\n",
       " ' porn vids wwwsmallgirlsexcom',\n",
       " ' @user #tuesday #jackie #quote #taketime to do what makes your #soul   #enjoylife #smile #believe #dream #havefun ',\n",
       " 'home sweet home is what i call #edinburgh since moving there years ago! #scotland #homesweethome   #family  ',\n",
       " 'play england vs russia in marseille at 21:00??? what did they expect? high risk game and plenty of time to drink...  ',\n",
       " \"aww yeah it's all good bing bong bing bong   \",\n",
       " 'i am thankful for sweater weather. #thankful #positive     ',\n",
       " 'haunting atmospherics #studiotime   ',\n",
       " '@user @user become a fan does not give the right to criticize the personal life of an idol.  ',\n",
       " 'the latest obsidian radio daily!  thanks to @user @user @user  #latesnews',\n",
       " 'mind-blown; learning so much in this google forms workshop.   @user #cfisdrrr',\n",
       " ' @user so sexy #prettypussy #sexybbw #realmvp ',\n",
       " ' @user back to @user after a v traumatic few months. damage not as bad as thought, proof the plan works! onwards &amp; upwards ð\\x9f\\x98\\x8a #excitâ\\x80¦',\n",
       " 'you might be a libtard if... #libtard  #sjw #liberal #politics ',\n",
       " ' just more overwhelming evidence that the company #trump keeps echoes his sentiments &amp; ideals #dumptrump ',\n",
       " \" @user most of y'all females beefed out over these community dick ass niggas ,   ð\\x9f\\x92¯ð\\x9f\\x98\\xad\",\n",
       " \"people be like you already forgot so and so.... nah it's not that it's just new names are made a hashtag on a weekly basis  \",\n",
       " 'how to be   ?!.i have the answer ð\\x9f\\x98\\x8að\\x9f\\x98\\x81',\n",
       " 'cherry color is symbol of warm and positive energy necklace price: 200 aed #stones #gift #amazing #beautiful   ',\n",
       " \"i can't wait for the 2016/17 season to begin!   #lfc #ynwa #englishpremierleague \",\n",
       " \" @user happy father's day to all dads except #rogergoodell! #fathersday   #goodellsucksâ\\x80¦ \",\n",
       " ' â\\x86\\x9d #orb independent brexit poll shows leave vote ahead, gbp/usd slumps   #blog #silver #gold #forex',\n",
       " ' @user @user @user 25mm + 16mm = no washout no flooding good take and all set for another days golf   ',\n",
       " \"@user ya ever since zayne left they've never been the same  \",\n",
       " \"happy father's day â\\x80¼ï¸\\x8fâ\\x9d¤ï¸\\x8f  #loveyou #fathersday   #sunday #father #daddy dayâ\\x80¦ \",\n",
       " 'big shock on monday-needed to find new home. yeah! found my dream cottage on tuesday  ',\n",
       " 'save thousands $$ free search x logins x brokers    #actor #seeklearning   #stafresh ',\n",
       " 'actually ordered a kylie lip kit  ',\n",
       " 'i hope the family made arrangements to make sure that #bastard @user  canâ\\x80\\x99t get access.      ',\n",
       " 'ð\\x9f\\x98\\x94   #socialmedia us firm to build 6 nuclear reactors in india  ',\n",
       " '#smaphone   bull up: you will dominate your bull and you will direct it whatever you want it to do. when y ',\n",
       " '#lifeisbeautiful #loveit #workhard #trainhard no matter where you go!   #blessed #fitlifeâ\\x80¦ ',\n",
       " 'oscar tabarez talks luis suarezâ\\x80\\x99s angry reactionâ\\x80¦  #spos   #during #luis #oscar ',\n",
       " 'now playing on #njoyhit40 #1hitmusicstation us uk eur @user   join us on  #nice #nyc @user',\n",
       " \" @user only 2 weeks to go and i'm a #personaltrainer full time   i will have new slots available from 30 june - pls spread tâ\\x80¦\",\n",
       " \"a mother can take care of ten children's but sometime ten children cant take care of their mother ,,,    \",\n",
       " 'i am thankful for good nightsâ\\x80\\x99 sleep. #thankful #positive     ',\n",
       " 'now playing  :  the bride - \"  nocturne\" on    #melancholy   #melancholymusic',\n",
       " '#tvk3fathersday   fathers day to all tatay daddy enjoy wathing tha voice kids',\n",
       " 'i am thankful for my friends. #thankful #positive     ',\n",
       " 'i am thankful for mason jars. #thankful #positive     ',\n",
       " '\"nigger?\" #lifelessons of a white kid who grew up in the 60\\'s. #blogpost  #whitepeople #respectâ\\x80¦ ',\n",
       " '@user @user @user congrats!   for @user',\n",
       " 'via jts88: @user ó¾\\x8c§ #love #sinkthepink #music #instagay #celebspot  ... ',\n",
       " '@user ready for @user at #ccmf2016 !!   #mychurch #frontrow #upshow ',\n",
       " 'how utterly  :  people with incurable #stupidity in #africa albino killings in malawi spark education campaign ',\n",
       " ' â\\x86\\x9d #gold off highs, back around $1,260   #blog #silver #gold #forex',\n",
       " 'shocking events in orlando - now will the usa review their gun laws or do more innocents have to die first? #horrific #unforgiveable   :(',\n",
       " 'i am knowledgeable. #i_am #positive #affirmation     ',\n",
       " 'with le sister! #instatraveling #instamoment #igdaily #instagramhub #instagood #instalike   ',\n",
       " '..feeling so #lonely..and  ..',\n",
       " '#girliguessimwithher tag is the saddest representation of how people feel they are now forced to vote for \"her\"   ',\n",
       " 'the h factor! does your #mobile app make the user  ? want more factors? click to download aricent #whitepaper ',\n",
       " '@user meanwhile google violates free-speech at will  ',\n",
       " 'happy at work conference: right /mindset leads to culture-of-development organizations    #work #mindset',\n",
       " \" @user #rochester   attack bull chase: when you leave the lot despite the fact that you're a strong source of f \",\n",
       " \"i'm in the @user competition!!! ð\\x9f\\x8e\\x89ð\\x9f\\x8eµð\\x9f\\x8e\\x89ð\\x9f\\x8e¤ð\\x9f\\x99\\x8cð\\x9f\\x8f¾â\\x9c\\x8cð\\x9f\\x8f¾ï¸\\x8f  \",\n",
       " '#tattoosleeves   gorilla simulator: you need to do to adapt to the environment. the need to tear the city. m ',\n",
       " 'ima go cry for a few hours brb  ',\n",
       " 'i #tell my sorrow to the #river so that the river taught me how to flow without the #complain -sepatu dahlan-   #philosophy #proverb',\n",
       " 'i am thankful for memories. #thankful #positive     ',\n",
       " '@user you surely are a nasty piece of work! lmao.  ',\n",
       " 'today is a perfect day to be  ! #happiness #lifecoach #reinventimpossible ',\n",
       " '  after sex over 40 sex nake women  ',\n",
       " 'i am thankful for cocktails. #thankful #positive     ',\n",
       " 'dont wait #outside #thepeel 4 #work #homophobic #taxi #driver #guys #kiss there #gay #melbourne #13cabs     ',\n",
       " \"@user guess no one wanted to let the residents of spring street know they wouldn't be able to leave for a few hours today.  \",\n",
       " 'great morning deborahð\\x9f\\x8c»ð\\x9f\\x8c».@user #smiles and #kindness ð\\x9f\\x92\\x96  day!ð\\x9f\\x98\\x80ð\\x9f\\x91\\x8b',\n",
       " '_  #windows10 split screen #browser! #customcasetab     #noedit  712',\n",
       " \" @user people use tragedy like this to fuel their hate agenda towards entire groups of people and that's the opposite of helpfulâ\\x80¦\",\n",
       " 'taeyeon unnie is on fire! ð\\x9f\\x92\\x93 btw i really hope that her album cover is not yellow lol   #why ',\n",
       " 'john mica...how the hell are people like you elected @user @user #totalpolitician #outoftouch #disgraceful  ð\\x9f\\x98\\x93',\n",
       " 'nothing makes dad happier than a tasty meal!   #fathersday ',\n",
       " 'the   #truth about #suicide rates in young #blackboys ',\n",
       " 'happy sunday #homesweethome #amazing #love #istanbul #girl #beautiful   #instalike #meâ\\x80¦ ',\n",
       " 'oh she blocked me.   at least i have love island to look forward to on sunday :)',\n",
       " 'now playing  :  suzanne ciani - \" 4 o\\'clock in the morning\" on     music song ',\n",
       " 'swing ð\\x9f\\x98\\x8aâ\\x9d¤ï¸\\x8fð\\x9f\\x91¶ #swing #mybabygirl #baby #littlegirl #park #love #cute   ',\n",
       " 'help! bubble attack! #winter #bathtime   #cozy ',\n",
       " 'i am moving. #i_am #positive #affirmation     ',\n",
       " 'the thing is, no matter how many laws and regulations there are with guns, people will still find a way to get their hands on them.  ',\n",
       " ' @user   #sunflowers - #nature #garden #photograpy quality prints &amp; cards at: ',\n",
       " '@user didnt stay for long had an emergency at home  my daughter was not well soo i had to rush home and i missed ur set  ',\n",
       " ' @user great insights on trusted professions in emea at #growth #hacking #conference at #growthwithhubspot.  ',\n",
       " 'carolyn cooper | ugly, poor, ignorant and black!  ',\n",
       " 'franklin is a   #dog in the #sunshine #dogsoftwitter ',\n",
       " 'perfect day= buy real furniture, hiking, @user for dinner, @user for desse!ð\\x9f\\x8e\\x89ð\\x9f\\x98\\x8að\\x9f\\x91\\x8d #sleepnumber #bonustolongrest #dnd  ',\n",
       " 'happy face lovely smile @user #satisfying #hair #workit #smile   #faceâ\\x80¦ ',\n",
       " 'ð\\x9f\\x92\\x97ð\\x9f\\x92\\x97ð\\x9f\\x92\\x97 love you. ð\\x9f\\x92\\x97ð\\x9f\\x92\\x97ð\\x9f\\x92\\x97 . #sunday #weekend #selfie #longhair #girl #selfporait   #loveâ\\x80¦ ',\n",
       " '#nature_perfection   bull hill climb: you have to reach the target to complete the task to survive. with str ',\n",
       " '#model   i love u take with u all the time in urð\\x9f\\x93±!!! ð\\x9f\\x98\\x99ð\\x9f\\x98\\x8eð\\x9f\\x91\\x84ð\\x9f\\x91\\x85ð\\x9f\\x92¦ð\\x9f\\x92¦ð\\x9f\\x92¦  ',\n",
       " 'orlando gay men angry they can&amp;#039;t donate blood after massacre -    ',\n",
       " ' @user  golinglobal \" golinuntern: fresh air, trail running, and a   soul. keeping the #golinuntern life balanceâ\\x80¦ ',\n",
       " ' @user @user monroe&amp;nick best friends, &amp; rosalee&amp;addie and now kelly&amp;babymonrosale #grimm   families #nadalind',\n",
       " '@user or lying hillary would call it a \"security inquiry\" liberals are like minded if one eats shit then all of them eat shit.  ',\n",
       " 'you know what i find incredibly #disrespectful!?  taking a personal call during a meeting.    #frustrated ð\\x9f\\x98\\xa0 ',\n",
       " \"date night #friday #pub   #ilovehim #instagay #beer @ billy's on burnet \",\n",
       " \"i wish @user would make their phones so the damn screens don't shatter they cost an arm and a leg and still gotta pay to fix em  \",\n",
       " 'this is so hea wrenching! what would be the state of the mother, when she knows her son is about to die :(    ',\n",
       " ' @user how times fly! less than a week to go until the brilliant @user leads our summer conference   ',\n",
       " 'fruit time   #fruit #desse #instamoment #photooftheday #yvr #sweet #vancitybuzzâ\\x80¦ ',\n",
       " ' so sad ones  &gt;&gt;&gt; ',\n",
       " 'sirf ashiq log follow karen #iqbal #galib #wasi #faraz #mohsin ki full   poetry + #no add + follow @user',\n",
       " ' @user 28 minutes to go #armaanamaalontkss @user @user @user  ',\n",
       " 'thank god for the #royals of 2015 because without it kansas city is right down there with #cleveland  #disgraced  ',\n",
       " 'will get to see my favorite person tmrrw    ',\n",
       " '#latina   buffalo simulation: buffalo for you to take in the vicinity of their homes to do. in this way, you ',\n",
       " 'what a world we live in.. #orlando  ',\n",
       " ' @user now the vacation has begun...   #triathlete #triathlon #coach #vacation #fearless #rulâ\\x80¦  httâ\\x80¦',\n",
       " '@user a bit of heabreak too! #reflective  ',\n",
       " ' @user peaceful way to sta the morning before the daily chaos beginsð\\x9f\\x98\\x8a #gratitude   ',\n",
       " 'hardcore girls videos   birday sex xxx   ',\n",
       " '#takalot book order arrives in time for a long weekend away in the bush.   #bengreenfield ',\n",
       " '#saysomething   bull up: you will dominate your bull and you will direct it whatever you want it to do. when ',\n",
       " \"steph. san kana?? your 3's are badly needed. please ð\\x9f\\x99\\x8fð\\x9f\\x99\\x8fð\\x9f\\x99\\x8f \",\n",
       " ' @user another hands &amp; feet complete!! berachah you are the best !!  &amp;tired ',\n",
       " '@user on my way over ctf to have a book talk with the inmates paicipating in the @user book club program #slugg  ',\n",
       " 'ready for thisâ\\x9d\\x93 #awesome #beat #cool #dj #dance #edm #house #goodmusic   #madnessâ\\x80¦ ',\n",
       " ' â\\x86\\x9d #jpy: negative external environment remains suppoive â\\x80\\x93 mufg   #blog #silver #gold #forex',\n",
       " '$24.99-mkf collection jasmine and moira crossbody bags    wednesday',\n",
       " \"currently out to eat at #steakandshake and i've been here for 20 minutes and not gotten the shake i ordered #not  .\",\n",
       " 'gray is a very sad color it makes me feel   #grayneedstogo',\n",
       " 'difficult roads often lead to beautiful destinations. anon #leadership #inspiration  #quote #inspirational  ',\n",
       " ' â\\x86\\x9d #usd long positions added, eur shos increased - anz   #blog #silver #gold #forex',\n",
       " \"it's #r1rockalldayer on @user for me it's @user day!   #noise\",\n",
       " '@user no, he was definitely a  mexican. #fakenewsale',\n",
       " '@user when is the new album being released about @user and your break up?   #loveherbreakups #hotgoss',\n",
       " 'standing up to racism and hate by americad not curse out congress and all haters  who are deplorable  #hateâ\\x80¦ ',\n",
       " 'you are my â\\x98\\x80#sunshine, my only â\\x98\\x80#sunshine. you make me ð\\x9f\\x92\\x9e  when skies are â\\x98\\x81gray. ',\n",
       " 'something i wanted to say, something that makes me happy . #gaming #gamer #xboxone #playstation @user #e32016   ',\n",
       " \"the football is actually the only thing on at mo that's watchable!! #bringbackgladiators!\",\n",
       " 'happy hump day ð\\x9f\\x91\\x8cð\\x9f\\x8e\\x8að\\x9f\\x8e\\x89 #humpday   #life #lifestyle #wednesday #midweek #snapchat #walrus #funnyâ\\x80¦ ',\n",
       " 'let me just say .. i love being me  ',\n",
       " \"don't worry, be happy  via @user #archiveday #weekendblogshare #happiness   #quotes #tshis\",\n",
       " 'because great things never came from comfo zones... #goodtogreat #inspireme #love   ',\n",
       " 'happy puppy ð\\x9f\\x90¶ð\\x9f\\x92\\x95 #london   #puppy #thursdaymotivation ',\n",
       " \"i don't know where you're going but do you have a room for one more troubled soul? #a #drawing #blackandwhite   \",\n",
       " 'we recommend these dark &amp;   #romances:  | #horror #moviegenres #ambiance',\n",
       " '@user #trump used #hate,  and #putin to win the white house #trump presses attack on khan family and g.o.p. leaders ',\n",
       " \"one of my bucket list items ticked tonight i finally saw ice cube live tonight ð\\x9f\\x98\\x81  ! #wildlifefestival  'today was a good day' ð\\x9f\\x98\\x9d\",\n",
       " 'my friends magical potion... #ewabeach #magicalhappydrinks   @ ewa beach house ',\n",
       " 'everytime i wear soccer shis joie fries me and says i look mexican as fuck ð\\x9f\\x98\\x92 ',\n",
       " \"it's been a weird few months but finally feeling more positive about life lately   #pleasedontchange ð\\x9f\\x98\\x81\",\n",
       " 'checked in #holiday     #croatia #13daystogo',\n",
       " '@user   night a sweet dreams..',\n",
       " 'nyc in seven days ð\\x9f\\x97½ #newyork #newyorkcity #travel #bigapple   ',\n",
       " 'life is what you make it. letâ\\x80\\x99s make it  ! #motivation ',\n",
       " '#fashionblog   rooster simulation: i want to climb the vast expanse of mountains. it reached the leakage coc ',\n",
       " 'in the best mood ever!!!   #becauseofhim #inlove ',\n",
       " \"be happy don't worry! ð\\x9f\\x98\\x89   #smile #love #iminlove #iam #im #in #nice #day \",\n",
       " ' @user #monaco#resto#chezedgard#grandprixf1# #essais#sun#lewissuppo#ð\\x9f\\x8f\\x8eð\\x9f\\x8f\\x8e# @user #amour #love   â\\x9d¤ï¸\\x8f ',\n",
       " \"just bought: 'launch: using design thinking...by @user &amp; @user via @user -   #toread #letsmake \",\n",
       " '#sukhbir #badal announces more office-bearers of   #eastcoast zone #canada  ',\n",
       " 'so mad that i chose dj snake over zedd at edc  ',\n",
       " 'mango wood lett... gbp 19.99 get here:  #shop #cool   #home #fun ',\n",
       " 'the danger of white liberalism to oveurning  (applies to liberal men and feminism too)  ',\n",
       " ' @user @user @user truly truly pathetic in so many ways @user @user @user nothing learned from the coverinâ\\x80¦',\n",
       " 'monday mornings working by the lake #scottieandrussell #work #love   #picofthedayâ\\x80¦ ',\n",
       " \"i'm loving this rain! hope it hangs around a while ð\\x9f\\x98\\x8a #rain #water #tbt #me #weather #bribieisland   \",\n",
       " '@user you have chosen the wrong horse and unless you change your mind soon, it will be the end of your political career.  ',\n",
       " ' @user weddings are impoant because they celebrate life and possibility. â\\x80\\x94anne hathaway #wedding   #love ',\n",
       " '#icymi: shooting at orlando nightclub kills about 20, police say  #debeloping   #guns ',\n",
       " '@user @user snatched some of these this past week!   #schoolsupplies',\n",
       " 'great aicle. right on the money! #starspangledbanner #slavery #apaheid  #usa ',\n",
       " 'babies was born. welcome to new world cats! #babiescat #cat #newborn #congratulations  â\\x80¦ ',\n",
       " \"ð\\x9f\\x91\\x89ð\\x9f\\x8f»#pretending#to#be #when #you're#in#pain#is#just#an#example #of#how#strong#you#are#as#a #personð\\x9f\\x91\\x88ð\\x9f\\x8f» ð\\x9f\\x98\\x8að\\x9f\\x92ªð\\x9f\\x8f»ð\\x9f\\x92ªð\\x9f\\x8f»ð\\x9f\\x92ªð\\x9f\\x8f» #nightyð\\x9f\\x98´\",\n",
       " ' @user @user @user @user @user   evening my dear cutysð\\x9f\\x98\\x8dð\\x9f\\x98\\x8dð\\x9f\\x98\\x8dð\\x9f\\x98\\x8dð\\x9f\\x98\\x8dð\\x9f\\x98\\x8dð\\x9f\\x98\\x9að\\x9f\\x98\\x9að\\x9f\\x98\\x9að\\x9f\\x98\\x9að\\x9f\\x98\\x9að\\x9f\\x98\\x9að\\x9f\\x98\\x9að\\x9f\\x98\\x9að\\x9f\\x92\\x9fð\\x9f\\x92\\x9fð\\x9f\\x92\\x9fð\\x9f\\x92\\x9fð\\x9f\\x92\\x9fð\\x9f\\x91\\x8dð\\x9f\\x91\\x8dð\\x9f\\x91\\x8dð\\x9f\\x91\\x8d ',\n",
       " '@user @user its all about me mentality of our culture   #mentalhealth',\n",
       " ' @user wishing all of us a very   #weekend ð\\x9f\\x98\\x98ð\\x9f\\x92\\x95 ',\n",
       " 'i am thankful for freezers. #thankful #positive     ',\n",
       " ' @user ready for &lt;a&gt; full day of &lt;html&gt;, from @user to @user   #cssday',\n",
       " 'bihday cake i made for my mom!   #bihday #mom #fondant #pumpkin #chocolate #delicious #beautiful #amazing ',\n",
       " '@user thank you!! the power of #social #media!   @user #aande ',\n",
       " ' @user this made me smileâ\\x98ºï¸\\x8fð\\x9f\\x99\\x86 #bigbang   #babies   cto ',\n",
       " 'sending good vibes your way! happy friday! #tgifriday #goodvibesonly #becauseimhappy   #smilemore ',\n",
       " \"#letsgo #agents #tooeasy 10 more days till #dlc i know i'm   . #gamingforeveryone \",\n",
       " 'holy city#tissues !',\n",
       " '@user how old is your mom  bihday ð\\x9f\\x98\\x83',\n",
       " ' @user what did you decide?   #fowoh #goldenretriever #lcck9comfodog #workingdog ',\n",
       " '@user gets him angry.  a muslim assassinating 50 not so much.    ',\n",
       " 'ð\\x9f\\x92«we out hereeeee ð\\x9f\\x94¥ð\\x9f\\x8e\\x89ð\\x9f\\x92\\x83ð\\x9f\\x8f»ð\\x9f\\x8e¶ @user ericprydz #edc #music #musiclife #edm #dance   #girlsâ\\x80¦ ',\n",
       " '#funny thing about #humankind... we watch the #news, feel   #bad etc then back to \"open for business as usual! not #good re the #future!',\n",
       " \"@user and you keep telling that only aryans are allowed to rape women! you're just a  troll! #eod @user @user\",\n",
       " \" @user speechless when it comes to all the shootings recently. i guess people have nothing to lose and don't have any respectâ\\x80¦\",\n",
       " ' @user as forecasted, the beautiful waves of raalhugandu has disappeared due to construction of the bridge.&amp; theres no hope of it comâ\\x80¦',\n",
       " '@user any minute #trump will condemn the  #vile #bigoted comments of #his #surrogate #carlpaladino #endhateâ\\x80¦ ',\n",
       " \"#wishing all wonderful #dads a   #father's #day..let's #rock today at red rascalsâ\\x80¦ \",\n",
       " '@user #allahsoil vps got multi-million dollar bonuses while average americans lost their homes.  â\\x80¦â\\x80¦ ',\n",
       " 'i love #abrahamhicks and #lawofattraction !!   #healthy #healing   #joytrain !!    ',\n",
       " '#model   i love u take with u all the time in urð\\x9f\\x93±!!! ð\\x9f\\x98\\x99ð\\x9f\\x98\\x8eð\\x9f\\x91\\x84ð\\x9f\\x91\\x85ð\\x9f\\x92¦ð\\x9f\\x92¦ð\\x9f\\x92¦  ',\n",
       " 'signed up for my first bikram yoga classâ\\x98ºï¸\\x8f  ',\n",
       " 'think   thoughts and they will shine from your face like sun beams. quote #smile ',\n",
       " 'if you want creative workers, give them enough time to play.   #success #quote  ',\n",
       " 'my hea prayers are with the orlando victims, their families and the lgbt community.  ',\n",
       " '25 jan. interested in how #discrimination and  has affected the criminal justice system? ',\n",
       " 'friends forever ð\\x9f\\x92\\x97ð\\x9f\\x92\\x97 #friends#sweden#reunion #grateful#love @ egna hem ',\n",
       " 'keep up the opposition to  @user #endthenation',\n",
       " 'ð\\x9f\\x8d\\x95ð\\x9f\\x8d\\x95ð\\x9f\\x8d\\x95 love pizzaâ\\x9d¤ï¸\\x8f #pizzaslice#pizzaslice2#aoyama#pizza#yummy#delicias #goodtimeswithgoâ\\x80¦  ',\n",
       " 'my two loves #beer #craftbeee #dog #malinoislovers #malinois #passion   #friend ',\n",
       " 'i am abundant. #i_am #positive #affirmation     ',\n",
       " ' fathersday  #fatherÃ¢Â\\x80Â\\x99s #day, #dad #| #skinny #and #single buy things about \"hâ\\x80¦  ',\n",
       " '@user rickity..rick.. rickity...rick.. as the same ole broken down wagon is  looking to find the next mateen to jump on board.  ',\n",
       " 'love this city, great day in #cleveland! #home   #calm â\\x9d¤ï¸\\x8f ',\n",
       " 'i guess @user is talking about progress in the advancement of , #misogyny, #homophobia, #bigotry',\n",
       " 'teen girl killed, 3 others injured in downtown oakland shooting. #guns #mentalillness #gangs ð\\x9f\\x87¨ð\\x9f\\x87¦ð\\x9f\\x87¨ð\\x9f\\x87¦ð\\x9f\\x87¨ð\\x9f\\x87¦ is   #orlando ',\n",
       " '\"to everyone going through any struggle or pain right now, keep your head up, and keep on smiling, you\\'ll get through it.\" i hope so  ',\n",
       " 'good evening my darling instagram babies.   #blessed #lipstick #makeup #fun #grateful #share ',\n",
       " '@user jake is right, 2 many ppl lack the will power to take a stand &amp; drown the small minded &amp; oft evil tendencies of past ',\n",
       " 'i really hate hipocrit politicians which is just about all on all sides... we deserve better as citizens. ..  ',\n",
       " ' @user .@user @user where is environmental wellbeing?  the \"plan\" is only about sites - nothng todo  with wâ\\x80¦',\n",
       " '  bihday sway  bihday sway bihdayé\\x87\\x8eæ\\x9b¿æ\\x84\\x81å¹³  bihdayé\\x87\\x8eæ\\x9b¿æ\\x84\\x81å¹³ ',\n",
       " '  #saturday #morning, now go back to sleep. #thetrust #comusic #indie â\\x99«  faded away -  johnmaun. listen @user ',\n",
       " 'i was founate to have this man in my life every single day.   #father #day to all. ',\n",
       " \"@user @user gutted didn't know that you were here tonight i would have been there #good luck  \",\n",
       " 'beginning to think @user is a tom brady hater, the way he goes on about the man!  ',\n",
       " 'the attack in #orlando has caused a lot of pain to many people. #vengeance is not an option. we are all very  , lets comfo each other',\n",
       " 'cuteness overloaded ð\\x9f\\x92\\x9c let your life fills with love and sweetness ð\\x9f\\x98\\x8dð\\x9f\\x98\\x98 #live_long   married life ',\n",
       " 'heading to #graduation @user   #mechtechplumbing #futureplumber #proudmama ð\\x9f\\x98\\x82 ',\n",
       " '@user .@user is it possible for you to speak in any topic without bringing race into it, you bigot? @user  â\\x80¦',\n",
       " '#model   i love u take with u all the time in urð\\x9f\\x93±!!! ð\\x9f\\x98\\x99ð\\x9f\\x98\\x8eð\\x9f\\x91\\x84ð\\x9f\\x91\\x85ð\\x9f\\x92¦ð\\x9f\\x92¦ð\\x9f\\x92¦  ',\n",
       " 'ours, too. so much terribly   news over the weekend! #orlando #christinagrimmie #prayers  ',\n",
       " 'do more of what makes you  .  #innovative_nous',\n",
       " '[1465876849.66] update @  #social #analytics #instalike #tbt #yoga   #summer #fun ',\n",
       " '#rushlimbaugh does his incredibly  obama impression.  via @user',\n",
       " '@user @user we, the people, are failing our fellow citizens.       ',\n",
       " 'staing to pack for my move! ð\\x9f\\x99\\x8cð\\x9f\\x8f½ð\\x9f\\x8f¡ð\\x9f\\x98\\x84   #newflat',\n",
       " 'he is my first love. i may not be his, but he makes me feel like i am. #love #cheese #shotermlongdistance  ',\n",
       " \"@user just youtu bed them two and they don't get on now   #friendship\",\n",
       " 'if you want to be  , be kind to the #poor; it is a #sin to despise anyone.  #jesus #faith #believe #wisdom',\n",
       " \"have a nice life. i'm done trying to be in it.   #lovequotes\",\n",
       " 'the latest positivementalattitude!  thanks to @user @user @user #positive  ',\n",
       " 'you want to spark a serious debate about gun violence release the photos of the bodies inside the club. #orlandoshooting #gunviolence  ',\n",
       " 'just arrived in blagoevgrad fo #zaz conce feeling   under the #umbrelas ',\n",
       " '.@user a number of our leaders are coming  ',\n",
       " 'so   to see @user at #tcashowroom yesterday ð\\x9f\\x98\\x99ð\\x9f\\x91\\x8c ',\n",
       " \"@user isn't mean to me so that means he doesn't like me ð\\x9f\\x98\\x95  \",\n",
       " 'great way to spend a saturday ð\\x9f\\x98\\x8e #relaxation #positivevibes #california   #cakesbytheocean ',\n",
       " ' â\\x86\\x9d #eur/usd could test 1.16 near-term â\\x80\\x93 westpac   #blog #silver #gold #forex',\n",
       " \"he has no money. campaign asking for $100k donations by midnight to fight hrc's ad buy.   #brokedonald #lyindon \",\n",
       " 'today calls for champagne ð\\x9f\\x8d¾ð\\x9f\\x8d¾ð\\x9f\\x8d¾ #friday #fridayfeeling #friyay #goodweek   #clients #hairâ\\x80¦ ',\n",
       " '@user @user @user rightly so! gop hates trump more than obama  ',\n",
       " '@user @user @user @user @user @user @user @user   sunday hugs',\n",
       " 'just the 2 of usâ\\x9d£â\\x9d£â\\x9d£â\\x9d£â\\x9d£â\\x9d£â\\x9d£ #me #selfie #myfriend #loveher #giannena   #smile #thecomeback ',\n",
       " \"in that moment, she decided she needed more. a switch to control life's response. default.   \",\n",
       " 'now playing  :  yiruma - \" kiss the rain\" on     music song ',\n",
       " 'so simple, but so true. becoming all we are capable of being!    #burnsurvivor #dolbf #motivation #motivate ',\n",
       " 'back...who missed me?....#greatfultogod #beendoinggreat    #selfie ',\n",
       " 'do not! i repeat, do not put a dog in a hot car and leave them there in the heat! keep them home! for fucks sake!   #dogs',\n",
       " 'what a splendid #nosie,   me, probably not this #year #wrc #rallypoland @user @user ',\n",
       " '2 hours to go until our music video is released! #music   #edinburgh #scotland #band @user #musicvideo #a @user',\n",
       " '@user he is confirmed dead...according to farrah gray   #pulseshooting',\n",
       " 'look at journeys left and right foot stage ð\\x9f\\x94¥ð\\x9f\\x94¥ð\\x9f\\x94¥ð\\x9f\\x94¥ð\\x9f\\x94¥  !!!!!! ',\n",
       " 'black professor makes assumptions about an entire race whilst speaking for entire race. next week the jews!â\\x80¦ ',\n",
       " 'back to music\"now playing michael jackson(the lost children)   unificationsday\"and may god all the children &amp; their families#33!smile',\n",
       " '#drakeandjosh   buffalo simulation: buffalo for you to take in the vicinity of their homes to do. in this wa ',\n",
       " '#trumpusa when they call us   #homophobic #misogynist they are really saying they are jealous of us wâ\\x80¦ ',\n",
       " '@user i think you should suspend indefininetly that racist staff ',\n",
       " '*she sat alone and let out a sad sigh* #openrp   #bored',\n",
       " \"good morning #manchester a quick preview of a new #gin that we'll be launching very soon!   about this one! \",\n",
       " \"tried on the new @user #trailn2v3 today! although they feel very similar to v2's, the v3's are smoother and feel great!  \",\n",
       " 'kiki felt ignored today @user make kiki dance again #kikidance #miabbook    ',\n",
       " ' @user the source of #inspiration my ideal #my #lyf my #baba ....  fathers days!!!',\n",
       " ' @user congrats to the thomas on your new #beautiful home in tehaleh! welcome to the lennar family!   #homeowner ',\n",
       " 'i miss the days when my friends played xbox :(  ',\n",
       " 'new case and scraggly hair.  ! ',\n",
       " \"@user loving our dincwear! mum's da word @user for straight up '16 on saturday   #brickingit\",\n",
       " '  bihday sexy girl girls on top of boys naked  ',\n",
       " \"@user he's the only one where the majority of fans like him, salty gsw fans just needed someone to be   about\",\n",
       " '@user changing on a daily basis!-14weeks until handover!!   @user network team in soon then av! ',\n",
       " '@user when is this coming to singapore!  ',\n",
       " 'sma baby socks gbp 19.00 get here:  #shop #cool   #home #fun ',\n",
       " 'i liked a @user video from @user  #sjw retard wants more !',\n",
       " ' @user so woh the wait! @user #doubledown my wife @user is   @user #veganbeerfest #vegan ',\n",
       " '@user lmfao deadass?? ð\\x9f\\x98¹  ',\n",
       " 'what an amazing interview.   #bjmckenzie #born2win #bjmuzic ',\n",
       " 'boasty tuesday last night boom boom and harry hype say get   ',\n",
       " '  bihday balayya even at that age mass look,craze in fans,on screen romance..he is a legend #jaibalayya',\n",
       " 'woohoo   #kingslanding #highlandreserve #house #family #building #ourhomeâ\\x80¦ ',\n",
       " 'outlining my themes for my would-be poems haha  ',\n",
       " '#decors   buffalo simulation: buffalo for you to take in the vicinity of their homes to do. in this way, you ',\n",
       " 'sold! one of two paintings that are going to get a beautiful new home this week.   #soldâ\\x80¦ ',\n",
       " '@user msg of #hope for #newyear: a business to end . #endof2016 #tedtalks #tedatibm @user  @user',\n",
       " ':( why does @user slag off children? i love your show but......really?  @user  ',\n",
       " \"safe to say i'm missing #marbs sitting at home on your own watching #euro2016 listening to the rain is #depressing #bringbackhappiness  \",\n",
       " 'they have been brainwashed by the left who is allowing these terrorist to come into america to kill them. ',\n",
       " 'gd morning ð\\x9f\\x98\\x8dð\\x9f\\x98\\x8dð\\x9f\\x98\\x98ð\\x9f\\x98\\x98 #gdragon #gd #kwonjiyong #jiyong #vip #bigbang #handsome #cute   #loveâ\\x80¦ ',\n",
       " '  friendszxc ð\\x9f\\x92\\x9c ð\\x9f\\x98\\x81ð\\x9f\\x98\\x81ð\\x9f\\x98\\x81 ',\n",
       " '4 more days till vacation!   ð\\x9f\\x99\\x88â\\x9d¤ï¸\\x8fð\\x9f\\x98\\x8d',\n",
       " '  the secret of a happy marriage is all about finding other people less attractive: and those who repo... ',\n",
       " 'python27 and concurrency are not best friends,   all the code i have 2 restructure to get concurrency with celery #developers #python',\n",
       " '#womenareamazing we think so! #induoevents - - - -  #superwomen #follow #dowhatyoulove  â\\x80¦ ',\n",
       " 'hairy pussy redtube   hardcore tracks  ',\n",
       " 'let the season 4 binge begin ð\\x9f\\x92\\x86ð\\x9f\\x8f» #oitnb #myfavorite #season4   #weekendplans ',\n",
       " 'rest in peace ð\\x9f\\x92\\x94 #christinagrimmie   #loss #rip #missed #fan #foreverinourheas ',\n",
       " '\"a picture is woh a thousand words.\" #sundayrewind #hongkong #travel   #lady #lawyerâ\\x80¦ ',\n",
       " 'relax !!! ð\\x9f\\x8c¤ð\\x9f\\x8c¤ð\\x9f\\x8c¤ #ingers #followme #follow #follow4follow #beach #pool   #relax #enjoy #coupleâ\\x80¦ ',\n",
       " ' @user countdown has begun#family#freeevent#festival# enteainment #food#stalls ',\n",
       " ' #awesome beginner #gopro #mounts super   to use!!! ',\n",
       " \"dear istore  , please don't crash down due to heavy overload on 17-19 #booktime #muchlove     â\\x9d¤â\\x9d¤â\\x9d¤\",\n",
       " 'never underestimate the power of a good book, good wine, good food, and a great patio.   #summerevening #patioweather',\n",
       " 'istg this is the best cheese ta but dayum expensive ',\n",
       " 'my morning (office) routine will never be the same without my bff   #imy  ',\n",
       " '#model   i love u take with u all the time in urð\\x9f\\x93±!!! ð\\x9f\\x98\\x99ð\\x9f\\x98\\x8eð\\x9f\\x91\\x84ð\\x9f\\x91\\x85ð\\x9f\\x92¦ð\\x9f\\x92¦ð\\x9f\\x92¦  ',\n",
       " '#theshallows weak attempt to cash in on the jaws anniversary  ',\n",
       " '@user non stop election  i blame #cspan for hiding  for 8 years 2016 pittsburgh california ',\n",
       " 'weâ\\x80\\x99re extremely   to reveal the first #official #poster for #poalorigins [pa 2], coming this #summer. moâ\\x80¦ ',\n",
       " '16 minutes and counting.... #wwdc #wwdc2016  ',\n",
       " '@user @user he \"has to play ball\" now! the   state of our politics! it\\'s now all a facade, as we\\'ve lost principality!',\n",
       " \"#people aren't protesting #trump because a #republican won-they do so because trump has fuhered  &amp;â\\x80¦ \",\n",
       " \"it's a great day to just be nothing but happyð\\x9f\\x98\\x8að\\x9f\\x92\\x9eð\\x9f\\x99\\x8c  #blessed#thankful\",\n",
       " 'have a happy sunday everyone!!!â\\x9c\\x8cï¸\\x8fð\\x9f\\x92\\x96â\\x9c\\x8cð\\x9f\\x92\\x96   #sundaymorning #sunday #peace #love',\n",
       " \"i always help others. never myself. because other people matter and i clearly don't.   #quotes #latenights \",\n",
       " '  ! my bihday weekend ! even better ! xx ',\n",
       " 'stay strong ð\\x9f\\x92\\x8b #selflove #love #iloveme #quote #quotes #quoteoftheday   #happiness #life #wisdom #wordsofwisdom ',\n",
       " \"happy father's day..   #boys #father #sweet #love #memory @user \",\n",
       " \"aww yeah it's all good bing bong bing bong   \",\n",
       " '#life is most #impoant for #human #spirit #truth #love #give b   #spirituality #thinkbigsundaywithmarshað\\x9f\\x92\\x93ð\\x9f\\x99\\x8fð\\x9f\\x98\\x87 ',\n",
       " \"to the father of my babies, i love u. happiest of father's days!    #father via  \",\n",
       " \" @user current mood:   about @user 's web developer meet &amp; hire on 6/22.  \",\n",
       " \"you know you're getting old when you sta to get 'turned on' looking at poweools in b&amp;q  \",\n",
       " 're: 50 projects 2016---busy hands are happy hands!   ',\n",
       " ' @user bride: a woman with a fine prospect of happiness behind her. â\\x80\\x94ambrose bierce #wedding   #love ',\n",
       " '   #friday  xoxosamantha  via  ',\n",
       " '@user stop robbing innocent customers of their hard earned aiime which you guys have no idea on how dey managed to recharge... ',\n",
       " \"grab your bestie &amp; swing by for  hour ~ we've missed you.   #fun  #eatâ\\x80¦ \",\n",
       " ' is not an #opinion. racism is #degrading people based on race to justify #discrimination or open #violence against them. #stopracism',\n",
       " 'finally moving today ð\\x9f\\x98\\xadð\\x9f\\x99\\x8fð\\x9f\\x8f½ ',\n",
       " \" @user @user and @user i'm on my way..... can we say     #blogger #vloggerâ\\x80¦ \",\n",
       " '@user @user yay! fantastic   for #edinburgh',\n",
       " 'lemme find out i have to put on my boiler in the month of june.  ',\n",
       " 'my hea goes out to the families of those 50 people killed in the massacre in orlando.    ',\n",
       " 'pre @user gig drinks! ð\\x9f\\x98\\x8e  #passthecourvoisier ð\\x9f\\x8d¸@user ',\n",
       " 'so we rescued a pup... meet rexy ð\\x9f\\x90¶â\\x99¡ #rescuepup #rexy #pupsofsg #suicidegirls #beautiful #puppylove   ',\n",
       " 'these videos will get you excited for the futureâ\\x80¦  #tech #augmented   #future #mobile ',\n",
       " ' @user congrats ð\\x9f\\x98\\x84 ur wish come true working with @user ð\\x9f\\x98\\x8a superxcited for the songs ð\\x9f\\x98\\x84ð\\x9f\\x99\\x8câ\\x9d¤ð\\x9f\\x98\\x8d  ',\n",
       " 'we wish it were!   ',\n",
       " 'â\\x98\\x80ï¸\\x8f#hellosunday i hope you all have a #beautiful   #sunday :) #sundayfunday sunnday!!ð\\x9f\\x92\\x8b ',\n",
       " \"i once did that gif..did't listen to this song since ages..  \",\n",
       " ' â\\x86\\x9d #nzd/usd rises to 0.7040, eyeing gdt price index and fomc statement   #blog #silver #gold #forex',\n",
       " 'how true! home-food is considered a cheap-meal. impressions are made at restaurants!!!   ',\n",
       " \"happy bihday to one of the west's greatest!!  tupac shakur ð\\x9f\\x91\\x91ð\\x9f\\x8e¤   #bihday #rip #tupacâ\\x80¦ \",\n",
       " ' @user live your life....  ',\n",
       " '29hrs to goð\\x9f\\x98\\x89 #fl #motionposter to be revealed #mupparimanam feeling   #nervous ð\\x9f\\x98\\x80ð\\x9f\\x91\\x8dð\\x9f\\x8f»ð\\x9f\\x98\\x8a stay tuned ',\n",
       " '@user i had a little taste it was   for sure! ',\n",
       " 'appletstag #compleanno #toa #cake #family  bday #selfie #me #smile #girl  #summerâ\\x80¦ ',\n",
       " '#anime  #anime-a  -tree-friends #tags: #anime, #fana, pixiv, happy tree ... ',\n",
       " ' @user happy 2nd wedding anniversary to my amazing husband @user ð\\x9f\\x8d¾ð\\x9f\\x8e\\x89ð\\x9f\\x92\\x95ð\\x9f\\x91°ð\\x9f\\x8f¼ð\\x9f\\x8e© #memories #2years #lotstocome   #love ',\n",
       " 'after a slow sta, i had a productive day! getting back into a routine after a bout of fatigue and flareup is hard! #spoonieproblems  ',\n",
       " \"i love ramdan and fasting,i love the iftar's feeling and i love the way i feel during ramadan with praying and reading quran #blessed\",\n",
       " ' â\\x86\\x9d #eur/gbp subdued trading action around 0.7930   #blog #silver #gold #forex',\n",
       " '  ð\\x9f\\x98\\x8a with @user #ngitingtagumpay ',\n",
       " \"it's an unusual cloudy day. election day and picnic with friends!   sunday to everyone! ó¾\\x93\\x94ó¾\\x94\\x9b #welcomeludovica... \",\n",
       " '#cloudchaser   gorilla simulator: you need to do to adapt to the environment. the need to tear the city. mat ',\n",
       " 'christ is alive in you. #vlicobs #xoxo #love #grace   #amen #share #passion #church #lifeâ\\x80¦ ',\n",
       " \"  wants leak of udta punjab probed, suspects 'political ... #jobs #jobsearch #: #chandigarh: makers of udt... \",\n",
       " 'yesterday @ ozen ð\\x9f\\x99\\x83  #restaurant   #eatallyoucan ',\n",
       " \"i can already tell that next week's episode is gonna give me intense anxiety!!!! #nervous    #gameofthrones \",\n",
       " \"you've got nothing to say, so you assume that?! ahahahahahah \",\n",
       " \"i'm just an ordinary girl #intruduceyourself  !ð\\x9f\\x98\\x8að\\x9f\\x98\\x8a\",\n",
       " ' @user may lights triumph over darkness. may this ramadan bring peace, harmony and joy.   #ramadan! #ramadankareem ',\n",
       " '@user @user any1 else notice most of the \"suppoers\" r pageant girls w.years to internalize a female oppressive system? ',\n",
       " ' @user 4 reasons that optimists rule the world    #success #growth #balance #optimism ',\n",
       " \"i hate online applications because you don't even get your foot in the door before they tell you no, we don't need you.  \",\n",
       " 'i am thankful for flowers. #thankful #positive     ',\n",
       " \"to top off my crappy day w/me not signing papers for my house, @user pop up conce 4 blocks from work &amp; i didn't know. :(  \",\n",
       " 'beautiful (: i love living at the beach!!!! #beach #loveit   ',\n",
       " ' @user omg bitch ð\\x9f\\x98\\x82ð\\x9f\\x98\\x8dð\\x9f\\x98\\x8dð\\x9f\\x98\\x8d i knew you was gone do lil kim .. actually look like a music video  ',\n",
       " '#tgif   #ff to my #gamedev #indiedev #indiegamedev #squad! @user @user @user @user',\n",
       " '@user @user @user  man i even have a bunch of coupons too..... ',\n",
       " 'way to sta the day #goodmorning   ',\n",
       " 'lking forward 2 our watering holes, watchtowers,  foresses.. @user @user @user   ',\n",
       " '@user #allahsoil the next best seller book! #isis #islam #2016in4worlds #2016in4words #terrorists #gwot â\\x80¦ ',\n",
       " 'this a a fantastic rub for steak #yum #thespicesndteaexchange #dc   #healthyâ\\x80¦ ',\n",
       " '  #followme touch my tits -  ',\n",
       " 'feels like summer ð\\x9f\\x8c´ð\\x9f\\x8d\\x89ð\\x9f\\x91\\x99   #love #like #live #life #enjoy #healthy #sun #tan #bikini #summerâ\\x80¦ ',\n",
       " \"#teenageson reckons that he's gone 'beyond the call of duty' with my #fathersday prezzie    ð\\x9f\\x98\\x8d\",\n",
       " \"@user don't forget, @user - research shows that sexist men have psychological problems. #tuckercarlson \",\n",
       " 'nice! any specific pedagogical changes? ð\\x9f\\x98¬ ',\n",
       " '@user typical city fan  ',\n",
       " '\"no im not attracted to asian ppl bc im not asian\"  what if i tell you no im not attracted to u bc im not (inse race here) hoe   ',\n",
       " '@user awlrite  mol? jealous? better than being at cricket pitch all my life   #getalife',\n",
       " 'prayers go out to eddie and his family ',\n",
       " '#nothappy   my carer is finishing in one week :*(',\n",
       " '#closeencounters of the #fatkind #fatkid #dese #sick   #tired #maybemono ',\n",
       " '#gymmorgon #gym #morning #strength   #energy #training @ wingym ',\n",
       " 'glad it all arrived safely @user ! ',\n",
       " 'who defines ?: historically #oppressed or historic #oppressors/#privileged',\n",
       " 'are you really   or just pretending to be?  #truthseekers #empowerment #selfimprovement #healing #ihearadio',\n",
       " 'i finally found a way how to delete old tweets! you might find it useful as well:    #deletetweets',\n",
       " ' @user what a #view #oregon   #poland #usa #unitedstates   #holiday #dj #producer #houseâ\\x80¦ ',\n",
       " 'have you put in your #vote yet? if you havent, do it and #share so we can see what makes #you #smile. #poll   ',\n",
       " ' @user next chapter in life stas soon, looking at a house today with my fiancÃ© â\\x9d¤ï¸\\x8fð\\x9f\\x98\\x80ð\\x9f\\x8f\\xa0ð\\x9f\\x91\\x8dð\\x9f\\x8f»   ',\n",
       " ...]"
      ]
     },
     "execution_count": 72,
     "metadata": {},
     "output_type": "execute_result"
    }
   ],
   "source": [
    "list(twitter_data['tweet'])"
   ]
  },
  {
   "cell_type": "markdown",
   "metadata": {
    "id": "kfuJeaWG2xl2"
   },
   "source": [
    "**2. Get the tweets into a list for easy text cleanup and manipulation.**"
   ]
  },
  {
   "cell_type": "code",
   "execution_count": 73,
   "metadata": {
    "id": "qrmuMF-p2OS0"
   },
   "outputs": [],
   "source": [
    "tweets = twitter_data.tweet.values"
   ]
  },
  {
   "cell_type": "code",
   "execution_count": 74,
   "metadata": {
    "colab": {
     "base_uri": "https://localhost:8080/"
    },
    "id": "o2_sl2W64LYW",
    "outputId": "efcfb126-e3b6-47f7-9e54-95af6a354d53"
   },
   "outputs": [
    {
     "data": {
      "text/plain": [
       "31962"
      ]
     },
     "execution_count": 74,
     "metadata": {},
     "output_type": "execute_result"
    }
   ],
   "source": [
    "len(tweets)"
   ]
  },
  {
   "cell_type": "code",
   "execution_count": 75,
   "metadata": {
    "colab": {
     "base_uri": "https://localhost:8080/"
    },
    "id": "xIVCTSb94dq6",
    "outputId": "10b1cf28-e017-435d-b25a-cc56b7f01ddc"
   },
   "outputs": [
    {
     "data": {
      "text/plain": [
       "array([' @user when a father is dysfunctional and is so selfish he drags his kids into his dysfunction.   #run',\n",
       "       \"@user @user thanks for #lyft credit i can't use cause they don't offer wheelchair vans in pdx.    #disapointed #getthanked\",\n",
       "       '  bihday your majesty',\n",
       "       '#model   i love u take with u all the time in urð\\x9f\\x93±!!! ð\\x9f\\x98\\x99ð\\x9f\\x98\\x8eð\\x9f\\x91\\x84ð\\x9f\\x91\\x85ð\\x9f\\x92¦ð\\x9f\\x92¦ð\\x9f\\x92¦  ',\n",
       "       ' factsguide: society now    #motivation'], dtype=object)"
      ]
     },
     "execution_count": 75,
     "metadata": {},
     "output_type": "execute_result"
    }
   ],
   "source": [
    "tweets[:5]"
   ]
  },
  {
   "cell_type": "markdown",
   "metadata": {
    "id": "l4cXSlCx_qAd"
   },
   "source": [
    "1. Hashtag,\n",
    "2. ID\n",
    "3. URLs\n",
    "4. 'RT'"
   ]
  },
  {
   "cell_type": "markdown",
   "metadata": {
    "id": "NLyFAVLP__ay"
   },
   "source": [
    "## **3. Clean Up**\n",
    "###a. Normalize"
   ]
  },
  {
   "cell_type": "code",
   "execution_count": 76,
   "metadata": {
    "id": "0R8mYKDK_ZXm"
   },
   "outputs": [],
   "source": [
    "tweets_lower = [twt.lower() for twt in tweets]"
   ]
  },
  {
   "cell_type": "code",
   "execution_count": 77,
   "metadata": {
    "colab": {
     "base_uri": "https://localhost:8080/"
    },
    "id": "p-u7krYTAuy_",
    "outputId": "beb13f80-190b-48a9-9a0e-e76689f59e1a"
   },
   "outputs": [
    {
     "data": {
      "text/plain": [
       "[' @user when a father is dysfunctional and is so selfish he drags his kids into his dysfunction.   #run',\n",
       " \"@user @user thanks for #lyft credit i can't use cause they don't offer wheelchair vans in pdx.    #disapointed #getthanked\",\n",
       " '  bihday your majesty',\n",
       " '#model   i love u take with u all the time in urð\\x9f\\x93±!!! ð\\x9f\\x98\\x99ð\\x9f\\x98\\x8eð\\x9f\\x91\\x84ð\\x9f\\x91\\x85ð\\x9f\\x92¦ð\\x9f\\x92¦ð\\x9f\\x92¦  ',\n",
       " ' factsguide: society now    #motivation']"
      ]
     },
     "execution_count": 77,
     "metadata": {},
     "output_type": "execute_result"
    }
   ],
   "source": [
    "tweets_lower[:5]"
   ]
  },
  {
   "cell_type": "code",
   "execution_count": 78,
   "metadata": {
    "colab": {
     "base_uri": "https://localhost:8080/",
     "height": 36
    },
    "id": "0COJDunpA7iG",
    "outputId": "0fe58cdc-aa30-45e0-f201-34772d79711b"
   },
   "outputs": [
    {
     "data": {
      "application/vnd.google.colaboratory.intrinsic+json": {
       "type": "string"
      },
      "text/plain": [
       "' das attained the program!:/http://amreshbaig.com/ai'"
      ]
     },
     "execution_count": 78,
     "metadata": {},
     "output_type": "execute_result"
    }
   ],
   "source": [
    "re.sub(\"@\\w+\",\"\",\"@Amresh das attained the program!:/http://amreshbaig.com/ai\")"
   ]
  },
  {
   "cell_type": "markdown",
   "metadata": {
    "id": "oLs8-8ktoDLQ"
   },
   "source": [
    "**Using regular expressions, remove user handles. These begin with '@’.**"
   ]
  },
  {
   "cell_type": "code",
   "execution_count": 79,
   "metadata": {
    "colab": {
     "base_uri": "https://localhost:8080/"
    },
    "id": "smY9TXj2EVpP",
    "outputId": "caaadfe8-d1fa-4791-c073-8165313a8779"
   },
   "outputs": [
    {
     "data": {
      "text/plain": [
       "['  when a father is dysfunctional and is so selfish he drags his kids into his dysfunction.   #run',\n",
       " \"  thanks for #lyft credit i can't use cause they don't offer wheelchair vans in pdx.    #disapointed #getthanked\",\n",
       " '  bihday your majesty',\n",
       " '#model   i love u take with u all the time in urð\\x9f\\x93±!!! ð\\x9f\\x98\\x99ð\\x9f\\x98\\x8eð\\x9f\\x91\\x84ð\\x9f\\x91\\x85ð\\x9f\\x92¦ð\\x9f\\x92¦ð\\x9f\\x92¦  ',\n",
       " ' factsguide: society now    #motivation']"
      ]
     },
     "execution_count": 79,
     "metadata": {},
     "output_type": "execute_result"
    }
   ],
   "source": [
    "tweets_nouse = [re.sub(\"@\\w+\",\"\",twt) for twt in tweets_lower]\n",
    "tweets_nouse[:5]"
   ]
  },
  {
   "cell_type": "code",
   "execution_count": 80,
   "metadata": {
    "colab": {
     "base_uri": "https://localhost:8080/",
     "height": 36
    },
    "id": "D2UbrHrJE5xo",
    "outputId": "3436fdda-282d-4106-8298-a81a9aab6412"
   },
   "outputs": [
    {
     "data": {
      "application/vnd.google.colaboratory.intrinsic+json": {
       "type": "string"
      },
      "text/plain": [
       "'@Amresh das attained the program!:/'"
      ]
     },
     "execution_count": 80,
     "metadata": {},
     "output_type": "execute_result"
    }
   ],
   "source": [
    "re.sub(\"\\w+://\\S+\",\"\",\"@Amresh das attained the program!:/http://amreshbaig.com/ai\")"
   ]
  },
  {
   "cell_type": "code",
   "execution_count": 81,
   "metadata": {
    "id": "f0cfcsA1HOw2"
   },
   "outputs": [],
   "source": [
    "tweets_nourl = [re.sub(\"\\w+://\\S+\",\"\",twt) for twt in tweets_nouse]"
   ]
  },
  {
   "cell_type": "code",
   "execution_count": 82,
   "metadata": {
    "colab": {
     "base_uri": "https://localhost:8080/"
    },
    "id": "2lmtCQL0GI3Q",
    "outputId": "bb66ed0b-4d2e-40f2-b260-89740e219af8"
   },
   "outputs": [
    {
     "data": {
      "text/plain": [
       "['  when a father is dysfunctional and is so selfish he drags his kids into his dysfunction.   #run',\n",
       " \"  thanks for #lyft credit i can't use cause they don't offer wheelchair vans in pdx.    #disapointed #getthanked\",\n",
       " '  bihday your majesty',\n",
       " '#model   i love u take with u all the time in urð\\x9f\\x93±!!! ð\\x9f\\x98\\x99ð\\x9f\\x98\\x8eð\\x9f\\x91\\x84ð\\x9f\\x91\\x85ð\\x9f\\x92¦ð\\x9f\\x92¦ð\\x9f\\x92¦  ',\n",
       " ' factsguide: society now    #motivation']"
      ]
     },
     "execution_count": 82,
     "metadata": {},
     "output_type": "execute_result"
    }
   ],
   "source": [
    "tweets_nourl[:5]"
   ]
  },
  {
   "cell_type": "code",
   "execution_count": 83,
   "metadata": {
    "id": "8WfZl9-dGSiv"
   },
   "outputs": [],
   "source": [
    "from nltk.tokenize import TweetTokenizer"
   ]
  },
  {
   "cell_type": "code",
   "execution_count": 84,
   "metadata": {
    "colab": {
     "base_uri": "https://localhost:8080/"
    },
    "id": "CeVrBDvoGpIp",
    "outputId": "8ea9071d-b3bc-4940-b49e-2b103ebea110"
   },
   "outputs": [
    {
     "name": "stdout",
     "output_type": "stream",
     "text": [
      "Object `TweetTokenizer()` not found.\n"
     ]
    }
   ],
   "source": [
    "?TweetTokenizer()"
   ]
  },
  {
   "cell_type": "markdown",
   "metadata": {
    "id": "yPDF9YonnuRr"
   },
   "source": [
    "**Using regular expressions, remove URLs.**"
   ]
  },
  {
   "cell_type": "code",
   "execution_count": 85,
   "metadata": {
    "id": "W3e7ZYYDG1b8"
   },
   "outputs": [],
   "source": [
    "tkn = TweetTokenizer()"
   ]
  },
  {
   "cell_type": "code",
   "execution_count": 86,
   "metadata": {
    "colab": {
     "base_uri": "https://localhost:8080/"
    },
    "id": "YjhejTWEIR7m",
    "outputId": "cd2f58d1-11a8-498f-a4cc-2e8fc1dcb365"
   },
   "outputs": [
    {
     "name": "stdout",
     "output_type": "stream",
     "text": [
      "['when', 'a', 'father', 'is', 'dysfunctional', 'and', 'is', 'so', 'selfish', 'he', 'drags', 'his', 'kids', 'into', 'his', 'dysfunction', '.', '#run']\n"
     ]
    }
   ],
   "source": [
    "print(tkn.tokenize(tweets_nourl[0]))"
   ]
  },
  {
   "cell_type": "code",
   "execution_count": 87,
   "metadata": {
    "colab": {
     "base_uri": "https://localhost:8080/"
    },
    "id": "2X6AzssAIhxu",
    "outputId": "3c24ba9e-c24c-4ec2-fa66-a2dfd4d86a1d"
   },
   "outputs": [
    {
     "name": "stdout",
     "output_type": "stream",
     "text": [
      "['bihday', 'your', 'majesty']\n"
     ]
    }
   ],
   "source": [
    "tweet_token = [tkn.tokenize(sent) for sent in tweets_nourl]\n",
    "print(tweet_token[2])"
   ]
  },
  {
   "cell_type": "markdown",
   "metadata": {
    "id": "llSotuSMnh0T"
   },
   "source": [
    "**Using TweetTokenizer from NLTK, tokenize the tweets into individual terms.**"
   ]
  },
  {
   "cell_type": "code",
   "execution_count": 88,
   "metadata": {
    "colab": {
     "base_uri": "https://localhost:8080/"
    },
    "id": "B8qmBCItMnrV",
    "outputId": "d61adfed-cb31-411c-b8ed-4b040fde73db"
   },
   "outputs": [
    {
     "name": "stderr",
     "output_type": "stream",
     "text": [
      "[nltk_data] Downloading package stopwords to /root/nltk_data...\n",
      "[nltk_data]   Package stopwords is already up-to-date!\n"
     ]
    },
    {
     "data": {
      "text/plain": [
       "True"
      ]
     },
     "execution_count": 88,
     "metadata": {},
     "output_type": "execute_result"
    }
   ],
   "source": [
    "nltk.download('stopwords')"
   ]
  },
  {
   "cell_type": "code",
   "execution_count": 89,
   "metadata": {
    "colab": {
     "base_uri": "https://localhost:8080/"
    },
    "id": "oINBYjUONADX",
    "outputId": "864f8a70-72d5-4ed9-a57e-7ee497cfaaf5"
   },
   "outputs": [
    {
     "name": "stderr",
     "output_type": "stream",
     "text": [
      "[nltk_data] Error loading punctuation: Package 'punctuation' not found\n",
      "[nltk_data]     in index\n"
     ]
    },
    {
     "data": {
      "text/plain": [
       "False"
      ]
     },
     "execution_count": 89,
     "metadata": {},
     "output_type": "execute_result"
    }
   ],
   "source": [
    "nltk.download('punctuation')"
   ]
  },
  {
   "cell_type": "code",
   "execution_count": 90,
   "metadata": {
    "id": "Pw6m--_-Lzbw"
   },
   "outputs": [],
   "source": [
    "from nltk.corpus import stopwords\n",
    "from string import punctuation"
   ]
  },
  {
   "cell_type": "code",
   "execution_count": 91,
   "metadata": {
    "colab": {
     "base_uri": "https://localhost:8080/"
    },
    "id": "W-nBxG3NMGhj",
    "outputId": "32da755a-f75b-40f7-bab2-3b263f6df236"
   },
   "outputs": [
    {
     "name": "stdout",
     "output_type": "stream",
     "text": [
      "['i', 'me', 'my', 'myself', 'we', 'our', 'ours', 'ourselves', 'you', \"you're\", \"you've\", \"you'll\", \"you'd\", 'your', 'yours', 'yourself', 'yourselves', 'he', 'him', 'his', 'himself', 'she', \"she's\", 'her', 'hers', 'herself', 'it', \"it's\", 'its', 'itself', 'they', 'them', 'their', 'theirs', 'themselves', 'what', 'which', 'who', 'whom', 'this', 'that', \"that'll\", 'these', 'those', 'am', 'is', 'are', 'was', 'were', 'be', 'been', 'being', 'have', 'has', 'had', 'having', 'do', 'does', 'did', 'doing', 'a', 'an', 'the', 'and', 'but', 'if', 'or', 'because', 'as', 'until', 'while', 'of', 'at', 'by', 'for', 'with', 'about', 'against', 'between', 'into', 'through', 'during', 'before', 'after', 'above', 'below', 'to', 'from', 'up', 'down', 'in', 'out', 'on', 'off', 'over', 'under', 'again', 'further', 'then', 'once', 'here', 'there', 'when', 'where', 'why', 'how', 'all', 'any', 'both', 'each', 'few', 'more', 'most', 'other', 'some', 'such', 'no', 'nor', 'not', 'only', 'own', 'same', 'so', 'than', 'too', 'very', 's', 't', 'can', 'will', 'just', 'don', \"don't\", 'should', \"should've\", 'now', 'd', 'll', 'm', 'o', 're', 've', 'y', 'ain', 'aren', \"aren't\", 'couldn', \"couldn't\", 'didn', \"didn't\", 'doesn', \"doesn't\", 'hadn', \"hadn't\", 'hasn', \"hasn't\", 'haven', \"haven't\", 'isn', \"isn't\", 'ma', 'mightn', \"mightn't\", 'mustn', \"mustn't\", 'needn', \"needn't\", 'shan', \"shan't\", 'shouldn', \"shouldn't\", 'wasn', \"wasn't\", 'weren', \"weren't\", 'won', \"won't\", 'wouldn', \"wouldn't\"]\n"
     ]
    }
   ],
   "source": [
    "stop_nltk = stopwords.words('english')\n",
    "print(stop_nltk)"
   ]
  },
  {
   "cell_type": "code",
   "execution_count": 92,
   "metadata": {
    "id": "S9PIeJkBNPt5"
   },
   "outputs": [],
   "source": [
    "stop_punc = list(punctuation)"
   ]
  },
  {
   "cell_type": "markdown",
   "metadata": {
    "id": "JjAlCFfHnVJY"
   },
   "source": [
    "**Remove stop words.**"
   ]
  },
  {
   "cell_type": "code",
   "execution_count": 93,
   "metadata": {
    "id": "SsHqyOMiNdIb"
   },
   "outputs": [],
   "source": [
    "stop_punc.extend(['...','``',\"''\",\"..\",\"¦\"])"
   ]
  },
  {
   "cell_type": "markdown",
   "metadata": {
    "id": "QXFL3bPynLCZ"
   },
   "source": [
    "**Remove redundant terms like ‘amp’, ‘rt’, etc.**"
   ]
  },
  {
   "cell_type": "code",
   "execution_count": 94,
   "metadata": {
    "id": "cC-8aN-CNyCC"
   },
   "outputs": [],
   "source": [
    "stop_context = ['rt', 'amp']"
   ]
  },
  {
   "cell_type": "code",
   "execution_count": 95,
   "metadata": {
    "id": "iYt1c-9kN-1T"
   },
   "outputs": [],
   "source": [
    "stop_final = stop_nltk + stop_punc + stop_context"
   ]
  },
  {
   "cell_type": "markdown",
   "metadata": {
    "id": "_D56dq4Rm8Og"
   },
   "source": [
    "**Remove ‘#’ symbols from the tweet while retaining the term.**"
   ]
  },
  {
   "cell_type": "code",
   "execution_count": 96,
   "metadata": {
    "id": "lL8Ud34wI8m6"
   },
   "outputs": [],
   "source": [
    "def del_stop(sent):\n",
    "  return [re.sub(\"#\",\"\",term) for term in sent if((term not in stop_final) & (len(term)>1))]"
   ]
  },
  {
   "cell_type": "code",
   "execution_count": 97,
   "metadata": {
    "colab": {
     "base_uri": "https://localhost:8080/"
    },
    "id": "7cGRKASwkM5l",
    "outputId": "5997c984-4152-430c-b830-035b7919ff97"
   },
   "outputs": [
    {
     "data": {
      "text/plain": [
       "['[',\n",
       " '2/2',\n",
       " ']',\n",
       " 'huge',\n",
       " 'fan',\n",
       " 'fare',\n",
       " 'and',\n",
       " 'big',\n",
       " 'talking',\n",
       " 'before',\n",
       " 'they',\n",
       " 'leave',\n",
       " '.',\n",
       " 'chaos',\n",
       " 'and',\n",
       " 'pay',\n",
       " 'disputes',\n",
       " 'when',\n",
       " 'they',\n",
       " 'get',\n",
       " 'there',\n",
       " '.',\n",
       " '#allshowandnogo']"
      ]
     },
     "execution_count": 97,
     "metadata": {},
     "output_type": "execute_result"
    }
   ],
   "source": [
    "tweet_token[5]"
   ]
  },
  {
   "cell_type": "code",
   "execution_count": 98,
   "metadata": {
    "colab": {
     "base_uri": "https://localhost:8080/"
    },
    "id": "qSl4yvKyP7v9",
    "outputId": "dc1c4083-6694-4e27-cf8c-1998d1ce88ea"
   },
   "outputs": [
    {
     "data": {
      "text/plain": [
       "['2/2',\n",
       " 'huge',\n",
       " 'fan',\n",
       " 'fare',\n",
       " 'big',\n",
       " 'talking',\n",
       " 'leave',\n",
       " 'chaos',\n",
       " 'pay',\n",
       " 'disputes',\n",
       " 'get',\n",
       " 'allshowandnogo']"
      ]
     },
     "execution_count": 98,
     "metadata": {},
     "output_type": "execute_result"
    }
   ],
   "source": [
    "del_stop(tweet_token[5])"
   ]
  },
  {
   "cell_type": "code",
   "execution_count": 99,
   "metadata": {
    "id": "BMr9FLCjQKtE"
   },
   "outputs": [],
   "source": [
    "tweet_clean = [del_stop(tweets) for tweets in tweet_token]"
   ]
  },
  {
   "cell_type": "code",
   "execution_count": 100,
   "metadata": {
    "colab": {
     "base_uri": "https://localhost:8080/"
    },
    "id": "JxkyrjW-l_mz",
    "outputId": "c4771b66-2709-4132-8087-0768d70e6991"
   },
   "outputs": [
    {
     "data": {
      "text/plain": [
       "['camping', 'tomorrow', 'dannyâ']"
      ]
     },
     "execution_count": 100,
     "metadata": {},
     "output_type": "execute_result"
    }
   ],
   "source": [
    "tweet_clean[6]"
   ]
  },
  {
   "cell_type": "markdown",
   "metadata": {
    "id": "r3bNV_2rJ8xA"
   },
   "source": [
    "**4. Extra cleanup by removing terms with a length of 1.**"
   ]
  },
  {
   "cell_type": "code",
   "execution_count": 101,
   "metadata": {
    "id": "0I687ONjmU5X"
   },
   "outputs": [],
   "source": [
    "from collections import Counter"
   ]
  },
  {
   "cell_type": "code",
   "execution_count": 102,
   "metadata": {
    "id": "_TiLioxToy7j"
   },
   "outputs": [],
   "source": [
    "term_list = []\n",
    "for tweets in tweet_clean:\n",
    "  term_list.extend(tweets)"
   ]
  },
  {
   "cell_type": "code",
   "execution_count": 103,
   "metadata": {
    "colab": {
     "base_uri": "https://localhost:8080/"
    },
    "id": "DtaomktlpK28",
    "outputId": "1ea0f23c-ea56-41c6-edcd-cab5bbbc5715"
   },
   "outputs": [
    {
     "data": {
      "text/plain": [
       "[('love', 2748),\n",
       " ('day', 2276),\n",
       " ('happy', 1684),\n",
       " ('time', 1131),\n",
       " ('life', 1118),\n",
       " ('like', 1047),\n",
       " (\"i'm\", 1018),\n",
       " ('today', 1013),\n",
       " ('new', 994),\n",
       " ('thankful', 946),\n",
       " ('positive', 931),\n",
       " ('get', 917),\n",
       " ('good', 862),\n",
       " ('people', 859),\n",
       " ('bihday', 844)]"
      ]
     },
     "execution_count": 103,
     "metadata": {},
     "output_type": "execute_result"
    }
   ],
   "source": [
    "res = Counter(term_list)\n",
    "res.most_common(15)"
   ]
  },
  {
   "cell_type": "code",
   "execution_count": 104,
   "metadata": {
    "colab": {
     "base_uri": "https://localhost:8080/"
    },
    "id": "IrAw34wEpY-C",
    "outputId": "eb594f67-7f7a-493d-cf21-6eb61a222b17"
   },
   "outputs": [
    {
     "data": {
      "text/plain": [
       "['father', 'dysfunctional', 'selfish', 'drags', 'kids', 'dysfunction', 'run']"
      ]
     },
     "execution_count": 104,
     "metadata": {},
     "output_type": "execute_result"
    }
   ],
   "source": [
    "tweet_clean[0]"
   ]
  },
  {
   "cell_type": "code",
   "execution_count": 105,
   "metadata": {
    "id": "KfvstFODKkHT"
   },
   "outputs": [],
   "source": [
    "tweet_clean = [\" \".join(tweets) for tweets in tweet_clean]"
   ]
  },
  {
   "cell_type": "code",
   "execution_count": 106,
   "metadata": {
    "colab": {
     "base_uri": "https://localhost:8080/",
     "height": 36
    },
    "id": "52EBexDCK6qU",
    "outputId": "3a0fd8a9-12fe-4125-8331-a4dec59cd629"
   },
   "outputs": [
    {
     "data": {
      "application/vnd.google.colaboratory.intrinsic+json": {
       "type": "string"
      },
      "text/plain": [
       "'father dysfunctional selfish drags kids dysfunction run'"
      ]
     },
     "execution_count": 106,
     "metadata": {},
     "output_type": "execute_result"
    }
   ],
   "source": [
    "tweet_clean[0]"
   ]
  },
  {
   "cell_type": "markdown",
   "metadata": {
    "id": "41duQzEPvSMZ"
   },
   "source": [
    "## **Data formatting for predictive modeling:**\n",
    "\n",
    "1. **Join the tokens back to form strings.**\n",
    "2. **This will be required for the vectorizers.**\n",
    "**Assign x and y.**\n"
   ]
  },
  {
   "cell_type": "code",
   "execution_count": 107,
   "metadata": {
    "colab": {
     "base_uri": "https://localhost:8080/"
    },
    "id": "A374cwGHK9sA",
    "outputId": "061ffa80-7ea0-4c17-e638-55e4281374ec"
   },
   "outputs": [
    {
     "data": {
      "text/plain": [
       "31962"
      ]
     },
     "execution_count": 107,
     "metadata": {},
     "output_type": "execute_result"
    }
   ],
   "source": [
    "len(tweet_clean)"
   ]
  },
  {
   "cell_type": "code",
   "execution_count": 108,
   "metadata": {
    "colab": {
     "base_uri": "https://localhost:8080/"
    },
    "id": "mmhyeIeav1-J",
    "outputId": "21c7c076-5469-4c0d-9585-21d0d8dd2271"
   },
   "outputs": [
    {
     "data": {
      "text/plain": [
       "31962"
      ]
     },
     "execution_count": 108,
     "metadata": {},
     "output_type": "execute_result"
    }
   ],
   "source": [
    "len(twitter_data.label)"
   ]
  },
  {
   "cell_type": "code",
   "execution_count": 109,
   "metadata": {
    "id": "HTlp4zCpwYdG"
   },
   "outputs": [],
   "source": [
    "x = tweet_clean\n",
    "y = twitter_data.label.values"
   ]
  },
  {
   "cell_type": "markdown",
   "metadata": {
    "id": "PPTRngpcwnF8"
   },
   "source": [
    "**Perform train_test_split using sklearn.**"
   ]
  },
  {
   "cell_type": "code",
   "execution_count": 110,
   "metadata": {
    "id": "7w9_mD5XwhGp"
   },
   "outputs": [],
   "source": [
    "from sklearn.model_selection import train_test_split\n",
    "x_train,x_test,y_train,y_test = train_test_split(x,y, test_size=.30, random_state=42)"
   ]
  },
  {
   "cell_type": "code",
   "execution_count": 111,
   "metadata": {
    "colab": {
     "base_uri": "https://localhost:8080/"
    },
    "id": "XFHxk5iSxLgb",
    "outputId": "310ff5c9-d717-4426-a612-f6c318a3cc85"
   },
   "outputs": [
    {
     "data": {
      "text/plain": [
       "['summer timeð summeriscoming swimming picoftheday tattoos issho pulsera fluyendo',\n",
       " 'dese niggas show dese otha bitches fb snap nd twitter attention dey girl true',\n",
       " 'boost immune system allow bodies use energy forâ',\n",
       " 'reading manuscript wanting stop .  . good evening good night',\n",
       " 'baby says hates today',\n",
       " \"i'm dj lol womanofmanyhats instamood love silentdisco networkâ\",\n",
       " 'christmas eve christmas adam towards men feminism',\n",
       " 'lover stop angry visit us lover friend astrologer love',\n",
       " 'best wishes outside gym fitness macboys blue white grey',\n",
       " 'stress pretty ditch laugh exercise headisease',\n",
       " 'creative sent thebigscreen weekend cheers',\n",
       " 'thankful coffee thankful positive',\n",
       " 'whisky connoisseur kits fathersday whisky',\n",
       " 'makes innovative_nous',\n",
       " 'hapoyfathersday kimkardashian wishes kanyewest fathers day cheekâ',\n",
       " 'allahsoil like religions islam strong unifying force teambts teamsuperjunior',\n",
       " \"weekend near weekend tvshows see what's coming\",\n",
       " 'father gave greatest gift anyone could give another person believed fathersday dads',\n",
       " \"we're looking forward attending cipd ireland conference workshop cpd onemoreday\",\n",
       " 'hello noticed health fan ask check free app called mytraining apple',\n",
       " 'visitors choose great way see fine bristol city',\n",
       " 'wating new journey diva',\n",
       " \"can't custom mirror arrive today\",\n",
       " '14662574 80.02 update social analytics taichi likes opensource arduino',\n",
       " 'sad comedian debunk bs spew cnn regarding guns',\n",
       " 'used elephants',\n",
       " 'tomorrow spark attending 1st uk imhaw16 conference',\n",
       " 'pottersa logo fresh creative check page',\n",
       " \"damn can't friends still highschool\",\n",
       " \"here's day government states county's etc ban smoking saying ceain words clothing schools\",\n",
       " 'scapelliti progresverebel ha good riddance blacklivesmatter',\n",
       " 'tonight last romantic meal huddle joy arrives mocktsils',\n",
       " 'cousins forgot huhuhuhu three times na wheredoibelong emote wheredobrokenheasgo',\n",
       " 'planning summer vacation feeling wilã epic summervacation epic',\n",
       " 'racist attack three muslim women hull city centre info muslimsâ',\n",
       " 'paint paint paint studentcolour sheffield colourful instagood fitness colourrunâ',\n",
       " 'show tits idiot',\n",
       " 'thankful family vacations thankful positive',\n",
       " 'least daz free frm unwanted people unwanted voice tym to home',\n",
       " 'agree take bin common sense know persistent one council tax tut',\n",
       " 'hea breaking world come',\n",
       " 'see friday hoping everyone fantastic weekend walinks linksinc',\n",
       " 'happy friday fashion friday happiness fashionblogger blogger style fashionista friyay styleblogger',\n",
       " 'whhaaaaaaaatt beat one µð µð producer bestivedone music',\n",
       " 'exercise smile today weekend smile exercise fitness',\n",
       " 'oprah blessed',\n",
       " 'shuckinandjivin democraticpay want vote',\n",
       " 'dk3 kind ruined danitykane stilllovethemthough',\n",
       " 'sweets instagood idola idol followme selfie',\n",
       " 'know im corner',\n",
       " 'chill relaxing piano music keep pet quiet july4th fireworks',\n",
       " 'icymi good morning goodmorning bedhair blackandwhite photo morning newday beautiful behappy',\n",
       " 'loving yrkkh frm bottom hea frm day stared get return uglyspat',\n",
       " 'beautiful day goodnight goodmorning nonsleep ramadan blue hijab rcnocrop',\n",
       " 'enjoy morning everyone another friday soon',\n",
       " 'lebron making way warrior defense like owns place warriors',\n",
       " '100happysongs written recorded back 2014 songs onehundred yesisaidonehundred',\n",
       " 'thankful time thankful positive',\n",
       " 'review lumie bodyclock staer review',\n",
       " 'igersbnw attack bull game 3d really think head empty around city side',\n",
       " 'saw indians 2outs away browns miss sb cavs lose finals never thought would see going game momentum cavs',\n",
       " 'europe proves diversity multiculturalism bring violence rape ruin white western countries',\n",
       " \"i'm sad likesforlikes your move live life best loveyourself girlsgenerationâ\",\n",
       " 'thursdaythoughts choose everyday',\n",
       " 'humpday hour hotspot share hotspots love friendsâ',\n",
       " 'tomorrow day 1dayleft shoutout bihdayistomorrow',\n",
       " 'senseless rip',\n",
       " \"go canbury i'll monitoring progress weekend\",\n",
       " 'whoop tickets theconjuring2',\n",
       " 'energetic asian lady very get pounded hard',\n",
       " 'huge black dicks porn pussy',\n",
       " 'look passionate ivankatrump plane fake yet ignore adamsaleh raâ',\n",
       " 'award winning chilli sauces celebrate chillisauceâ',\n",
       " 'poppetmaster simon cowell still unable accept aists homosexuality',\n",
       " 'heavy breathing followed excessive mouth foaming zelda e32016',\n",
       " 'looks like really pushing narrative open world games forward',\n",
       " 'bowling stas back tomorrow',\n",
       " 'dwd wetterwarnung starkes gewitter schwandorfchwandorf 12.06 11:55 12.06 14:00 warnung wetter',\n",
       " 'peace fucku 2016 2017 wonâ better unless loudly fight corruption xenophobia islamophobia homophobia resist',\n",
       " '5am yoga tomorrow pool saco spo fitness',\n",
       " 'fail understand day people believe race sexual orientation define person bad wrong smh',\n",
       " 'miss painting created regatte orlando prayfororlando',\n",
       " 'replace boots verydisappointed didnt even manage get yrs pair guess buy justinboots',\n",
       " \"june i'll htx sunmer long june august finish summer inâ\",\n",
       " 'prayfororlando instagram toptags top.tags nothappy cry crying tearsâ',\n",
       " 'getting ready canneslions creative ads inspiring people adveising around us fun cool',\n",
       " 'latest dairy thanks',\n",
       " \"woooooaaaahhh delivery feels like christmas can't wait toâ\",\n",
       " '101 followers away 4000 thank new followers something huge happening xgamer revealed soon',\n",
       " 'congrats snapchat scavenger hunt winner follow us contests snapchat stancofair',\n",
       " 'tonight basketball football',\n",
       " 'life sho anything salam ramadhan everybody bekindtooneanotherâ',\n",
       " 'excitement ordering new pole outfit poledance poler poledancer poleoutfit polefitness healthy',\n",
       " 'make',\n",
       " \"recommend best way get airpo campus i'm coming next saturday week\",\n",
       " 'stop legitimizing using alt-right call neonazis nazi doctrine incl ultranationalism',\n",
       " 'denial resistance normalizing hatred nofascist2017',\n",
       " 'bless oppounities seriously thank lord',\n",
       " 'pines attack bull game 3d really think head empty around city side supp',\n",
       " \"can't wait bring kids love johndeere rdoequipment\",\n",
       " '',\n",
       " 'fathers day dad papa father tatay around world esp one papa iloveyou',\n",
       " \"can't even go public centers without worried terrorist attack\",\n",
       " '',\n",
       " 'old man strategy bernie better chance winning admit faking',\n",
       " \"happy father's day pops like father 1984 israel\",\n",
       " 'think beauty still left around anne frank quoteoftheday encouragement',\n",
       " 'frwd frinds best poetry romantic poetry love poetry new poetry poetry free hasil karain follow send 40404',\n",
       " 'everybodytalks odd others drawn conclusion terrorism hate envy accepted',\n",
       " 'happy im school noschool summer',\n",
       " 'drinking way class afterwards',\n",
       " 'allahsoil bernanke bailed wall street dumping 600 billion largest banks',\n",
       " 'many apparently waste gcse english lessons fact fiction',\n",
       " 'see maltingfloor today humble ingredient time passion becomes whisky',\n",
       " 'b-dayð bffs bihday bihdaygirl fun smile photooftheday instadailyâ',\n",
       " '14662548 55.94 update social analytics surfing ocr likes geek swim',\n",
       " 'yeah grandma decides wants go visit noelia spain 27th surprise officially non-existent',\n",
       " 'italy wednesday',\n",
       " 'time street beg sessions draw money day tweets world monetary affairs',\n",
       " 'changes improve life changes improve life lifestyle diet happiness aâ',\n",
       " \"can't nice everyone\",\n",
       " 'thought like pin pinterest wish understands smile',\n",
       " 'someone 9.3 followers steals idea emailed february asking ks suppo',\n",
       " \"easy let things go cum bck modified can't accept love pain movingon\",\n",
       " \"got austin's car back home safe sound great day obx perfect weather perfect day even got drive\",\n",
       " 'plane falling apa vs019 toilet leaking screen flickering experience',\n",
       " 'home incredible features unwind weekend around bonfire family friends weekend',\n",
       " 'helluva sta able recognize makes lucille ball',\n",
       " 'us ready miami question ready us nolagonemia',\n",
       " 'happy snappy waiting football football snapchat',\n",
       " 'tragic death british mp joe cox serve reminder cool political rhetoric sides deadly',\n",
       " 'ugly still outta league',\n",
       " \"thanks sue he's happy hound evening\",\n",
       " 'thinking loud lowkey realhappy joyoversadness goodoverevilâ',\n",
       " 'ready go home',\n",
       " 'orlando needed another shooting christina grimmie',\n",
       " 'see comes friday gotta go see',\n",
       " 'lovely new hanging baskets ready summer beaminster lovedorset local pub',\n",
       " 'japan abe government mere puppet ultra rightist group japan conference fascism guardian nytimes bbc afp rsf',\n",
       " 'boston buffalo simulation buffalo take vicinity homes way',\n",
       " 'safe flight esy way colors2016 mainique french caribbean dance',\n",
       " 'good luck :)',\n",
       " 'knowledgeable i_am positive affirmation',\n",
       " 'might film first ever youtube video tommorow',\n",
       " 'wow tennis years .  . leave performance enhancers hit gym harder',\n",
       " 'great day cooking great man fathersday goodfood steak wine fresh goodâ',\n",
       " 'stanleycup face pittsburgh pittsburghpenguins nhl love kindness teamâ',\n",
       " 'booked restaurant gordon ramsey bihday august bihdaycelebration',\n",
       " 'one 64.2 mil americans rejected bigotry hatred fly flag half mast jan',\n",
       " 'haley gonna become famous know check pink lies july 21 awesome personality',\n",
       " 'model love take time urð',\n",
       " 'arrived today get move love life love unitedinlove newbeginning bliss',\n",
       " \"cannot wait 20 week scan tomorrow i'm even excited alfie coming us hurry 5pm tomorrow scan\",\n",
       " 'daughter love mocktail drink revolution newcastle-under-lyme',\n",
       " 'wsib refunds way much bk employers greed worse refunds payout workers',\n",
       " 'fatherâ day daddy fathersday',\n",
       " \"one point na lang sa spemark i'm 3.5 na sana :( got 3.0 :(\",\n",
       " 'happy man happy iraq man',\n",
       " 'vellum cards 12 x12 best day set 25',\n",
       " 'guys good team score 88 solid team go payet euro2016 fravrom maybeabitoomuchredwine',\n",
       " \"i'm tired crazy angry people people crazy yourefired trump2016 tired tweetoftheday cool\",\n",
       " 'cnn bad msnbc playing role islamic terrorism media donlemon',\n",
       " 'izzy go df 1st field walk since aug',\n",
       " 'flight delayed ramp empty avgeek boise airpo',\n",
       " 'love books reading bookstagram bookgeek lovebooks lovereading',\n",
       " 'come see nickel brompton brompton luggage launch sat july 4pm',\n",
       " 'time next week house tbh could chippy cantwait',\n",
       " \"still :: people can't stop talking girl defended girlfriend twitter good\",\n",
       " 'whenever hear word relocate get pmr relocation watch',\n",
       " 'takes victorious independent fearless woman tyra banks love women',\n",
       " 'arms hu workout comedy funny vine gay lgbt lgbtq',\n",
       " 'friendly young woman waving beautiful brunette danieldash female',\n",
       " \"can't believe today last day uni whoopwhoop amazing well everyone graduating year\",\n",
       " 'heading new smyrna beach never seen ocean',\n",
       " 'matters matter inspiration quotes',\n",
       " 'raghuramrajan true rockstar indian financial world miss',\n",
       " 'thankful cats thankful positive',\n",
       " 'never apa face swap',\n",
       " 'wife crashes funeral horrifying husband ordered killed community turns',\n",
       " \"positive vibes baby that's i'm\",\n",
       " 'chicken breast homemade bbq sauce sauteed garlic spinach',\n",
       " 'birds bad piggies finger family nursery rhymes lyrics via',\n",
       " 'many design options ankara ankara handmade africanindustry african lappaâ',\n",
       " 'puremichigan lakepo randombridges make lakepo state park',\n",
       " 'finally finished bathesis close done excitement real life good',\n",
       " 'hippie pretty <3',\n",
       " 'helpful momentum4studios',\n",
       " 'difficult folks hu people orlando lbgtq love love heabrokenâ',\n",
       " 'danny oâ donoghue pays tribute murdered voice contestant rip',\n",
       " 'love calabash2016',\n",
       " 'think geordie shore ever emosh',\n",
       " 'blackheathstandard summerfair',\n",
       " \"father's day\",\n",
       " \"strive positive light people's lives everyday hopefully effos make result life positivity gonnamoveon\",\n",
       " 'lighttherapy help depression altwaystoheal healthy happy',\n",
       " 'could come midlands promotion instead irelands ancient east',\n",
       " 'time man realizes maybe father right usually son thinks heâ wrong father day',\n",
       " \"massachusetts worst pizza i've ever life actually scares bad\",\n",
       " 'waking dream face reality person loved dearly went heaven itneverstopshuing kosie',\n",
       " 'makes',\n",
       " 'home hea tarifa beach beachlife girl swimsuit tarifa playaâ',\n",
       " 'white flight derek black kkk trump change',\n",
       " 'euro2016 fans making sec football fans look like acc football fans dumb',\n",
       " \"co guitar i'm sorry guys fault comics i'm sorry fault co comics ca\",\n",
       " 'somewhere thoughts afternoon me nice cute smiling sweet stylish hipsterâ',\n",
       " \"farahdhukai's video true yet\",\n",
       " 'latest zurich times',\n",
       " 'watching kefalonia',\n",
       " 'boyfriend commutes home work supposed come home tonight got called tomorrow hugs tonight',\n",
       " \"day company's history ends drinks tgifriday\",\n",
       " 'invest people last lifetime',\n",
       " 'watching made america simpson 30for30 far interesting went 60 still going 2016',\n",
       " 'cuddles love family author writerslife sassy gypsy gypsysoul bipolarâ',\n",
       " 'one sees bigger picture sometimes drives insane stupid people grrrrr mad stupid',\n",
       " 'sad make excuses',\n",
       " 'latest one news 24 daily thanks africa',\n",
       " 'excess excess excess distress distress distress',\n",
       " 'cannot believe staff thought okay starve whilst everyone else got food two separate journeys',\n",
       " \"can't wait watch mo'nique interwoven july loved precious flixpremiere newmovie\",\n",
       " 'feliz domingo dream :d frasedeldia disney doit sunday dream smile',\n",
       " 'amazing thefoxtheatre atlanta georgia blurry smile life musicistheanswerâ',\n",
       " \"we've great fundraising idea hopefully help suicideprevention follow\",\n",
       " 'exploring neighbourhood home love smile explore england uk couple smile walk',\n",
       " 'travel girl russia bus smile from your hea day new life moscow please smile yourâ',\n",
       " 'childhood really impoant necessary stress early life may cause adulthood depression visit',\n",
       " 'experimenting think enjoy coloring calm nature intention healthy',\n",
       " 'well another glorious summers day scotland',\n",
       " \"father's day men light children love\",\n",
       " 'sick sad concept majority women woman want president gender democrat ohio',\n",
       " 'sunk new low poor lady job hope recovery swift',\n",
       " \"already 96 games can't wait next summersale cause wishlist getting bigger bigger\",\n",
       " 'love disney better 24/7 gatorsquad constantly eliminate every gator every minute everyday pond dumb',\n",
       " 'happy bã hday thank youâ adveise traffic ads bihday thank free classifieds ads',\n",
       " 'big day tomorrowð',\n",
       " 'musedchat bull dominate bull direct whatever want yo',\n",
       " 'all-new jaguarfpace way jaguarstb comingsoon jaguar fpace',\n",
       " 'allahsoil temptation blame everything scapegoat strong resist',\n",
       " 'guys favour check hot new track frm friend guy talented',\n",
       " 'cheeto thing worked great glennbeck rick wilson revives adds anti-christian blasphemy',\n",
       " 'know scary',\n",
       " 'apple announces yet another underwhelming slew useless ui updates iphone user wants needs clueless wemissstevejobs',\n",
       " 'allin fouh quaer like cleveland henrythepooh dogâ',\n",
       " 'means thing long thenewnohumberlandplate aw',\n",
       " 'coldplay last night fave coldplay conce hampden fave couple cute',\n",
       " 'little tomorrow going absolutely fabulous onesleep may beat spoing monte carlo xx',\n",
       " 'eek decision made goalsetting completed',\n",
       " 'aldubtrueidentity monday morning',\n",
       " 'back favourite place flevesisland summer zebrasandlibras sea sun flevesâ',\n",
       " 'bhigsexitits funny guys like dance love anal sex naughty slut wet shy hot',\n",
       " \"i'm grateful affirmations\",\n",
       " \"inability take responsibility one's actions seems common theme russia\",\n",
       " 'eid_ghazal eid_gift eid_poetry love eid_shairi match news update follow grlz liye',\n",
       " 'taking chances liberating exciting always grow result :-) livelovelife',\n",
       " 'adobemuse polar bear climb racing angry polar bear climb racing polar bear living cold places lo',\n",
       " 'baby terrorizing community neighborhood dogs cold valentinedayâ',\n",
       " 'polling shows straight divide poorly educated trump voters want leave eu clue',\n",
       " 'day late dollar sho post blog alliesmommy love follow sho loss life',\n",
       " 'even bushfires 2014 land still struggling recover fire recovery',\n",
       " \"i'm gameready forza horizon pc time live\",\n",
       " 'getting academics try googlecardboard vr today.sparking interest curiosity ideas.that love job make peoplâ',\n",
       " 'cny expected remain pressure rabobank blog silver gold forex',\n",
       " 'psa age information true ethnicity biblical people caused overlap andâ',\n",
       " \"last day i'll 35 lol tomorrow selfie junebabies bihday lastday smiles june\",\n",
       " 'love heas change world saying goes love makes world go round',\n",
       " 'countdown ufcottawa come',\n",
       " 'weekend fun pier saturday weekend nyc hellskitchen cute love family photo',\n",
       " 'familymatters bull dominate bull direct whatever want whe',\n",
       " 'social engineering us plebesð mad',\n",
       " 'bald thoughts vlog 139 summer gun prayforoakland',\n",
       " 'mine broken brokenheaquotes brokenhea heabroken heabrokenquotes quotes love',\n",
       " 'great idea',\n",
       " 'absolutely terrible pic nice one clara though wharf sunshine place',\n",
       " 'bestseller coaching inspiration never go bed without dream wakeup without hope',\n",
       " 'latest african american turmoil thanks blacktwitter',\n",
       " 'sure miss old amarillo',\n",
       " 'great day forget send pics chod2016',\n",
       " 'atherapy musictherapy heal life altwaystoheal healthy healing',\n",
       " 'whatever saigon vietnam terrible boring alone',\n",
       " 'congratulations nicola see october',\n",
       " 'smile prepare new week asã smile goodtimes night look manâ',\n",
       " 'memphis black men targeted murder black men others 100',\n",
       " \"since finished assignments i'll continue watch bts dvd's xd still left onstage bts conce dvd\",\n",
       " 'help customer allwrappedup rather huge framed picture wedding',\n",
       " 'truthful i_am positive affirmation',\n",
       " \"looking forward e32016 conference shame i'm working :( xboxe3 gaming work xboxones\",\n",
       " 'well sleeping makes happy consider soed',\n",
       " 'ag pick jeff sessions scrubs racism record even tho argued felony trumpsamerica',\n",
       " 'model love take time urð',\n",
       " 'picture woh thousand words sundayrewind hongkong travel lady lawyerâ',\n",
       " 'bagong to-read newlydl awe 3bookstogo pauldavidtripp dubai unitedâ',\n",
       " 'let take selfie µð lifemember nofriendsnolife chill smile peace igersâ',\n",
       " 'hot press landed desks issue 335 bccs2016 showguide yay',\n",
       " 'japan domestic corporate goods price index yoy line expectations -4.2 may blog silver',\n",
       " 'now funny politics not everything animal world much less severe friday',\n",
       " \"bihday bestie i'm ooo blessed called bestie love loveness\",\n",
       " 'food',\n",
       " 'rainy day rainy rain rainyday weather myself feelings rehazentrum sprudelhof',\n",
       " 'think finally decided next tattooð',\n",
       " 'happy weekend yoga sea yogaeverydamnday yogi life yogalove lifestyle romania weekend beach',\n",
       " 'indeed ripstephenkeshi',\n",
       " '13 days go gettingthere',\n",
       " 'accept life',\n",
       " 'finally caught sun today managed book la nouba tonight lanouba ªð ºð',\n",
       " 'today happy sad happy lowfat myth busted many suffered years inc listen criticised',\n",
       " 'thankful inspiration thankful positive',\n",
       " 'indianapolis colts black cheerleader hugs boy used slur much class',\n",
       " 'got hamper today thank much make',\n",
       " 'fatty elly fatty hand elly fatty henna',\n",
       " 'cool treat hot hot day widn frozenyogu tuesday dclife summer gogreenâ',\n",
       " 'chillð sunday trenereasta love waking wake way',\n",
       " 'oh yeah found perfect bihday cake bihdaylivmorgan',\n",
       " 'prep blondilicious lorealpro great lab work pascalhair thankyou',\n",
       " 'ana bull hill climb reach target complete task survive strong excitement',\n",
       " 'team loses need bottle heemteam depressedâ',\n",
       " 'totellthetruth muslim dude shoots 100 lgbt people leader obama scolds instead orlandoâ',\n",
       " 'good night fellasð',\n",
       " \"cliffs moher ireand paddy's day photo\",\n",
       " 'roll 5pm daretodream',\n",
       " 'good seeing sat',\n",
       " 'binoculars cirquedusoleil ovo gucci sequinbow lucky blessed loved',\n",
       " 'rapping thepoetwillbetelevised last night theunnamed band',\n",
       " 'us may ppi inflationary pressures slowly building wells fargo blog silver gold forex',\n",
       " 'starsofthefuture loving great dancing atmosphere today brentwood',\n",
       " 'happy jade wedding anniversary mommy daddy blessed',\n",
       " 'full week end sight yet soul destroying want better',\n",
       " 'daily beauty tips health tips urdu poetry poetry lovepoetry new ghazals jokes ky liye follow send 40404',\n",
       " 'blew first whistling straights oakmont action dj made contact anything',\n",
       " 'bocconcini salad go seems missing menu',\n",
       " 'thankful generosity thankful positive',\n",
       " 'hive thehive kewgardens holisticlifestyle royal botanic gardens kew',\n",
       " 'thankful fun thankful positive',\n",
       " 'cold heaed could people said guy laughing shooting prayers',\n",
       " 'stands watching one best thatssayingsomething much kit tho',\n",
       " 'really see theketteringincident july 4th ads alone hooked',\n",
       " 'keep mind promises tired magichappens2u aimhigh dreambigâ',\n",
       " 'powerful course action always matter scenario authentically beyou fâ',\n",
       " \"he'll pay us like lambs vet\",\n",
       " 'beacause makes happy next question smile',\n",
       " 'wth joc gets ufc recognise boy anymore ego neverwuddathunkit',\n",
       " 'education demand anymora',\n",
       " \"i'm mom know ur friends leftoutalways\",\n",
       " 'key life sharing ones love tag friend invite coffee today livehappilly',\n",
       " 'good day friday paris',\n",
       " 'best lee_bongkeun miss farewell boss cheilmalaysia funâ',\n",
       " 'true :/ niggas dont go looking apaments go look shoes jewelry',\n",
       " 'able go braves baseball game atâ',\n",
       " 'defending indefensible',\n",
       " 'liberals like make democrats better conservatives',\n",
       " 'someone feed grenades stupid fuck shit',\n",
       " 'outlets reddragondas recoils 22g pvd black finish 4,980- followâ',\n",
       " 'safe ways heal acne altwaystoheal healthy healing',\n",
       " \"can't secular education haredi life existed 1940-50 brooklyn\",\n",
       " 'next klan meeting',\n",
       " 'ahhhh might guessed euro2016',\n",
       " \"i'm cause get bunt cake twitterwarnumber3\",\n",
       " 'dragged bestie workout talked way thru 1000 stairs friends keepu sane treasure',\n",
       " 'think good times',\n",
       " \"except can't say enemy\",\n",
       " 'good morning amsterdam goodmorning sundaymorning breakfast strawberries teaâ',\n",
       " 'think alexjones saying draintheswamp populationcontrol good videos got',\n",
       " 'writing thank notes finishline',\n",
       " \"makeyoustay i'm moon love much nm1fan loveit\",\n",
       " 'bought wiley fox storm get tomorrow fully joining android world today newworld',\n",
       " 'spiritualgrowth bull dominate bull direct whatever want',\n",
       " 'model love take time urð',\n",
       " 'miley cyrusâ new ebay scifi ufohaslanded ufos aliens western shooter cowboy',\n",
       " 'love city great day cleveland home calm',\n",
       " 'making progress assessment imanerd assessment',\n",
       " \"tomorrow i'll electric sky\",\n",
       " 'stop chelski fans equality diversity',\n",
       " 'blossom love adopt baby blessings cute canine dog fun gift good grooming hope',\n",
       " 'nba wants push games notice curry taking shots much money involved anymore spo',\n",
       " 'stone roses done time club days',\n",
       " 'aisdproud pss providing oppounities educational result developing parents leaders education',\n",
       " 'agree much way original content aaa studios',\n",
       " \"mona lisa style man's face sad\",\n",
       " 'selfie waiting waiting bored hungry crazy superhungry tiredofwaitingâ',\n",
       " 'lipo-light help learn lipolight burnfat summerbody result confident',\n",
       " 'bihday proud father to special son',\n",
       " 'folded like tent someone ruthless hillary beat',\n",
       " \"hopefull one day realize guy's agenda remove ability spread type stories\",\n",
       " \"st mark's cathedral name racism anti-semitism xenophobia sins komo news\",\n",
       " 'jews christians muslims believe good prevail emiratisâ',\n",
       " 'cinemaaawards final rehearsals gearing evening butterflies stage hope like',\n",
       " 'bihday sister',\n",
       " 'welcome new week allð',\n",
       " \"whole i'm gonna make proud thing went away record time congrats\",\n",
       " 'politics used noble example libey democracy paies abandoned agenda-driven power grab',\n",
       " 'chillin sippy cup picoftheday lovemylife loveher cute princess',\n",
       " \"hmmm amodu's dead woke dis mornin 2hear diz devastating news.may god grant left behind foitude 2bear dis loss\",\n",
       " 'aliens old men luckylady wtf',\n",
       " 'hello sunshine sunshine missohiousa redhead summerstyle summeime',\n",
       " 'black feel like stomping listen retweet tampa miamiâ',\n",
       " 'playing sophie hutchings seventeen music song',\n",
       " 'unfounately make year :( great time know follow twitter',\n",
       " \"can't believe excited got winning load knitting needles ebay i'm getting old knitting crafts wool ebay\",\n",
       " 'whoopppp stop getting worked ska reggae',\n",
       " 'less month summer festival cvfestival',\n",
       " 'always overfed',\n",
       " 'know acts like humans even shock anymore young tragic drop guns people ffs ripchristina',\n",
       " 'mermaids beautiful love instagood instadaily cute fashion apparelâ',\n",
       " 'heading six flags discovery kingdom nohern ca days',\n",
       " 'finally board see bit tacloban delayed palexpress pinasâ',\n",
       " 'ourlander killed angus nooooooo sweet loveable angus howwillrupecopewithouthiswingman',\n",
       " 'back days feeling',\n",
       " 'girl weekend stas already wednesday modeblogger',\n",
       " 'first wwe event excited wwewaco wwe deanambrose wrestling familyfunnight yay',\n",
       " 'always',\n",
       " 'people complain money also complaining jobs',\n",
       " 'happy saturday time get work grind neverstopgrinding nofilter healthyâ',\n",
       " 'frustrating watching trump advisors suppos listen get fail loser lightweight',\n",
       " 'model love take time urð',\n",
       " 'come cool hangout us plaza palomino mercado today 9-1 instagood love fre',\n",
       " 'tips wiping negativity life success flourish',\n",
       " \"we're gonna watch conjuring today barkada\",\n",
       " 'happy sunday goodmorning sunday me nature life buonadomenica sunny day',\n",
       " 'friend friends funny friendship chill cute best bestfriend bestfriends goodfriends besties memories',\n",
       " 'back home tired thank great week mega suppo c2l2016',\n",
       " 'bellator heavyweight ratings king kimbo slice dead 42',\n",
       " 'best essential oils healing altwaystoheal healthy',\n",
       " 'looking forward wednesday football fixtures released first year season ticket holder cpfc',\n",
       " 'marathon bull dominate bull direct whatever want',\n",
       " 'makaveli day happy bday pac performing tonight gonna madd pay',\n",
       " \"enjoy brunch creperie visit shope's studios shope's furniture fathersdaygifts\",\n",
       " \"heck going gatorð snatching baby beach floridian resoð omg can't take shizzz\",\n",
       " \"thanks autism film plans hotting andrew's hard work coming together xx\",\n",
       " 'summer means good vibes try keep smile day see good things life',\n",
       " 'damn ave smh years ago ripbanga troyave bsb irvingplaza freetroyave ripbsbbanga',\n",
       " 'late footy last night argentina',\n",
       " 'outcast . . failed raise cover singing singer song disney audioâ',\n",
       " 'stromboooooooli yes yes yes vosjes popuprestaurant',\n",
       " 'waking another mass shooting us thoughts prayers orlando prayersfororlando whenwillitstop',\n",
       " 'daddysays agr baar marks km aye pocket money zero smjhe :p',\n",
       " 'ordinary world cover duran duran mam cover cool busk quiet',\n",
       " \"matter old world gets people still dumb can't get fact violence okay\",\n",
       " 'wisdom friends agree happiness',\n",
       " \"truly happiness comes something money can't buy familyâ\",\n",
       " 'received txt state bihday celebrations staing week early suprises tophubby long weekend tooð',\n",
       " 'attending',\n",
       " \"i'm glad met guys smile 2016 instalike friends love\",\n",
       " \"lmfao inspiring forward thinking positive message came that's best\",\n",
       " 'today day euro2016',\n",
       " \"happy wednesday i'm spoiled puppys wednesday dontworrybehappy pocahontasâ\",\n",
       " 'thanks god choose cook serve',\n",
       " 'toptweeters like one venusexchangeâ',\n",
       " \"i'm upset providing amazing viewing experience disappointed\",\n",
       " 'usa plays stupid asf usavpar ºð ºð come play better',\n",
       " 'maybe ending maybe story',\n",
       " 'flowerlove bull dominate bull direct whatever want',\n",
       " 'size 10 12 left price 50 stylehausboutique thursday followusoninstagram goodvibes peace',\n",
       " 'smile dog dogsarejoy',\n",
       " 'find friendship means person',\n",
       " 'cold im staying bed drinking coffeeâ cold australia oceangrove winter coffee bed foreveralone smilemore',\n",
       " 'happy little peoples happyhappy people kitten cat blackkittenâ',\n",
       " 'sta living life way always wanted atsocialmedia lovelife destress',\n",
       " 'bias removes validity point make',\n",
       " 'music therapy tool healing altwaystoheal healthy',\n",
       " 'could ever lose faith pain mistrust relationship outcast twitter life love friendship cruel',\n",
       " 'needs said many pols admired turned principles neverump',\n",
       " \"got tickets i'm going see main garrix well aist balaton sound july\",\n",
       " 'blackpool attack bull game 3d really think head empty around city side',\n",
       " 'take geoff hurst bring jimmy greaves might well talk 1966 keeps getting mentioned',\n",
       " \"national bestfriend day i'm founate enough great friends couple ofâ\",\n",
       " 'ahhh soo content life rn happy happy happy lovelife bbloggers',\n",
       " \"looking forward seeing tomorrow hayley's bihday sisterreunion london excitâ\",\n",
       " 'bliss happy fridayfeeling everybody family ootd smile',\n",
       " 'playing âµâ la bellevilloise music song',\n",
       " 'week eeeeekkkk biggest test yet behave 2nd rd ko letsgochamp aj andstill',\n",
       " 'dad best sweet surprised presenting samsung tab loveyou bihdaygift awww',\n",
       " \"everyone's talking yeezyboost750 i'm still daydreaming 350s lololol butforreal yeezyboost350alltheway\",\n",
       " 'depression ongoing series keep solutions guidance check wattpad koalamuffins',\n",
       " 'grateful money comes increasing quantities multiple sources continuous basis',\n",
       " 'chosen good health voltaire quotes happiness positivity',\n",
       " 'weekend selfie yolo xoxo like4like',\n",
       " \"fact i'm meeting hayleyatwell like days awesome\",\n",
       " 'dreamcatcher bull dominate bull direct whatever want',\n",
       " '2b must learn love appreciate remaining detached independent fridayfeeling',\n",
       " 'blessed girls perfect mom mylife',\n",
       " 'smpa new hit icy dee rap hiphop music rapper aist mc indie hit hot',\n",
       " \"father babies love happiest father's days father via\",\n",
       " 'throwing wacko leftists seth next join code pink',\n",
       " 'aww shame elveden going couple weeks',\n",
       " 'soooooo happy summer break itsgoingtobentioned summerbreak awesome awesomeness',\n",
       " 'dat true wit nothing bt uyindoda farhers day',\n",
       " 'juneteenth independenceday food4thought rich ancestral heritage independence hall',\n",
       " 'fantasy aisle fantasy aisle summer grand vacation last days bond blocks',\n",
       " 'oops carl paladino mean publicly post racist comments blm youngturks',\n",
       " \"what's right make doyou loveyourself bestrong quality\",\n",
       " '1k trumpaz rally stadium holds 15k weak smallehanhishands',\n",
       " 'something makes happy seconds retrain brain happiness',\n",
       " 'probably best person job',\n",
       " 'ok notok blue',\n",
       " 'sta weekend patio irishtimespubli hour til 7pm 2off beer wine cocktails cheers',\n",
       " 'via curb back season thank mr larry david best news 2016',\n",
       " 'model love take time urð',\n",
       " 'sad.wav suga kpop bts bangtanboys edit fmv minyoongi yoongi babe cute au',\n",
       " \"hope future goes way hope i'll\",\n",
       " 'happy mondaymotivation workingout circus cool amazing awesome loveit coolinâ',\n",
       " \"new hoover can't wait use normal right ur ur 30s\",\n",
       " 'launching social media going exciting year much suppo far timetogetresults',\n",
       " 'model love take time urð',\n",
       " 'rip greatest muhammadali',\n",
       " 'love ke fundayó lovekefunday comingsoon yolo lovinglife hjó',\n",
       " 'months later back pre pregnancy weight pound less',\n",
       " '90th queen come free screening commonwealth tours sunday big lunch',\n",
       " 'watch gleb savchenko sharna burgess rumba take care christina sings beautiful dance gone',\n",
       " 'cant wait make way east coast wanna see bad loveroday',\n",
       " 'well . . . havent seen one gurl years . . . heard words dat broke married koffeinus',\n",
       " 'kiddos converseallstar converse bonding sm city taytay',\n",
       " 'love life canon_60dð fun water beach cloud follow4follow shoutoutâ',\n",
       " 'little stars ffxiv ff14 odinserver lalafell night',\n",
       " 'arrived thanks lb lyrics lb lyricsborn kickstaer',\n",
       " \"that's exactly i'm talking\",\n",
       " 'stubborn child born mustberelated stubbornalready niece',\n",
       " 'doitgenially genially featured stauplister cc',\n",
       " 'may celebrate love words actions heas love forever life mantra smile',\n",
       " 'lolð hair fashion smile selfi bun knots photooftheday photoshoot nice like4like pin',\n",
       " 'waste',\n",
       " 'americangirldoll polar bear climb racing angry polar bear climb racing polar bear living cold pl',\n",
       " 'couple sex porntube net',\n",
       " \"hate unnecessary drama situations people create plus side i'm trouser size drama upset annoyed leavemealone\",\n",
       " 'congratulations sma im sick getting labeled number pissed rant',\n",
       " 'imessage android apple imessage',\n",
       " 'saysomething bull dominate bull direct whatever want',\n",
       " 'absolutely positively right',\n",
       " 'follow something equally clever like emails masses cheer',\n",
       " 'god bless usa flagday thestarspangledbanner usa 14june',\n",
       " 'thinking logo small riff title sequence themetalgentleman',\n",
       " \"got shafted cure ticket friend :-( oh well i've seen live i'll live friend go bite ass :-(\",\n",
       " 'first day theatre today cromer cromerpier cromerpiershow summer dance dancer stage theatreâ',\n",
       " 'goodmorning smile haveaniceweekend coffeeâ',\n",
       " \"finished packing case france i'll say nothing\",\n",
       " 'qatar day wishes happy bihday celebrating today june 19 2016 bihday let',\n",
       " 'weeks hurryup',\n",
       " 'sleeps til rugby',\n",
       " 'friday milanobeach cristinaoegaphotodesign gintonic premium',\n",
       " 'excited home soon moondogcafe vt food greetingcards loveit handmade',\n",
       " 'god turn around situation sunday',\n",
       " 'funny thing rwnj base believes crap funny',\n",
       " \"editor's note shit\",\n",
       " 'good night jihwan ssi.have nice dream.take care health goodluck cute suppo',\n",
       " 'girl minsk night belarus following followme smoke morelikes smoking blackâ',\n",
       " \"props littles caesar's still making pizza look like tv\",\n",
       " 'turned sad twat comment post sausage dog forums need get life bastard getagrip',\n",
       " 'laughed tweet',\n",
       " 'alone right mom jlow jello killer kool wensdaynight wensday cool vine henry stop',\n",
       " 'okay stole weekend theft weekend work mondayblues',\n",
       " 'rest peace gordie howie . ... sad news morning mr hockey never forget detroitredwings rip',\n",
       " 'never happier leave work',\n",
       " 'listen incubus never hus nowplaying sick little world nissan live set de',\n",
       " 'sex free porno movies latinas',\n",
       " 'provide professional networking women business franchise launches month sbs',\n",
       " 'talks bullying person bullies',\n",
       " '1st order almost keep eye facebook special offer tomorrow rollinstyle',\n",
       " 'find woman free 31 day selfdevelopment series christianlife',\n",
       " 'happy hunp day got rid ginger lol selfie lovelife positivity',\n",
       " 'nothing would dangerous give putinschoice impression accept stopracism boycott',\n",
       " \"i'm feel lost wrong way mistake attitude regretted\",\n",
       " 'awesom beautiful wonderfulð',\n",
       " \"good dad stas good husband good husband stas fear lord god bless us father's day\",\n",
       " 'new floor nursingfun',\n",
       " 'thursday everyone wishing sunny days lots blue skies vine',\n",
       " 'healthy freelance writer man paid per piece per word perhaps robe benchley',\n",
       " 'healthy thereâ enough negativity world donâ feel like need contribute tom hiddleston',\n",
       " 'got work placement noon summer one step closer want life bringiton pastrycheflife',\n",
       " 'wish way fun berniesanders',\n",
       " 'germanyhetalia bull dominate bull direct whatever want wh',\n",
       " 'lovely sunday selfie sunday wideeyed weekend chills',\n",
       " 'fuming reserved shoes stratford branch went way staff sold anyways',\n",
       " 'preorder live 99c 99p swiftly sharpens fang dystopian tale',\n",
       " \"i'm letting piercer decide new piercing we'll find friday new addition i'm adding\",\n",
       " 'bihday army chief.we prm',\n",
       " 'know',\n",
       " 'love new burse bursesbyammy bookgirl love',\n",
       " 'foods healing body doplants healthy',\n",
       " 'facebook attack bull chase leave lot despite fact strong source fo',\n",
       " 'double kick drum sounds legit doublepedal',\n",
       " 'long day hustling think deserve little chill blackbusiness friday tgif',\n",
       " 'whatever makes never mind everyone else says happy people care happy',\n",
       " 'nomilk already greece almond milk ready go healthydrink veggiedrinks shelf',\n",
       " 'today broke previous running record 4.8 km new record km',\n",
       " 'love clickð exclusive pic ssk set handsome hot dashing smile',\n",
       " 'family pay getting ready begin wohamestates fathersday city ofâ',\n",
       " 'father day',\n",
       " 'fucking facebook page cancelled facebook lost personal profile page go away togheter fuck hate lost',\n",
       " 'one biggest aims retreats true happiness',\n",
       " 'niggas burn bridge make dreams reality couple hundred never business wit bums longlivekingjuug',\n",
       " \"ok guys go sleep wish you-all lokiday space's happy universal's luck forever's love\",\n",
       " 'face saw euro schedule affects eastenders notfair',\n",
       " 'happy bhiday =) friends brothers anniversary mcdonalds food music fun',\n",
       " 'eah pastor mmusimaimane perhaps prayer meditation respond spin thisâ',\n",
       " 'amazing night absolutely unbelievable littlemix littlemixconce juhuâ',\n",
       " 'never youâ trapped past fearful future living present way happy',\n",
       " \"jeff sessions omits decades records ag confirmation hearing can't hide\",\n",
       " 'manager relaxing work :) summeime gã yy bam awesomeâ',\n",
       " 'canny wair oitnb come back girl crushing bad',\n",
       " 'interstellar really hits feels',\n",
       " 'generation cries enough enough photo cred michael zemura model nyasha chingora',\n",
       " \"i've pretty bad bihday weeks far worst ever bihdayweeksucks bithday27 theinevitable life\",\n",
       " 'great view muscari daffodils tulips spring memories',\n",
       " 'league allow teams dock players game checks one gs steph would getting paid game',\n",
       " 'bell pepper really got cut open',\n",
       " 'looks like waterproofs necessity thursday coldplay last time saw yrs ago fantastic gig',\n",
       " 'feeling broke seriously woh read america needs raise get one via',\n",
       " 'science centre glasgow local school answer texts',\n",
       " 'kill animal market meat still walking pig farming hâ',\n",
       " \"one can'twait\",\n",
       " 'congratulations sir bet mary stan chuffed enteainment superstar',\n",
       " 'mandatory caffeine intake wcdm2016 day ready another full day awesome knowledge sharing',\n",
       " 'bihday travel fashion couture luxury yettalou christian.cera food foodieâ',\n",
       " 'say love even mexicans lmao',\n",
       " 'damn mickey moniak awesome pick wish chance get padres arent normally lucky good draft picks',\n",
       " 'yay logan ride bike without stabilisersð proudmummy',\n",
       " 'whyyyyy take bags sleazyjet gah noclothes delay frown helpâ',\n",
       " 'ice cream staffie icecream flake 99',\n",
       " 'day till euros feel like dancing euros2016',\n",
       " 'victory nascar race brands hatch',\n",
       " 'zomg game thrones got gameofthrones',\n",
       " 'little one going loopy colour colour colorful vividsydneyâ',\n",
       " 'successful i_am positive affirmation',\n",
       " 'ordered pizza place claimed never got order confused hungry',\n",
       " 'selfie ate dainna <3 :) :) :) :) feeling beautiful',\n",
       " 'lighttherapy help depression altwaystoheal healthy happy',\n",
       " 'jumping joy animated graduation stepbystep',\n",
       " 'nature_perfection bull hill climb reach target complete task survive str',\n",
       " 'shared happy friday lovely followers friday fridays smile weekend friday share weekend',\n",
       " \"depressing scenes euros see point football tournaments dread what's store russia 2018\",\n",
       " 'scouting fresh food week :) health vegan vegetarian scoutingâ',\n",
       " 'journalism',\n",
       " '',\n",
       " 'years photo happen',\n",
       " \"funny read someone's tweets feel like known person life\",\n",
       " 'amazing day made even better got sleeping sirens panic disco ticketsð buzzing',\n",
       " 'happiness comes within control lovelife loveyourself loveâ',\n",
       " 'sad hear news early morning india animals extinction natgeo animalplanet',\n",
       " 'celebrating hot success collazen thessaloniki zen people',\n",
       " 'holiday fun socially relevant podcast celebrates 70 bewitched xmas ep',\n",
       " \"who's posting hrc always calls donald trump post least honest say\",\n",
       " 'rajaparba one mothereah womanhood',\n",
       " 'new things coming blog tomorrow may even sta promoting omg bloglife blog followme healthy sing',\n",
       " 'customers give us fridayfeeling proud work maintaining fleet',\n",
       " 'happy fasting happy saturday happy weekend happy holiday always happy everyday days13 ramadan morn pagi am',\n",
       " 'child old enough learn windsurfing children windsurfing waterspos fun training spos',\n",
       " 'made home week time rain',\n",
       " 'see aunt katie',\n",
       " 'lightroom bull dominate bull direct whatever want yo',\n",
       " '2pac huge impact life music love beautiful followforfollow likeforlikeâ',\n",
       " 'make us wait another fifty minutes running positive remain',\n",
       " 'never talk',\n",
       " '20 funny instagram accounts look bored',\n",
       " \"let's go me girl legs leg jeans photo letsgo shopping picture likeâ\",\n",
       " 'happy puppy london puppy thursdaymotivation',\n",
       " 'colston hall waiting see outsider',\n",
       " 'fake fantasists caught hav hilarious tried year ago desperate luv life nobody',\n",
       " 'log shut go run feeling_awesome after_run happiness love_life good_vibesâ',\n",
       " 'poor baby lifeoneah',\n",
       " \"we're 3000 woo hoo electric embellishments diy light-up paper flower kits girlboss\",\n",
       " \"guys maybe he's famous impoant thing human ridiculous sorrybradley\",\n",
       " 'another summer rich culture lucky grateful',\n",
       " 'facemask run risk looking unintentionally :/ moredun edinburgh',\n",
       " \"i'm nervous hopefully i'm going\",\n",
       " 'ruined day seriously read even yet wish hapy dayð',\n",
       " 'keep flying kimiâ goodqualikimi bday jeanalesi canadagp pvuorela',\n",
       " 'well haters negative people energy suckers etc live please',\n",
       " 'ppl try persuade believe want finer things lifeâ',\n",
       " \"web search personalised father's day gbp 8.00 get shop cool home fun\",\n",
       " 'enjoying day mum dad fathersday parents sunday sundaydinner home',\n",
       " 'inked polar bear climb racing angry polar bear climb racing polar bear living cold places lookin',\n",
       " 'jews plan work god without god matthew 1:23 call immanuelâ whicâ',\n",
       " 'ride boy like4like follow4follow instaboy instaday ride old color atardecer',\n",
       " 'day come coldplay aheadfullofdreams ahfodtour coldplaywembley cantwait',\n",
       " \"i'll always hope one day i'll get hug think gonna happen anytime soon\",\n",
       " 'kind day saturday weekender downtown',\n",
       " 'ready fun fun weekend friends fun spreadjoy bekind princessofbeverlyhills woofpackbros',\n",
       " 'looking damoor afternoon',\n",
       " \"yay third match score i've predicted right work irevswe\",\n",
       " 'talk like talking somebody love loveyourself love liebe glã ck happiness',\n",
       " 'going biggest music family fun day summer tickets available gate',\n",
       " 'yes thanks trump pointing poll shows losing trumpfail',\n",
       " 'order angriest whopper get makes',\n",
       " 'suppoing trump makes conservatives act like liberals',\n",
       " 'wants leak udta punjab probed suspects political jobs jobsearch chandigarh makers udt',\n",
       " 'fashion true fact',\n",
       " 'make sat',\n",
       " 'surprise highlights would try ask salonaks pink hair trends summer',\n",
       " 'healthandfitness rooster simulation want climb vast expanse mountains reached leakag',\n",
       " 'finally found way delete old tweets might find useful well deletetweets',\n",
       " 'dads rad fathersday thosesideburnstho dad daddydaughter filmisnotdeadâ',\n",
       " 'carl palladino unfit buffalo school board resign',\n",
       " 'lunch vegan diet food flowers motivation health healthy love me lushâ',\n",
       " 'wish black could lots feminists shut homophobia',\n",
       " 'bloody love manager look handsome bugger dreamteam cutie',\n",
       " \"cheers mate i'm happy results ;) many thanks mate youâ\",\n",
       " \"thinker's intellectual refugees without home heah thoughts seek asylum minds men rarely given beh\",\n",
       " \"think i'll ever come terms state current world nothing adds confused\",\n",
       " 'play girl',\n",
       " 'vintage style gbp 49.00 get shop cool home fun',\n",
       " 'omg excited come back tv tonight got box fruity pebbles stand by.soeverything good go',\n",
       " 'spend quality time awesome guy sweet pet :) blessed loved',\n",
       " 'feminismiscancer feminismisterrorism feminismmuktbharat malevote ignored',\n",
       " 'saturday swimming familia time deadlifts shoulder presses yummy food',\n",
       " 'two fun onlocation bridesmaid updo 2016 pnw pnwwedding',\n",
       " 'never finished abandoned da vinci beauty bestoftheday shoutout beautiful beauty',\n",
       " 'long weekend away thursday morning long weekend getaway vacay womens styleâ',\n",
       " 'cool page :d masks fashionshow tb',\n",
       " 'street fun streetstyle street love city happiness summer holiday streetaâ',\n",
       " 'new love song almost ready song dream love aist rv maru lyrics rv innocentó tuaa',\n",
       " \"45 minutes left ma'am can't wait hbd_anjanamamð\",\n",
       " 'still need cut grass tiny planet tinyplanet love picoftheday beautiful cute',\n",
       " 'filters needed times sean ogs gaoth dobhair',\n",
       " 'make person know special wish bihday us <---',\n",
       " 'sismographe cypher series walking dead feat daddie notch via bankai friday worldwide',\n",
       " 'said last tweets crap end one dayð',\n",
       " \"look like i'm going sta marsterdegree summer :( i'm lookingforajob wish goodluck\",\n",
       " 'wednesday remember two days weekend vacuum humpdaymotivation reddeer',\n",
       " \"father's dayð love daddy ripð\",\n",
       " 'people protesting trump republican won-they trump fuhered',\n",
       " 'looking forward game tonight come gunners arsenal gunners skyspostoday',\n",
       " 'disturbing easy done worry celebrities vulnerable well actually everyone',\n",
       " 'livelypics psychology says loyal disappointment encounter experience motivation',\n",
       " 'latest affects intel people satisfied 35.5 entangled 24.7 confused 27.3 36.4',\n",
       " 'happy bought best',\n",
       " 'stop immigration needs new wife dumptrump',\n",
       " 'think trees get depressed serious nature',\n",
       " 'day arrived alarm clock required',\n",
       " 'pick classwork want 0ð ibproblems hu pleasepickupmyclasswork',\n",
       " 'enjoying saturday new outdoor patio collection luxitup spotlight love rentals seating',\n",
       " 'strawberry picking first time strawberry family sweden',\n",
       " \"father's day fathers everywhere\",\n",
       " \"father's dayyyyyyyyy\",\n",
       " 'crazy craziest thing life love crazy happiness fun becrazyâ',\n",
       " 'wish could play well least help scoring goals friendly',\n",
       " 'already miss best friend even 24 hours yet lol',\n",
       " 'acronym halt used describe states avoid hungry lonely tired mentalhealth',\n",
       " 'bogard joint friend marijuana unleashed ibooks',\n",
       " 'best place maravilloso sabbath',\n",
       " \"dude i'm tiger roar tiger annaswelshzoo bihdaycelebrations\",\n",
       " 'wcw thanks egl amazing product review forâ',\n",
       " 'fail buy apament pay unanimous bill pissedoff',\n",
       " 'saw last video know still clarababylegs didnt call make feel better depâ',\n",
       " 'arjun suit releasing 24th finaldate',\n",
       " 'prom graduation next weekð',\n",
       " \"happy weekend y'all weekend hello saturday goodmorning sun milano italianweekend\",\n",
       " 'feel leaving ces watching match today irish biology books front lc worsâ',\n",
       " 'ice bull dominate bull direct whatever want star',\n",
       " 'thankful freezers thankful positive',\n",
       " 'special thanks thanks everything staff amazing',\n",
       " 'introducing keynote speaker eclipsecon france',\n",
       " 'great planning meeting tidwoh district rainbow pay queens 90th bihday',\n",
       " 'apparently warriors forgot board plane cleveland doppelgã ngers taking place prior experience',\n",
       " \"marriage right hard everyone's boss peace mediator =p eacemaker\",\n",
       " 'sensing mass clear',\n",
       " 'rich fire island gays welcomed cruz home fundraiser',\n",
       " 'bitches broke ugly pressed good look',\n",
       " 'hispanic feel like stomping listen retweet boricuaâ',\n",
       " 'morning woke feeling greatð today sunshine nonke love',\n",
       " 'get us manchester time left entire flight waiting hour bags nocustomerservicerep',\n",
       " 'lover stop angry visit us lover friend astrologer love',\n",
       " 'forget toothbrush thank beth tickled pink prepschool',\n",
       " 'happy work conference right mindset leads culture-of-development organizations work mindset',\n",
       " 'country without unity freedom independence day june 12',\n",
       " 'little peeker what monitorlizard',\n",
       " 'lauren duca says looks like smells like vanilla means white rocks tenacity',\n",
       " 'jews christians muslims believe good prevail emiratisâ',\n",
       " 'good friends lovin life lifted friends homeâ',\n",
       " 'got amber first tbstorm game stormsocial sec128 rown 7thru9 blendedfamily',\n",
       " 'vineyards love love cute kiss summer girlfriend gf girlâ',\n",
       " 'sculpted gel nils love gel nails rebeccas nails plymouth',\n",
       " 'couple sex swimwear free porn',\n",
       " 'game last night look wwe monday night raw better game',\n",
       " 'allahsoil thereâ thing average christian muslim jew',\n",
       " 'atherapy musictherapy heal life altwaystoheal healthy healing',\n",
       " 'love citation confidentiellesofficial sunday afenoon smileâ',\n",
       " 'cant give chance failed confused',\n",
       " 'healthy never staed poem yet whose end knew writing poem discovering robe frost',\n",
       " \"saying yes i'm\",\n",
       " 'tired explain confuse think hidup sungguh lucu hardmoment keepâ',\n",
       " 'soon announce hahaha',\n",
       " 'bihday gab kamanzi.all bestteam power praise blessed itâ',\n",
       " 'thinking parents yr old toddler snatched alligator reso',\n",
       " 'enjoying cup doublepepperminttea watching feeling viuously detoxed',\n",
       " 'sentiments exactly war minorities war control think',\n",
       " \"can't belive i'm going dad babysteps\",\n",
       " 'potus lets isis run amok countries possibly infiltrating blames conservatives law abiding gun owners',\n",
       " 'finished gym hour ago great always love go itâ fun gym',\n",
       " 'saddened news prayfororlando lovewins sunday',\n",
       " 'makes makes smile laugh much breathe love long asâ',\n",
       " \"still rooted society's attitude towards black women's hair read candide uyanze\",\n",
       " 'sponsored aist honored',\n",
       " 'upbeat pop rock track elements dance music ideal media projects commercials tv',\n",
       " 'conversation one best friends want go pride fear gâ',\n",
       " 'bad way round saturday wine saturdaynight lamb couscous fuckthatsdelicious',\n",
       " 'colleagues know well bihday someonesbihdaysomewhere lucky celebrate',\n",
       " 'waiting some different glasses hair love break bless nothing toâ',\n",
       " 'unreal i_am positive affirmation',\n",
       " 'home filled love laughter',\n",
       " \"ok i'm getting platinum white hair soon beautiful\",\n",
       " 'may present friendship people precious existence photooftheday',\n",
       " 'daily joust quotes rest twitter feed becoming enteaining thing life',\n",
       " 'dont know always azzuri fan international football',\n",
       " 'welcome world bellvania gian christiani congrats brother anotherniece',\n",
       " 'healthy lunch couesy epicuremeals tummy tummybyepicuremeals rippedâ',\n",
       " 'car selfie car selfie girl instaselfie',\n",
       " 'night consists watching orange new black netflix',\n",
       " 'senate dems still asking wrong questions wont ask actor object guncontrol',\n",
       " 'know range greetingcards yet bihday dog etsy',\n",
       " 'miss momentâ',\n",
       " 'queenanelisse like positive atitude like jokes men snapshot shy nude slut na',\n",
       " 'ever met would drop pos right stood nothing crapsac',\n",
       " 'immigration europe today ramadan',\n",
       " 'model love take time urð',\n",
       " 'donald trump seeks change news cycle latest racist remarks banning newspaper covering greatness',\n",
       " '80 yr-old hindu man gokaldas beaten cop pakistan eating roza hrs',\n",
       " 'top poetry id poetry ishq-o-muhbt new poetry lajawab classic poet urdu_sms follow follow',\n",
       " '32minutes counting till favourite program night comes onð',\n",
       " \"happy father's day dads fathersday dad\",\n",
       " 'feel horrible watching brother sick',\n",
       " 'bill liberals love bleeding hea hashtags imfragile',\n",
       " '500 post arff2016 name change super extended submission',\n",
       " 'ooh surprise delivery no2 use next month ºï ºï ºï',\n",
       " 'think relative friend talked long time simply give call surely feel',\n",
       " 'getting real wedding weddingday',\n",
       " 'saddest inspiration love relationship inspiration poem poetry author writer loveislove',\n",
       " 'sad look get finish bahama mama haha happy awesome',\n",
       " 'dragons den day',\n",
       " \"gvangels love can't wait see tvs gvstrong\",\n",
       " 'slowly caring less soing peoples problems try hard need time confused cba annoyed',\n",
       " \"huffington post father's day tale train home seeing\",\n",
       " 'enough enough',\n",
       " 'pub football hubby stressing already',\n",
       " 'hastings files bankruptcy seeks buyer another one bites dust books',\n",
       " 'monday day with contract central london galton flowers',\n",
       " 'children know older mother died pain rag vile',\n",
       " 'excited learn learn',\n",
       " 'brobot watch news',\n",
       " 'getting deck ready flowers summer',\n",
       " 'vegan challah day extra virgin coconut oil organic chia seed andâ',\n",
       " 'life kids sons daughter goodboy goodgirl little littlebrother love familyâ',\n",
       " 'goodmorning penny asf',\n",
       " 'bihday rg',\n",
       " 'voted berniesanders primaries fellow bs suppoers want take toys go home',\n",
       " 'rickastley50 good hear live even person tour keepsiâ',\n",
       " 'celebrate success life shakeyourbutt love life invest',\n",
       " \"we're dubai mall dubai uae\",\n",
       " 'customer wearing miss peachy dress 15 flockbn tweetuk queenof 87 sale',\n",
       " 'stories friendship adventure horses peas pod outnow',\n",
       " 'really need list lol forget races',\n",
       " 'performing signing autograph fans wot brother man comes shoots kills ripchristina',\n",
       " 'ist offline :(',\n",
       " 'weekend plans cheers weekend happiness wellness losangeles unplug',\n",
       " 'enough ill baby got intervene frustrated disappointed',\n",
       " 'glamorous i_am positive affirmation',\n",
       " 'crazy cat lady transformed cat lady wrong whit people',\n",
       " 'getting ready see fave',\n",
       " 'train london see bringonliverpoolstbeers',\n",
       " 'happy bihday girl bihday bihday breakfastinbed breakfast avocadoâ',\n",
       " 'future nina right pretty much throwing away',\n",
       " 'regrann emotional right attend premiereâ',\n",
       " 'cute expressions doll favorite angryð maari',\n",
       " 'tuesday jackie quote taketime makes soul enjoylife smile believe dream havefun',\n",
       " 'excited weddings featured new lancashire bride exciting wedding photographer',\n",
       " 'serco workers stage consultative ballot contract changes jobs jobsearch about 43 workers',\n",
       " 'use phrases like sandniggers acceptable ya hm isâ',\n",
       " 'pathetic donaldtrump easily tries make orlandohorror ego tragedy',\n",
       " 'government ran monetary system destroyed pic first look looters target neighbors',\n",
       " \"mother take care ten children's sometime ten children cant take care mother\",\n",
       " 'quotes latenights crying dness never without criticized',\n",
       " 'happy family arlingganitastory wedding family love lovestory',\n",
       " 'happy fathers day fellasð enjoy fathersday strongmen menâ',\n",
       " 'omg definitely fairytail ayesir me',\n",
       " 'germany expos mom came expectations -0.6 april blog silver gold forex',\n",
       " \"happy father's day dad abc7chicago fathers day celebration\",\n",
       " 'travelpics attack bull chase leave lot despite fact strong source',\n",
       " 'gig tiiiiime emmalouandtheagenda gig music',\n",
       " 'like fool let take friday letsdothis behappyâ',\n",
       " 'dreams bigger fears gotta get excited dreambig',\n",
       " 'overcome loneliness mindfulness meditation happiness meditation',\n",
       " 'way dairyfreeplease',\n",
       " 'smiles fake love real bihday prechula',\n",
       " 'model love take time urð',\n",
       " 'finally found way delete old tweets might find useful well deletetweets',\n",
       " 'live dressage second leg stas 9.30 ebht',\n",
       " 'black walnut 3d wooden picture horsehour woodcutwednesday wooden giftideas horse mythos craftshout',\n",
       " 'drugs got ppl looking like walking dead round',\n",
       " 'stop perpetuating false racism leftist subversive politically correct propaganda america racist wâ',\n",
       " 'kids left cars left get close dangerous animals shows irresponsible parents kids noâ',\n",
       " 'literally social life working man',\n",
       " 'lokiday dears friends',\n",
       " 'back life cherries strawberries vegan smile bed breakfast late monday glutenfree lactosefree',\n",
       " 'round head quotes hu ovehinkingkills brokenquotes broken dark darkquotes demons loveyouâ',\n",
       " 'never would thought held runs would lost',\n",
       " 'beekeeping collection alexandra grimm goodread amazon reading farming',\n",
       " 'fathersday fathers world dancehallâ',\n",
       " 'ready see cats musical later catsthemusical nofilter dress curlyhair',\n",
       " 'beautiful princess mummy muma bestfriend beaut smiley',\n",
       " 'opecâ barkindo call emergency opec meeting production cut blog silver gold forex',\n",
       " 'bunch happiness-happiness bunch fresh like skincare beauty food fresh madeinwi',\n",
       " 'whole world control young ripchristinagrimmie',\n",
       " 'get up get get enjoy music today free apps free music',\n",
       " 'tech bitcoin coolwallet review itâ indeed cool wallet',\n",
       " 'miss stephen keshi long keshi stephenkeshi',\n",
       " 'great memory bihdayhonours motogp legend giacomoagostini 74 dainese',\n",
       " 'homeday instagood me smile picoftheday fun summer',\n",
       " 'marquees staing go nearly showtime weeks go rns16 norfolk norwich',\n",
       " 'golf today fathersday love family',\n",
       " 'babies noh states tall easy swing lock stairway gate bouncingbaby',\n",
       " \"oh god sneha looking photo can't see sad even photo\",\n",
       " 'days till fly side world vacation',\n",
       " 'smile friday weekend friday friends etatpur instafood picoftheday',\n",
       " 'omg days get new home kierliving kier kierhomes homeowners',\n",
       " 'alt-right promote new kind racist genetics eugenics',\n",
       " 'first half done real half begins pileupriddim video shoot atlantaâ',\n",
       " 'happy 68th month ngit love lots 09',\n",
       " 'omg sooo beautiful ofc im tears ok',\n",
       " 'lobby want stop criminals waste taxpayers money go ahead waste time',\n",
       " 'arent champions im sad :( lose :( close footballfamily badday',\n",
       " 'happy bihday nancy echandoelbailongo friends girls dancers greatmomentsâ',\n",
       " 'pussy men sex food',\n",
       " 'one favs flashbackfriday girlspeeing waterspos fun gg piss vipissy',\n",
       " 'deafed community look rethinkdiscipline ableism audism stpp massincarceration deafinprison decriminalizâ',\n",
       " 'fun floating tube lake summer who',\n",
       " 'come england lucky pants euros football',\n",
       " 'love friend friends fun funny love insta godo friendship cute liveâ',\n",
       " \"new year everyone let's work together make year better kindness love peaceâ\",\n",
       " 'train ryt time :) gainwithxtiandela shoutoutgaininstant follow :)',\n",
       " 'dj webster race ep 1995 cd hardcore oldschool techno vk download',\n",
       " 'want say miss little boy king every day today missing one son today king',\n",
       " 'one pick copy covergirl proud marieclaire',\n",
       " 'come straight home work one house noticed notalonebutlonely whatdoidonow',\n",
       " 'today 20 old bihday wish bihday wish best even even forget',\n",
       " 'germany vs ukraine tonight ayyyye ger',\n",
       " '1hr 15 mins qualifying baku prema paners',\n",
       " 'presses play pharrell summer',\n",
       " 'us industrial production likely print -0.2 may wells fargo blog silver gold forex',\n",
       " 'personalised gbp 39.99 get shop cool home fun',\n",
       " 'nobody deserves murdered yo mean nobody prayfororlando smh',\n",
       " 'otw sa moa ºð',\n",
       " 'ripcristina world messed',\n",
       " 'miraclesfromheaven make cry sosad ending',\n",
       " 'kicking robbiewilliams acting slutty bbc littlemix every time one bats lid men ;)',\n",
       " 'h.appy work conference right mindset leads culture-of-development organizations work mindset',\n",
       " \"says mike jessica's bitch lmfao shahs\",\n",
       " 'back school wednesdayð ready back school',\n",
       " 'opening unconditional love lets connect',\n",
       " 'hot press nikita news bestoftheweek',\n",
       " 'finding dory soo good',\n",
       " 'ukraine mp kiev commander says deny deaths volunteers disrespect fallen fighters',\n",
       " 'tried hold even though breaking inside qoutes relatable',\n",
       " 'friends give pressies cheered',\n",
       " 'spoketokat heisinchennai oneproblem katstoofar ihatesurprises',\n",
       " 'lover stop angry visit us lover friend astrologer love',\n",
       " 'dissatisfied online let us rent 10a location message said noon customer rep says 2pm',\n",
       " 'better feeling putting good energy getting good energy back goodday bethechangeyouwanttosee',\n",
       " \"haha omg he's happy\",\n",
       " 'wonder dt still demanding rnc book bigger venue gop convention bigly',\n",
       " 'might libtard libtard sjw liberal politics',\n",
       " 'newyearseve may resolutions end problems like domesticviolence turning god love',\n",
       " 'congrats hard work',\n",
       " 'june celebration month bihdays geminis sisters cheers',\n",
       " 'bbc news russia lake syamozero children die storm catches boating group poorkids',\n",
       " 'going get sick face firebringer opening night closing weekend late night shows week',\n",
       " \"can't wait tomorrow night weekend summer2016\",\n",
       " '2nd annual bailey day taste join us familyfun baileyday2016 mountainliving',\n",
       " 'got addicted moonblue name took life finish sold lovely druid wow',\n",
       " 'people cruel',\n",
       " 'redhead lovinglife tbt wednesday dodgechallenger',\n",
       " 'friday remembering judge others see love peace success',\n",
       " 'beutiful poetry poetry lines poetry eid new poetry tanhai poetry plz try follow alon sana jan follow',\n",
       " 'literally bar watch end finals game game7 lebron',\n",
       " 'hispanic feel like stomping listen retweet boricuaâ',\n",
       " 'pos take painting asshole fucking chump',\n",
       " 'model love take time urð',\n",
       " 'sex city paint good morning sexandthecity',\n",
       " 'consulting firm running small sta check us see',\n",
       " 'hershey 174 bihday',\n",
       " 'kill shopping centre music',\n",
       " 'next upcoming signed release dropping label run act headlining stage edc las vegas fri edclv',\n",
       " 'areclueless buddy regarding long standing american policy comments reflections ignorance',\n",
       " 'smilepowerday show us best cheesy grins pearly whites :-d smile teeth',\n",
       " 'little photo shoot nikki nikkibeach nikkibeachmarbella fashion love',\n",
       " 'harping makes berlin germany',\n",
       " 'launched new venture codelabors jobboard it professionals staup',\n",
       " 'kiss want pray4orlando nohate',\n",
       " 'newyearnewyou bull hill climb reach target complete task survive strong',\n",
       " 'slowly growing apað',\n",
       " 'healthylife buffalo simulation buffalo take vicinity homes way',\n",
       " 'press would believe bike racing dangerous thoughts go victims orlando',\n",
       " 'euro2016 goal sturridge 91 eng wal happy fav youre :(',\n",
       " 'today one exceptionally happy day lucky blessed future',\n",
       " 'united kingdom total trade balance -3.294 april previous -3.83 blog silver gold foâ',\n",
       " 'hello long weekend longweekend junelongweekendâ',\n",
       " 'figgity figgity fucked emo yikez',\n",
       " 'memories rome end yummy cookies please click recipe',\n",
       " \"he's canada can't make bucks towing liberal line\",\n",
       " 'bigoted person would tweet calling names telling truth',\n",
       " 'lgbt people become less human',\n",
       " 'delicious cake 90 bihday mother grandmother greatgrandmother sunderland ontario',\n",
       " 'allahsoil hitler fought battle noh africa access oil teambtsâ',\n",
       " \"who's winner dadsgotyourback contest 10th bihday\",\n",
       " 'broke hea one one day hea broke one know pain broke hea feeling',\n",
       " ...]"
      ]
     },
     "execution_count": 111,
     "metadata": {},
     "output_type": "execute_result"
    }
   ],
   "source": [
    "x_train"
   ]
  },
  {
   "cell_type": "markdown",
   "metadata": {
    "id": "GZLwm_DZxogf"
   },
   "source": [
    "##  **7. We’ll use TF-IDF values for the terms as a feature to get into a vector space model.**\n",
    "\n",
    "1. **Import TF-IDF vectorizer from sklearn.**"
   ]
  },
  {
   "cell_type": "code",
   "execution_count": 112,
   "metadata": {
    "id": "DAWOVgAgxTuY"
   },
   "outputs": [],
   "source": [
    "from sklearn.feature_extraction.text import TfidfVectorizer"
   ]
  },
  {
   "cell_type": "markdown",
   "metadata": {
    "id": "nfB1TZVM071k"
   },
   "source": [
    "2. **Instantiate with a maximum of 5000 terms in your vocabulary.**"
   ]
  },
  {
   "cell_type": "code",
   "execution_count": 113,
   "metadata": {
    "id": "6IWcVsYyy7xX"
   },
   "outputs": [],
   "source": [
    "vectorizer = TfidfVectorizer(max_features=5000)"
   ]
  },
  {
   "cell_type": "code",
   "execution_count": 114,
   "metadata": {
    "colab": {
     "base_uri": "https://localhost:8080/"
    },
    "id": "3ADTrrsSzGMl",
    "outputId": "ce73c063-2473-4427-b9e0-312c82505ba7"
   },
   "outputs": [
    {
     "data": {
      "text/plain": [
       "(22373, 9589)"
      ]
     },
     "execution_count": 114,
     "metadata": {},
     "output_type": "execute_result"
    }
   ],
   "source": [
    "len(x_train), len(x_test)"
   ]
  },
  {
   "cell_type": "markdown",
   "metadata": {
    "id": "OVWa4PTy1GQr"
   },
   "source": [
    "3. **Fit and apply on the train set.**\n",
    "4. **Apply on the test set.**"
   ]
  },
  {
   "cell_type": "code",
   "execution_count": 115,
   "metadata": {
    "id": "-YYvIQVgzMuU"
   },
   "outputs": [],
   "source": [
    "x_train_bow = vectorizer.fit_transform(x_train)\n",
    "\n",
    "x_test_bow = vectorizer.transform(x_test)"
   ]
  },
  {
   "cell_type": "code",
   "execution_count": 116,
   "metadata": {
    "colab": {
     "base_uri": "https://localhost:8080/"
    },
    "id": "PLuDXAA20r2O",
    "outputId": "e85c4f25-8eea-47b0-ea10-1931520a21ee"
   },
   "outputs": [
    {
     "data": {
      "text/plain": [
       "((22373, 5000), (9589, 5000))"
      ]
     },
     "execution_count": 116,
     "metadata": {},
     "output_type": "execute_result"
    }
   ],
   "source": [
    "x_train_bow.shape, x_test_bow.shape"
   ]
  },
  {
   "cell_type": "markdown",
   "metadata": {
    "id": "Pc7LGUhU1FXz"
   },
   "source": [
    "## **8. Model building: Ordinary Logistic Regression**\n",
    "\n",
    "1. **Instantiate Logistic Regression from sklearn with default parameters.**\n",
    "2. **Fit into the train data.**\n",
    "3. **Make predictions for the train and the test set.**"
   ]
  },
  {
   "cell_type": "code",
   "execution_count": 117,
   "metadata": {
    "id": "CclQ7d4l0znm"
   },
   "outputs": [],
   "source": [
    "from sklearn.linear_model import LogisticRegression"
   ]
  },
  {
   "cell_type": "code",
   "execution_count": 118,
   "metadata": {
    "id": "x-tvijI9196-"
   },
   "outputs": [],
   "source": [
    "logreg = LogisticRegression()"
   ]
  },
  {
   "cell_type": "code",
   "execution_count": 119,
   "metadata": {
    "colab": {
     "base_uri": "https://localhost:8080/",
     "height": 74
    },
    "id": "EZZApkz32H2v",
    "outputId": "0eb3cb82-3098-4a2d-aec2-21f24aea0ada"
   },
   "outputs": [
    {
     "data": {
      "text/html": [
       "<style>#sk-container-id-2 {color: black;background-color: white;}#sk-container-id-2 pre{padding: 0;}#sk-container-id-2 div.sk-toggleable {background-color: white;}#sk-container-id-2 label.sk-toggleable__label {cursor: pointer;display: block;width: 100%;margin-bottom: 0;padding: 0.3em;box-sizing: border-box;text-align: center;}#sk-container-id-2 label.sk-toggleable__label-arrow:before {content: \"▸\";float: left;margin-right: 0.25em;color: #696969;}#sk-container-id-2 label.sk-toggleable__label-arrow:hover:before {color: black;}#sk-container-id-2 div.sk-estimator:hover label.sk-toggleable__label-arrow:before {color: black;}#sk-container-id-2 div.sk-toggleable__content {max-height: 0;max-width: 0;overflow: hidden;text-align: left;background-color: #f0f8ff;}#sk-container-id-2 div.sk-toggleable__content pre {margin: 0.2em;color: black;border-radius: 0.25em;background-color: #f0f8ff;}#sk-container-id-2 input.sk-toggleable__control:checked~div.sk-toggleable__content {max-height: 200px;max-width: 100%;overflow: auto;}#sk-container-id-2 input.sk-toggleable__control:checked~label.sk-toggleable__label-arrow:before {content: \"▾\";}#sk-container-id-2 div.sk-estimator input.sk-toggleable__control:checked~label.sk-toggleable__label {background-color: #d4ebff;}#sk-container-id-2 div.sk-label input.sk-toggleable__control:checked~label.sk-toggleable__label {background-color: #d4ebff;}#sk-container-id-2 input.sk-hidden--visually {border: 0;clip: rect(1px 1px 1px 1px);clip: rect(1px, 1px, 1px, 1px);height: 1px;margin: -1px;overflow: hidden;padding: 0;position: absolute;width: 1px;}#sk-container-id-2 div.sk-estimator {font-family: monospace;background-color: #f0f8ff;border: 1px dotted black;border-radius: 0.25em;box-sizing: border-box;margin-bottom: 0.5em;}#sk-container-id-2 div.sk-estimator:hover {background-color: #d4ebff;}#sk-container-id-2 div.sk-parallel-item::after {content: \"\";width: 100%;border-bottom: 1px solid gray;flex-grow: 1;}#sk-container-id-2 div.sk-label:hover label.sk-toggleable__label {background-color: #d4ebff;}#sk-container-id-2 div.sk-serial::before {content: \"\";position: absolute;border-left: 1px solid gray;box-sizing: border-box;top: 0;bottom: 0;left: 50%;z-index: 0;}#sk-container-id-2 div.sk-serial {display: flex;flex-direction: column;align-items: center;background-color: white;padding-right: 0.2em;padding-left: 0.2em;position: relative;}#sk-container-id-2 div.sk-item {position: relative;z-index: 1;}#sk-container-id-2 div.sk-parallel {display: flex;align-items: stretch;justify-content: center;background-color: white;position: relative;}#sk-container-id-2 div.sk-item::before, #sk-container-id-2 div.sk-parallel-item::before {content: \"\";position: absolute;border-left: 1px solid gray;box-sizing: border-box;top: 0;bottom: 0;left: 50%;z-index: -1;}#sk-container-id-2 div.sk-parallel-item {display: flex;flex-direction: column;z-index: 1;position: relative;background-color: white;}#sk-container-id-2 div.sk-parallel-item:first-child::after {align-self: flex-end;width: 50%;}#sk-container-id-2 div.sk-parallel-item:last-child::after {align-self: flex-start;width: 50%;}#sk-container-id-2 div.sk-parallel-item:only-child::after {width: 0;}#sk-container-id-2 div.sk-dashed-wrapped {border: 1px dashed gray;margin: 0 0.4em 0.5em 0.4em;box-sizing: border-box;padding-bottom: 0.4em;background-color: white;}#sk-container-id-2 div.sk-label label {font-family: monospace;font-weight: bold;display: inline-block;line-height: 1.2em;}#sk-container-id-2 div.sk-label-container {text-align: center;}#sk-container-id-2 div.sk-container {/* jupyter's `normalize.less` sets `[hidden] { display: none; }` but bootstrap.min.css set `[hidden] { display: none !important; }` so we also need the `!important` here to be able to override the default hidden behavior on the sphinx rendered scikit-learn.org. See: https://github.com/scikit-learn/scikit-learn/issues/21755 */display: inline-block !important;position: relative;}#sk-container-id-2 div.sk-text-repr-fallback {display: none;}</style><div id=\"sk-container-id-2\" class=\"sk-top-container\"><div class=\"sk-text-repr-fallback\"><pre>LogisticRegression()</pre><b>In a Jupyter environment, please rerun this cell to show the HTML representation or trust the notebook. <br />On GitHub, the HTML representation is unable to render, please try loading this page with nbviewer.org.</b></div><div class=\"sk-container\" hidden><div class=\"sk-item\"><div class=\"sk-estimator sk-toggleable\"><input class=\"sk-toggleable__control sk-hidden--visually\" id=\"sk-estimator-id-2\" type=\"checkbox\" checked><label for=\"sk-estimator-id-2\" class=\"sk-toggleable__label sk-toggleable__label-arrow\">LogisticRegression</label><div class=\"sk-toggleable__content\"><pre>LogisticRegression()</pre></div></div></div></div></div>"
      ],
      "text/plain": [
       "LogisticRegression()"
      ]
     },
     "execution_count": 119,
     "metadata": {},
     "output_type": "execute_result"
    }
   ],
   "source": [
    "logreg.fit(x_train_bow, y_train)"
   ]
  },
  {
   "cell_type": "code",
   "execution_count": 120,
   "metadata": {
    "id": "9EXxnpBu2PV5"
   },
   "outputs": [],
   "source": [
    "y_train_pred = logreg.predict(x_train_bow)\n",
    "y_test_pred = logreg.predict(x_test_bow)"
   ]
  },
  {
   "cell_type": "markdown",
   "metadata": {
    "id": "_0wvSQ4oePgx"
   },
   "source": [
    "## **9. Model evaluation: Accuracy, recall, and f_1 score.**\n",
    "\n",
    "**1. Report the accuracy on the train set.**"
   ]
  },
  {
   "cell_type": "markdown",
   "metadata": {
    "id": "FmoqzXhZecIo"
   },
   "source": [
    "**2. Report the recall on the train set: decent, high, or low.**"
   ]
  },
  {
   "cell_type": "markdown",
   "metadata": {
    "id": "4ZTRl0k7ehpV"
   },
   "source": [
    "**3. Get the f1 score on the train set.**"
   ]
  },
  {
   "cell_type": "code",
   "execution_count": 121,
   "metadata": {
    "id": "QMlMWIXsFCgc"
   },
   "outputs": [],
   "source": [
    "from sklearn.metrics import accuracy_score, classification_report"
   ]
  },
  {
   "cell_type": "code",
   "execution_count": 122,
   "metadata": {
    "colab": {
     "base_uri": "https://localhost:8080/"
    },
    "id": "d0JLWW6Ye0jl",
    "outputId": "54904da6-a439-4b55-cfd9-03d6662f36af"
   },
   "outputs": [
    {
     "name": "stdout",
     "output_type": "stream",
     "text": [
      "              precision    recall  f1-score   support\n",
      "\n",
      "           0       0.96      1.00      0.98     20815\n",
      "           1       0.96      0.39      0.55      1558\n",
      "\n",
      "    accuracy                           0.96     22373\n",
      "   macro avg       0.96      0.69      0.76     22373\n",
      "weighted avg       0.96      0.96      0.95     22373\n",
      "\n"
     ]
    }
   ],
   "source": [
    "print(classification_report(y_train, y_train_pred))"
   ]
  },
  {
   "cell_type": "markdown",
   "metadata": {
    "id": "om5aVhIIdX8p"
   },
   "source": [
    "## **10. Looks like you need to adjust the class imbalance, as the model seems to focus on the 0s.**\n",
    "\n",
    "**Adjust the appropriate class in the LogisticRegression model.**"
   ]
  },
  {
   "cell_type": "code",
   "execution_count": 123,
   "metadata": {
    "id": "JRfEzdk6e5v5"
   },
   "outputs": [],
   "source": [
    "#Create the parameter grid based on the result of random search\n",
    "param_grid = {\n",
    "    'C': [0.01,0.1,1,10,100],\n",
    "    'penalty':[\"l1\"]\n",
    "}"
   ]
  },
  {
   "cell_type": "code",
   "execution_count": 124,
   "metadata": {
    "colab": {
     "base_uri": "https://localhost:8080/"
    },
    "id": "o-9UmYCeGBeS",
    "outputId": "a9789410-71ce-4940-f60d-a6eaf127f9cd"
   },
   "outputs": [
    {
     "name": "stdout",
     "output_type": "stream",
     "text": [
      "Object `LogisticRegression()` not found.\n"
     ]
    }
   ],
   "source": [
    "?LogisticRegression()"
   ]
  },
  {
   "cell_type": "markdown",
   "metadata": {
    "id": "mRut0D_pb2iz"
   },
   "source": [
    "## **12. Regularization and Hyperparameter tuning:**\n",
    "\n",
    "**1. Import GridSearch and StratifiedKFold because of class imbalance.**"
   ]
  },
  {
   "cell_type": "code",
   "execution_count": 125,
   "metadata": {
    "colab": {
     "base_uri": "https://localhost:8080/"
    },
    "id": "iZEAaT_ADUym",
    "outputId": "c47ec4be-a275-4930-ddf0-5b0c53adbdc4"
   },
   "outputs": [
    {
     "data": {
      "text/plain": [
       "0.9560184150538595"
      ]
     },
     "execution_count": 125,
     "metadata": {},
     "output_type": "execute_result"
    }
   ],
   "source": [
    "accuracy_score(y_train, y_train_pred)"
   ]
  },
  {
   "cell_type": "code",
   "execution_count": 126,
   "metadata": {
    "colab": {
     "base_uri": "https://localhost:8080/"
    },
    "id": "L6qouHHwDdgD",
    "outputId": "1650a7cc-03f5-4ceb-c0d2-c26df7357c82"
   },
   "outputs": [
    {
     "name": "stdout",
     "output_type": "stream",
     "text": [
      "              precision    recall  f1-score   support\n",
      "\n",
      "           0       0.96      1.00      0.98     20815\n",
      "           1       0.96      0.39      0.55      1558\n",
      "\n",
      "    accuracy                           0.96     22373\n",
      "   macro avg       0.96      0.69      0.76     22373\n",
      "weighted avg       0.96      0.96      0.95     22373\n",
      "\n"
     ]
    }
   ],
   "source": [
    "print(classification_report(y_train, y_train_pred))"
   ]
  },
  {
   "cell_type": "code",
   "execution_count": 127,
   "metadata": {
    "id": "jidxN95uDpSe"
   },
   "outputs": [],
   "source": [
    "from sklearn.model_selection import GridSearchCV, StratifiedKFold"
   ]
  },
  {
   "cell_type": "markdown",
   "metadata": {
    "id": "rtNyT8IGcMjk"
   },
   "source": [
    "**2. Provide the parameter grid to choose for ‘C’ and ‘penalty’ parameters.**\n"
   ]
  },
  {
   "cell_type": "code",
   "execution_count": 128,
   "metadata": {
    "id": "Z3QFVouGVhOa"
   },
   "outputs": [],
   "source": [
    "#Create the parameter grid based on the result of random search\n",
    "param_grid = {\n",
    "    'C': [0.01,0.1,1,10,100],\n",
    "    'penalty':[\"l2\"]\n",
    "}"
   ]
  },
  {
   "cell_type": "code",
   "execution_count": 129,
   "metadata": {
    "colab": {
     "base_uri": "https://localhost:8080/"
    },
    "id": "iEEAtgQeWG1s",
    "outputId": "9e972122-3984-44db-bbdd-cf9f2b20bbac"
   },
   "outputs": [
    {
     "name": "stdout",
     "output_type": "stream",
     "text": [
      "Object `LogisticRegression()` not found.\n"
     ]
    }
   ],
   "source": [
    "?LogisticRegression()"
   ]
  },
  {
   "cell_type": "markdown",
   "metadata": {
    "id": "dPd5F4UHdDWD"
   },
   "source": [
    "**3.Use a balanced class weight while instantiating the logistic regression.**"
   ]
  },
  {
   "cell_type": "code",
   "execution_count": 130,
   "metadata": {
    "id": "7Wj9C2zEWLUX"
   },
   "outputs": [],
   "source": [
    "classifier_lr = LogisticRegression(class_weight=\"balanced\")"
   ]
  },
  {
   "cell_type": "markdown",
   "metadata": {
    "id": "on9k66G5ay-5"
   },
   "source": [
    "## **13. Find the parameters with the best recall in cross-validation.**\n",
    "\n",
    "**1. Choose ‘recall’ as the metric for scoring.**\n",
    "**2. Choose a stratified 4 fold cross-validation scheme.**\n",
    "**3. Fit into the train set.**"
   ]
  },
  {
   "cell_type": "code",
   "execution_count": 131,
   "metadata": {
    "id": "2619jeaBWcVF"
   },
   "outputs": [],
   "source": [
    "#Instantiate Grid search model\n",
    "grid_search = GridSearchCV(estimator=classifier_lr, param_grid=param_grid,\n",
    "                           cv = StratifiedKFold(4), n_jobs=-1, verbose=1, scoring=\"recall\")"
   ]
  },
  {
   "cell_type": "code",
   "execution_count": 132,
   "metadata": {
    "colab": {
     "base_uri": "https://localhost:8080/",
     "height": 134
    },
    "id": "BgLVTzS3W-PF",
    "outputId": "c14ff923-38b8-4787-f4d7-be3ab1815d21"
   },
   "outputs": [
    {
     "name": "stdout",
     "output_type": "stream",
     "text": [
      "Fitting 4 folds for each of 5 candidates, totalling 20 fits\n"
     ]
    },
    {
     "data": {
      "text/html": [
       "<style>#sk-container-id-3 {color: black;background-color: white;}#sk-container-id-3 pre{padding: 0;}#sk-container-id-3 div.sk-toggleable {background-color: white;}#sk-container-id-3 label.sk-toggleable__label {cursor: pointer;display: block;width: 100%;margin-bottom: 0;padding: 0.3em;box-sizing: border-box;text-align: center;}#sk-container-id-3 label.sk-toggleable__label-arrow:before {content: \"▸\";float: left;margin-right: 0.25em;color: #696969;}#sk-container-id-3 label.sk-toggleable__label-arrow:hover:before {color: black;}#sk-container-id-3 div.sk-estimator:hover label.sk-toggleable__label-arrow:before {color: black;}#sk-container-id-3 div.sk-toggleable__content {max-height: 0;max-width: 0;overflow: hidden;text-align: left;background-color: #f0f8ff;}#sk-container-id-3 div.sk-toggleable__content pre {margin: 0.2em;color: black;border-radius: 0.25em;background-color: #f0f8ff;}#sk-container-id-3 input.sk-toggleable__control:checked~div.sk-toggleable__content {max-height: 200px;max-width: 100%;overflow: auto;}#sk-container-id-3 input.sk-toggleable__control:checked~label.sk-toggleable__label-arrow:before {content: \"▾\";}#sk-container-id-3 div.sk-estimator input.sk-toggleable__control:checked~label.sk-toggleable__label {background-color: #d4ebff;}#sk-container-id-3 div.sk-label input.sk-toggleable__control:checked~label.sk-toggleable__label {background-color: #d4ebff;}#sk-container-id-3 input.sk-hidden--visually {border: 0;clip: rect(1px 1px 1px 1px);clip: rect(1px, 1px, 1px, 1px);height: 1px;margin: -1px;overflow: hidden;padding: 0;position: absolute;width: 1px;}#sk-container-id-3 div.sk-estimator {font-family: monospace;background-color: #f0f8ff;border: 1px dotted black;border-radius: 0.25em;box-sizing: border-box;margin-bottom: 0.5em;}#sk-container-id-3 div.sk-estimator:hover {background-color: #d4ebff;}#sk-container-id-3 div.sk-parallel-item::after {content: \"\";width: 100%;border-bottom: 1px solid gray;flex-grow: 1;}#sk-container-id-3 div.sk-label:hover label.sk-toggleable__label {background-color: #d4ebff;}#sk-container-id-3 div.sk-serial::before {content: \"\";position: absolute;border-left: 1px solid gray;box-sizing: border-box;top: 0;bottom: 0;left: 50%;z-index: 0;}#sk-container-id-3 div.sk-serial {display: flex;flex-direction: column;align-items: center;background-color: white;padding-right: 0.2em;padding-left: 0.2em;position: relative;}#sk-container-id-3 div.sk-item {position: relative;z-index: 1;}#sk-container-id-3 div.sk-parallel {display: flex;align-items: stretch;justify-content: center;background-color: white;position: relative;}#sk-container-id-3 div.sk-item::before, #sk-container-id-3 div.sk-parallel-item::before {content: \"\";position: absolute;border-left: 1px solid gray;box-sizing: border-box;top: 0;bottom: 0;left: 50%;z-index: -1;}#sk-container-id-3 div.sk-parallel-item {display: flex;flex-direction: column;z-index: 1;position: relative;background-color: white;}#sk-container-id-3 div.sk-parallel-item:first-child::after {align-self: flex-end;width: 50%;}#sk-container-id-3 div.sk-parallel-item:last-child::after {align-self: flex-start;width: 50%;}#sk-container-id-3 div.sk-parallel-item:only-child::after {width: 0;}#sk-container-id-3 div.sk-dashed-wrapped {border: 1px dashed gray;margin: 0 0.4em 0.5em 0.4em;box-sizing: border-box;padding-bottom: 0.4em;background-color: white;}#sk-container-id-3 div.sk-label label {font-family: monospace;font-weight: bold;display: inline-block;line-height: 1.2em;}#sk-container-id-3 div.sk-label-container {text-align: center;}#sk-container-id-3 div.sk-container {/* jupyter's `normalize.less` sets `[hidden] { display: none; }` but bootstrap.min.css set `[hidden] { display: none !important; }` so we also need the `!important` here to be able to override the default hidden behavior on the sphinx rendered scikit-learn.org. See: https://github.com/scikit-learn/scikit-learn/issues/21755 */display: inline-block !important;position: relative;}#sk-container-id-3 div.sk-text-repr-fallback {display: none;}</style><div id=\"sk-container-id-3\" class=\"sk-top-container\"><div class=\"sk-text-repr-fallback\"><pre>GridSearchCV(cv=StratifiedKFold(n_splits=4, random_state=None, shuffle=False),\n",
       "             estimator=LogisticRegression(class_weight=&#x27;balanced&#x27;), n_jobs=-1,\n",
       "             param_grid={&#x27;C&#x27;: [0.01, 0.1, 1, 10, 100], &#x27;penalty&#x27;: [&#x27;l2&#x27;]},\n",
       "             scoring=&#x27;recall&#x27;, verbose=1)</pre><b>In a Jupyter environment, please rerun this cell to show the HTML representation or trust the notebook. <br />On GitHub, the HTML representation is unable to render, please try loading this page with nbviewer.org.</b></div><div class=\"sk-container\" hidden><div class=\"sk-item sk-dashed-wrapped\"><div class=\"sk-label-container\"><div class=\"sk-label sk-toggleable\"><input class=\"sk-toggleable__control sk-hidden--visually\" id=\"sk-estimator-id-3\" type=\"checkbox\" ><label for=\"sk-estimator-id-3\" class=\"sk-toggleable__label sk-toggleable__label-arrow\">GridSearchCV</label><div class=\"sk-toggleable__content\"><pre>GridSearchCV(cv=StratifiedKFold(n_splits=4, random_state=None, shuffle=False),\n",
       "             estimator=LogisticRegression(class_weight=&#x27;balanced&#x27;), n_jobs=-1,\n",
       "             param_grid={&#x27;C&#x27;: [0.01, 0.1, 1, 10, 100], &#x27;penalty&#x27;: [&#x27;l2&#x27;]},\n",
       "             scoring=&#x27;recall&#x27;, verbose=1)</pre></div></div></div><div class=\"sk-parallel\"><div class=\"sk-parallel-item\"><div class=\"sk-item\"><div class=\"sk-label-container\"><div class=\"sk-label sk-toggleable\"><input class=\"sk-toggleable__control sk-hidden--visually\" id=\"sk-estimator-id-4\" type=\"checkbox\" ><label for=\"sk-estimator-id-4\" class=\"sk-toggleable__label sk-toggleable__label-arrow\">estimator: LogisticRegression</label><div class=\"sk-toggleable__content\"><pre>LogisticRegression(class_weight=&#x27;balanced&#x27;)</pre></div></div></div><div class=\"sk-serial\"><div class=\"sk-item\"><div class=\"sk-estimator sk-toggleable\"><input class=\"sk-toggleable__control sk-hidden--visually\" id=\"sk-estimator-id-5\" type=\"checkbox\" ><label for=\"sk-estimator-id-5\" class=\"sk-toggleable__label sk-toggleable__label-arrow\">LogisticRegression</label><div class=\"sk-toggleable__content\"><pre>LogisticRegression(class_weight=&#x27;balanced&#x27;)</pre></div></div></div></div></div></div></div></div></div></div>"
      ],
      "text/plain": [
       "GridSearchCV(cv=StratifiedKFold(n_splits=4, random_state=None, shuffle=False),\n",
       "             estimator=LogisticRegression(class_weight='balanced'), n_jobs=-1,\n",
       "             param_grid={'C': [0.01, 0.1, 1, 10, 100], 'penalty': ['l2']},\n",
       "             scoring='recall', verbose=1)"
      ]
     },
     "execution_count": 132,
     "metadata": {},
     "output_type": "execute_result"
    }
   ],
   "source": [
    "grid_search.fit(x_train_bow, y_train)"
   ]
  },
  {
   "cell_type": "markdown",
   "metadata": {
    "id": "PmuA8u4LaiUl"
   },
   "source": [
    "## **14. What are the best parameters?**"
   ]
  },
  {
   "cell_type": "code",
   "execution_count": 133,
   "metadata": {
    "colab": {
     "base_uri": "https://localhost:8080/",
     "height": 74
    },
    "id": "hygynierYH6q",
    "outputId": "d4cac202-ec50-4a7e-f6b0-ba2352cdbdd2"
   },
   "outputs": [
    {
     "data": {
      "text/html": [
       "<style>#sk-container-id-4 {color: black;background-color: white;}#sk-container-id-4 pre{padding: 0;}#sk-container-id-4 div.sk-toggleable {background-color: white;}#sk-container-id-4 label.sk-toggleable__label {cursor: pointer;display: block;width: 100%;margin-bottom: 0;padding: 0.3em;box-sizing: border-box;text-align: center;}#sk-container-id-4 label.sk-toggleable__label-arrow:before {content: \"▸\";float: left;margin-right: 0.25em;color: #696969;}#sk-container-id-4 label.sk-toggleable__label-arrow:hover:before {color: black;}#sk-container-id-4 div.sk-estimator:hover label.sk-toggleable__label-arrow:before {color: black;}#sk-container-id-4 div.sk-toggleable__content {max-height: 0;max-width: 0;overflow: hidden;text-align: left;background-color: #f0f8ff;}#sk-container-id-4 div.sk-toggleable__content pre {margin: 0.2em;color: black;border-radius: 0.25em;background-color: #f0f8ff;}#sk-container-id-4 input.sk-toggleable__control:checked~div.sk-toggleable__content {max-height: 200px;max-width: 100%;overflow: auto;}#sk-container-id-4 input.sk-toggleable__control:checked~label.sk-toggleable__label-arrow:before {content: \"▾\";}#sk-container-id-4 div.sk-estimator input.sk-toggleable__control:checked~label.sk-toggleable__label {background-color: #d4ebff;}#sk-container-id-4 div.sk-label input.sk-toggleable__control:checked~label.sk-toggleable__label {background-color: #d4ebff;}#sk-container-id-4 input.sk-hidden--visually {border: 0;clip: rect(1px 1px 1px 1px);clip: rect(1px, 1px, 1px, 1px);height: 1px;margin: -1px;overflow: hidden;padding: 0;position: absolute;width: 1px;}#sk-container-id-4 div.sk-estimator {font-family: monospace;background-color: #f0f8ff;border: 1px dotted black;border-radius: 0.25em;box-sizing: border-box;margin-bottom: 0.5em;}#sk-container-id-4 div.sk-estimator:hover {background-color: #d4ebff;}#sk-container-id-4 div.sk-parallel-item::after {content: \"\";width: 100%;border-bottom: 1px solid gray;flex-grow: 1;}#sk-container-id-4 div.sk-label:hover label.sk-toggleable__label {background-color: #d4ebff;}#sk-container-id-4 div.sk-serial::before {content: \"\";position: absolute;border-left: 1px solid gray;box-sizing: border-box;top: 0;bottom: 0;left: 50%;z-index: 0;}#sk-container-id-4 div.sk-serial {display: flex;flex-direction: column;align-items: center;background-color: white;padding-right: 0.2em;padding-left: 0.2em;position: relative;}#sk-container-id-4 div.sk-item {position: relative;z-index: 1;}#sk-container-id-4 div.sk-parallel {display: flex;align-items: stretch;justify-content: center;background-color: white;position: relative;}#sk-container-id-4 div.sk-item::before, #sk-container-id-4 div.sk-parallel-item::before {content: \"\";position: absolute;border-left: 1px solid gray;box-sizing: border-box;top: 0;bottom: 0;left: 50%;z-index: -1;}#sk-container-id-4 div.sk-parallel-item {display: flex;flex-direction: column;z-index: 1;position: relative;background-color: white;}#sk-container-id-4 div.sk-parallel-item:first-child::after {align-self: flex-end;width: 50%;}#sk-container-id-4 div.sk-parallel-item:last-child::after {align-self: flex-start;width: 50%;}#sk-container-id-4 div.sk-parallel-item:only-child::after {width: 0;}#sk-container-id-4 div.sk-dashed-wrapped {border: 1px dashed gray;margin: 0 0.4em 0.5em 0.4em;box-sizing: border-box;padding-bottom: 0.4em;background-color: white;}#sk-container-id-4 div.sk-label label {font-family: monospace;font-weight: bold;display: inline-block;line-height: 1.2em;}#sk-container-id-4 div.sk-label-container {text-align: center;}#sk-container-id-4 div.sk-container {/* jupyter's `normalize.less` sets `[hidden] { display: none; }` but bootstrap.min.css set `[hidden] { display: none !important; }` so we also need the `!important` here to be able to override the default hidden behavior on the sphinx rendered scikit-learn.org. See: https://github.com/scikit-learn/scikit-learn/issues/21755 */display: inline-block !important;position: relative;}#sk-container-id-4 div.sk-text-repr-fallback {display: none;}</style><div id=\"sk-container-id-4\" class=\"sk-top-container\"><div class=\"sk-text-repr-fallback\"><pre>LogisticRegression(C=1, class_weight=&#x27;balanced&#x27;)</pre><b>In a Jupyter environment, please rerun this cell to show the HTML representation or trust the notebook. <br />On GitHub, the HTML representation is unable to render, please try loading this page with nbviewer.org.</b></div><div class=\"sk-container\" hidden><div class=\"sk-item\"><div class=\"sk-estimator sk-toggleable\"><input class=\"sk-toggleable__control sk-hidden--visually\" id=\"sk-estimator-id-6\" type=\"checkbox\" checked><label for=\"sk-estimator-id-6\" class=\"sk-toggleable__label sk-toggleable__label-arrow\">LogisticRegression</label><div class=\"sk-toggleable__content\"><pre>LogisticRegression(C=1, class_weight=&#x27;balanced&#x27;)</pre></div></div></div></div></div>"
      ],
      "text/plain": [
       "LogisticRegression(C=1, class_weight='balanced')"
      ]
     },
     "execution_count": 133,
     "metadata": {},
     "output_type": "execute_result"
    }
   ],
   "source": [
    "grid_search.best_estimator_"
   ]
  },
  {
   "cell_type": "markdown",
   "metadata": {
    "id": "mD9wKY27Z5wh"
   },
   "source": [
    "## **15. Predict and evaluate using the best estimator.**\n",
    "\n",
    "1. **Use the best estimator from the grid search to make predictions on the test set.**\n",
    "2. **What is the recall on the test set for the toxic comments?**\n",
    "3. **What is the f_1 score?**"
   ]
  },
  {
   "cell_type": "code",
   "execution_count": 134,
   "metadata": {
    "id": "kfVCqrBsYaj2"
   },
   "outputs": [],
   "source": [
    "y_test_pred = grid_search.best_estimator_.predict(x_test_bow)"
   ]
  },
  {
   "cell_type": "code",
   "execution_count": 135,
   "metadata": {
    "id": "SnSEomMxYvL9"
   },
   "outputs": [],
   "source": [
    "y_train_pred = grid_search.best_estimator_.predict(x_train_bow)"
   ]
  },
  {
   "cell_type": "code",
   "execution_count": 136,
   "metadata": {
    "colab": {
     "base_uri": "https://localhost:8080/"
    },
    "id": "PApuozgpY7Qg",
    "outputId": "71477519-062e-4e28-a02d-fc6c891eb809"
   },
   "outputs": [
    {
     "name": "stdout",
     "output_type": "stream",
     "text": [
      "              precision    recall  f1-score   support\n",
      "\n",
      "           0       0.98      0.94      0.96      8905\n",
      "           1       0.49      0.77      0.60       684\n",
      "\n",
      "    accuracy                           0.93      9589\n",
      "   macro avg       0.73      0.85      0.78      9589\n",
      "weighted avg       0.95      0.93      0.93      9589\n",
      "\n"
     ]
    }
   ],
   "source": [
    "print(classification_report(y_test, y_test_pred))"
   ]
  }
 ],
 "metadata": {
  "colab": {
   "provenance": []
  },
  "kernelspec": {
   "display_name": "Python 3 (ipykernel)",
   "language": "python",
   "name": "python3"
  },
  "language_info": {
   "codemirror_mode": {
    "name": "ipython",
    "version": 3
   },
   "file_extension": ".py",
   "mimetype": "text/x-python",
   "name": "python",
   "nbconvert_exporter": "python",
   "pygments_lexer": "ipython3",
   "version": "3.9.13"
  }
 },
 "nbformat": 4,
 "nbformat_minor": 1
}
