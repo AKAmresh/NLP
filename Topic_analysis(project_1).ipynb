{
 "cells": [
  {
   "cell_type": "markdown",
   "metadata": {
    "id": "KjoJOZlspJB7"
   },
   "source": [
    "TASK\n",
    "\n",
    "1 - Read the .csv file using Pandas. Take a look at the top few records.\n",
    "\n",
    "2 -Normalize casings for the review text and extract the text into a list for easier manipulation.\n",
    "\n",
    "3 -Tokenize the reviews using NLTKs word_tokenize function.\n",
    "\n",
    "4 -Perform parts-of-speech tagging on each sentence using the NLTK POS tagger.\n",
    "\n",
    "5 -For the topic model, we should want to include only nouns. (a) Find out all the POS tags that correspond to nouns. (b) Limit the data to only terms with these tags.\n",
    "\n",
    "6 -Lemmatize. (a) Different forms of the terms need to be treated as one. (b) No need to provide POS tag to lemmatizer for now.\n",
    "\n",
    "7 -Remove stopwords and punctuation (if there are any).\n",
    "\n",
    "8 -Create a topic model using LDA on the cleaned up data with 12 topics. (a) Print out the top terms for each topic. (b) What is the coherence of the model with the c_v metric?\n",
    "\n",
    "9 -Analyze the topics through the business lens. (a)Determine which of the topics can be combined.\n",
    "\n",
    "10 -Create topic model using LDA with what you think is the optimal number of topics. (a) What is the coherence of the model?\n",
    "\n",
    "11 -The business should be able to interpret the topics. (a) Name each of the identified topics. (b) Create a table with the topic name and the top 10 terms in each to present to the business."
   ]
  },
  {
   "cell_type": "code",
   "execution_count": 1,
   "metadata": {
    "id": "qi__j7H8o-bU"
   },
   "outputs": [],
   "source": [
    "import pandas as pd\n",
    "import nltk\n",
    "import os\n",
    "import matplotlib.pyplot as plt"
   ]
  },
  {
   "cell_type": "code",
   "execution_count": 2,
   "metadata": {
    "colab": {
     "base_uri": "https://localhost:8080/",
     "height": 0
    },
    "id": "Pa538qfUpNvS",
    "outputId": "8767fa25-45ca-4696-a4f0-f670ba30502a"
   },
   "outputs": [
    {
     "name": "stdout",
     "output_type": "stream",
     "text": [
      "Drive already mounted at /content/drive/; to attempt to forcibly remount, call drive.mount(\"/content/drive/\", force_remount=True).\n"
     ]
    }
   ],
   "source": [
    "from google.colab import drive\n",
    "drive.mount('/content/drive/')"
   ]
  },
  {
   "cell_type": "markdown",
   "metadata": {
    "id": "wn8iCigMpWiD"
   },
   "source": [
    "**2 -Normalize casings for the review text and extract the text into a list for easier manipulation.**"
   ]
  },
  {
   "cell_type": "code",
   "execution_count": 3,
   "metadata": {
    "colab": {
     "base_uri": "https://localhost:8080/",
     "height": 0
    },
    "id": "-uaESCZ8pQjf",
    "outputId": "217c8dbf-438d-4e0f-8611-0f19c022dd17"
   },
   "outputs": [
    {
     "name": "stderr",
     "output_type": "stream",
     "text": [
      "[nltk_data] Downloading package punkt to /root/nltk_data...\n",
      "[nltk_data]   Package punkt is already up-to-date!\n"
     ]
    },
    {
     "data": {
      "text/plain": [
       "True"
      ]
     },
     "execution_count": 3,
     "metadata": {},
     "output_type": "execute_result"
    }
   ],
   "source": [
    "from nltk.tokenize import word_tokenize\n",
    "from nltk.stem import WordNetLemmatizer\n",
    "from textblob import TextBlob\n",
    "import seaborn as sns\n",
    "nltk.download('punkt')"
   ]
  },
  {
   "cell_type": "code",
   "execution_count": 4,
   "metadata": {
    "colab": {
     "base_uri": "https://localhost:8080/",
     "height": 206
    },
    "id": "5GPGg5OApbLi",
    "outputId": "8d226240-63c8-47eb-8ecf-4320c63d13a6"
   },
   "outputs": [
    {
     "data": {
      "text/html": [
       "\n",
       "\n",
       "  <div id=\"df-1e0c8679-5f63-439f-9a5c-2b3a9de58dc0\">\n",
       "    <div class=\"colab-df-container\">\n",
       "      <div>\n",
       "<style scoped>\n",
       "    .dataframe tbody tr th:only-of-type {\n",
       "        vertical-align: middle;\n",
       "    }\n",
       "\n",
       "    .dataframe tbody tr th {\n",
       "        vertical-align: top;\n",
       "    }\n",
       "\n",
       "    .dataframe thead th {\n",
       "        text-align: right;\n",
       "    }\n",
       "</style>\n",
       "<table border=\"1\" class=\"dataframe\">\n",
       "  <thead>\n",
       "    <tr style=\"text-align: right;\">\n",
       "      <th></th>\n",
       "      <th>sentiment</th>\n",
       "      <th>review</th>\n",
       "    </tr>\n",
       "  </thead>\n",
       "  <tbody>\n",
       "    <tr>\n",
       "      <th>0</th>\n",
       "      <td>1</td>\n",
       "      <td>Good but need updates and improvements</td>\n",
       "    </tr>\n",
       "    <tr>\n",
       "      <th>1</th>\n",
       "      <td>0</td>\n",
       "      <td>Worst mobile i have bought ever, Battery is dr...</td>\n",
       "    </tr>\n",
       "    <tr>\n",
       "      <th>2</th>\n",
       "      <td>1</td>\n",
       "      <td>when I will get my 10% cash back.... its alrea...</td>\n",
       "    </tr>\n",
       "    <tr>\n",
       "      <th>3</th>\n",
       "      <td>1</td>\n",
       "      <td>Good</td>\n",
       "    </tr>\n",
       "    <tr>\n",
       "      <th>4</th>\n",
       "      <td>0</td>\n",
       "      <td>The worst phone everThey have changed the last...</td>\n",
       "    </tr>\n",
       "  </tbody>\n",
       "</table>\n",
       "</div>\n",
       "      <button class=\"colab-df-convert\" onclick=\"convertToInteractive('df-1e0c8679-5f63-439f-9a5c-2b3a9de58dc0')\"\n",
       "              title=\"Convert this dataframe to an interactive table.\"\n",
       "              style=\"display:none;\">\n",
       "\n",
       "  <svg xmlns=\"http://www.w3.org/2000/svg\" height=\"24px\"viewBox=\"0 0 24 24\"\n",
       "       width=\"24px\">\n",
       "    <path d=\"M0 0h24v24H0V0z\" fill=\"none\"/>\n",
       "    <path d=\"M18.56 5.44l.94 2.06.94-2.06 2.06-.94-2.06-.94-.94-2.06-.94 2.06-2.06.94zm-11 1L8.5 8.5l.94-2.06 2.06-.94-2.06-.94L8.5 2.5l-.94 2.06-2.06.94zm10 10l.94 2.06.94-2.06 2.06-.94-2.06-.94-.94-2.06-.94 2.06-2.06.94z\"/><path d=\"M17.41 7.96l-1.37-1.37c-.4-.4-.92-.59-1.43-.59-.52 0-1.04.2-1.43.59L10.3 9.45l-7.72 7.72c-.78.78-.78 2.05 0 2.83L4 21.41c.39.39.9.59 1.41.59.51 0 1.02-.2 1.41-.59l7.78-7.78 2.81-2.81c.8-.78.8-2.07 0-2.86zM5.41 20L4 18.59l7.72-7.72 1.47 1.35L5.41 20z\"/>\n",
       "  </svg>\n",
       "      </button>\n",
       "\n",
       "\n",
       "\n",
       "    <div id=\"df-3dd868c9-2551-4561-843a-76cefce739b6\">\n",
       "      <button class=\"colab-df-quickchart\" onclick=\"quickchart('df-3dd868c9-2551-4561-843a-76cefce739b6')\"\n",
       "              title=\"Suggest charts.\"\n",
       "              style=\"display:none;\">\n",
       "\n",
       "<svg xmlns=\"http://www.w3.org/2000/svg\" height=\"24px\"viewBox=\"0 0 24 24\"\n",
       "     width=\"24px\">\n",
       "    <g>\n",
       "        <path d=\"M19 3H5c-1.1 0-2 .9-2 2v14c0 1.1.9 2 2 2h14c1.1 0 2-.9 2-2V5c0-1.1-.9-2-2-2zM9 17H7v-7h2v7zm4 0h-2V7h2v10zm4 0h-2v-4h2v4z\"/>\n",
       "    </g>\n",
       "</svg>\n",
       "      </button>\n",
       "    </div>\n",
       "\n",
       "<style>\n",
       "  .colab-df-quickchart {\n",
       "    background-color: #E8F0FE;\n",
       "    border: none;\n",
       "    border-radius: 50%;\n",
       "    cursor: pointer;\n",
       "    display: none;\n",
       "    fill: #1967D2;\n",
       "    height: 32px;\n",
       "    padding: 0 0 0 0;\n",
       "    width: 32px;\n",
       "  }\n",
       "\n",
       "  .colab-df-quickchart:hover {\n",
       "    background-color: #E2EBFA;\n",
       "    box-shadow: 0px 1px 2px rgba(60, 64, 67, 0.3), 0px 1px 3px 1px rgba(60, 64, 67, 0.15);\n",
       "    fill: #174EA6;\n",
       "  }\n",
       "\n",
       "  [theme=dark] .colab-df-quickchart {\n",
       "    background-color: #3B4455;\n",
       "    fill: #D2E3FC;\n",
       "  }\n",
       "\n",
       "  [theme=dark] .colab-df-quickchart:hover {\n",
       "    background-color: #434B5C;\n",
       "    box-shadow: 0px 1px 3px 1px rgba(0, 0, 0, 0.15);\n",
       "    filter: drop-shadow(0px 1px 2px rgba(0, 0, 0, 0.3));\n",
       "    fill: #FFFFFF;\n",
       "  }\n",
       "</style>\n",
       "\n",
       "    <script>\n",
       "      async function quickchart(key) {\n",
       "        const containerElement = document.querySelector('#' + key);\n",
       "        const charts = await google.colab.kernel.invokeFunction(\n",
       "            'suggestCharts', [key], {});\n",
       "      }\n",
       "    </script>\n",
       "\n",
       "      <script>\n",
       "\n",
       "function displayQuickchartButton(domScope) {\n",
       "  let quickchartButtonEl =\n",
       "    domScope.querySelector('#df-3dd868c9-2551-4561-843a-76cefce739b6 button.colab-df-quickchart');\n",
       "  quickchartButtonEl.style.display =\n",
       "    google.colab.kernel.accessAllowed ? 'block' : 'none';\n",
       "}\n",
       "\n",
       "        displayQuickchartButton(document);\n",
       "      </script>\n",
       "      <style>\n",
       "    .colab-df-container {\n",
       "      display:flex;\n",
       "      flex-wrap:wrap;\n",
       "      gap: 12px;\n",
       "    }\n",
       "\n",
       "    .colab-df-convert {\n",
       "      background-color: #E8F0FE;\n",
       "      border: none;\n",
       "      border-radius: 50%;\n",
       "      cursor: pointer;\n",
       "      display: none;\n",
       "      fill: #1967D2;\n",
       "      height: 32px;\n",
       "      padding: 0 0 0 0;\n",
       "      width: 32px;\n",
       "    }\n",
       "\n",
       "    .colab-df-convert:hover {\n",
       "      background-color: #E2EBFA;\n",
       "      box-shadow: 0px 1px 2px rgba(60, 64, 67, 0.3), 0px 1px 3px 1px rgba(60, 64, 67, 0.15);\n",
       "      fill: #174EA6;\n",
       "    }\n",
       "\n",
       "    [theme=dark] .colab-df-convert {\n",
       "      background-color: #3B4455;\n",
       "      fill: #D2E3FC;\n",
       "    }\n",
       "\n",
       "    [theme=dark] .colab-df-convert:hover {\n",
       "      background-color: #434B5C;\n",
       "      box-shadow: 0px 1px 3px 1px rgba(0, 0, 0, 0.15);\n",
       "      filter: drop-shadow(0px 1px 2px rgba(0, 0, 0, 0.3));\n",
       "      fill: #FFFFFF;\n",
       "    }\n",
       "  </style>\n",
       "\n",
       "      <script>\n",
       "        const buttonEl =\n",
       "          document.querySelector('#df-1e0c8679-5f63-439f-9a5c-2b3a9de58dc0 button.colab-df-convert');\n",
       "        buttonEl.style.display =\n",
       "          google.colab.kernel.accessAllowed ? 'block' : 'none';\n",
       "\n",
       "        async function convertToInteractive(key) {\n",
       "          const element = document.querySelector('#df-1e0c8679-5f63-439f-9a5c-2b3a9de58dc0');\n",
       "          const dataTable =\n",
       "            await google.colab.kernel.invokeFunction('convertToInteractive',\n",
       "                                                     [key], {});\n",
       "          if (!dataTable) return;\n",
       "\n",
       "          const docLinkHtml = 'Like what you see? Visit the ' +\n",
       "            '<a target=\"_blank\" href=https://colab.research.google.com/notebooks/data_table.ipynb>data table notebook</a>'\n",
       "            + ' to learn more about interactive tables.';\n",
       "          element.innerHTML = '';\n",
       "          dataTable['output_type'] = 'display_data';\n",
       "          await google.colab.output.renderOutput(dataTable, element);\n",
       "          const docLink = document.createElement('div');\n",
       "          docLink.innerHTML = docLinkHtml;\n",
       "          element.appendChild(docLink);\n",
       "        }\n",
       "      </script>\n",
       "    </div>\n",
       "  </div>\n"
      ],
      "text/plain": [
       "   sentiment                                             review\n",
       "0          1             Good but need updates and improvements\n",
       "1          0  Worst mobile i have bought ever, Battery is dr...\n",
       "2          1  when I will get my 10% cash back.... its alrea...\n",
       "3          1                                               Good\n",
       "4          0  The worst phone everThey have changed the last..."
      ]
     },
     "execution_count": 4,
     "metadata": {},
     "output_type": "execute_result"
    }
   ],
   "source": [
    "topic_data = pd.read_csv('/content/drive/MyDrive/nltk/Topic_analysis/K8_Reviews_v0.2.csv')\n",
    "topic_data.head()"
   ]
  },
  {
   "cell_type": "code",
   "execution_count": 5,
   "metadata": {
    "colab": {
     "base_uri": "https://localhost:8080/",
     "height": 36
    },
    "id": "fZ2u1TrPpcCz",
    "outputId": "7793a738-b22d-405c-a3e5-aa8b78505a34"
   },
   "outputs": [
    {
     "data": {
      "application/vnd.google.colaboratory.intrinsic+json": {
       "type": "string"
      },
      "text/plain": [
       "'good but need updates and improvements'"
      ]
     },
     "execution_count": 5,
     "metadata": {},
     "output_type": "execute_result"
    }
   ],
   "source": [
    "topic_data_lower = [sent.lower() for sent in topic_data.review.values]\n",
    "topic_data_lower[0]"
   ]
  },
  {
   "cell_type": "markdown",
   "metadata": {
    "id": "Dodn588MpjSN"
   },
   "source": [
    "**3 -Tokenize the reviews using NLTKs word_tokenize function.**"
   ]
  },
  {
   "cell_type": "code",
   "execution_count": 6,
   "metadata": {
    "colab": {
     "base_uri": "https://localhost:8080/",
     "height": 0
    },
    "id": "vnhKXARtpg9l",
    "outputId": "7383e697-f722-4912-8b73-93aee8030a37"
   },
   "outputs": [
    {
     "data": {
      "text/plain": [
       "['good', 'but', 'need', 'updates', 'and', 'improvements']"
      ]
     },
     "execution_count": 6,
     "metadata": {},
     "output_type": "execute_result"
    }
   ],
   "source": [
    "reviews_token = [word_tokenize(sent) for sent in topic_data_lower]\n",
    "reviews_token[0]"
   ]
  },
  {
   "cell_type": "markdown",
   "metadata": {
    "id": "KbuEmSvgpoM5"
   },
   "source": [
    "**4 -Perform parts-of-speech tagging on each sentence using the NLTK POS tagger.**"
   ]
  },
  {
   "cell_type": "code",
   "execution_count": 7,
   "metadata": {
    "colab": {
     "base_uri": "https://localhost:8080/",
     "height": 0
    },
    "id": "wR7hFKSvpl6c",
    "outputId": "1aca9bc4-74d5-4718-c302-d3d0b21e241e"
   },
   "outputs": [
    {
     "name": "stderr",
     "output_type": "stream",
     "text": [
      "[nltk_data] Downloading package averaged_perceptron_tagger to\n",
      "[nltk_data]     /root/nltk_data...\n",
      "[nltk_data]   Package averaged_perceptron_tagger is already up-to-\n",
      "[nltk_data]       date!\n"
     ]
    },
    {
     "data": {
      "text/plain": [
       "True"
      ]
     },
     "execution_count": 7,
     "metadata": {},
     "output_type": "execute_result"
    }
   ],
   "source": [
    "nltk.download('averaged_perceptron_tagger')"
   ]
  },
  {
   "cell_type": "code",
   "execution_count": 8,
   "metadata": {
    "colab": {
     "base_uri": "https://localhost:8080/",
     "height": 0
    },
    "id": "LFTC1vCUpvQj",
    "outputId": "e37bc996-e8ba-4c10-b97f-e6caf394a957"
   },
   "outputs": [
    {
     "data": {
      "text/plain": [
       "[('good', 'JJ'),\n",
       " ('but', 'CC'),\n",
       " ('need', 'VBP'),\n",
       " ('updates', 'NNS'),\n",
       " ('and', 'CC'),\n",
       " ('improvements', 'NNS')]"
      ]
     },
     "execution_count": 8,
     "metadata": {},
     "output_type": "execute_result"
    }
   ],
   "source": [
    "blob = TextBlob(topic_data_lower[0])\n",
    "blob.tags"
   ]
  },
  {
   "cell_type": "code",
   "execution_count": 9,
   "metadata": {
    "colab": {
     "base_uri": "https://localhost:8080/",
     "height": 0
    },
    "id": "gZ6tjwprpvsv",
    "outputId": "bf89bf98-5d57-439d-a3e7-5a4b9a7c3c1e"
   },
   "outputs": [
    {
     "data": {
      "text/plain": [
       "[('good', 'JJ'),\n",
       " ('but', 'CC'),\n",
       " ('need', 'VBP'),\n",
       " ('updates', 'NNS'),\n",
       " ('and', 'CC'),\n",
       " ('improvements', 'NNS')]"
      ]
     },
     "execution_count": 9,
     "metadata": {},
     "output_type": "execute_result"
    }
   ],
   "source": [
    "nltk.pos_tag(reviews_token[0])"
   ]
  },
  {
   "cell_type": "markdown",
   "metadata": {
    "id": "xC1nAHEOp0UK"
   },
   "source": [
    "#### **5 -For the topic model, we should want to include only nouns.**"
   ]
  },
  {
   "cell_type": "markdown",
   "metadata": {
    "id": "yfG82uKbp4aM"
   },
   "source": [
    "**(a) Find out all the POS tags that correspond to nouns.**\n",
    "**(b) Limit the data to only terms with these tags.**"
   ]
  },
  {
   "cell_type": "code",
   "execution_count": 10,
   "metadata": {
    "colab": {
     "base_uri": "https://localhost:8080/",
     "height": 0
    },
    "id": "LBQY-NVRpxnH",
    "outputId": "98cfb12e-5756-4356-9591-8ef2020e2a07"
   },
   "outputs": [
    {
     "name": "stderr",
     "output_type": "stream",
     "text": [
      "[nltk_data] Downloading package tagsets to /root/nltk_data...\n",
      "[nltk_data]   Package tagsets is already up-to-date!\n"
     ]
    },
    {
     "data": {
      "text/plain": [
       "True"
      ]
     },
     "execution_count": 10,
     "metadata": {},
     "output_type": "execute_result"
    }
   ],
   "source": [
    "nltk.download('tagsets')"
   ]
  },
  {
   "cell_type": "code",
   "execution_count": 11,
   "metadata": {
    "colab": {
     "base_uri": "https://localhost:8080/",
     "height": 0
    },
    "id": "gR-MuR0Wp7qN",
    "outputId": "0f8c647c-f00c-498e-b4ac-939a8b415ff1"
   },
   "outputs": [
    {
     "name": "stdout",
     "output_type": "stream",
     "text": [
      "$: dollar\n",
      "    $ -$ --$ A$ C$ HK$ M$ NZ$ S$ U.S.$ US$\n",
      "'': closing quotation mark\n",
      "    ' ''\n",
      "(: opening parenthesis\n",
      "    ( [ {\n",
      "): closing parenthesis\n",
      "    ) ] }\n",
      ",: comma\n",
      "    ,\n",
      "--: dash\n",
      "    --\n",
      ".: sentence terminator\n",
      "    . ! ?\n",
      ":: colon or ellipsis\n",
      "    : ; ...\n",
      "CC: conjunction, coordinating\n",
      "    & 'n and both but either et for less minus neither nor or plus so\n",
      "    therefore times v. versus vs. whether yet\n",
      "CD: numeral, cardinal\n",
      "    mid-1890 nine-thirty forty-two one-tenth ten million 0.5 one forty-\n",
      "    seven 1987 twenty '79 zero two 78-degrees eighty-four IX '60s .025\n",
      "    fifteen 271,124 dozen quintillion DM2,000 ...\n",
      "DT: determiner\n",
      "    all an another any both del each either every half la many much nary\n",
      "    neither no some such that the them these this those\n",
      "EX: existential there\n",
      "    there\n",
      "FW: foreign word\n",
      "    gemeinschaft hund ich jeux habeas Haementeria Herr K'ang-si vous\n",
      "    lutihaw alai je jour objets salutaris fille quibusdam pas trop Monte\n",
      "    terram fiche oui corporis ...\n",
      "IN: preposition or conjunction, subordinating\n",
      "    astride among uppon whether out inside pro despite on by throughout\n",
      "    below within for towards near behind atop around if like until below\n",
      "    next into if beside ...\n",
      "JJ: adjective or numeral, ordinal\n",
      "    third ill-mannered pre-war regrettable oiled calamitous first separable\n",
      "    ectoplasmic battery-powered participatory fourth still-to-be-named\n",
      "    multilingual multi-disciplinary ...\n",
      "JJR: adjective, comparative\n",
      "    bleaker braver breezier briefer brighter brisker broader bumper busier\n",
      "    calmer cheaper choosier cleaner clearer closer colder commoner costlier\n",
      "    cozier creamier crunchier cuter ...\n",
      "JJS: adjective, superlative\n",
      "    calmest cheapest choicest classiest cleanest clearest closest commonest\n",
      "    corniest costliest crassest creepiest crudest cutest darkest deadliest\n",
      "    dearest deepest densest dinkiest ...\n",
      "LS: list item marker\n",
      "    A A. B B. C C. D E F First G H I J K One SP-44001 SP-44002 SP-44005\n",
      "    SP-44007 Second Third Three Two * a b c d first five four one six three\n",
      "    two\n",
      "MD: modal auxiliary\n",
      "    can cannot could couldn't dare may might must need ought shall should\n",
      "    shouldn't will would\n",
      "NN: noun, common, singular or mass\n",
      "    common-carrier cabbage knuckle-duster Casino afghan shed thermostat\n",
      "    investment slide humour falloff slick wind hyena override subhumanity\n",
      "    machinist ...\n",
      "NNP: noun, proper, singular\n",
      "    Motown Venneboerger Czestochwa Ranzer Conchita Trumplane Christos\n",
      "    Oceanside Escobar Kreisler Sawyer Cougar Yvette Ervin ODI Darryl CTCA\n",
      "    Shannon A.K.C. Meltex Liverpool ...\n",
      "NNPS: noun, proper, plural\n",
      "    Americans Americas Amharas Amityvilles Amusements Anarcho-Syndicalists\n",
      "    Andalusians Andes Andruses Angels Animals Anthony Antilles Antiques\n",
      "    Apache Apaches Apocrypha ...\n",
      "NNS: noun, common, plural\n",
      "    undergraduates scotches bric-a-brac products bodyguards facets coasts\n",
      "    divestitures storehouses designs clubs fragrances averages\n",
      "    subjectivists apprehensions muses factory-jobs ...\n",
      "PDT: pre-determiner\n",
      "    all both half many quite such sure this\n",
      "POS: genitive marker\n",
      "    ' 's\n",
      "PRP: pronoun, personal\n",
      "    hers herself him himself hisself it itself me myself one oneself ours\n",
      "    ourselves ownself self she thee theirs them themselves they thou thy us\n",
      "PRP$: pronoun, possessive\n",
      "    her his mine my our ours their thy your\n",
      "RB: adverb\n",
      "    occasionally unabatingly maddeningly adventurously professedly\n",
      "    stirringly prominently technologically magisterially predominately\n",
      "    swiftly fiscally pitilessly ...\n",
      "RBR: adverb, comparative\n",
      "    further gloomier grander graver greater grimmer harder harsher\n",
      "    healthier heavier higher however larger later leaner lengthier less-\n",
      "    perfectly lesser lonelier longer louder lower more ...\n",
      "RBS: adverb, superlative\n",
      "    best biggest bluntest earliest farthest first furthest hardest\n",
      "    heartiest highest largest least less most nearest second tightest worst\n",
      "RP: particle\n",
      "    aboard about across along apart around aside at away back before behind\n",
      "    by crop down ever fast for forth from go high i.e. in into just later\n",
      "    low more off on open out over per pie raising start teeth that through\n",
      "    under unto up up-pp upon whole with you\n",
      "SYM: symbol\n",
      "    % & ' '' ''. ) ). * + ,. < = > @ A[fj] U.S U.S.S.R * ** ***\n",
      "TO: \"to\" as preposition or infinitive marker\n",
      "    to\n",
      "UH: interjection\n",
      "    Goodbye Goody Gosh Wow Jeepers Jee-sus Hubba Hey Kee-reist Oops amen\n",
      "    huh howdy uh dammit whammo shucks heck anyways whodunnit honey golly\n",
      "    man baby diddle hush sonuvabitch ...\n",
      "VB: verb, base form\n",
      "    ask assemble assess assign assume atone attention avoid bake balkanize\n",
      "    bank begin behold believe bend benefit bevel beware bless boil bomb\n",
      "    boost brace break bring broil brush build ...\n",
      "VBD: verb, past tense\n",
      "    dipped pleaded swiped regummed soaked tidied convened halted registered\n",
      "    cushioned exacted snubbed strode aimed adopted belied figgered\n",
      "    speculated wore appreciated contemplated ...\n",
      "VBG: verb, present participle or gerund\n",
      "    telegraphing stirring focusing angering judging stalling lactating\n",
      "    hankerin' alleging veering capping approaching traveling besieging\n",
      "    encrypting interrupting erasing wincing ...\n",
      "VBN: verb, past participle\n",
      "    multihulled dilapidated aerosolized chaired languished panelized used\n",
      "    experimented flourished imitated reunifed factored condensed sheared\n",
      "    unsettled primed dubbed desired ...\n",
      "VBP: verb, present tense, not 3rd person singular\n",
      "    predominate wrap resort sue twist spill cure lengthen brush terminate\n",
      "    appear tend stray glisten obtain comprise detest tease attract\n",
      "    emphasize mold postpone sever return wag ...\n",
      "VBZ: verb, present tense, 3rd person singular\n",
      "    bases reconstructs marks mixes displeases seals carps weaves snatches\n",
      "    slumps stretches authorizes smolders pictures emerges stockpiles\n",
      "    seduces fizzes uses bolsters slaps speaks pleads ...\n",
      "WDT: WH-determiner\n",
      "    that what whatever which whichever\n",
      "WP: WH-pronoun\n",
      "    that what whatever whatsoever which who whom whosoever\n",
      "WP$: WH-pronoun, possessive\n",
      "    whose\n",
      "WRB: Wh-adverb\n",
      "    how however whence whenever where whereby whereever wherein whereof why\n",
      "``: opening quotation mark\n",
      "    ` ``\n"
     ]
    }
   ],
   "source": [
    "nltk.help.upenn_tagset()"
   ]
  },
  {
   "cell_type": "code",
   "execution_count": 12,
   "metadata": {
    "colab": {
     "base_uri": "https://localhost:8080/",
     "height": 0
    },
    "id": "WSNNh4eXp-Kx",
    "outputId": "29a3cf4d-ab14-45f4-f420-d58319825a28"
   },
   "outputs": [
    {
     "data": {
      "text/plain": [
       "('great', 'JJ')"
      ]
     },
     "execution_count": 12,
     "metadata": {},
     "output_type": "execute_result"
    }
   ],
   "source": [
    "tagged_tuple = nltk.pos_tag(['great'])\n",
    "tagged_tuple[0]"
   ]
  },
  {
   "cell_type": "code",
   "execution_count": 13,
   "metadata": {
    "colab": {
     "base_uri": "https://localhost:8080/",
     "height": 0
    },
    "id": "g1hGdgWDqEDT",
    "outputId": "f6e04435-0b11-4afb-934b-2ce1ae1ce7c6"
   },
   "outputs": [
    {
     "name": "stdout",
     "output_type": "stream",
     "text": [
      "great\n",
      "JJ\n"
     ]
    }
   ],
   "source": [
    "print(tagged_tuple[0][0])\n",
    "print(tagged_tuple[0][1])"
   ]
  },
  {
   "cell_type": "code",
   "execution_count": 14,
   "metadata": {
    "colab": {
     "base_uri": "https://localhost:8080/",
     "height": 0
    },
    "id": "_0hsDjZ0qFxV",
    "outputId": "6525bb57-38b9-42e1-cb55-9732a525accb"
   },
   "outputs": [
    {
     "data": {
      "text/plain": [
       "[('good', 'JJ'),\n",
       " ('but', 'CC'),\n",
       " ('need', 'VBP'),\n",
       " ('updates', 'NNS'),\n",
       " ('and', 'CC'),\n",
       " ('improvements', 'NNS')]"
      ]
     },
     "execution_count": 14,
     "metadata": {},
     "output_type": "execute_result"
    }
   ],
   "source": [
    "reviews_tagged = [nltk.pos_tag(tokens) for tokens in reviews_token]\n",
    "reviews_tagged[0]"
   ]
  },
  {
   "cell_type": "code",
   "execution_count": 15,
   "metadata": {
    "colab": {
     "base_uri": "https://localhost:8080/",
     "height": 0
    },
    "id": "1Ll2iFO6qIhU",
    "outputId": "1d007c6b-2a24-49c4-d187-4cc6e6e4eb1e"
   },
   "outputs": [
    {
     "data": {
      "text/plain": [
       "[('mobile', 'NN'),\n",
       " ('i', 'NN'),\n",
       " ('battery', 'NN'),\n",
       " ('hell', 'NN'),\n",
       " ('backup', 'NN'),\n",
       " ('hours', 'NNS'),\n",
       " ('uses', 'NNS'),\n",
       " ('idle', 'NN'),\n",
       " ('discharged.this', 'NN'),\n",
       " ('lie', 'NN'),\n",
       " ('amazon', 'NN'),\n",
       " ('lenove', 'NN'),\n",
       " ('battery', 'NN'),\n",
       " ('charger', 'NN'),\n",
       " ('hours', 'NNS'),\n",
       " ('don', 'NN')]"
      ]
     },
     "execution_count": 15,
     "metadata": {},
     "output_type": "execute_result"
    }
   ],
   "source": [
    "import re, os, random\n",
    "reviews_noun=[]\n",
    "for sent in reviews_tagged:\n",
    "  reviews_noun.append([token for token in sent if re.search(\"NN.*\", token[1])])\n",
    "reviews_noun[1]"
   ]
  },
  {
   "cell_type": "markdown",
   "metadata": {
    "id": "TFddu6u7qMKY"
   },
   "source": [
    "**6 -Lemmatize.**\n",
    "(a) Different forms of the terms need to be treated as one.\n",
    "(b) No need to provide POS tag to lemmatizer for now."
   ]
  },
  {
   "cell_type": "code",
   "execution_count": 16,
   "metadata": {
    "colab": {
     "base_uri": "https://localhost:8080/",
     "height": 0
    },
    "id": "FEwXFdiXqOxd",
    "outputId": "e946568e-de64-4195-f5a3-d2bdb9d406c2"
   },
   "outputs": [
    {
     "name": "stderr",
     "output_type": "stream",
     "text": [
      "[nltk_data] Downloading package wordnet to /root/nltk_data...\n",
      "[nltk_data]   Package wordnet is already up-to-date!\n"
     ]
    },
    {
     "data": {
      "text/plain": [
       "True"
      ]
     },
     "execution_count": 16,
     "metadata": {},
     "output_type": "execute_result"
    }
   ],
   "source": [
    "nltk.download('wordnet')"
   ]
  },
  {
   "cell_type": "code",
   "execution_count": 17,
   "metadata": {
    "colab": {
     "base_uri": "https://localhost:8080/",
     "height": 0
    },
    "id": "h7NG0giAqQzb",
    "outputId": "e5672600-8ba3-46e7-fea5-f2433e909ed0"
   },
   "outputs": [
    {
     "data": {
      "text/plain": [
       "['mobile',\n",
       " 'i',\n",
       " 'battery',\n",
       " 'hell',\n",
       " 'backup',\n",
       " 'hour',\n",
       " 'us',\n",
       " 'idle',\n",
       " 'discharged.this',\n",
       " 'lie',\n",
       " 'amazon',\n",
       " 'lenove',\n",
       " 'battery',\n",
       " 'charger',\n",
       " 'hour',\n",
       " 'don']"
      ]
     },
     "execution_count": 17,
     "metadata": {},
     "output_type": "execute_result"
    }
   ],
   "source": [
    "lemma = WordNetLemmatizer()\n",
    "reviews_lemma = []\n",
    "for sent in reviews_noun:\n",
    "  reviews_lemma.append([lemma.lemmatize(word[0]) for word in sent])\n",
    "reviews_lemma[1]"
   ]
  },
  {
   "cell_type": "markdown",
   "metadata": {
    "id": "wkKf-75lqUVC"
   },
   "source": [
    "**7 -Remove stopwords and punctuation (if there are any).**"
   ]
  },
  {
   "cell_type": "code",
   "execution_count": 18,
   "metadata": {
    "colab": {
     "base_uri": "https://localhost:8080/",
     "height": 0
    },
    "id": "qtW3pOl-qWUW",
    "outputId": "1a656824-b9e8-4218-8fe4-79a9245b5316"
   },
   "outputs": [
    {
     "name": "stderr",
     "output_type": "stream",
     "text": [
      "[nltk_data] Downloading package stopwords to /root/nltk_data...\n",
      "[nltk_data]   Package stopwords is already up-to-date!\n"
     ]
    },
    {
     "data": {
      "text/plain": [
       "True"
      ]
     },
     "execution_count": 18,
     "metadata": {},
     "output_type": "execute_result"
    }
   ],
   "source": [
    "nltk.download('stopwords')"
   ]
  },
  {
   "cell_type": "code",
   "execution_count": 19,
   "metadata": {
    "colab": {
     "base_uri": "https://localhost:8080/",
     "height": 0
    },
    "id": "SYha6ghhqden",
    "outputId": "5a25b129-ba2c-422b-b195-58bf650c288f"
   },
   "outputs": [
    {
     "name": "stderr",
     "output_type": "stream",
     "text": [
      "[nltk_data] Error loading punctuation: Package 'punctuation' not found\n",
      "[nltk_data]     in index\n"
     ]
    },
    {
     "data": {
      "text/plain": [
       "False"
      ]
     },
     "execution_count": 19,
     "metadata": {},
     "output_type": "execute_result"
    }
   ],
   "source": [
    "nltk.download('punctuation')"
   ]
  },
  {
   "cell_type": "code",
   "execution_count": 20,
   "metadata": {
    "colab": {
     "base_uri": "https://localhost:8080/",
     "height": 0
    },
    "id": "YJYKU4WAqak1",
    "outputId": "de44fc71-5c66-4dd7-fd02-66fd98460c0b"
   },
   "outputs": [
    {
     "name": "stdout",
     "output_type": "stream",
     "text": [
      "['i', 'me', 'my', 'myself', 'we', 'our', 'ours', 'ourselves', 'you', \"you're\", \"you've\", \"you'll\", \"you'd\", 'your', 'yours', 'yourself', 'yourselves', 'he', 'him', 'his', 'himself', 'she', \"she's\", 'her', 'hers', 'herself', 'it', \"it's\", 'its', 'itself', 'they', 'them', 'their', 'theirs', 'themselves', 'what', 'which', 'who', 'whom', 'this', 'that', \"that'll\", 'these', 'those', 'am', 'is', 'are', 'was', 'were', 'be', 'been', 'being', 'have', 'has', 'had', 'having', 'do', 'does', 'did', 'doing', 'a', 'an', 'the', 'and', 'but', 'if', 'or', 'because', 'as', 'until', 'while', 'of', 'at', 'by', 'for', 'with', 'about', 'against', 'between', 'into', 'through', 'during', 'before', 'after', 'above', 'below', 'to', 'from', 'up', 'down', 'in', 'out', 'on', 'off', 'over', 'under', 'again', 'further', 'then', 'once', 'here', 'there', 'when', 'where', 'why', 'how', 'all', 'any', 'both', 'each', 'few', 'more', 'most', 'other', 'some', 'such', 'no', 'nor', 'not', 'only', 'own', 'same', 'so', 'than', 'too', 'very', 's', 't', 'can', 'will', 'just', 'don', \"don't\", 'should', \"should've\", 'now', 'd', 'll', 'm', 'o', 're', 've', 'y', 'ain', 'aren', \"aren't\", 'couldn', \"couldn't\", 'didn', \"didn't\", 'doesn', \"doesn't\", 'hadn', \"hadn't\", 'hasn', \"hasn't\", 'haven', \"haven't\", 'isn', \"isn't\", 'ma', 'mightn', \"mightn't\", 'mustn', \"mustn't\", 'needn', \"needn't\", 'shan', \"shan't\", 'shouldn', \"shouldn't\", 'wasn', \"wasn't\", 'weren', \"weren't\", 'won', \"won't\", 'wouldn', \"wouldn't\"]\n"
     ]
    }
   ],
   "source": [
    "from string import punctuation\n",
    "from nltk.corpus import stopwords\n",
    "stop_words = stopwords.words('english')\n",
    "print(stop_words)"
   ]
  },
  {
   "cell_type": "code",
   "execution_count": 21,
   "metadata": {
    "id": "y0kO-oblqhD2"
   },
   "outputs": [],
   "source": [
    "stop_updated = stop_words + list(punctuation) + [\"...\"] + [\"..\"]\n",
    "reviews_sw_removed=[]\n",
    "for sent in reviews_lemma:\n",
    "    reviews_sw_removed.append([term for term in sent if term not in stop_updated])"
   ]
  },
  {
   "cell_type": "code",
   "execution_count": 22,
   "metadata": {
    "colab": {
     "base_uri": "https://localhost:8080/",
     "height": 0
    },
    "id": "3l09rPR9qpxB",
    "outputId": "a55c90f2-2c7f-48f6-c7bd-ff9bca963e52"
   },
   "outputs": [
    {
     "data": {
      "text/plain": [
       "['mobile',\n",
       " 'battery',\n",
       " 'hell',\n",
       " 'backup',\n",
       " 'hour',\n",
       " 'us',\n",
       " 'idle',\n",
       " 'discharged.this',\n",
       " 'lie',\n",
       " 'amazon',\n",
       " 'lenove',\n",
       " 'battery',\n",
       " 'charger',\n",
       " 'hour']"
      ]
     },
     "execution_count": 22,
     "metadata": {},
     "output_type": "execute_result"
    }
   ],
   "source": [
    "reviews_sw_removed[1]"
   ]
  },
  {
   "cell_type": "markdown",
   "metadata": {
    "id": "VdIfhxrVqtco"
   },
   "source": [
    "**8 -Create a topic model using LDA on the cleaned up data with 12 topics.** (a) Print out the top terms for each topic. (b) What is the coherence of the model with the c_v metric?"
   ]
  },
  {
   "cell_type": "code",
   "execution_count": 23,
   "metadata": {
    "id": "N8OLmFQiqqZl"
   },
   "outputs": [],
   "source": [
    "import gensim\n",
    "import gensim.corpora as corpora\n",
    "from gensim.models import CoherenceModel\n",
    "from gensim.models import ldamodel"
   ]
  },
  {
   "cell_type": "code",
   "execution_count": 24,
   "metadata": {
    "id": "jSgQ4Zu8qzV-"
   },
   "outputs": [],
   "source": [
    "id2word = corpora.Dictionary(reviews_sw_removed)\n",
    "texts = reviews_sw_removed\n",
    "corpus = [id2word.doc2bow(text) for text in texts]"
   ]
  },
  {
   "cell_type": "code",
   "execution_count": 25,
   "metadata": {
    "colab": {
     "base_uri": "https://localhost:8080/",
     "height": 0
    },
    "id": "KrHu_YyUq0W1",
    "outputId": "8dffe019-0b47-42b5-8bae-6d2d9806ba47"
   },
   "outputs": [
    {
     "name": "stdout",
     "output_type": "stream",
     "text": [
      "[(4, 1), (33, 1), (36, 1), (38, 1), (58, 1), (132, 1), (188, 1), (201, 1), (226, 1), (302, 1), (472, 2), (596, 1), (597, 1), (598, 1)]\n"
     ]
    }
   ],
   "source": [
    "print(corpus[300])"
   ]
  },
  {
   "cell_type": "code",
   "execution_count": 26,
   "metadata": {
    "id": "2tKNCEDwq2MJ"
   },
   "outputs": [],
   "source": [
    "lda_model = gensim.models.ldamodel.LdaModel(corpus=corpus,\n",
    "                                           id2word=id2word,\n",
    "                                           num_topics=12,\n",
    "                                           random_state=42,\n",
    "                                           passes=10,\n",
    "                                           per_word_topics=True)"
   ]
  },
  {
   "cell_type": "code",
   "execution_count": 27,
   "metadata": {
    "colab": {
     "base_uri": "https://localhost:8080/",
     "height": 0
    },
    "id": "3nfzlg8Yq4EC",
    "outputId": "ce12c1d5-68f5-46ce-d117-6f87cac5fd23"
   },
   "outputs": [
    {
     "name": "stdout",
     "output_type": "stream",
     "text": [
      "[(0, '0.138*\"mobile\" + 0.040*\"call\" + 0.036*\"screen\" + 0.031*\"feature\" + 0.030*\"option\" + 0.020*\"music\" + 0.017*\"software\" + 0.016*\"app\" + 0.015*\"video\" + 0.015*\"card\"'), (1, '0.151*\"money\" + 0.128*\"....\" + 0.071*\"waste\" + 0.056*\"value\" + 0.046*\"glass\" + 0.038*\"speaker\" + 0.024*\"gorilla\" + 0.022*\"set\" + 0.022*\"ok\" + 0.020*\"piece\"'), (2, '0.216*\"note\" + 0.113*\"k8\" + 0.090*\"lenovo\" + 0.030*\"sound\" + 0.023*\"dolby\" + 0.020*\"killer\" + 0.018*\"gallery\" + 0.018*\"system\" + 0.018*\"atmos\" + 0.018*\"excellent\"'), (3, '0.078*\"phone\" + 0.040*\"day\" + 0.038*\"amazon\" + 0.035*\"service\" + 0.034*\"issue\" + 0.027*\"time\" + 0.027*\"lenovo\" + 0.026*\"battery\" + 0.024*\"month\" + 0.023*\"device\"'), (4, '0.280*\"product\" + 0.176*\"problem\" + 0.080*\"network\" + 0.075*\"issue\" + 0.066*\"heating\" + 0.021*\"jio\" + 0.021*\"sim\" + 0.019*\"volta\" + 0.010*\"connection\" + 0.009*\"signal\"'), (5, '0.093*\"heat\" + 0.070*\".....\" + 0.052*\"processor\" + 0.038*\"everything\" + 0.038*\"budget\" + 0.031*\"....\" + 0.030*\"core\" + 0.025*\"display\" + 0.017*\"cell\" + 0.016*\"hr\"'), (6, '0.126*\"range\" + 0.075*\"price\" + 0.046*\"work\" + 0.038*\"mobile\" + 0.038*\"specification\" + 0.035*\"super\" + 0.034*\"......\" + 0.030*\"bit\" + 0.026*\"cam\" + 0.025*\"k\"'), (7, '0.118*\"charger\" + 0.059*\"hai\" + 0.056*\"handset\" + 0.037*\"box\" + 0.029*\"turbo\" + 0.027*\"charge\" + 0.021*\"plz\" + 0.016*\"hi\" + 0.016*\"cable\" + 0.013*\"bhi\"'), (8, '0.242*\"price\" + 0.065*\"superb\" + 0.046*\"buy\" + 0.045*\"headphone\" + 0.039*\"thanks\" + 0.036*\"worth\" + 0.034*\"feature\" + 0.029*\"smartphone\" + 0.026*\"expectation\" + 0.017*\"offer\"'), (9, '0.158*\"camera\" + 0.136*\"battery\" + 0.064*\"quality\" + 0.061*\"phone\" + 0.045*\"performance\" + 0.029*\"backup\" + 0.019*\"issue\" + 0.017*\"life\" + 0.017*\"day\" + 0.015*\"mode\"'), (10, '0.548*\"phone\" + 0.021*\"h\" + 0.014*\"ram\" + 0.013*\"hang\" + 0.012*\"gb\" + 0.011*\"game\" + 0.010*\"ho\" + 0.007*\"u\" + 0.006*\"lot\" + 0.006*\"interface\"'), (11, '0.106*\"feature\" + 0.061*\"delivery\" + 0.060*\"time\" + 0.035*\"star\" + 0.034*\"experience\" + 0.029*\"camera\" + 0.023*\"condition\" + 0.018*\"cost\" + 0.018*\"class\" + 0.017*\"awesome\"')]\n"
     ]
    }
   ],
   "source": [
    "print(lda_model.print_topics())"
   ]
  },
  {
   "cell_type": "markdown",
   "metadata": {
    "id": "G5dEExXLq9kG"
   },
   "source": [
    "**What is the coherence of the model with the c_v metric**"
   ]
  },
  {
   "cell_type": "code",
   "execution_count": 28,
   "metadata": {
    "colab": {
     "base_uri": "https://localhost:8080/",
     "height": 0
    },
    "id": "pC4l1i9Iq6za",
    "outputId": "5f852ff1-fda0-42cf-9143-f79fb7334455"
   },
   "outputs": [
    {
     "name": "stdout",
     "output_type": "stream",
     "text": [
      "\n",
      "Coherence Score:  0.48926964040228144\n"
     ]
    }
   ],
   "source": [
    "coherence_model_lda = CoherenceModel(model=lda_model, texts=reviews_sw_removed, dictionary=id2word, coherence='c_v')\n",
    "coherence_lda = coherence_model_lda.get_coherence()\n",
    "print('\\nCoherence Score: ', coherence_lda)"
   ]
  },
  {
   "cell_type": "markdown",
   "metadata": {
    "id": "DeaeelMhrGIF"
   },
   "source": [
    "### **9 -Analyze the topics through the business lens. (a)Determine which of the topics can be combined.**"
   ]
  },
  {
   "cell_type": "code",
   "execution_count": 29,
   "metadata": {
    "id": "cjTq8M4LrAb6"
   },
   "outputs": [],
   "source": [
    "x = lda_model.show_topics(formatted=False)\n",
    "topics_words = [(tp[0], [wd[0] for wd in tp[1]]) for tp in x]"
   ]
  },
  {
   "cell_type": "code",
   "execution_count": 30,
   "metadata": {
    "colab": {
     "base_uri": "https://localhost:8080/",
     "height": 0
    },
    "id": "YPkvEaUdrK8N",
    "outputId": "39301821-5e66-4c03-af1e-57684ecf3d28"
   },
   "outputs": [
    {
     "name": "stdout",
     "output_type": "stream",
     "text": [
      "5::['heat', '.....', 'processor', 'everything', 'budget', '....', 'core', 'display', 'cell', 'hr']\n",
      "9::['camera', 'battery', 'quality', 'phone', 'performance', 'backup', 'issue', 'life', 'day', 'mode']\n",
      "1::['money', '....', 'waste', 'value', 'glass', 'speaker', 'gorilla', 'set', 'ok', 'piece']\n",
      "2::['note', 'k8', 'lenovo', 'sound', 'dolby', 'killer', 'gallery', 'system', 'atmos', 'excellent']\n",
      "0::['mobile', 'call', 'screen', 'feature', 'option', 'music', 'software', 'app', 'video', 'card']\n",
      "6::['range', 'price', 'work', 'mobile', 'specification', 'super', '......', 'bit', 'cam', 'k']\n",
      "3::['phone', 'day', 'amazon', 'service', 'issue', 'time', 'lenovo', 'battery', 'month', 'device']\n",
      "4::['product', 'problem', 'network', 'issue', 'heating', 'jio', 'sim', 'volta', 'connection', 'signal']\n",
      "7::['charger', 'hai', 'handset', 'box', 'turbo', 'charge', 'plz', 'hi', 'cable', 'bhi']\n",
      "8::['price', 'superb', 'buy', 'headphone', 'thanks', 'worth', 'feature', 'smartphone', 'expectation', 'offer']\n",
      "\n"
     ]
    }
   ],
   "source": [
    "for topic,words in topics_words:\n",
    "    print(str(topic)+ \"::\"+ str(words))\n",
    "print()"
   ]
  },
  {
   "cell_type": "markdown",
   "metadata": {
    "id": "uUzohzoSrO2K"
   },
   "source": [
    "###possible topics from terms present\n",
    "1. Topic 0 : Overal Features\n",
    "2. Topic 1 : product accessories review\n",
    "3. Topic 2 : Product specification\n",
    "4. Topic 3 : Amazon service\n",
    "5. Topic 5 : product technology\n",
    "6. Topic 6 : range of product\n",
    "7. Topic 7 : accessories\n",
    "8. Topic 8 : possitive review\n",
    "9. Topic 9 : Normal phone features\n",
    "10. Topic 11 : overal review of a product"
   ]
  },
  {
   "cell_type": "code",
   "execution_count": 31,
   "metadata": {
    "colab": {
     "base_uri": "https://localhost:8080/",
     "height": 0
    },
    "id": "Dd9JgofyrLnB",
    "outputId": "566d6e28-914f-4593-bd8a-084a67bc9b14"
   },
   "outputs": [
    {
     "name": "stdout",
     "output_type": "stream",
     "text": [
      "Requirement already satisfied: pyLDAvis in /usr/local/lib/python3.10/dist-packages (3.4.1)\n",
      "Requirement already satisfied: numpy>=1.24.2 in /usr/local/lib/python3.10/dist-packages (from pyLDAvis) (1.25.1)\n",
      "Requirement already satisfied: scipy in /usr/local/lib/python3.10/dist-packages (from pyLDAvis) (1.10.1)\n",
      "Requirement already satisfied: pandas>=2.0.0 in /usr/local/lib/python3.10/dist-packages (from pyLDAvis) (2.0.3)\n",
      "Requirement already satisfied: joblib>=1.2.0 in /usr/local/lib/python3.10/dist-packages (from pyLDAvis) (1.3.1)\n",
      "Requirement already satisfied: jinja2 in /usr/local/lib/python3.10/dist-packages (from pyLDAvis) (3.1.2)\n",
      "Requirement already satisfied: numexpr in /usr/local/lib/python3.10/dist-packages (from pyLDAvis) (2.8.4)\n",
      "Requirement already satisfied: funcy in /usr/local/lib/python3.10/dist-packages (from pyLDAvis) (2.0)\n",
      "Requirement already satisfied: scikit-learn>=1.0.0 in /usr/local/lib/python3.10/dist-packages (from pyLDAvis) (1.2.2)\n",
      "Requirement already satisfied: gensim in /usr/local/lib/python3.10/dist-packages (from pyLDAvis) (4.3.1)\n",
      "Requirement already satisfied: setuptools in /usr/local/lib/python3.10/dist-packages (from pyLDAvis) (67.7.2)\n",
      "Requirement already satisfied: python-dateutil>=2.8.2 in /usr/local/lib/python3.10/dist-packages (from pandas>=2.0.0->pyLDAvis) (2.8.2)\n",
      "Requirement already satisfied: pytz>=2020.1 in /usr/local/lib/python3.10/dist-packages (from pandas>=2.0.0->pyLDAvis) (2022.7.1)\n",
      "Requirement already satisfied: tzdata>=2022.1 in /usr/local/lib/python3.10/dist-packages (from pandas>=2.0.0->pyLDAvis) (2023.3)\n",
      "Requirement already satisfied: threadpoolctl>=2.0.0 in /usr/local/lib/python3.10/dist-packages (from scikit-learn>=1.0.0->pyLDAvis) (3.2.0)\n",
      "Requirement already satisfied: smart-open>=1.8.1 in /usr/local/lib/python3.10/dist-packages (from gensim->pyLDAvis) (6.3.0)\n",
      "Requirement already satisfied: MarkupSafe>=2.0 in /usr/local/lib/python3.10/dist-packages (from jinja2->pyLDAvis) (2.1.3)\n",
      "Requirement already satisfied: six>=1.5 in /usr/local/lib/python3.10/dist-packages (from python-dateutil>=2.8.2->pandas>=2.0.0->pyLDAvis) (1.16.0)\n"
     ]
    }
   ],
   "source": [
    "!pip install pyLDAvis"
   ]
  },
  {
   "cell_type": "code",
   "execution_count": 32,
   "metadata": {
    "id": "4F0Dum53rTtm"
   },
   "outputs": [],
   "source": [
    "import pyLDAvis\n",
    "import pyLDAvis.gensim\n",
    "import pickle"
   ]
  },
  {
   "cell_type": "code",
   "execution_count": 33,
   "metadata": {
    "colab": {
     "base_uri": "https://localhost:8080/",
     "height": 0
    },
    "id": "Ah-asP0ft5m4",
    "outputId": "666a555b-078a-4401-972f-e5d840bbb77e"
   },
   "outputs": [
    {
     "name": "stderr",
     "output_type": "stream",
     "text": [
      "/usr/local/lib/python3.10/dist-packages/ipykernel/ipkernel.py:283: DeprecationWarning: `should_run_async` will not call `transform_cell` automatically in the future. Please pass the result to `transformed_cell` argument and any exception that happen during thetransform in `preprocessing_exc_tuple` in IPython 7.17 and above.\n",
      "  and should_run_async(code)\n"
     ]
    }
   ],
   "source": [
    "pyLDAvis.enable_notebook()"
   ]
  },
  {
   "cell_type": "code",
   "execution_count": 34,
   "metadata": {
    "colab": {
     "base_uri": "https://localhost:8080/",
     "height": 916
    },
    "id": "kZyGFU_at-bX",
    "outputId": "d4408e5e-73bd-4d77-9830-0739fe16bb9d"
   },
   "outputs": [
    {
     "name": "stderr",
     "output_type": "stream",
     "text": [
      "/usr/local/lib/python3.10/dist-packages/ipykernel/ipkernel.py:283: DeprecationWarning: `should_run_async` will not call `transform_cell` automatically in the future. Please pass the result to `transformed_cell` argument and any exception that happen during thetransform in `preprocessing_exc_tuple` in IPython 7.17 and above.\n",
      "  and should_run_async(code)\n"
     ]
    },
    {
     "data": {
      "text/html": [
       "\n",
       "<link rel=\"stylesheet\" type=\"text/css\" href=\"https://cdn.jsdelivr.net/gh/bmabey/pyLDAvis@3.4.0/pyLDAvis/js/ldavis.v1.0.0.css\">\n",
       "\n",
       "\n",
       "<div id=\"ldavis_el28491332820986626404454138201\" style=\"background-color:white;\"></div>\n",
       "<script type=\"text/javascript\">\n",
       "\n",
       "var ldavis_el28491332820986626404454138201_data = {\"mdsDat\": {\"x\": [-0.28184597471610684, -0.2670809490206453, -0.04128519499699862, -0.20780177429645977, -0.0355915470425325, 0.05503921247048367, 0.1548414803792155, 0.007802538078099971, 0.10212359512517336, 0.1291542998574604, 0.19011968195780737, 0.194524632204503], \"y\": [-0.07564956898190356, 0.07475338334445442, -0.07523803871521725, -0.11903887141421317, 0.3852091869550762, -0.013835875562608936, 0.010918215464057359, -0.11096559143834223, -0.017066785452082008, 0.03826962770751996, -0.04227339496981676, -0.05508228693692435], \"topics\": [1, 2, 3, 4, 5, 6, 7, 8, 9, 10, 11, 12], \"cluster\": [1, 1, 1, 1, 1, 1, 1, 1, 1, 1, 1, 1], \"Freq\": [22.576611440214993, 17.81443112319718, 11.92082625735131, 9.2742679986566, 7.3980888959317275, 6.431215900508358, 4.698214279919808, 4.48703591581255, 4.439589189137685, 4.337996950325082, 3.346365540761192, 3.275356508183517]}, \"tinfo\": {\"Term\": [\"phone\", \"product\", \"camera\", \"note\", \"battery\", \"problem\", \"mobile\", \"price\", \"money\", \"lenovo\", \"k8\", \"feature\", \"....\", \"issue\", \"quality\", \"charger\", \"network\", \"performance\", \"time\", \"range\", \"heating\", \"heat\", \"amazon\", \"day\", \"service\", \"waste\", \".....\", \"call\", \"processor\", \"backup\", \"performance\", \"backup\", \"life\", \"depth\", \"clarity\", \"mah\", \"effect\", \"lag\", \"mp\", \"selfie\", \"front\", \"gaming\", \"color\", \"rear\", \"wise\", \"nice\", \"capacity\", \"phn\", \"draining\", \"drainage\", \"standby\", \"build\", \"bokeh\", \"zoom\", \"max\", \"camera\", \"stop\", \"rom\", \"lenova\", \"nd\", \"mark\", \"quality\", \"average\", \"battery\", \"mode\", \"picture\", \"improvement\", \"charging\", \"pic\", \"image\", \"fast\", \"hour\", \"drain\", \"hr\", \"sound\", \"display\", \"day\", \"phone\", \"issue\", \"charge\", \"usage\", \"use\", \"thing\", \"time\", \"processor\", \"heating\", \"amazon\", \"service\", \"customer\", \"return\", \"purchase\", \"center\", \"earphone\", \"policy\", \"care\", \"brand\", \"centre\", \"sale\", \"warranty\", \"request\", \"response\", \"solution\", \"team\", \"samsung\", \"strength\", \"defect\", \"future\", \"reception\", \"motorola\", \"mail\", \"hell\", \"cash\", \"net\", \"online\", \"i.e\", \"saver\", \"replacement\", \"minute\", \"device\", \"month\", \"day\", \"please\", \"people\", \"year\", \"support\", \"update\", \"lenovo\", \"time\", \"issue\", \"refund\", \"phone\", \"company\", \"problem\", \"experience\", \"battery\", \"product\", \"hour\", \"lot\", \"use\", \"screen\", \"card\", \"cast\", \"sensor\", \"button\", \"notification\", \"key\", \"voice\", \"message\", \"recording\", \"recorder\", \"brightness\", \"auto\", \"tv\", \"player\", \"facility\", \"finger\", \"shot\", \"print\", \"setting\", \"lock\", \"hotspot\", \"default\", \"seller\", \"functionality\", \"file\", \"comparison\", \"tray\", \"colour\", \"lack\", \"office\", \"mobile\", \"google\", \"body\", \"music\", \"option\", \"call\", \"contact\", \"app\", \"apps\", \"screen\", \"video\", \"volume\", \"software\", \"feature\", \"slot\", \"sim\", \"application\", \"memory\", \"photo\", \"speaker\", \"function\", \"speed\", \"time\", \"data\", \"light\", \"h\", \"gb\", \"interface\", \"someone\", \"head\", \"space\", \"term\", \"complain\", \"raha\", \"restart\", \"nahi\", \"fall\", \"disappointment\", \"batter\", \"doubt\", \"love\", \"beast\", \"smart\", \"second\", \"perfect\", \"motion\", \"toh\", \"gr8\", \"upgrade\", \"phone.it\", \"im\", \"share\", \"decision\", \"gamer\", \"technology\", \"hang\", \"phone\", \"ho\", \"ram\", \"u\", \"spec\", \"game\", \"version\", \"storage\", \"bug\", \"one\", \"memory\", \"market\", \"lot\", \"user\", \"review\", \"apps\", \"software\", \"use\", \"android\", \"stock\", \"update\", \"network\", \"jio\", \"volta\", \"connection\", \"result\", \"hanging\", \"fine\", \"lte\", \"fone\", \"place\", \"coverage\", \"loss\", \"amazone\", \"trouble\", \"stand\", \"limit\", \"provide\", \"discount\", \"rock\", \"wow\", \"selfi\", \"website\", \"ti\", \"lena\", \"step\", \"packaging\", \"anybody\", \"persist\", \"engineer\", \"rotation\", \"product\", \"problem\", \"heating\", \"connectivity\", \"sim\", \"issue\", \"signal\", \"tone\", \"hence\", \"data\", \"slot\", \"please\", \"lot\", \"note\", \"k8\", \"killer\", \"atmos\", \"excellent\", \"k4\", \"k5\", \"hope\", \"k6\", \"reason\", \"half\", \"jata\", \"difference\", \"pc\", \"china\", \"mob\", \"output\", \"log\", \"manager\", \"bhut\", \"battry\", \".but\", \"aap\", \"view\", \"department\", \"october\", \"diya\", \"fake\", \"impression\", \"phone.but\", \"gallery\", \"dolby\", \"lenovo\", \"sound\", \"system\", \"power\", \"compare\", \"touch\", \"way\", \"speaker\", \"nothing\", \"mi\", \"redmi\", \"thing\", \"quality\", \"money\", \"waste\", \"value\", \"glass\", \"gorilla\", \"set\", \"ok\", \"pls\", \"item\", \"help\", \"package\", \"invoice\", \"processer\", \"guard\", \"wastage\", \"test\", \"iron\", \"standard\", \"paisa\", \"crack\", \"spent\", \"feeling\", \"decacore\", \"\\ud83d\\udd0b\", \"bye\", \"a7000\", \"news\", \"wasool\", \"duplicate\", \"receiver\", \"....\", \"piece\", \"speaker\", \"scratch\", \"hand\", \"dont\", \"side\", \"screen\", \"display\", \"delivery\", \"condition\", \"class\", \"awesome\", \"rating\", \"rest\", \"n\", \"buying\", \"processing\", \"hd\", \"graphic\", \"v\", \"caller\", \"list\", \"job\", \"bed\", \"atom\", \"access\", \"copy\", \"iam\", \"\\ud83d\\udc4d\", \"navigation\", \"minus\", \"mobail\", \"coz\", \".it\", \"awsm\", \"\\ud83d\\ude0d\", \"\\ud83d\\udc4c\", \"a6000\", \"r\", \"star\", \"cost\", \"feature\", \"till\", \"experience\", \"lover\", \"date\", \"time\", \"look\", \"smartphone\", \"speed\", \"weight\", \"budget\", \"dolby\", \"camera\", \"phone\", \"lot\", \"heat\", \".....\", \"core\", \"cell\", \"deca\", \"order\", \"configuration\", \"amount\", \"mind\", \"mediatek\", \"blur\", \"cool\", \"doesnt\", \"detail\", \"damage\", \"g5s\", \"x23\", \"reality\", \"alot\", \"mean\", \"helio\", \"msg\", \"x20\", \"technician\", \"mia1\", \"pad\", \"smartphones\", \"book\", \"blowing\", \"overheat\", \"budget\", \"a1\", \"processor\", \"name\", \"everything\", \"get\", \"change\", \"discharge\", \"process\", \"display\", \"hr\", \"....\", \"moto\", \"min\", \"flash\", \"segment\", \"work\", \"month\", \"charger\", \"hai\", \"handset\", \"box\", \"plz\", \"hi\", \"cable\", \"bhi\", \"ye\", \"sir\", \"ka\", \"ki\", \"accessory\", \"se\", \"bahut\", \"working\", \"nhi\", \"rha\", \"hota\", \"ke\", \"bekar\", \"idea\", \"description\", \"din\", \"kar\", \"koi\", \"chor\", \"wrost\", \"gaya\", \"hone\", \"turbo\", \"charge\", \"piece\", \"one\", \"hour\", \"refund\", \"data\", \"range\", \"specification\", \"super\", \"......\", \"cam\", \"k\", \"bill\", \"gud\", \"headset\", \"thank\", \"deal\", \"concern\", \"ko\", \"tha\", \"camara\", \"series\", \"pr\", \"hv\", \"gya\", \"nougat\", \"socket\", \"example\", \"task\", \"gift\", \"shape\", \"pm\", \"c\", \"phonecamera\", \"cpu\", \"osm\", \"work\", \"mi\", \"bit\", \"price\", \"type\", \"mobile\", \"superb\", \"buy\", \"headphone\", \"thanks\", \"worth\", \"offer\", \"ringtone\", \"others\", \"record\", \"icon\", \".........\", \"ph\", \"category\", \"benefit\", \"alarm\", \"buget\", \"pack\", \"gesture\", \"bhai\", \"mobil\", \"folder\", \"none\", \"isme\", \"ringtones\", \"curve\", \"comapre\", \"seal\", \"march\", \"bracket\", \"price\", \"smartphone\", \"jack\", \"expectation\", \"ui\", \"feature\", \"point\", \"bt\"], \"Freq\": [6950.0, 2124.0, 3240.0, 1222.0, 3097.0, 1466.0, 1573.0, 916.0, 625.0, 953.0, 636.0, 843.0, 649.0, 1438.0, 1381.0, 450.0, 520.0, 894.0, 980.0, 372.0, 547.0, 364.0, 595.0, 952.0, 540.0, 294.0, 274.0, 503.0, 324.0, 577.0, 893.9362596965773, 576.9193701083925, 333.4410115205047, 177.75537908963832, 155.18173537122945, 121.5507667337158, 115.16997697004734, 102.1262029134311, 98.51017791475525, 64.9845076019887, 134.33544354151937, 60.52978105467567, 58.81638992236116, 54.651347917002724, 48.720244862610755, 46.03691092507795, 42.26515915424644, 39.68893608763153, 39.32496482513462, 35.9520585353001, 32.65801414616421, 31.79418830931978, 31.102171556329704, 28.006912288078794, 27.00146802191963, 3125.3158958396007, 24.09671980882743, 24.130284197524684, 23.544278335142756, 23.32532690857881, 164.9414248184957, 1268.031399670858, 69.51245548011006, 2691.7479152199844, 305.8521586252487, 150.74584915752388, 43.6130385904227, 172.9811785965101, 65.42091614224296, 104.2580062624414, 58.740507423256254, 281.48661239166125, 152.47503665277733, 137.57171013891292, 181.85215774671673, 180.25586263152823, 333.10318612121966, 1200.564464807536, 384.98569219736464, 150.4212788668773, 124.3984197424277, 137.73661955591862, 111.21674459037375, 191.32569550283458, 121.94734076690332, 118.4796401571665, 594.6192781784606, 539.4190597455665, 225.0942502566038, 201.45741012034716, 157.26346621362566, 153.43339302002806, 119.76050485370277, 110.77511762261972, 110.46509873772729, 91.4314574928698, 89.48715419333934, 81.91251519825843, 77.53761987925026, 67.64360379076471, 68.72998728982667, 64.34153947131927, 62.21014326114036, 51.523091237269966, 44.33781366040104, 42.662449596367956, 42.220082765909446, 40.583742185262544, 38.12696225321867, 36.68738038307787, 36.05333157057765, 34.47324623624087, 33.98321638592702, 33.12824436327654, 32.869855260982234, 31.796336446595298, 195.99326358756025, 98.01811054030117, 365.37154347007, 378.86150640876355, 618.3503889771844, 150.33521302709826, 81.50580920093441, 64.55955857443398, 119.16172019806277, 226.93466804305567, 416.9347717956796, 421.0563329054666, 530.604141413931, 84.46737970777356, 1217.5471221207665, 94.99389429598095, 324.42284819477516, 134.65435971554766, 405.02647725718805, 305.34244282033524, 157.69829619487288, 125.68767085783384, 125.24902696158254, 129.15291833451477, 151.77083546117052, 149.25933932604408, 151.284953737301, 116.15694221017398, 114.02172192167207, 109.85527639847803, 98.88135322730795, 93.24296272555586, 65.08203047240204, 62.50521597521852, 60.407742111736546, 59.76648636147206, 59.36436760760162, 53.45629229297482, 52.797220230100926, 50.637506164640925, 49.32137842856517, 48.099309913132636, 41.2959916776685, 39.903336108931356, 38.170714319185635, 35.32765845719052, 33.43557141562832, 32.18411913475769, 31.15380245842643, 26.171464305546625, 24.5012775380371, 23.767513823435046, 23.344848838087625, 23.0555212726832, 1447.8708054719948, 55.54362089151273, 45.22523866603728, 214.38173168543196, 309.6407723706074, 413.32520476074893, 99.00134302431327, 172.44815174885898, 141.98153635181322, 374.8191365901668, 155.3078362122515, 78.96707483326445, 182.8976869721327, 328.6492680678468, 74.46983912322149, 133.92407244540928, 75.78412580785756, 77.8021811930976, 92.82028069343585, 124.78524895503423, 73.28620377421893, 89.09749934416644, 112.7315247619584, 78.86389315403254, 74.65358872021854, 174.37722221914856, 100.83475932771937, 50.56854975532675, 45.04052532268143, 39.093298022782264, 37.20956976758455, 36.79765731907947, 35.920863210172634, 31.274524742257796, 28.612297987696973, 28.079136857106196, 26.69208732516388, 23.588255959252105, 22.64415620428226, 21.766632674580652, 21.279483786643958, 21.051991650250724, 20.76649066737875, 20.657564460226023, 19.82858814726526, 19.43484301304866, 19.263995611517966, 18.336562648058784, 17.088320946061753, 16.527432352272324, 15.881154160507958, 15.63188170864279, 14.959042179651671, 13.98288674900095, 13.798129198183991, 109.1777720699448, 4460.85887766263, 78.62776489903808, 110.43983298045367, 54.87564503189042, 35.9876781549737, 88.71079294849604, 49.642977288544095, 32.218986365725826, 37.197853564481, 31.4157785001149, 40.74902638892961, 27.415153633323285, 52.3783280041309, 38.39087905961356, 41.68560647861517, 39.73896615351828, 46.15575477450255, 42.544966483227235, 37.19248048039276, 36.200343155938675, 33.52723761123869, 519.5788015422347, 136.48137281498234, 123.75922439379892, 63.54171091290451, 51.53896436849479, 44.71599053018499, 36.0239392573866, 32.31553629456682, 29.721468110553857, 23.92517080107452, 20.748531398002577, 18.5902894959276, 17.764393749628653, 15.53808790131248, 15.145254227037777, 14.160654444083974, 13.525158202078448, 13.171965020875072, 13.002358299519445, 12.350296445231528, 11.518570014489057, 10.804172884095552, 10.095013999498121, 9.461568622912466, 9.3572880860382, 9.312523452063354, 9.17276385021917, 8.132523952405196, 7.966842137088921, 7.923457341086325, 1818.5879751840496, 1140.2422417656524, 428.2924210171313, 58.30960713382857, 136.3945745078386, 485.1381908419116, 59.050566523018645, 15.158983085898576, 13.070292271975742, 21.195700159657676, 18.070566647159943, 19.428661214253836, 18.667897447420444, 1221.1544010499156, 635.9215259797373, 111.86381880880346, 100.49271176274665, 99.88679547934724, 80.2603904437215, 49.87423905270996, 42.710539465878924, 37.84661058829049, 35.88174712693265, 35.35772029943076, 33.5321595656329, 29.413578451878507, 28.445409386581, 28.11426487576811, 27.416857850674646, 25.295890725417717, 20.970540377778168, 20.732171509796313, 19.565821552875832, 19.404427196871826, 18.748186932745675, 16.51914096584022, 16.031639226793434, 15.801082242411237, 15.229837268832712, 15.042275861760027, 13.314773580069055, 13.044912809987677, 12.84560073239442, 103.94553803769801, 131.7217793204925, 510.035310419308, 168.60756501256083, 100.96607039265278, 65.87077998310836, 37.39609376939404, 42.880509026096675, 34.81097253096478, 64.15924962690025, 39.69433783740847, 30.27877149353977, 23.374811124275517, 31.45612193841517, 35.42497134176161, 624.1150578826248, 293.3918671774507, 232.63185139703722, 190.33050791372116, 98.00468291219123, 91.27441556307421, 90.10680393639942, 79.864787293321, 76.09081909293243, 61.57775009694741, 38.73054483502015, 34.855197250982144, 22.64715882600072, 21.39828283368805, 21.21149476491541, 20.527522726758946, 20.051484576481453, 19.315705665425483, 18.60433965627532, 17.68886159347283, 16.230531425633018, 13.428116291736465, 12.208576860190151, 12.100640276280446, 11.425633520271415, 11.008486361031764, 9.482401656427577, 8.561193721617784, 8.202812782333739, 7.690487842120572, 529.4304989167417, 80.62158341329085, 158.00358741274462, 23.450909183548642, 47.82074778998994, 37.516065350747276, 30.380670136720155, 61.85735633357297, 28.25578021513869, 241.6525635303678, 91.733760592263, 71.39377943185937, 67.6087805293421, 51.16714225189713, 45.56899898396513, 44.803691540314006, 41.94948603277064, 36.125751101634926, 34.26718554676244, 31.64874270497009, 28.90960812170364, 26.322893748023397, 23.126790026518353, 22.018412907004365, 20.958674372310522, 19.677734864950224, 18.055683618050157, 17.805731413777874, 16.1757384251628, 14.988788111042542, 14.347897621045774, 13.714572135016452, 13.22566461882587, 12.610945944323896, 11.689679156187946, 11.350503353686738, 10.759717150841865, 10.520996497958544, 10.319330889953937, 67.56558860071662, 136.57207167333098, 72.40359792340925, 416.3789329986677, 64.77785393137796, 134.5863429207854, 26.4787898445652, 40.51802558738849, 238.11195467968435, 56.15858558453801, 47.99091488396413, 60.9741813028429, 26.37329410887958, 47.43225038644232, 42.22053555090634, 114.52609732935906, 67.5377595057873, 28.47550723973305, 363.8443802668886, 273.3105429718302, 115.2977520122272, 68.12748404752196, 62.0829188075846, 48.263850364001485, 43.537176583761976, 39.620356788042784, 32.44697255383772, 31.684141810748496, 27.013626013640703, 26.88459143851019, 26.31925141665584, 26.044782901876275, 25.044650216177025, 20.07192248206746, 18.165464160269728, 16.947066290131232, 16.45775721210598, 15.732678927121425, 15.306173919120479, 14.656460880942756, 14.144129932054852, 13.194923068558913, 12.813709038620493, 12.44897327734357, 12.207873052541109, 12.167709936827206, 12.096025069470445, 12.040565433351189, 146.1086916019279, 24.369646132818247, 201.91238606228237, 38.7644481784671, 147.91057926069126, 34.45300971794697, 26.93858363895911, 23.384673925898547, 26.004997074937933, 98.19625308237211, 63.82539073975036, 119.38056798586358, 37.22191390291233, 45.252266057486, 39.43370767744028, 26.58908544671636, 33.17518705176913, 37.356101734828286, 449.7171244457993, 225.14889235728276, 214.22571022818602, 141.46902959634332, 78.46177553321604, 60.317021235089086, 59.4950761501089, 50.268842179000536, 39.02173975687868, 34.55943818812299, 33.976775129188695, 33.43329231756023, 33.1438909106533, 32.86538964492663, 30.65686507230605, 28.548930192782137, 26.46385370688454, 26.292374103741228, 26.189884418555902, 25.625375854923956, 25.59308485132019, 25.355727630692467, 24.211012527748316, 21.013855784362196, 20.329316283957763, 19.241457380838256, 18.90904383959595, 18.36848013894698, 18.290298654783975, 18.26802160202061, 110.89693040242541, 101.27125145276784, 37.61661053304437, 27.933155517989373, 33.67022771158618, 25.67620773281824, 22.19045424335378, 371.3316834531625, 111.85294148939997, 103.11609896718117, 100.76391883039243, 75.87060120250867, 73.94440028691176, 60.548343380511405, 55.2734932883589, 52.63523423281773, 39.25404457055097, 38.93228918790098, 38.688960773982956, 36.71653932728615, 32.15393058371447, 25.126725430855185, 24.662061842777558, 15.688480948642196, 14.528242528995749, 13.260504391007549, 12.139480822955717, 10.832699420566094, 10.73011215469556, 10.334836786870296, 10.033722454862657, 7.646548784877542, 7.254008557928613, 7.192619308781971, 7.161581851629425, 7.008726374296878, 6.802927702685751, 134.241190006061, 52.19160135554229, 88.14993310767308, 220.48042657081282, 21.901645010741582, 111.87370148893322, 186.86249788168473, 131.74922301592116, 128.73566677562124, 113.16800287303701, 102.47737758459036, 50.266271180156906, 37.357118652501505, 34.349739619031865, 23.673476068822314, 23.096236431422508, 22.556204562373843, 21.81862786709663, 19.444965217096538, 17.62582330493873, 16.6249351392229, 14.892600647486674, 14.83541063208406, 14.62334615808505, 12.407920904455283, 11.022140295131287, 9.535033955831631, 9.189525220415598, 8.827383793558178, 8.090994096213906, 7.7036326433765705, 7.052215002682713, 4.587385692388937, 3.8565706699478706, 3.1005198974843724, 695.400482780017, 84.28111947256636, 29.442232494254856, 74.3547923841601, 17.28169025596583, 97.64053899063939, 21.342402155254927, 12.56303222735171], \"Total\": [6950.0, 2124.0, 3240.0, 1222.0, 3097.0, 1466.0, 1573.0, 916.0, 625.0, 953.0, 636.0, 843.0, 649.0, 1438.0, 1381.0, 450.0, 520.0, 894.0, 980.0, 372.0, 547.0, 364.0, 595.0, 952.0, 540.0, 294.0, 274.0, 503.0, 324.0, 577.0, 894.8670148218873, 577.8501073942901, 334.4276121372619, 178.6861190425792, 156.11254601160203, 122.48150891271229, 116.10072359410688, 103.06087784314427, 99.44092157233554, 65.91524455583259, 136.34210231438905, 61.46052276706284, 59.74713866066057, 55.58208673887842, 49.65099507098619, 46.96765854102652, 43.19589677922431, 40.619684550936356, 40.25570307779064, 36.88281919963276, 33.58875434803175, 32.724929370921735, 32.032908737544275, 28.93770897483361, 27.932232454502138, 3240.6916302260165, 25.027529213388934, 25.062652374508925, 24.475118097092246, 24.256066650141225, 172.76310523539527, 1381.1439763973156, 73.20618831462255, 3097.792219100007, 365.2838030702171, 173.18510857077464, 46.43386934999911, 216.1467951185206, 74.3807198078717, 128.4754359754055, 66.01722487380091, 473.612878612353, 222.46517953525057, 202.2404695771061, 356.0566528682443, 363.93585028100665, 952.5780169630098, 6950.225303212863, 1438.1404588669864, 308.1935042845658, 221.38351938141506, 312.24615097951465, 238.8676214817469, 980.3175062458361, 324.7257531442176, 547.6243023488704, 595.5458545979918, 540.3437601344262, 226.01894886597617, 202.38211565427147, 158.188173556245, 154.35809542708952, 120.68521376314466, 111.69982026706084, 111.38979918230113, 92.35616683432836, 90.41185006583832, 82.8372657688173, 78.46231992167513, 68.56830697575312, 69.70347370072439, 65.26625264528417, 63.134843222645216, 52.51567396273854, 45.262523290671695, 43.58715006126343, 43.14480302138335, 41.50852063586076, 39.051672331944935, 37.612092567143826, 36.98955850318699, 35.39797251670998, 34.907927891560036, 34.05294874867028, 33.7946243423112, 32.72106734209567, 208.07426475281721, 103.85546704210971, 471.15043173613896, 522.7201027575165, 952.5780169630098, 201.0760393844335, 98.84908875297992, 75.46440849628405, 169.65184107003603, 415.4003730332045, 953.3306419938318, 980.3175062458361, 1438.1404588669864, 110.98489173528911, 6950.225303212863, 135.5516583814699, 1466.7911866418776, 270.8024169070322, 3097.792219100007, 2124.776586747324, 473.612878612353, 300.529726748635, 312.24615097951465, 566.5834159796776, 152.6999202731826, 150.18840629671604, 152.24169165296178, 117.08636464773244, 114.95079408582916, 110.78435176056016, 99.81069512415759, 94.17203534871189, 66.01109966816978, 63.434280486216934, 61.336819818384264, 60.69556742088438, 60.29343814028988, 54.38535975156133, 53.72629184226625, 51.56657752886785, 50.250452256376406, 49.028379868087534, 42.22506162385759, 40.83240793199341, 39.09979189466001, 36.25672978246209, 34.36464982858414, 33.11320017038295, 32.08287491184198, 27.100563631902737, 25.430349582599124, 24.696768932344835, 24.273943875344006, 23.984604800034834, 1573.6713149433028, 58.80807473022422, 48.013322290857246, 243.89419979825612, 359.1800844581528, 503.57728346381174, 113.51719347181164, 221.27315023959665, 182.67447260875412, 566.5834159796776, 239.27019851015382, 100.53798410436167, 340.94495674634726, 843.4338867791054, 99.71029503070721, 271.1691829740901, 110.09049003467135, 119.39975488456867, 185.44835113908775, 369.1173337887036, 113.60179630538227, 257.62690340684486, 980.3175062458361, 185.66769524504952, 160.1720138073988, 175.31096615820655, 101.76850162471982, 51.50230926812052, 45.97427318405351, 40.027030165108904, 38.14330883368633, 37.73139324995434, 36.85467616972005, 32.208266092998564, 29.546033175729576, 29.0129251814042, 27.625846615394916, 24.521997124711703, 23.577891624775987, 22.700372465355503, 22.213218131130382, 21.985738035281283, 21.700215382345462, 21.59131386851386, 20.762313717470608, 20.368580379602214, 20.1977414435715, 19.270295943442736, 18.022073926241774, 17.461194202091548, 16.81489766539386, 16.56565228275629, 15.892792213632557, 14.916631477576336, 14.731884325388572, 132.71091605014246, 6950.225303212863, 93.77691910945357, 206.4146470474107, 87.42144276518336, 49.82130207666259, 196.89852418858027, 88.74083484288545, 55.40333559770317, 87.37935680971297, 60.19926789408519, 119.39975488456867, 44.095871802087274, 300.529726748635, 127.1665735193816, 190.1010701194472, 182.67447260875412, 340.94495674634726, 312.24615097951465, 170.53547306262368, 159.1824153211438, 415.4003730332045, 520.514811339075, 137.4172448212698, 124.69510645795764, 64.47758397219886, 52.47485019242793, 45.72737873219997, 36.95981242104824, 33.25140512299464, 30.65734839557793, 24.861053501529668, 21.684421128133703, 19.52617485923449, 18.700285299074594, 16.473965801916272, 16.081130114385996, 15.096598886946563, 14.461091909548667, 14.107848379633133, 13.938276446047661, 13.286178501138558, 12.454484751646719, 11.740045581922619, 11.030893615082528, 10.397532800988223, 10.293176193259548, 10.24840727068239, 10.108658506526801, 9.068408674124509, 8.902723308362072, 8.86152874087276, 2124.776586747324, 1466.7911866418776, 547.6243023488704, 83.27322155047771, 271.1691829740901, 1438.1404588669864, 106.9362291597684, 20.270134266695475, 18.90249539855117, 185.66769524504952, 99.71029503070721, 201.0760393844335, 300.529726748635, 1222.0795660176327, 636.8456881255115, 112.78787774816624, 101.41677150904518, 100.8108484425935, 81.18444388845853, 50.798296471467864, 43.63460387204625, 38.77066439045047, 36.80581167643565, 36.281790361236425, 34.45632623276931, 30.33763541774282, 29.36948043135242, 29.03832372706205, 28.34091900284068, 26.219949309304223, 21.894616527967383, 21.656241334684623, 20.489940214553563, 20.328502221049554, 19.67225162971777, 17.44325317466249, 16.955700872197298, 16.725152798029857, 16.153907768612264, 15.966415105490059, 14.23886265322398, 13.968974640049774, 13.769656362694048, 121.95197034669523, 174.78512457719586, 953.3306419938318, 356.0566528682443, 186.90554691718305, 143.6365411466208, 81.31702864170946, 112.75564470914722, 75.1889245490331, 369.1173337887036, 119.58318922165056, 83.32191455301366, 36.50446760835277, 238.8676214817469, 1381.1439763973156, 625.0440839476302, 294.320892128993, 233.560877055377, 191.25953526997597, 98.93371422029031, 92.20344628772874, 91.03582707858085, 80.79381416587418, 77.01984759486268, 62.5067871644469, 39.6595744079449, 35.784219556007486, 23.576190213194636, 22.32731196804163, 22.140546119853436, 21.456565571127992, 20.98052101440185, 20.244739541089892, 19.533378135347895, 18.617888544708812, 17.159560958683674, 14.357169858445793, 13.137617508040888, 13.029668550226607, 12.354665729662534, 11.937538058085579, 10.411476413465481, 9.490212085112644, 9.131934205029147, 8.6195277690126, 649.6527182041588, 119.79214367762253, 369.1173337887036, 34.33516205518211, 95.20492337106725, 76.80316687921304, 106.09000448686793, 566.5834159796776, 363.93585028100665, 242.58570221641034, 92.66689799335559, 72.32690836094024, 68.54190082104265, 52.10027174064902, 46.50213207704557, 45.73681928391152, 42.882614419823256, 37.058877871352266, 35.20032505323483, 32.581888498152, 29.842766177449196, 27.2560321810339, 24.059917931298727, 22.95154376346199, 21.891817055851586, 20.6108833544598, 18.98882229617207, 18.7388594213227, 17.10886644718137, 15.921912274591897, 15.281035484888854, 14.64770748160067, 14.158811752005803, 13.544086646612577, 12.622809307510641, 12.28362734956257, 11.692837591528102, 11.454132861724636, 11.252468157033569, 77.81911953677398, 161.33509500726984, 88.83406359176325, 843.4338867791054, 98.03947829828627, 270.8024169070322, 37.3259471043194, 68.99014548537187, 980.3175062458361, 155.45685388889893, 133.12249417332345, 257.62690340684486, 46.06147799992769, 194.38669347000905, 174.78512457719586, 3240.6916302260165, 6950.225303212863, 300.529726748635, 364.7714086088043, 274.2375841925557, 116.22477710584876, 69.05451476652769, 63.00994091633573, 49.190879337575744, 44.47338579537759, 40.547389115440055, 33.3740165033902, 32.6111688956859, 27.940656759127208, 27.811611870340606, 27.246277982155732, 26.97182941034567, 25.971675443058587, 20.99894479043553, 19.092512834434352, 17.874103322489383, 17.384781214450637, 16.659714778429056, 16.233194876312666, 15.583493677650068, 15.071149940586588, 14.121986099611156, 13.740794616036323, 13.376054444971723, 13.134904644200054, 13.094739699216406, 13.023043722598704, 12.967589520989124, 194.38669347000905, 28.10479702703278, 324.7257531442176, 49.4915897722226, 250.61397942346477, 46.55362267930112, 37.341558409351286, 31.045600833555078, 37.539408432343635, 363.93585028100665, 202.2404695771061, 649.6527182041588, 82.0027362587419, 121.90883478889799, 110.52441399806497, 44.470517404543926, 212.3581635277014, 522.7201027575165, 450.6481250848968, 226.0798830859722, 215.1567112433691, 142.40002992939463, 79.39277369795225, 61.24801967338363, 60.42607169179551, 51.19983194952522, 39.952729776347915, 35.49043519731342, 34.90776607111684, 34.36428377540686, 34.07489171181934, 33.79638109469359, 31.587855241280735, 29.47993727037521, 27.39484307694571, 27.22336709075141, 27.120875527693357, 26.55636625238742, 26.52407519536485, 26.286744213778462, 25.142011335954376, 21.94484705107531, 21.260309386660904, 20.17244914862898, 19.840045794517593, 19.299476199531806, 19.221288393251363, 19.199014083961732, 208.52164555520784, 308.1935042845658, 119.79214367762253, 60.19926789408519, 473.612878612353, 110.98489173528911, 185.66769524504952, 372.26010698263275, 112.7813638189328, 104.04451039984248, 101.69234026495705, 76.79902319286819, 74.87283340409348, 61.476758908956796, 56.20190796505219, 53.56365771797212, 40.18246496436366, 39.86071391095465, 39.61739984655626, 37.644985225663746, 33.08238563811462, 26.055148275211533, 25.590502094875127, 16.616923406736134, 15.456671052888895, 14.188928539981424, 13.06792417201264, 11.761122003546825, 11.658593527093576, 11.263261397189597, 10.962175376735706, 8.574991115823632, 8.182439994344044, 8.121055997347463, 8.09001052645965, 7.937169319851242, 7.731339150497562, 212.3581635277014, 83.32191455301366, 174.11825015353253, 916.7266585565186, 39.847420960539154, 1573.6713149433028, 187.79422631134693, 132.68095874669862, 129.6674005478532, 114.09974166921472, 103.40911068726027, 51.198006117958094, 38.28885156884629, 35.281475103342096, 24.60522459346698, 24.0279842603028, 23.48793583329625, 22.75035909412038, 20.376693008960306, 18.557609349354323, 17.556680340912607, 15.824329840547703, 15.767145200591447, 15.555089599408383, 13.339727631363498, 11.953865683238634, 10.466767388652528, 10.121260326847292, 9.75918871019143, 9.02272727484881, 8.635411295756352, 7.984005357578075, 5.519114774473748, 4.788310022962595, 4.032264161319074, 916.7266585565186, 133.12249417332345, 46.24506690866454, 131.4605795799111, 37.40049014831001, 843.4338867791054, 64.00773157320666, 23.40810347730004], \"Category\": [\"Default\", \"Default\", \"Default\", \"Default\", \"Default\", \"Default\", \"Default\", \"Default\", \"Default\", \"Default\", \"Default\", \"Default\", \"Default\", \"Default\", \"Default\", \"Default\", \"Default\", \"Default\", \"Default\", \"Default\", \"Default\", \"Default\", \"Default\", \"Default\", \"Default\", \"Default\", \"Default\", \"Default\", \"Default\", \"Default\", \"Topic1\", \"Topic1\", \"Topic1\", \"Topic1\", \"Topic1\", \"Topic1\", \"Topic1\", \"Topic1\", \"Topic1\", \"Topic1\", \"Topic1\", \"Topic1\", \"Topic1\", \"Topic1\", \"Topic1\", \"Topic1\", \"Topic1\", \"Topic1\", \"Topic1\", \"Topic1\", \"Topic1\", \"Topic1\", \"Topic1\", \"Topic1\", \"Topic1\", \"Topic1\", \"Topic1\", \"Topic1\", \"Topic1\", \"Topic1\", \"Topic1\", \"Topic1\", \"Topic1\", \"Topic1\", \"Topic1\", \"Topic1\", \"Topic1\", \"Topic1\", \"Topic1\", \"Topic1\", \"Topic1\", \"Topic1\", \"Topic1\", \"Topic1\", \"Topic1\", \"Topic1\", \"Topic1\", \"Topic1\", \"Topic1\", \"Topic1\", \"Topic1\", \"Topic1\", \"Topic1\", \"Topic1\", \"Topic1\", \"Topic1\", \"Topic2\", \"Topic2\", \"Topic2\", \"Topic2\", \"Topic2\", \"Topic2\", \"Topic2\", \"Topic2\", \"Topic2\", \"Topic2\", \"Topic2\", \"Topic2\", \"Topic2\", \"Topic2\", \"Topic2\", \"Topic2\", \"Topic2\", \"Topic2\", \"Topic2\", \"Topic2\", \"Topic2\", \"Topic2\", \"Topic2\", \"Topic2\", \"Topic2\", \"Topic2\", \"Topic2\", \"Topic2\", \"Topic2\", \"Topic2\", \"Topic2\", \"Topic2\", \"Topic2\", \"Topic2\", \"Topic2\", \"Topic2\", \"Topic2\", \"Topic2\", \"Topic2\", \"Topic2\", \"Topic2\", \"Topic2\", \"Topic2\", \"Topic2\", \"Topic2\", \"Topic2\", \"Topic2\", \"Topic2\", \"Topic2\", \"Topic2\", \"Topic2\", \"Topic2\", \"Topic2\", \"Topic2\", \"Topic3\", \"Topic3\", \"Topic3\", \"Topic3\", \"Topic3\", \"Topic3\", \"Topic3\", \"Topic3\", \"Topic3\", \"Topic3\", \"Topic3\", \"Topic3\", \"Topic3\", \"Topic3\", \"Topic3\", \"Topic3\", \"Topic3\", \"Topic3\", \"Topic3\", \"Topic3\", \"Topic3\", \"Topic3\", \"Topic3\", \"Topic3\", \"Topic3\", \"Topic3\", \"Topic3\", \"Topic3\", \"Topic3\", \"Topic3\", \"Topic3\", \"Topic3\", \"Topic3\", \"Topic3\", \"Topic3\", \"Topic3\", \"Topic3\", \"Topic3\", \"Topic3\", \"Topic3\", \"Topic3\", \"Topic3\", \"Topic3\", \"Topic3\", \"Topic3\", \"Topic3\", \"Topic3\", \"Topic3\", \"Topic3\", \"Topic3\", \"Topic3\", \"Topic3\", \"Topic3\", \"Topic3\", \"Topic3\", \"Topic4\", \"Topic4\", \"Topic4\", \"Topic4\", \"Topic4\", \"Topic4\", \"Topic4\", \"Topic4\", \"Topic4\", \"Topic4\", \"Topic4\", \"Topic4\", \"Topic4\", \"Topic4\", \"Topic4\", \"Topic4\", \"Topic4\", \"Topic4\", \"Topic4\", \"Topic4\", \"Topic4\", \"Topic4\", \"Topic4\", \"Topic4\", \"Topic4\", \"Topic4\", \"Topic4\", \"Topic4\", \"Topic4\", \"Topic4\", \"Topic4\", \"Topic4\", \"Topic4\", \"Topic4\", \"Topic4\", \"Topic4\", \"Topic4\", \"Topic4\", \"Topic4\", \"Topic4\", \"Topic4\", \"Topic4\", \"Topic4\", \"Topic4\", \"Topic4\", \"Topic4\", \"Topic4\", \"Topic4\", \"Topic4\", \"Topic4\", \"Topic4\", \"Topic4\", \"Topic5\", \"Topic5\", \"Topic5\", \"Topic5\", \"Topic5\", \"Topic5\", \"Topic5\", \"Topic5\", \"Topic5\", \"Topic5\", \"Topic5\", \"Topic5\", \"Topic5\", \"Topic5\", \"Topic5\", \"Topic5\", \"Topic5\", \"Topic5\", \"Topic5\", \"Topic5\", \"Topic5\", \"Topic5\", \"Topic5\", \"Topic5\", \"Topic5\", \"Topic5\", \"Topic5\", \"Topic5\", \"Topic5\", \"Topic5\", \"Topic5\", \"Topic5\", \"Topic5\", \"Topic5\", \"Topic5\", \"Topic5\", \"Topic5\", \"Topic5\", \"Topic5\", \"Topic5\", \"Topic5\", \"Topic5\", \"Topic5\", \"Topic6\", \"Topic6\", \"Topic6\", \"Topic6\", \"Topic6\", \"Topic6\", \"Topic6\", \"Topic6\", \"Topic6\", \"Topic6\", \"Topic6\", \"Topic6\", \"Topic6\", \"Topic6\", \"Topic6\", \"Topic6\", \"Topic6\", \"Topic6\", \"Topic6\", \"Topic6\", \"Topic6\", \"Topic6\", \"Topic6\", \"Topic6\", \"Topic6\", \"Topic6\", \"Topic6\", \"Topic6\", \"Topic6\", \"Topic6\", \"Topic6\", \"Topic6\", \"Topic6\", \"Topic6\", \"Topic6\", \"Topic6\", \"Topic6\", \"Topic6\", \"Topic6\", \"Topic6\", \"Topic6\", \"Topic6\", \"Topic6\", \"Topic6\", \"Topic6\", \"Topic7\", \"Topic7\", \"Topic7\", \"Topic7\", \"Topic7\", \"Topic7\", \"Topic7\", \"Topic7\", \"Topic7\", \"Topic7\", \"Topic7\", \"Topic7\", \"Topic7\", \"Topic7\", \"Topic7\", \"Topic7\", \"Topic7\", \"Topic7\", \"Topic7\", \"Topic7\", \"Topic7\", \"Topic7\", \"Topic7\", \"Topic7\", \"Topic7\", \"Topic7\", \"Topic7\", \"Topic7\", \"Topic7\", \"Topic7\", \"Topic7\", \"Topic7\", \"Topic7\", \"Topic7\", \"Topic7\", \"Topic7\", \"Topic7\", \"Topic7\", \"Topic7\", \"Topic8\", \"Topic8\", \"Topic8\", \"Topic8\", \"Topic8\", \"Topic8\", \"Topic8\", \"Topic8\", \"Topic8\", \"Topic8\", \"Topic8\", \"Topic8\", \"Topic8\", \"Topic8\", \"Topic8\", \"Topic8\", \"Topic8\", \"Topic8\", \"Topic8\", \"Topic8\", \"Topic8\", \"Topic8\", \"Topic8\", \"Topic8\", \"Topic8\", \"Topic8\", \"Topic8\", \"Topic8\", \"Topic8\", \"Topic8\", \"Topic8\", \"Topic8\", \"Topic8\", \"Topic8\", \"Topic8\", \"Topic8\", \"Topic8\", \"Topic8\", \"Topic8\", \"Topic8\", \"Topic8\", \"Topic8\", \"Topic8\", \"Topic8\", \"Topic8\", \"Topic8\", \"Topic8\", \"Topic8\", \"Topic9\", \"Topic9\", \"Topic9\", \"Topic9\", \"Topic9\", \"Topic9\", \"Topic9\", \"Topic9\", \"Topic9\", \"Topic9\", \"Topic9\", \"Topic9\", \"Topic9\", \"Topic9\", \"Topic9\", \"Topic9\", \"Topic9\", \"Topic9\", \"Topic9\", \"Topic9\", \"Topic9\", \"Topic9\", \"Topic9\", \"Topic9\", \"Topic9\", \"Topic9\", \"Topic9\", \"Topic9\", \"Topic9\", \"Topic9\", \"Topic9\", \"Topic9\", \"Topic9\", \"Topic9\", \"Topic9\", \"Topic9\", \"Topic9\", \"Topic9\", \"Topic9\", \"Topic9\", \"Topic9\", \"Topic9\", \"Topic9\", \"Topic9\", \"Topic9\", \"Topic9\", \"Topic9\", \"Topic9\", \"Topic10\", \"Topic10\", \"Topic10\", \"Topic10\", \"Topic10\", \"Topic10\", \"Topic10\", \"Topic10\", \"Topic10\", \"Topic10\", \"Topic10\", \"Topic10\", \"Topic10\", \"Topic10\", \"Topic10\", \"Topic10\", \"Topic10\", \"Topic10\", \"Topic10\", \"Topic10\", \"Topic10\", \"Topic10\", \"Topic10\", \"Topic10\", \"Topic10\", \"Topic10\", \"Topic10\", \"Topic10\", \"Topic10\", \"Topic10\", \"Topic10\", \"Topic10\", \"Topic10\", \"Topic10\", \"Topic10\", \"Topic10\", \"Topic10\", \"Topic11\", \"Topic11\", \"Topic11\", \"Topic11\", \"Topic11\", \"Topic11\", \"Topic11\", \"Topic11\", \"Topic11\", \"Topic11\", \"Topic11\", \"Topic11\", \"Topic11\", \"Topic11\", \"Topic11\", \"Topic11\", \"Topic11\", \"Topic11\", \"Topic11\", \"Topic11\", \"Topic11\", \"Topic11\", \"Topic11\", \"Topic11\", \"Topic11\", \"Topic11\", \"Topic11\", \"Topic11\", \"Topic11\", \"Topic11\", \"Topic11\", \"Topic11\", \"Topic11\", \"Topic11\", \"Topic11\", \"Topic11\", \"Topic12\", \"Topic12\", \"Topic12\", \"Topic12\", \"Topic12\", \"Topic12\", \"Topic12\", \"Topic12\", \"Topic12\", \"Topic12\", \"Topic12\", \"Topic12\", \"Topic12\", \"Topic12\", \"Topic12\", \"Topic12\", \"Topic12\", \"Topic12\", \"Topic12\", \"Topic12\", \"Topic12\", \"Topic12\", \"Topic12\", \"Topic12\", \"Topic12\", \"Topic12\", \"Topic12\", \"Topic12\", \"Topic12\", \"Topic12\", \"Topic12\", \"Topic12\", \"Topic12\", \"Topic12\", \"Topic12\", \"Topic12\", \"Topic12\"], \"logprob\": [30.0, 29.0, 28.0, 27.0, 26.0, 25.0, 24.0, 23.0, 22.0, 21.0, 20.0, 19.0, 18.0, 17.0, 16.0, 15.0, 14.0, 13.0, 12.0, 11.0, 10.0, 9.0, 8.0, 7.0, 6.0, 5.0, 4.0, 3.0, 2.0, 1.0, -3.0982, -3.5362, -4.0844, -4.7135, -4.8493, -5.0935, -5.1475, -5.2677, -5.3037, -5.7197, -4.9935, -5.7907, -5.8195, -5.8929, -6.0078, -6.0644, -6.1499, -6.2128, -6.222, -6.3117, -6.4078, -6.4346, -6.4566, -6.5614, -6.598, -1.8466, -6.7118, -6.7104, -6.735, -6.7443, -4.7883, -2.7487, -5.6524, -1.9959, -4.1708, -4.8783, -6.1185, -4.7407, -5.713, -5.247, -5.8207, -4.2538, -4.8669, -4.9697, -4.6907, -4.6995, -4.0854, -2.8033, -3.9407, -4.8804, -5.0704, -4.9685, -5.1824, -4.6399, -5.0903, -5.1191, -3.2691, -3.3665, -4.2405, -4.3514, -4.599, -4.6237, -4.8715, -4.9495, -4.9523, -5.1414, -5.1629, -5.2513, -5.3062, -5.4427, -5.4268, -5.4928, -5.5265, -5.7149, -5.8651, -5.9037, -5.9141, -5.9536, -6.0161, -6.0545, -6.072, -6.1168, -6.1311, -6.1566, -6.1644, -6.1976, -4.3789, -5.0718, -3.7561, -3.7198, -3.2299, -4.6441, -5.2563, -5.4894, -4.8765, -4.2323, -3.624, -3.6142, -3.383, -5.2206, -2.5524, -5.1032, -3.8749, -4.7543, -3.653, -3.9355, -4.5963, -4.8232, -4.8267, -4.796, -4.2329, -4.2496, -4.2361, -4.5003, -4.5189, -4.5561, -4.6613, -4.72, -5.0796, -5.12, -5.1541, -5.1648, -5.1716, -5.2764, -5.2888, -5.3306, -5.3569, -5.382, -5.5345, -5.5688, -5.6132, -5.6906, -5.7456, -5.7838, -5.8163, -5.9906, -6.0565, -6.0869, -6.1049, -6.1173, -1.9774, -5.2381, -5.4436, -3.8875, -3.5198, -3.231, -4.6601, -4.1052, -4.2996, -3.3288, -4.2098, -4.8862, -4.0463, -3.4603, -4.9449, -4.358, -4.9274, -4.9011, -4.7246, -4.4287, -4.9609, -4.7655, -4.5302, -4.8875, -4.9424, -3.843, -4.3907, -5.0809, -5.1966, -5.3383, -5.3876, -5.3988, -5.4229, -5.5614, -5.6504, -5.6692, -5.7198, -5.8435, -5.8843, -5.9238, -5.9465, -5.9572, -5.9709, -5.9761, -6.0171, -6.0371, -6.046, -6.0953, -6.1658, -6.1992, -6.2391, -6.2549, -6.2989, -6.3664, -6.3797, -4.3112, -0.6011, -4.6395, -4.2997, -4.9991, -5.421, -4.5188, -5.0993, -5.5317, -5.388, -5.5569, -5.2968, -5.6931, -5.0457, -5.3564, -5.2741, -5.3219, -5.1722, -5.2536, -5.3881, -5.4151, -5.4918, -2.5252, -3.862, -3.9598, -4.6265, -4.8358, -4.9779, -5.194, -5.3026, -5.3863, -5.6033, -5.7457, -5.8555, -5.901, -6.0349, -6.0605, -6.1277, -6.1736, -6.2001, -6.2131, -6.2645, -6.3342, -6.3983, -6.4661, -6.5309, -6.542, -6.5468, -6.5619, -6.6823, -6.7029, -6.7084, -1.2724, -1.7392, -2.7184, -4.7124, -3.8626, -2.5938, -4.6998, -6.0596, -6.2078, -5.7244, -5.8839, -5.8114, -5.8514, -1.5306, -2.1831, -3.9208, -4.028, -4.0341, -4.2529, -4.7286, -4.8837, -5.0046, -5.0579, -5.0726, -5.1256, -5.2567, -5.2901, -5.3018, -5.327, -5.4075, -5.595, -5.6064, -5.6643, -5.6726, -5.707, -5.8336, -5.8636, -5.878, -5.9149, -5.9273, -6.0493, -6.0697, -6.0851, -3.9943, -3.7574, -2.4036, -3.5106, -4.0233, -4.4504, -5.0166, -4.8797, -5.0882, -4.4768, -4.9569, -5.2277, -5.4865, -5.1895, -5.0707, -1.8878, -2.6426, -2.8747, -3.0754, -3.7391, -3.8103, -3.8231, -3.9438, -3.9922, -4.2038, -4.6675, -4.7729, -5.2041, -5.2608, -5.2696, -5.3024, -5.3258, -5.3632, -5.4008, -5.4512, -5.5373, -5.7268, -5.822, -5.8309, -5.8883, -5.9255, -6.0747, -6.1769, -6.2197, -6.2842, -2.0523, -3.9344, -3.2615, -5.1692, -4.4567, -4.6994, -4.9103, -4.1993, -4.9828, -2.7907, -3.7593, -4.0099, -4.0644, -4.3431, -4.4589, -4.4759, -4.5417, -4.6911, -4.744, -4.8235, -4.914, -5.0077, -5.1372, -5.1863, -5.2356, -5.2987, -5.3847, -5.3986, -5.4946, -5.5709, -5.6146, -5.6597, -5.696, -5.7436, -5.8194, -5.8489, -5.9023, -5.9248, -5.9441, -4.0651, -3.3613, -3.9959, -2.2466, -4.1072, -3.3759, -5.0018, -4.5764, -2.8054, -4.25, -4.4071, -4.1677, -5.0058, -4.4189, -4.5352, -3.5374, -4.0655, -4.9291, -2.3708, -2.6569, -3.52, -4.0461, -4.1391, -4.3908, -4.4939, -4.5882, -4.7879, -4.8117, -4.9712, -4.976, -4.9972, -5.0077, -5.0469, -5.2682, -5.368, -5.4374, -5.4667, -5.5118, -5.5393, -5.5826, -5.6182, -5.6877, -5.717, -5.7459, -5.7654, -5.7687, -5.7746, -5.7792, -3.2832, -5.0742, -2.9597, -4.61, -3.2709, -4.7279, -4.974, -5.1154, -5.0092, -3.6806, -4.1114, -3.4852, -4.6506, -4.4553, -4.5929, -4.987, -4.7657, -4.647, -2.1358, -2.8276, -2.8773, -3.2923, -3.8818, -4.1448, -4.1585, -4.327, -4.5803, -4.7017, -4.7187, -4.7348, -4.7435, -4.752, -4.8215, -4.8928, -4.9686, -4.9751, -4.979, -5.0008, -5.0021, -5.0114, -5.0576, -5.1992, -5.2323, -5.2873, -5.3047, -5.3337, -5.338, -5.3392, -3.5358, -3.6266, -4.6169, -4.9146, -4.7278, -4.9988, -5.1447, -2.0677, -3.2677, -3.349, -3.3721, -3.6558, -3.6815, -3.8814, -3.9725, -4.0215, -4.3148, -4.323, -4.3293, -4.3816, -4.5143, -4.7609, -4.7796, -5.2319, -5.3087, -5.4, -5.4884, -5.6023, -5.6118, -5.6493, -5.6789, -5.9506, -6.0033, -6.0118, -6.0161, -6.0377, -6.0675, -3.0852, -4.0299, -3.5058, -2.589, -4.8983, -3.2675, -2.733, -3.0825, -3.1056, -3.2345, -3.3337, -4.0461, -4.3429, -4.4268, -4.799, -4.8237, -4.8474, -4.8806, -4.9958, -5.094, -5.1525, -5.2625, -5.2664, -5.2808, -5.4451, -5.5635, -5.7084, -5.7453, -5.7855, -5.8726, -5.9217, -6.01, -6.4401, -6.6136, -6.8318, -1.4189, -3.5292, -4.581, -3.6545, -5.1137, -3.3821, -4.9027, -5.4326], \"loglift\": [30.0, 29.0, 28.0, 27.0, 26.0, 25.0, 24.0, 23.0, 22.0, 21.0, 20.0, 19.0, 18.0, 17.0, 16.0, 15.0, 14.0, 13.0, 12.0, 11.0, 10.0, 9.0, 8.0, 7.0, 6.0, 5.0, 4.0, 3.0, 2.0, 1.0, 1.4872, 1.4866, 1.4853, 1.483, 1.4823, 1.4806, 1.4802, 1.4791, 1.4789, 1.474, 1.4734, 1.473, 1.4726, 1.4714, 1.4693, 1.4682, 1.4665, 1.4651, 1.4649, 1.4627, 1.4602, 1.4594, 1.4588, 1.4556, 1.4544, 1.452, 1.4504, 1.4503, 1.4495, 1.4491, 1.4419, 1.4028, 1.4365, 1.3478, 1.3107, 1.3495, 1.4256, 1.2655, 1.3599, 1.2794, 1.3715, 0.968, 1.1105, 1.1029, 0.8164, 0.7857, 0.4375, -0.2677, 0.1704, 0.771, 0.9118, 0.6698, 0.7238, -0.1456, 0.5089, -0.0426, 1.7236, 1.7234, 1.7211, 1.7206, 1.7193, 1.7192, 1.7175, 1.7168, 1.7168, 1.7151, 1.7149, 1.7139, 1.7133, 1.7116, 1.7111, 1.7109, 1.7104, 1.7061, 1.7045, 1.7037, 1.7035, 1.7026, 1.7012, 1.7003, 1.6995, 1.6987, 1.6983, 1.6976, 1.6974, 1.6965, 1.6653, 1.6673, 1.4709, 1.4033, 1.293, 1.4343, 1.5322, 1.5691, 1.3719, 1.1206, 0.8981, 0.8801, 0.7281, 1.4521, -0.0168, 1.3696, 0.2164, 1.0265, -0.3093, -0.2148, 0.6255, 0.8534, 0.8117, 0.2465, 2.1208, 2.1207, 2.1206, 2.1189, 2.1188, 2.1185, 2.1175, 2.117, 2.1127, 2.1121, 2.1116, 2.1115, 2.1114, 2.1097, 2.1094, 2.1087, 2.1082, 2.1078, 2.1046, 2.1039, 2.1028, 2.1009, 2.0995, 2.0984, 2.0975, 2.092, 2.0897, 2.0885, 2.0879, 2.0874, 2.0436, 2.0698, 2.0671, 1.9979, 1.9785, 1.9294, 1.9901, 1.8776, 1.8749, 1.7137, 1.6947, 1.8854, 1.5041, 1.1844, 1.835, 1.4214, 1.7535, 1.6986, 1.4348, 1.0424, 1.6886, 1.0651, -0.036, 1.2706, 1.3635, 2.3726, 2.3687, 2.3596, 2.3574, 2.3543, 2.3531, 2.3529, 2.3523, 2.3485, 2.3458, 2.3452, 2.3435, 2.3391, 2.3375, 2.3359, 2.335, 2.3345, 2.3339, 2.3337, 2.3319, 2.331, 2.3306, 2.3283, 2.3247, 2.323, 2.3208, 2.3199, 2.3174, 2.3133, 2.3124, 2.1827, 1.9345, 2.2017, 1.7525, 1.9123, 2.0527, 1.5806, 1.7971, 1.8358, 1.5239, 1.7276, 1.3029, 1.9027, 0.6309, 1.1802, 0.8605, 0.8526, 0.3782, 0.3847, 0.8551, 0.8969, -0.139, 2.6021, 2.5971, 2.5964, 2.5893, 2.586, 2.5816, 2.5783, 2.5754, 2.5729, 2.5656, 2.5598, 2.5548, 2.5526, 2.5455, 2.544, 2.5399, 2.537, 2.5353, 2.5344, 2.5309, 2.5258, 2.5209, 2.5153, 2.5096, 2.5086, 2.5082, 2.5068, 2.495, 2.4929, 2.4921, 2.4483, 2.3521, 2.3582, 2.2476, 1.9168, 1.5173, 2.0101, 2.3134, 2.235, 0.4338, 0.896, 0.267, -0.1748, 2.7432, 2.7426, 2.7358, 2.7349, 2.7348, 2.7326, 2.7256, 2.7226, 2.7199, 2.7186, 2.7182, 2.7168, 2.7131, 2.712, 2.7117, 2.7109, 2.7081, 2.7009, 2.7004, 2.6979, 2.6975, 2.6959, 2.6896, 2.688, 2.6872, 2.6851, 2.6844, 2.6769, 2.6756, 2.6745, 2.5842, 2.4611, 2.1185, 1.9965, 2.1282, 1.9644, 1.9672, 1.7772, 1.9739, 0.9943, 1.6412, 1.7317, 2.2982, 0.7167, -0.9192, 3.0565, 3.0548, 3.054, 3.0531, 3.0486, 3.0479, 3.0477, 3.0464, 3.0459, 3.043, 3.0343, 3.0317, 3.0178, 3.0155, 3.0151, 3.0137, 3.0127, 3.011, 3.0093, 3.0068, 3.0023, 2.9911, 2.9846, 2.984, 2.9798, 2.977, 2.9645, 2.955, 2.9507, 2.9439, 2.8534, 2.662, 2.2095, 2.6767, 2.3694, 2.3415, 1.8075, 0.8432, 0.5023, 3.1001, 3.0939, 3.091, 3.0903, 3.0859, 3.0837, 3.0834, 3.082, 3.0785, 3.0771, 3.0749, 3.0722, 3.0691, 3.0644, 3.0625, 3.0604, 3.0576, 3.0536, 3.0529, 3.0479, 3.0436, 3.041, 3.0382, 3.0358, 3.0326, 3.0272, 3.025, 3.0208, 3.019, 3.0174, 2.9627, 2.9373, 2.8995, 2.3981, 2.6896, 2.4048, 2.7606, 2.5718, 1.6888, 2.0858, 2.0837, 1.6629, 2.5464, 1.6934, 1.6833, -0.2388, -1.5299, 0.7475, 3.1121, 3.1112, 3.1066, 3.1011, 3.0998, 3.0956, 3.0933, 3.0915, 3.0864, 3.0858, 3.0809, 3.0807, 3.08, 3.0796, 3.0783, 3.0695, 3.0648, 3.0614, 3.0598, 3.0574, 3.0558, 3.0533, 3.0511, 3.0467, 3.0448, 3.0428, 3.0414, 3.0412, 3.0408, 3.0404, 2.8291, 2.972, 2.6395, 2.8703, 2.5873, 2.8136, 2.7881, 2.8312, 2.7475, 1.8046, 1.9613, 1.4205, 2.3248, 2.1236, 2.084, 2.6003, 1.2581, 0.4761, 3.1357, 3.1336, 3.1334, 3.1312, 3.126, 3.1224, 3.1222, 3.1194, 3.1142, 3.1112, 3.1107, 3.1103, 3.1101, 3.1098, 3.1078, 3.1057, 3.1032, 3.103, 3.1028, 3.1021, 3.102, 3.1017, 3.1, 3.0944, 3.093, 3.0905, 3.0897, 3.0883, 3.0881, 3.0881, 2.5063, 2.0248, 1.9794, 2.3699, 0.494, 1.6739, 1.0135, 3.3948, 3.389, 3.3883, 3.3881, 3.3851, 3.3848, 3.3821, 3.3806, 3.3798, 3.3739, 3.3737, 3.3736, 3.3723, 3.3688, 3.361, 3.3603, 3.3398, 3.3353, 3.3296, 3.3236, 3.3151, 3.3143, 3.3113, 3.3088, 3.2827, 3.2769, 3.2759, 3.2754, 3.2729, 3.2694, 2.9387, 2.9295, 2.7166, 1.9723, 2.7988, 0.7535, 3.4138, 3.4117, 3.4115, 3.4105, 3.4097, 3.4004, 3.3941, 3.392, 3.3801, 3.3792, 3.3783, 3.3769, 3.3719, 3.3672, 3.3642, 3.3581, 3.3578, 3.357, 3.3463, 3.3376, 3.3255, 3.3222, 3.3184, 3.3097, 3.3046, 3.2946, 3.2338, 3.2023, 3.156, 3.1424, 2.9616, 2.9672, 2.8489, 2.6467, 1.2626, 2.3204, 2.7964]}, \"token.table\": {\"Topic\": [7, 9, 9, 11, 12, 6, 8, 6, 9, 8, 7, 6, 8, 10, 12, 9, 2, 5, 9, 1, 3, 4, 5, 2, 3, 2, 3, 4, 3, 4, 6, 8, 3, 1, 6, 8, 8, 1, 10, 4, 1, 2, 6, 4, 8, 10, 12, 12, 10, 6, 11, 1, 11, 9, 9, 3, 7, 1, 9, 10, 12, 2, 3, 1, 12, 8, 9, 3, 4, 12, 1, 3, 12, 8, 7, 11, 10, 2, 3, 8, 11, 11, 1, 8, 1, 3, 2, 2, 3, 12, 9, 2, 2, 6, 9, 1, 2, 10, 10, 1, 2, 8, 6, 10, 1, 8, 1, 3, 12, 1, 2, 3, 1, 2, 6, 9, 3, 4, 11, 8, 9, 5, 2, 5, 2, 3, 9, 8, 9, 2, 8, 5, 8, 11, 7, 12, 2, 9, 1, 2, 3, 5, 9, 10, 2, 8, 1, 2, 11, 9, 7, 4, 3, 2, 8, 6, 1, 10, 9, 1, 2, 6, 10, 4, 4, 9, 5, 1, 2, 3, 6, 7, 9, 6, 9, 6, 8, 2, 7, 4, 1, 2, 1, 1, 7, 2, 1, 5, 1, 9, 11, 6, 1, 12, 2, 6, 8, 3, 6, 4, 1, 4, 8, 3, 8, 12, 7, 3, 5, 3, 3, 9, 12, 5, 1, 6, 1, 3, 6, 11, 3, 2, 9, 6, 8, 1, 2, 4, 4, 1, 10, 4, 12, 6, 9, 11, 7, 2, 3, 7, 4, 8, 7, 11, 11, 4, 10, 6, 2, 3, 7, 10, 1, 4, 5, 8, 4, 12, 11, 9, 1, 5, 9, 2, 7, 5, 6, 10, 4, 6, 10, 6, 10, 3, 1, 2, 10, 1, 9, 11, 2, 8, 12, 10, 4, 1, 3, 6, 1, 4, 4, 7, 7, 12, 1, 2, 3, 5, 7, 2, 12, 6, 5, 8, 11, 6, 6, 6, 6, 10, 10, 10, 3, 10, 6, 11, 10, 3, 1, 5, 1, 2, 4, 6, 1, 1, 3, 5, 8, 3, 6, 1, 8, 11, 5, 1, 2, 3, 4, 5, 8, 4, 1, 8, 5, 1, 2, 6, 12, 1, 6, 2, 4, 1, 9, 9, 3, 4, 3, 6, 11, 9, 1, 2, 9, 9, 8, 2, 9, 6, 8, 12, 1, 3, 11, 1, 3, 7, 1, 2, 9, 10, 4, 1, 2, 3, 9, 2, 1, 9, 3, 6, 8, 8, 4, 2, 9, 8, 1, 2, 5, 7, 10, 1, 12, 6, 1, 2, 6, 9, 3, 11, 6, 12, 3, 7, 4, 10, 2, 2, 3, 9, 11, 12, 6, 9, 12, 7, 5, 9, 7, 6, 2, 4, 4, 1, 5, 12, 1, 1, 2, 4, 8, 9, 6, 4, 11, 1, 3, 1, 3, 1, 3, 4, 7, 10, 5, 3, 2, 5, 6, 9, 7, 10, 11, 1, 2, 3, 12, 2, 1, 3, 6, 11, 11, 12, 3, 1, 2, 5, 2, 9, 7, 8, 1, 9, 2, 5, 5, 2, 1, 2, 6, 2, 8, 4, 1, 4, 11, 8, 9, 1, 6, 7, 2, 12, 3, 3, 1, 4, 6, 2, 10, 2, 7, 2, 2, 8, 4, 5, 2, 1, 2, 3, 4, 10, 12, 12, 5, 1, 5, 2, 2, 2, 3, 7, 2, 3, 7, 10, 12, 4, 6, 9, 5, 1, 3, 3, 11, 2, 7, 3, 11, 4, 3, 3, 7, 8, 2, 5, 3, 5, 10, 2, 3, 5, 4, 8, 12, 9, 11, 1, 2, 3, 4, 2, 4, 1, 2, 6, 4, 1, 3, 6, 7, 1, 2, 4, 11, 1, 3, 8, 7, 5, 7, 1, 2, 8, 5, 1, 3, 4, 1, 3, 4, 2, 11, 12, 2, 3, 2, 3, 6, 11, 2, 9, 4, 4, 7, 11, 11, 12, 1, 2, 3, 6, 12, 5, 2, 8, 1, 2, 3, 8, 9, 4, 2, 5, 1, 6, 3, 5, 1, 10, 3, 2, 11, 4, 9, 11, 1, 12, 1, 2, 3, 4, 4, 1, 2, 4, 1, 2, 4, 9, 1, 2, 3, 4, 8, 7, 2, 3, 4, 6, 1, 2, 3, 6, 3, 5, 3, 6, 2, 7, 7, 7, 1, 2, 4, 6, 5, 1, 8, 1, 2, 9, 11, 10, 12, 5, 10, 9, 9, 10, 2, 6, 1, 8, 8, 7, 8], \"Freq\": [0.8142812077540748, 0.1831747896460017, 0.9954871824144763, 0.9931918150063891, 0.9792261083834981, 0.9658274181130219, 0.9506600082170246, 0.10674334339132321, 0.8539467471305857, 0.8886939167874304, 0.9214630308591509, 0.9745888470330554, 0.9479260861600982, 0.9684550219290499, 0.9682923918358662, 0.9203452032344488, 0.9990834381705834, 0.9625521596128136, 0.9865000157252637, 0.35769684104139265, 0.4221995500816438, 0.21696365768084472, 0.8903258522571537, 0.21692645469197303, 0.77731979597957, 0.03633374689076468, 0.690341190924529, 0.2725031016807351, 0.7773390445425328, 0.21896874494155852, 0.9860302049851901, 0.9703611269854857, 0.9885400623070039, 0.9562033157518989, 0.04098014210365281, 0.9920938752128059, 0.895500953176646, 0.998528844447008, 0.9813898336309806, 0.9754901059868843, 0.8690059918809206, 0.13073827143825145, 0.9346482979117896, 0.9551646602129328, 0.9592625384372465, 0.9802415280644192, 0.9699525225013036, 0.8995685917744214, 0.9765657053189538, 0.976088743577418, 0.9922448919328547, 0.4881739847778703, 0.505403654828854, 0.9214435776773574, 0.966333763474621, 0.93723987120485, 0.041655105386882225, 0.9677547628906503, 0.9163985138794385, 0.9901683312139133, 0.7439988750683959, 0.98531590384472, 0.978205263619103, 0.42720248608339756, 0.5553632319084169, 0.2417860973968951, 0.7510802174456741, 0.5607731824658295, 0.42344097451501417, 0.947907440703399, 0.9778477941784075, 0.9907216809489228, 0.9948676980244118, 0.9794178962322024, 0.8903518913983975, 0.861956868944922, 0.9763997285961394, 0.1767355337949746, 0.8201323085092641, 0.953917277001606, 0.9895959198483348, 0.9595032711360394, 0.9643003273909317, 0.035486252047986284, 0.972314574568585, 0.9954163677889913, 0.987523101823475, 0.9605069890358819, 0.9920872301263508, 0.9324378588638045, 0.9847292422502282, 0.9912016572675904, 0.9843842365264044, 0.2677981430334665, 0.7230549861903596, 0.4867072080192183, 0.18170402432717483, 0.3277161867329403, 0.9985617934507668, 0.800381980705003, 0.14804753400323756, 0.05089133981361291, 0.9642429867225982, 0.957659079862118, 0.992873436248235, 0.9816540152066443, 0.9874949884227258, 0.9717870408775501, 0.8767529186783298, 0.19180879312321444, 0.7008398210271297, 0.10328165783557701, 0.3320337751021937, 0.15986811393809325, 0.45500924736226545, 0.03689264167802152, 0.9593896404941499, 0.9768095596394832, 0.9844159422640674, 0.9928032770299119, 0.9893557509303286, 0.9925930231442174, 0.28820789628574567, 0.6965024160238853, 0.12332933515905194, 0.8721145843390101, 0.9708175177287678, 0.9605707367396138, 0.9894619965178911, 0.1801110897451226, 0.8104999038530517, 0.9684371962668754, 0.959828472690061, 0.8819265052709236, 0.966812104217671, 0.9264179465234494, 0.9954917546909734, 0.9625871097461952, 0.09156143171574849, 0.24236849571815774, 0.4254913591496547, 0.11310529800180695, 0.005385966571514617, 0.11849126457332157, 0.40585506528518484, 0.594287774167592, 0.3495776661544888, 0.6487657588092315, 0.978406961980726, 0.9839717209435774, 0.9134076245297438, 0.9438240806504262, 0.9653380271744755, 0.9865292853412493, 0.9975855864090134, 0.9566429791831094, 0.996160199537292, 0.9545775665799163, 0.9639687247179124, 0.22285875789837703, 0.7746994917419773, 0.9559083824654142, 0.9569444686091347, 0.9787131071724307, 0.22547477942298919, 0.740845703818393, 0.9214729028962004, 0.49459265928601476, 0.049459265928601476, 0.08792758387306929, 0.016486421976200493, 0.07693663588893562, 0.2692782256112747, 0.939472004259882, 0.9542587804847344, 0.7552130097987869, 0.24029504857234127, 0.4947712645724872, 0.4947712645724872, 0.9691470936688644, 0.6832529940979593, 0.3101608986365736, 0.9760642158384261, 0.9688068278086187, 0.8760466096650404, 0.9943223055933808, 0.9905192357116132, 0.8986014417055768, 0.40700044041697153, 0.5905496586442331, 0.9435100361323121, 0.9919567342689787, 0.42598321245008064, 0.5629063878804637, 0.4985184458170703, 0.0036927292282745946, 0.4985184458170703, 0.9864816309229277, 0.9129942690371077, 0.9773456131821802, 0.8937061518836168, 0.015147561896332488, 0.09088537137799492, 0.3900720674816387, 0.49322182392815106, 0.11619167967538174, 0.9054709339078119, 0.9662475724255534, 0.9740309174160842, 0.9890126986117961, 0.6333442310874912, 0.35286321446303076, 0.9554048187639509, 0.9785582110006373, 0.9828218703200833, 0.00733449156955286, 0.1760535541730024, 0.6425954727314588, 0.10563213250380143, 0.07042142166920096, 0.9663819816672803, 0.9734660273957916, 0.9524288100947566, 0.8527947494767008, 0.13939914174138376, 0.5231120975866299, 0.025393791144982032, 0.45200948238068017, 0.9385497001146487, 0.9925070151321649, 0.936461678933023, 0.9924485315942477, 0.9643145996774268, 0.23628665970373278, 0.7303405845388103, 0.9122276971797344, 0.9934145230030071, 0.03400893515345957, 0.952250184296868, 0.9905622241351288, 0.9340801019781437, 0.982140737539354, 0.9405520928833041, 0.9786144633061289, 0.9162073065185103, 0.9925220527447012, 0.9952234446018289, 0.9646712483459501, 0.27309512028766986, 0.2205768279246564, 0.5041756066849289, 0.994623866312677, 0.17330902901242773, 0.8213340940154183, 0.9840931461114395, 0.9659001713359314, 0.9743415846523594, 0.9948529812039619, 0.989476862821058, 0.9978852273215537, 0.21547619324758663, 0.7815577178810769, 0.9240325218967135, 0.9732476259995985, 0.9918922858230802, 0.6877398843856573, 0.2645153401483297, 0.9796235097879258, 0.8424247752028791, 0.14929046649164945, 0.9375481429036843, 0.9854564080859504, 0.9586711156670137, 0.9718721803526987, 0.593311568771751, 0.3336057931172123, 0.0717885883923115, 0.6823560105876149, 0.3164549614319373, 0.9704547601921345, 0.9764866644392219, 0.9351876145269664, 0.95721720768724, 0.9510496924490176, 0.9515371617710779, 0.8094932639100683, 0.179022548749342, 0.9306338034810605, 0.9475841797362693, 0.04307200816983042, 0.9902468593106087, 0.9780847656945524, 0.9532651732657743, 0.9222078051018098, 0.2677068137720814, 0.3692268002934421, 0.025727667817057175, 0.33724105111547914, 0.9867586391467917, 0.34598284897285375, 0.6270939137632974, 0.9867563875009019, 0.9896865577307046, 0.9585411868905823, 0.9883424552750295, 0.985410457573795, 0.9842849755421179, 0.9801224868707618, 0.9986720674391301, 0.973995297514385, 0.94072008249082, 0.9790496091558685, 0.99292001308763, 0.9602993682532902, 0.9930145174827616, 0.9828666362386022, 0.9418786910805689, 0.9475180513769746, 0.9897062991763093, 0.8655899598743851, 0.9805877097218709, 0.437413822268285, 0.027272804266128083, 0.5349665452202047, 0.9957311774343681, 0.5306794737700526, 0.4682465945029876, 0.9273611960443124, 0.9559467353826707, 0.9796140376198291, 0.9591398859703877, 0.5725061184089447, 0.36022856888652705, 0.0643265301583084, 0.9730528450642422, 0.16637289276152145, 0.41925968975903405, 0.07985898852553029, 0.17302780847198232, 0.06322169924937815, 0.09316881994645201, 0.9453830541811438, 0.26791014765283183, 0.6965663838973627, 0.9623653461149753, 0.996068721581023, 0.9837261762011476, 0.9696973577019763, 0.835367797995073, 0.9550650283530283, 0.040517910293764836, 0.36284575734916397, 0.6123022155267142, 0.9666252077766924, 0.9604005958563437, 0.9812589086382993, 0.653267672746963, 0.34338428952083955, 0.9875543164765216, 0.36004933589124943, 0.6240855155448324, 0.9460879347420147, 0.3363168885257346, 0.28709978288782223, 0.36912829228434285, 0.9588297529831141, 0.9557809655596775, 0.943619077465267, 0.048143830482921784, 0.9526861142820995, 0.918156143869796, 0.920204416837633, 0.008260937259613436, 0.9201413193784811, 0.07117115177513114, 0.8377048131564124, 0.1615182482883279, 0.998329583505477, 0.1855677627248193, 0.7250534234299642, 0.0707835795960651, 0.017217627469313133, 0.9328092407965379, 0.24389430051326974, 0.13414186528229838, 0.15853129533362534, 0.45120445594954905, 0.973069723544601, 0.9955659947095844, 0.962556940714333, 0.8774296402990152, 0.04100138506070164, 0.07790263161533312, 0.9838900191257789, 0.9650871060028986, 0.20205453181082797, 0.7880126740622291, 0.9161682802087825, 0.948216391871849, 0.9739907824268322, 0.9990109573678594, 0.864430714971416, 0.9490837354670031, 0.9793973433829735, 0.8892173216933195, 0.9991166156053565, 0.42648135019605615, 0.20905948539022362, 0.3344951766243578, 0.02508713824682683, 0.9917286862314388, 0.9182789739245812, 0.9285678867837567, 0.9766005317629375, 0.9589484668084503, 0.9886217645094086, 0.514956428615403, 0.46512193552358977, 0.9690790728156428, 0.1364218176904763, 0.8630768057968908, 0.9757906475018824, 0.9054058894246677, 0.96367852819111, 0.9534724764371943, 0.9253840106965909, 0.9513453329165339, 0.9833691002036378, 0.8781852401344639, 0.8971255349899533, 0.9726940147448082, 0.9533706279022056, 0.8295473537941745, 0.16186289830130235, 0.9632837781066205, 0.9990311243933157, 0.8821834444699135, 0.9670177032803714, 0.9847442303457753, 0.17280015360722434, 0.17524611748009927, 0.6418496962879499, 0.009783855491499795, 0.0004316406834485204, 0.944104896852817, 0.9735874765062572, 0.865264634341995, 0.4960950013030812, 0.5014873382737669, 0.8738823739256293, 0.1075547537139236, 0.8718994447394512, 0.12703170718058232, 0.008347792846007835, 0.6761712205266346, 0.3172161281482977, 0.9653653654911812, 0.9745269727388066, 0.7459864460191491, 0.09449161649575889, 0.07957188757537591, 0.06962540162845392, 0.9901748150638805, 0.9824571729506388, 0.8554905388659882, 0.31246225273779127, 0.23434668955334345, 0.10936178845822694, 0.32808536537468086, 0.9937348129532558, 0.3689868857667552, 0.16708840110192688, 0.4594931030302989, 0.9628737888696022, 0.23998429406036131, 0.7581322016906868, 0.9790248041878108, 0.0006817603003802024, 0.22089033732318558, 0.7772067424334307, 0.2930253954274488, 0.6926054801012427, 0.975560503712251, 0.9714271469571178, 0.37570164613897195, 0.6220633813120683, 0.1435445034091343, 0.856090005577755, 0.9681150004140276, 0.9924888597577585, 0.9180795207951823, 0.05575088572652132, 0.02534131169387333, 0.11565281197697162, 0.87382124604823, 0.9624858385884605, 0.46023865727987684, 0.5329079189556468, 0.9966149824840309, 0.9788816506346438, 0.9510966616496181, 0.9895274399895594, 0.9781064011433944, 0.9281250915810241, 0.9877490060336809, 0.975402598290947, 0.9931538517834801, 0.9846828840414346, 0.19175735077419112, 0.13696953626727937, 0.6300598668294851, 0.7568597733135518, 0.23426612031133745, 0.9419713688900408, 0.052865740090767596, 0.9917118126315401, 0.9899076234888265, 0.9892019558111093, 0.9815192390639393, 0.990950899513069, 0.9931707619035245, 0.1893729476503206, 0.45765129015494144, 0.13150899142383374, 0.2209351055920407, 0.9550618743569371, 0.9663387248236256, 0.8866498738469353, 0.9326834670212242, 0.9576001630382208, 0.9027787680810581, 0.9898926435940806, 0.990180570412094, 0.9779632083954664, 0.29124662303700205, 0.6698672329851046, 0.22768050804478013, 0.66186194199064, 0.1094278410757858, 0.976435906185866, 0.9059423846601838, 0.9726133447869441, 0.38227574114671686, 0.6071438241741973, 0.9635083457317151, 0.9861148272755426, 0.9602891391185066, 0.9918439447205287, 0.9769249508006572, 0.9975131384248946, 0.9869479250919398, 0.9709873336652416, 0.9329455729974359, 0.9658539082493544, 0.9751156019452992, 0.6126873150245352, 0.2827787607805547, 0.08483362823416642, 0.4395142821969111, 0.5517306946727182, 0.49415644702076467, 0.5015319163792835, 0.9861812008056035, 0.06017432801850816, 0.7421500455616006, 0.18052298405552447, 0.9677323303014249, 0.36057016733404, 0.63099779283457, 0.9135962783939059, 0.9352849155618578, 0.16424938657081325, 0.16131636181062017, 0.5367435311153362, 0.13491913896888233, 0.9805986617285026, 0.9788082961061048, 0.51115461130661, 0.014042709101829946, 0.47464356764185217, 0.9700259660568142, 0.05689247856352684, 0.3386457057352788, 0.17338660133646275, 0.4280481720493924, 0.12043041329525055, 0.14050214884445897, 0.7225824797715032, 0.9930718711631537, 0.4153292943595468, 0.3454608149345763, 0.23677651360684443, 0.9324247886367469, 0.9327702651060059, 0.9385154084811268, 0.9824716825777062, 0.1487587062127961, 0.8491642812980443, 0.8743656798465783, 0.4083365607241557, 0.3580797532504134, 0.22615563363184008, 0.9589440409946964, 0.3970880049487859, 0.5775825526527795, 0.9721066525044596, 0.9899609273393817, 0.995770762887938, 0.7014365376139606, 0.2947212342915801, 0.19261065599059737, 0.262164503987202, 0.5403798959736203, 0.8878423084893684, 0.9820250884500784, 0.9205504033429087, 0.9503197072945203, 0.9806157900104783, 0.9787214048951829, 0.9672821165331078, 0.9705726125708728, 0.9903615761690069, 0.46469253267329946, 0.25537157200965105, 0.129778995611462, 0.129778995611462, 0.012559257639818903, 0.9065448683438495, 0.32639912569342344, 0.6629982240647664, 0.19483483543147354, 0.4294527000871747, 0.11526877698301838, 0.24277848603502986, 0.017341320431073563, 0.9406992387283623, 0.197334657352129, 0.7400049650704837, 0.6119427561962442, 0.3813556306730217, 0.9830773233690191, 0.9712294047702139, 0.4651795248485052, 0.532318837713238, 0.9785476134686444, 0.42662735981922334, 0.5521059950601714, 0.6291362652036259, 0.2859710296380118, 0.06863304711312282, 0.5080147325518015, 0.45453949754634876, 0.255175505082002, 0.5464607514491929, 0.11555117211260467, 0.08184874691309497, 0.9432876632054238, 0.5601139612672076, 0.3252274613809592, 0.10840915379365307, 0.44195901075832217, 0.4003251909042773, 0.1377118656710714, 0.01921560916340531, 0.19659254242774515, 0.2516384543075138, 0.243774752610404, 0.29882066449017264, 0.9717597835120916, 0.9975985830227722, 0.10141892417323309, 0.09015015482065164, 0.5634384676290727, 0.23664415640421055, 0.2925562833811476, 0.05433188119935598, 0.6478031989153983, 0.9436354250761533, 0.9918776727969969, 0.9944255514293819, 0.7857726679500103, 0.20887627882215465, 0.9941077459583576, 0.948345507906863, 0.9484860891109317, 0.9955120680715588, 0.18619763594131675, 0.27929645391197516, 0.06649915569332741, 0.4654940898532919, 0.9369639941550019, 0.4124921914149135, 0.5644629987783027, 0.9868885795731694, 0.20719712051126468, 0.1553978403834485, 0.6310094124661243, 0.98371986799112, 0.986373437718444, 0.903194247990245, 0.9326677995766884, 0.9289271260116666, 0.942777944217801, 0.976153574945161, 0.8613331939546133, 0.1325127990699405, 0.9675956042114768, 0.9603520522062237, 0.9420978925965394, 0.9209750772817088, 0.9407468387288567], \"Term\": [\"....\", \"....\", \".....\", \"......\", \".........\", \".but\", \".it\", \"a1\", \"a1\", \"a6000\", \"a7000\", \"aap\", \"access\", \"accessory\", \"alarm\", \"alot\", \"amazon\", \"amazone\", \"amount\", \"android\", \"android\", \"android\", \"anybody\", \"app\", \"app\", \"application\", \"application\", \"application\", \"apps\", \"apps\", \"atmos\", \"atom\", \"auto\", \"average\", \"average\", \"awesome\", \"awsm\", \"backup\", \"bahut\", \"batter\", \"battery\", \"battery\", \"battry\", \"beast\", \"bed\", \"bekar\", \"benefit\", \"bhai\", \"bhi\", \"bhut\", \"bill\", \"bit\", \"bit\", \"blowing\", \"blur\", \"body\", \"body\", \"bokeh\", \"book\", \"box\", \"bracket\", \"brand\", \"brightness\", \"bt\", \"bt\", \"budget\", \"budget\", \"bug\", \"bug\", \"buget\", \"build\", \"button\", \"buy\", \"buying\", \"bye\", \"c\", \"cable\", \"call\", \"call\", \"caller\", \"cam\", \"camara\", \"camera\", \"camera\", \"capacity\", \"card\", \"care\", \"cash\", \"cast\", \"category\", \"cell\", \"center\", \"centre\", \"change\", \"change\", \"charge\", \"charge\", \"charge\", \"charger\", \"charging\", \"charging\", \"charging\", \"china\", \"chor\", \"clarity\", \"class\", \"color\", \"colour\", \"comapre\", \"company\", \"company\", \"company\", \"compare\", \"compare\", \"compare\", \"compare\", \"comparison\", \"complain\", \"concern\", \"condition\", \"configuration\", \"connection\", \"connectivity\", \"connectivity\", \"contact\", \"contact\", \"cool\", \"copy\", \"core\", \"cost\", \"cost\", \"coverage\", \"coz\", \"cpu\", \"crack\", \"curve\", \"customer\", \"damage\", \"data\", \"data\", \"data\", \"data\", \"data\", \"data\", \"date\", \"date\", \"day\", \"day\", \"deal\", \"deca\", \"decacore\", \"decision\", \"default\", \"defect\", \"delivery\", \"department\", \"depth\", \"description\", \"detail\", \"device\", \"device\", \"difference\", \"din\", \"disappointment\", \"discharge\", \"discharge\", \"discount\", \"display\", \"display\", \"display\", \"display\", \"display\", \"display\", \"diya\", \"doesnt\", \"dolby\", \"dolby\", \"dont\", \"dont\", \"doubt\", \"drain\", \"drain\", \"drainage\", \"draining\", \"duplicate\", \"earphone\", \"effect\", \"engineer\", \"everything\", \"everything\", \"example\", \"excellent\", \"expectation\", \"expectation\", \"experience\", \"experience\", \"experience\", \"facility\", \"fake\", \"fall\", \"fast\", \"fast\", \"fast\", \"feature\", \"feature\", \"feature\", \"feeling\", \"file\", \"fine\", \"finger\", \"flash\", \"flash\", \"folder\", \"fone\", \"front\", \"front\", \"function\", \"function\", \"function\", \"function\", \"functionality\", \"future\", \"g5s\", \"gallery\", \"gallery\", \"game\", \"game\", \"game\", \"gamer\", \"gaming\", \"gaya\", \"gb\", \"gesture\", \"get\", \"get\", \"gift\", \"glass\", \"google\", \"google\", \"gorilla\", \"gr8\", \"graphic\", \"guard\", \"gud\", \"gya\", \"h\", \"hai\", \"half\", \"hand\", \"hand\", \"hand\", \"handset\", \"hang\", \"hang\", \"hanging\", \"hd\", \"head\", \"headphone\", \"headset\", \"heat\", \"heating\", \"heating\", \"helio\", \"hell\", \"help\", \"hence\", \"hence\", \"hi\", \"ho\", \"ho\", \"hone\", \"hope\", \"hota\", \"hotspot\", \"hour\", \"hour\", \"hour\", \"hr\", \"hr\", \"hv\", \"i.e\", \"iam\", \"icon\", \"idea\", \"im\", \"image\", \"image\", \"impression\", \"improvement\", \"improvement\", \"interface\", \"invoice\", \"iron\", \"isme\", \"issue\", \"issue\", \"issue\", \"issue\", \"item\", \"jack\", \"jack\", \"jata\", \"jio\", \"job\", \"k\", \"k4\", \"k5\", \"k6\", \"k8\", \"ka\", \"kar\", \"ke\", \"key\", \"ki\", \"killer\", \"ko\", \"koi\", \"lack\", \"lag\", \"lena\", \"lenova\", \"lenovo\", \"lenovo\", \"lenovo\", \"life\", \"light\", \"light\", \"limit\", \"list\", \"lock\", \"log\", \"look\", \"look\", \"look\", \"loss\", \"lot\", \"lot\", \"lot\", \"lot\", \"lot\", \"lot\", \"love\", \"lover\", \"lover\", \"lte\", \"mah\", \"mail\", \"manager\", \"march\", \"mark\", \"mark\", \"market\", \"market\", \"max\", \"mean\", \"mediatek\", \"memory\", \"memory\", \"message\", \"mi\", \"mi\", \"mia1\", \"min\", \"min\", \"min\", \"mind\", \"minus\", \"minute\", \"minute\", \"mob\", \"mobail\", \"mobil\", \"mobile\", \"mobile\", \"mobile\", \"mode\", \"mode\", \"money\", \"month\", \"month\", \"month\", \"month\", \"motion\", \"moto\", \"moto\", \"moto\", \"moto\", \"motorola\", \"mp\", \"msg\", \"music\", \"music\", \"music\", \"n\", \"nahi\", \"name\", \"name\", \"navigation\", \"nd\", \"net\", \"network\", \"news\", \"nhi\", \"nice\", \"none\", \"note\", \"nothing\", \"nothing\", \"nothing\", \"nothing\", \"notification\", \"nougat\", \"october\", \"offer\", \"office\", \"ok\", \"one\", \"one\", \"online\", \"option\", \"option\", \"order\", \"osm\", \"others\", \"output\", \"overheat\", \"pack\", \"package\", \"packaging\", \"pad\", \"paisa\", \"pc\", \"people\", \"people\", \"perfect\", \"performance\", \"persist\", \"ph\", \"phn\", \"phone\", \"phone\", \"phone\", \"phone\", \"phone\", \"phone.but\", \"phone.it\", \"phonecamera\", \"photo\", \"photo\", \"pic\", \"pic\", \"picture\", \"picture\", \"piece\", \"piece\", \"piece\", \"place\", \"player\", \"please\", \"please\", \"please\", \"please\", \"pls\", \"plz\", \"pm\", \"point\", \"point\", \"point\", \"point\", \"policy\", \"power\", \"power\", \"power\", \"pr\", \"price\", \"price\", \"print\", \"problem\", \"problem\", \"problem\", \"process\", \"process\", \"processer\", \"processing\", \"processor\", \"processor\", \"product\", \"product\", \"provide\", \"purchase\", \"quality\", \"quality\", \"quality\", \"r\", \"r\", \"raha\", \"ram\", \"ram\", \"range\", \"rating\", \"reality\", \"rear\", \"reason\", \"receiver\", \"reception\", \"record\", \"recorder\", \"recording\", \"redmi\", \"redmi\", \"redmi\", \"refund\", \"refund\", \"replacement\", \"replacement\", \"request\", \"response\", \"rest\", \"restart\", \"result\", \"return\", \"review\", \"review\", \"review\", \"review\", \"rha\", \"ringtone\", \"ringtones\", \"rock\", \"rom\", \"rotation\", \"sale\", \"samsung\", \"saver\", \"scratch\", \"scratch\", \"screen\", \"screen\", \"screen\", \"se\", \"seal\", \"second\", \"segment\", \"segment\", \"selfi\", \"selfie\", \"seller\", \"sensor\", \"series\", \"service\", \"set\", \"setting\", \"shape\", \"share\", \"shot\", \"side\", \"side\", \"side\", \"signal\", \"signal\", \"sim\", \"sim\", \"sir\", \"slot\", \"slot\", \"slot\", \"smart\", \"smartphone\", \"smartphone\", \"smartphones\", \"socket\", \"software\", \"software\", \"software\", \"software\", \"solution\", \"someone\", \"sound\", \"sound\", \"sound\", \"space\", \"speaker\", \"speaker\", \"speaker\", \"speaker\", \"spec\", \"spec\", \"spec\", \"specification\", \"speed\", \"speed\", \"speed\", \"spent\", \"stand\", \"standard\", \"standby\", \"star\", \"star\", \"step\", \"stock\", \"stock\", \"stock\", \"stop\", \"storage\", \"storage\", \"strength\", \"super\", \"superb\", \"support\", \"support\", \"system\", \"system\", \"system\", \"task\", \"team\", \"technician\", \"technology\", \"term\", \"test\", \"tha\", \"thank\", \"thanks\", \"thing\", \"thing\", \"thing\", \"thing\", \"thing\", \"ti\", \"till\", \"till\", \"time\", \"time\", \"time\", \"time\", \"time\", \"toh\", \"tone\", \"tone\", \"touch\", \"touch\", \"tray\", \"trouble\", \"turbo\", \"turbo\", \"tv\", \"type\", \"type\", \"u\", \"u\", \"u\", \"ui\", \"ui\", \"update\", \"update\", \"update\", \"update\", \"upgrade\", \"usage\", \"usage\", \"usage\", \"use\", \"use\", \"use\", \"use\", \"user\", \"user\", \"user\", \"user\", \"v\", \"value\", \"version\", \"version\", \"version\", \"version\", \"video\", \"video\", \"video\", \"view\", \"voice\", \"volta\", \"volume\", \"volume\", \"warranty\", \"wasool\", \"wastage\", \"waste\", \"way\", \"way\", \"way\", \"way\", \"website\", \"weight\", \"weight\", \"wise\", \"work\", \"work\", \"work\", \"working\", \"worth\", \"wow\", \"wrost\", \"x20\", \"x23\", \"ye\", \"year\", \"year\", \"zoom\", \"\\ud83d\\udc4c\", \"\\ud83d\\udc4d\", \"\\ud83d\\udd0b\", \"\\ud83d\\ude0d\"]}, \"R\": 30, \"lambda.step\": 0.01, \"plot.opts\": {\"xlab\": \"PC1\", \"ylab\": \"PC2\"}, \"topic.order\": [10, 4, 1, 11, 5, 3, 2, 12, 6, 8, 7, 9]};\n",
       "\n",
       "function LDAvis_load_lib(url, callback){\n",
       "  var s = document.createElement('script');\n",
       "  s.src = url;\n",
       "  s.async = true;\n",
       "  s.onreadystatechange = s.onload = callback;\n",
       "  s.onerror = function(){console.warn(\"failed to load library \" + url);};\n",
       "  document.getElementsByTagName(\"head\")[0].appendChild(s);\n",
       "}\n",
       "\n",
       "if(typeof(LDAvis) !== \"undefined\"){\n",
       "   // already loaded: just create the visualization\n",
       "   !function(LDAvis){\n",
       "       new LDAvis(\"#\" + \"ldavis_el28491332820986626404454138201\", ldavis_el28491332820986626404454138201_data);\n",
       "   }(LDAvis);\n",
       "}else if(typeof define === \"function\" && define.amd){\n",
       "   // require.js is available: use it to load d3/LDAvis\n",
       "   require.config({paths: {d3: \"https://d3js.org/d3.v5\"}});\n",
       "   require([\"d3\"], function(d3){\n",
       "      window.d3 = d3;\n",
       "      LDAvis_load_lib(\"https://cdn.jsdelivr.net/gh/bmabey/pyLDAvis@3.4.0/pyLDAvis/js/ldavis.v3.0.0.js\", function(){\n",
       "        new LDAvis(\"#\" + \"ldavis_el28491332820986626404454138201\", ldavis_el28491332820986626404454138201_data);\n",
       "      });\n",
       "    });\n",
       "}else{\n",
       "    // require.js not available: dynamically load d3 & LDAvis\n",
       "    LDAvis_load_lib(\"https://d3js.org/d3.v5.js\", function(){\n",
       "         LDAvis_load_lib(\"https://cdn.jsdelivr.net/gh/bmabey/pyLDAvis@3.4.0/pyLDAvis/js/ldavis.v3.0.0.js\", function(){\n",
       "                 new LDAvis(\"#\" + \"ldavis_el28491332820986626404454138201\", ldavis_el28491332820986626404454138201_data);\n",
       "            })\n",
       "         });\n",
       "}\n",
       "</script>"
      ],
      "text/plain": [
       "PreparedData(topic_coordinates=              x         y  topics  cluster       Freq\n",
       "topic                                                \n",
       "9     -0.281846 -0.075650       1        1  22.576611\n",
       "3     -0.267081  0.074753       2        1  17.814431\n",
       "0     -0.041285 -0.075238       3        1  11.920826\n",
       "10    -0.207802 -0.119039       4        1   9.274268\n",
       "4     -0.035592  0.385209       5        1   7.398089\n",
       "2      0.055039 -0.013836       6        1   6.431216\n",
       "1      0.154841  0.010918       7        1   4.698214\n",
       "11     0.007803 -0.110966       8        1   4.487036\n",
       "5      0.102124 -0.017067       9        1   4.439589\n",
       "7      0.129154  0.038270      10        1   4.337997\n",
       "6      0.190120 -0.042273      11        1   3.346366\n",
       "8      0.194525 -0.055082      12        1   3.275357, topic_info=             Term         Freq        Total Category  logprob  loglift\n",
       "16          phone  6950.000000  6950.000000  Default  30.0000  30.0000\n",
       "50        product  2124.000000  2124.000000  Default  29.0000  29.0000\n",
       "58         camera  3240.000000  3240.000000  Default  28.0000  28.0000\n",
       "27           note  1222.000000  1222.000000  Default  27.0000  27.0000\n",
       "4         battery  3097.000000  3097.000000  Default  26.0000  26.0000\n",
       "...           ...          ...          ...      ...      ...      ...\n",
       "250   expectation    74.354792   131.460580  Topic12  -3.6545   2.8489\n",
       "1096           ui    17.281690    37.400490  Topic12  -5.1137   2.6467\n",
       "101       feature    97.640539   843.433887  Topic12  -3.3821   1.2626\n",
       "146         point    21.342402    64.007732  Topic12  -4.9027   2.3204\n",
       "641            bt    12.563032    23.408103  Topic12  -5.4326   2.7964\n",
       "\n",
       "[580 rows x 6 columns], token_table=      Topic      Freq       Term\n",
       "term                            \n",
       "143       7  0.814281       ....\n",
       "143       9  0.183175       ....\n",
       "103       9  0.995487      .....\n",
       "499      11  0.993192     ......\n",
       "2435     12  0.979226  .........\n",
       "...     ...       ...        ...\n",
       "2323      1  0.967596       zoom\n",
       "4929      8  0.960352          👌\n",
       "1292      8  0.942098          👍\n",
       "1275      7  0.920975          🔋\n",
       "2378      8  0.940747          😍\n",
       "\n",
       "[711 rows x 3 columns], R=30, lambda_step=0.01, plot_opts={'xlab': 'PC1', 'ylab': 'PC2'}, topic_order=[10, 4, 1, 11, 5, 3, 2, 12, 6, 8, 7, 9])"
      ]
     },
     "execution_count": 34,
     "metadata": {},
     "output_type": "execute_result"
    }
   ],
   "source": [
    "LDAvis = pyLDAvis.gensim.prepare(lda_model,corpus,id2word)\n",
    "LDAvis"
   ]
  },
  {
   "cell_type": "markdown",
   "metadata": {
    "id": "BC5fxSdvuI5u"
   },
   "source": [
    "###10 -Create topic model using LDA with what you think is the optimal number of topics. (a) What is the coherence of the model?"
   ]
  },
  {
   "cell_type": "code",
   "execution_count": 35,
   "metadata": {
    "colab": {
     "base_uri": "https://localhost:8080/",
     "height": 0
    },
    "id": "HvqeJ6R_t_LZ",
    "outputId": "63f7bc66-af50-4350-d257-12c87e37ad5c"
   },
   "outputs": [
    {
     "name": "stderr",
     "output_type": "stream",
     "text": [
      "/usr/local/lib/python3.10/dist-packages/ipykernel/ipkernel.py:283: DeprecationWarning: `should_run_async` will not call `transform_cell` automatically in the future. Please pass the result to `transformed_cell` argument and any exception that happen during thetransform in `preprocessing_exc_tuple` in IPython 7.17 and above.\n",
      "  and should_run_async(code)\n"
     ]
    }
   ],
   "source": [
    "import gensim\n",
    "import gensim.corpora as corpora\n",
    "from gensim.models import CoherenceModel\n",
    "from gensim.models import ldamodel"
   ]
  },
  {
   "cell_type": "code",
   "execution_count": 36,
   "metadata": {
    "colab": {
     "base_uri": "https://localhost:8080/",
     "height": 0
    },
    "id": "3A12wLkiuNTA",
    "outputId": "0fcadfdf-8e4b-4d62-8ae1-6864c0c68dfc"
   },
   "outputs": [
    {
     "name": "stderr",
     "output_type": "stream",
     "text": [
      "/usr/local/lib/python3.10/dist-packages/ipykernel/ipkernel.py:283: DeprecationWarning: `should_run_async` will not call `transform_cell` automatically in the future. Please pass the result to `transformed_cell` argument and any exception that happen during thetransform in `preprocessing_exc_tuple` in IPython 7.17 and above.\n",
      "  and should_run_async(code)\n"
     ]
    }
   ],
   "source": [
    "id2word = corpora.Dictionary(reviews_sw_removed)\n",
    "texts_2 = reviews_sw_removed\n",
    "corpus = [id2word.doc2bow(text) for text in texts_2]"
   ]
  },
  {
   "cell_type": "code",
   "execution_count": 37,
   "metadata": {
    "colab": {
     "base_uri": "https://localhost:8080/",
     "height": 0
    },
    "id": "vXFXkvj7uOWY",
    "outputId": "edd7b497-9ef2-40d9-a00d-e3bd4f98b8a1"
   },
   "outputs": [
    {
     "name": "stdout",
     "output_type": "stream",
     "text": [
      "[(36, 1), (143, 1), (314, 1), (415, 1), (416, 1)]\n"
     ]
    },
    {
     "name": "stderr",
     "output_type": "stream",
     "text": [
      "/usr/local/lib/python3.10/dist-packages/ipykernel/ipkernel.py:283: DeprecationWarning: `should_run_async` will not call `transform_cell` automatically in the future. Please pass the result to `transformed_cell` argument and any exception that happen during thetransform in `preprocessing_exc_tuple` in IPython 7.17 and above.\n",
      "  and should_run_async(code)\n"
     ]
    }
   ],
   "source": [
    "print(corpus[200])"
   ]
  },
  {
   "cell_type": "code",
   "execution_count": 38,
   "metadata": {
    "colab": {
     "base_uri": "https://localhost:8080/",
     "height": 0
    },
    "id": "fEoZZkOuuSQL",
    "outputId": "f7eecf4a-7696-4937-ad7d-7faa6fb26226"
   },
   "outputs": [
    {
     "name": "stderr",
     "output_type": "stream",
     "text": [
      "/usr/local/lib/python3.10/dist-packages/ipykernel/ipkernel.py:283: DeprecationWarning: `should_run_async` will not call `transform_cell` automatically in the future. Please pass the result to `transformed_cell` argument and any exception that happen during thetransform in `preprocessing_exc_tuple` in IPython 7.17 and above.\n",
      "  and should_run_async(code)\n"
     ]
    }
   ],
   "source": [
    "lda_topic_model = gensim.models.ldamodel.LdaModel(corpus=corpus,\n",
    "                                           id2word=id2word,\n",
    "                                           num_topics=8,\n",
    "                                           random_state=42,\n",
    "                                           passes=10,\n",
    "                                           per_word_topics=True)"
   ]
  },
  {
   "cell_type": "code",
   "execution_count": 39,
   "metadata": {
    "colab": {
     "base_uri": "https://localhost:8080/",
     "height": 0
    },
    "id": "Yyn92IZ9uVfQ",
    "outputId": "40be543b-280b-4068-f19e-f90724c855bb"
   },
   "outputs": [
    {
     "name": "stdout",
     "output_type": "stream",
     "text": [
      "[(0, '0.188*\"mobile\" + 0.026*\"charging\" + 0.023*\"hour\" + 0.020*\"charger\" + 0.019*\"charge\" + 0.018*\"battery\" + 0.015*\"turbo\" + 0.014*\"hr\" + 0.013*\"card\" + 0.012*\"notification\"'), (1, '0.092*\"money\" + 0.043*\"waste\" + 0.034*\"value\" + 0.033*\"screen\" + 0.028*\"glass\" + 0.028*\"speaker\" + 0.026*\"call\" + 0.025*\"handset\" + 0.021*\"box\" + 0.020*\"headphone\"'), (2, '0.067*\"note\" + 0.056*\"camera\" + 0.051*\"quality\" + 0.038*\"k8\" + 0.031*\"feature\" + 0.023*\"lenovo\" + 0.023*\"sound\" + 0.019*\"phone\" + 0.016*\"music\" + 0.013*\"speaker\"'), (3, '0.183*\"phone\" + 0.027*\"day\" + 0.025*\"issue\" + 0.023*\"time\" + 0.022*\"battery\" + 0.020*\"lenovo\" + 0.017*\"month\" + 0.017*\"problem\" + 0.017*\"service\" + 0.013*\"update\"'), (4, '0.199*\"product\" + 0.095*\"problem\" + 0.049*\"network\" + 0.040*\"issue\" + 0.037*\"heating\" + 0.024*\"amazon\" + 0.018*\"sim\" + 0.016*\"return\" + 0.013*\"....\" + 0.013*\"delivery\"'), (5, '0.122*\"camera\" + 0.114*\"battery\" + 0.082*\"phone\" + 0.043*\"performance\" + 0.035*\"quality\" + 0.028*\"backup\" + 0.020*\"....\" + 0.016*\"issue\" + 0.016*\"life\" + 0.015*\"processor\"'), (6, '0.173*\"price\" + 0.093*\"phone\" + 0.068*\"range\" + 0.036*\"superb\" + 0.026*\"device\" + 0.019*\"super\" + 0.018*\"feature\" + 0.017*\"excellent\" + 0.015*\"specification\" + 0.009*\"k\"'), (7, '0.057*\"charger\" + 0.045*\"hai\" + 0.036*\"h\" + 0.019*\"ho\" + 0.012*\"cable\" + 0.012*\"bill\" + 0.010*\"bhi\" + 0.010*\"hi\" + 0.009*\"offer\" + 0.008*\"ye\"')]\n"
     ]
    },
    {
     "name": "stderr",
     "output_type": "stream",
     "text": [
      "/usr/local/lib/python3.10/dist-packages/ipykernel/ipkernel.py:283: DeprecationWarning: `should_run_async` will not call `transform_cell` automatically in the future. Please pass the result to `transformed_cell` argument and any exception that happen during thetransform in `preprocessing_exc_tuple` in IPython 7.17 and above.\n",
      "  and should_run_async(code)\n"
     ]
    }
   ],
   "source": [
    "print(lda_topic_model.print_topics())"
   ]
  },
  {
   "cell_type": "code",
   "execution_count": 40,
   "metadata": {
    "colab": {
     "base_uri": "https://localhost:8080/",
     "height": 0
    },
    "id": "Glcjl7BVuf1g",
    "outputId": "c7c4e641-a1cd-419e-bf94-7ce3ee500c5c"
   },
   "outputs": [
    {
     "name": "stderr",
     "output_type": "stream",
     "text": [
      "/usr/local/lib/python3.10/dist-packages/ipykernel/ipkernel.py:283: DeprecationWarning: `should_run_async` will not call `transform_cell` automatically in the future. Please pass the result to `transformed_cell` argument and any exception that happen during thetransform in `preprocessing_exc_tuple` in IPython 7.17 and above.\n",
      "  and should_run_async(code)\n"
     ]
    },
    {
     "name": "stdout",
     "output_type": "stream",
     "text": [
      "\n",
      "Coherence Score:  0.5645540248584124\n"
     ]
    }
   ],
   "source": [
    "coherence_model_lda = CoherenceModel(model=lda_topic_model, texts=reviews_sw_removed, dictionary=id2word, coherence='c_v')\n",
    "coherence_lda = coherence_model_lda.get_coherence()\n",
    "print('\\nCoherence Score: ', coherence_lda)"
   ]
  },
  {
   "cell_type": "code",
   "execution_count": 41,
   "metadata": {
    "colab": {
     "base_uri": "https://localhost:8080/",
     "height": 0
    },
    "id": "JLx2ITQxugVC",
    "outputId": "25687dff-7831-44e2-bb52-ac3a597c3876"
   },
   "outputs": [
    {
     "name": "stderr",
     "output_type": "stream",
     "text": [
      "/usr/local/lib/python3.10/dist-packages/ipykernel/ipkernel.py:283: DeprecationWarning: `should_run_async` will not call `transform_cell` automatically in the future. Please pass the result to `transformed_cell` argument and any exception that happen during thetransform in `preprocessing_exc_tuple` in IPython 7.17 and above.\n",
      "  and should_run_async(code)\n"
     ]
    }
   ],
   "source": [
    "x = lda_model.show_topics(formatted=False)\n",
    "topics_words = [(tp[0], [wd[0] for wd in tp[1]]) for tp in x]"
   ]
  },
  {
   "cell_type": "code",
   "execution_count": 42,
   "metadata": {
    "colab": {
     "base_uri": "https://localhost:8080/",
     "height": 0
    },
    "id": "mR2XipOSukyU",
    "outputId": "33de76d8-4e0f-4eb9-96e8-009e14f5d089"
   },
   "outputs": [
    {
     "name": "stdout",
     "output_type": "stream",
     "text": [
      "9::['camera', 'battery', 'quality', 'phone', 'performance', 'backup', 'issue', 'life', 'day', 'mode']\n",
      "2::['note', 'k8', 'lenovo', 'sound', 'dolby', 'killer', 'gallery', 'system', 'atmos', 'excellent']\n",
      "10::['phone', 'h', 'ram', 'hang', 'gb', 'game', 'ho', 'u', 'lot', 'interface']\n",
      "11::['feature', 'delivery', 'time', 'star', 'experience', 'camera', 'condition', 'cost', 'class', 'awesome']\n",
      "3::['phone', 'day', 'amazon', 'service', 'issue', 'time', 'lenovo', 'battery', 'month', 'device']\n",
      "1::['money', '....', 'waste', 'value', 'glass', 'speaker', 'gorilla', 'set', 'ok', 'piece']\n",
      "4::['product', 'problem', 'network', 'issue', 'heating', 'jio', 'sim', 'volta', 'connection', 'signal']\n",
      "0::['mobile', 'call', 'screen', 'feature', 'option', 'music', 'software', 'app', 'video', 'card']\n",
      "7::['charger', 'hai', 'handset', 'box', 'turbo', 'charge', 'plz', 'hi', 'cable', 'bhi']\n",
      "6::['range', 'price', 'work', 'mobile', 'specification', 'super', '......', 'bit', 'cam', 'k']\n",
      "\n"
     ]
    },
    {
     "name": "stderr",
     "output_type": "stream",
     "text": [
      "/usr/local/lib/python3.10/dist-packages/ipykernel/ipkernel.py:283: DeprecationWarning: `should_run_async` will not call `transform_cell` automatically in the future. Please pass the result to `transformed_cell` argument and any exception that happen during thetransform in `preprocessing_exc_tuple` in IPython 7.17 and above.\n",
      "  and should_run_async(code)\n"
     ]
    }
   ],
   "source": [
    "for topic,words in topics_words:\n",
    "    print(str(topic)+ \"::\"+ str(words))\n",
    "print()"
   ]
  },
  {
   "cell_type": "code",
   "execution_count": 43,
   "metadata": {
    "colab": {
     "base_uri": "https://localhost:8080/",
     "height": 0
    },
    "id": "BL9ezqOKulcq",
    "outputId": "e394c137-05e1-4358-86b0-8a3494b7f56d"
   },
   "outputs": [
    {
     "name": "stderr",
     "output_type": "stream",
     "text": [
      "/usr/local/lib/python3.10/dist-packages/ipykernel/ipkernel.py:283: DeprecationWarning: `should_run_async` will not call `transform_cell` automatically in the future. Please pass the result to `transformed_cell` argument and any exception that happen during thetransform in `preprocessing_exc_tuple` in IPython 7.17 and above.\n",
      "  and should_run_async(code)\n"
     ]
    }
   ],
   "source": [
    "import pyLDAvis\n",
    "import pyLDAvis.gensim\n",
    "import pickle"
   ]
  },
  {
   "cell_type": "code",
   "execution_count": 44,
   "metadata": {
    "colab": {
     "base_uri": "https://localhost:8080/",
     "height": 916
    },
    "id": "ATr3vd7bupVi",
    "outputId": "c25d6f96-e21f-48ae-af1c-9853d774f8e3"
   },
   "outputs": [
    {
     "name": "stderr",
     "output_type": "stream",
     "text": [
      "/usr/local/lib/python3.10/dist-packages/ipykernel/ipkernel.py:283: DeprecationWarning: `should_run_async` will not call `transform_cell` automatically in the future. Please pass the result to `transformed_cell` argument and any exception that happen during thetransform in `preprocessing_exc_tuple` in IPython 7.17 and above.\n",
      "  and should_run_async(code)\n"
     ]
    },
    {
     "data": {
      "text/html": [
       "\n",
       "<link rel=\"stylesheet\" type=\"text/css\" href=\"https://cdn.jsdelivr.net/gh/bmabey/pyLDAvis@3.4.0/pyLDAvis/js/ldavis.v1.0.0.css\">\n",
       "\n",
       "\n",
       "<div id=\"ldavis_el28491332821091973281725725177\" style=\"background-color:white;\"></div>\n",
       "<script type=\"text/javascript\">\n",
       "\n",
       "var ldavis_el28491332821091973281725725177_data = {\"mdsDat\": {\"x\": [-0.1882777321018591, -0.24829206381078636, -0.13621865523827695, 0.013967829755663016, 0.07826292439881408, 0.1899453761380081, 0.034725007713447505, 0.2558873131449892], \"y\": [0.07237864610401296, -0.05259257420238725, -0.14413813337493186, 0.35268052399146166, -0.058711777340400735, -0.010197800378652843, -0.10550502630813595, -0.05391385849096641], \"topics\": [1, 2, 3, 4, 5, 6, 7, 8], \"cluster\": [1, 1, 1, 1, 1, 1, 1, 1], \"Freq\": [27.21283772822534, 21.55982276610188, 13.629160497477026, 11.096994810804018, 8.818841807923748, 7.173690916545462, 5.470892411621321, 5.0377590613012035]}, \"tinfo\": {\"Term\": [\"product\", \"phone\", \"mobile\", \"camera\", \"price\", \"battery\", \"problem\", \"note\", \"money\", \"quality\", \"performance\", \"network\", \"range\", \"charger\", \"issue\", \"k8\", \"heating\", \"backup\", \"device\", \"waste\", \"amazon\", \"screen\", \"lenovo\", \"speaker\", \"hai\", \"value\", \"feature\", \"day\", \"hour\", \"....\", \"center\", \"minute\", \"people\", \"centre\", \"warranty\", \"number\", \"bug\", \"solution\", \"tv\", \"review\", \"spec\", \"oreo\", \"improvement\", \"exchange\", \"complain\", \".......\", \"hell\", \"something\", \"accessory\", \"percent\", \"standby\", \"functionality\", \"paper\", \"online\", \"i.e\", \"saver\", \"kind\", \"lenevo\", \"fall\", \"software\", \"hang\", \"month\", \"medium\", \"hardware\", \"service\", \"company\", \"update\", \"phone\", \"day\", \"please\", \"year\", \"replacement\", \"care\", \"device\", \"time\", \"lot\", \"customer\", \"lenovo\", \"star\", \"issue\", \"week\", \"amazon\", \"data\", \"option\", \"use\", \"purchase\", \"problem\", \"battery\", \"note\", \"screen\", \"call\", \"hour\", \"feature\", \"backup\", \"performance\", \"processor\", \"budget\", \"depth\", \"bit\", \"core\", \"life\", \"cell\", \"selfie\", \"gaming\", \"deca\", \"color\", \"nice\", \"capacity\", \"phn\", \"processing\", \"build\", \"bokeh\", \"mind\", \"max\", \"cool\", \"mob\", \"hota\", \"aspect\", \"bed\", \"photography\", \"motion\", \"comment\", \"rear\", \"camera\", \"battery\", \"mode\", \"design\", \"effect\", \"flash\", \"....\", \"everything\", \"lag\", \"heat\", \"mark\", \"front\", \"quality\", \"game\", \"display\", \"mah\", \"phone\", \"speed\", \"stock\", \"drain\", \"android\", \".....\", \"issue\", \"day\", \"heating\", \"time\", \"use\", \"hour\", \"feature\", \"dolby\", \"image\", \"gallery\", \"touch\", \"gb\", \"killer\", \"atmos\", \"k4\", \"buy\", \"player\", \"shot\", \"k5\", \"smartphone\", \"vibe\", \"k6\", \"half\", \"fone\", \"zoom\", \"difference\", \"china\", \"blur\", \"home\", \"rom\", \"stop\", \"output\", \"processer\", \"ph\", \"manager\", \"average\", \"battry\", \"sound\", \"k8\", \"music\", \"note\", \"photo\", \"google\", \"etc\", \"video\", \"power\", \"memory\", \"quality\", \"ram\", \"button\", \"feature\", \"clarity\", \"key\", \"speaker\", \"camera\", \"lenovo\", \"sensor\", \"app\", \"picture\", \"phone\", \"apps\", \"product\", \"network\", \"jio\", \"volta\", \"awesome\", \"complaint\", \"hanging\", \"plz\", \"drainage\", \"lte\", \"good\", \"graphic\", \"pc\", \"bekar\", \"coverage\", \"beast\", \"return\", \"category\", \"wrost\", \"airtel\", \"bakwas\", \"phone.it\", \"alot\", \"provide\", \"rock\", \"manufacturing\", \"selfi\", \"\\ud83d\\udd0b\", \"website\", \"surprise\", \"signal\", \"policy\", \"problem\", \"heating\", \"connection\", \"sim\", \"thanks\", \"process\", \"delivery\", \"reception\", \"amazon\", \"v\", \"issue\", \"support\", \"connectivity\", \"buying\", \"....\", \"experience\", \"slot\", \"service\", \"lenovo\", \".....\", \"time\", \"customer\", \"refund\", \"call\", \"mobile\", \"charging\", \"gud\", \"finger\", \"print\", \"body\", \"draining\", \"lover\", \"seller\", \"comparison\", \"tray\", \"job\", \"pin\", \"perfect\", \"movie\", \"phone-\", \"scanner\", \"sd\", \"bank\", \"iam\", \"control\", \"g\", \"........\", \"discount\", \"msg\", \"mobile.it\", \"messenger\", \"dust\", \"overheating\", \"metal\", \"notification\", \"setting\", \"n\", \"fingerprint\", \"card\", \"hr\", \"turbo\", \"charge\", \"con\", \"worth\", \"hour\", \"charger\", \"sensor\", \"sim\", \"side\", \"light\", \"need\", \"time\", \"battery\", \"feature\", \"screen\", \"slot\", \"money\", \"waste\", \"value\", \"glass\", \"box\", \"headphone\", \"earphone\", \"voice\", \"set\", \"ok\", \"item\", \"recorder\", \"facility\", \"hotspot\", \"invoice\", \"restart\", \"fault\", \"record\", \".........\", \"smart\", \"packing\", \"gold\", \"iron\", \"crack\", \"jack\", \"wire\", \"hv\", \"requirement\", \"pls\", \"impression\", \"gorilla\", \"piece\", \"headset\", \"handset\", \"cost\", \"speaker\", \"screen\", \"cast\", \"call\", \"option\", \"worth\", \"....\", \"side\", \"work\", \"price\", \"range\", \"superb\", \"super\", \"excellent\", \"segment\", \"concern\", \"working\", \"a1\", \"camara\", \"batter\", \"nd\", \"toh\", \"g5s\", \"spent\", \"vr\", \"pr\", \"department\", \"wow\", \"gya\", \"stick\", \"mia1\", \"vasool\", \"\\ud83d\\ude0e\", \"ya\", \"indicator\", \"isme\", \"last\", \"mi4\", \"lol\", \"result\", \"specification\", \"k\", \"mi\", \"device\", \"choice\", \"brightness\", \"moto\", \"phone\", \"interface\", \"feature\", \"look\", \"term\", \"type\", \"hai\", \"h\", \"ho\", \"cable\", \"bill\", \"bhi\", \"ye\", \"ko\", \"sir\", \"ka\", \"ki\", \"se\", \"raha\", \"cash\", \"tha\", \"jata\", \"par\", \"bahut\", \"nahi\", \"nhi\", \"rha\", \"ke\", \"description\", \"icon\", \"din\", \"kar\", \"kiya\", \"koi\", \"chor\", \"gaya\", \"offer\", \"charger\", \"hi\", \"head\", \"purchase\", \"turbo\"], \"Freq\": [1938.0, 6590.0, 1457.0, 2972.0, 830.0, 2823.0, 1359.0, 1062.0, 579.0, 1266.0, 815.0, 483.0, 327.0, 409.0, 1313.0, 553.0, 508.0, 526.0, 417.0, 272.0, 506.0, 519.0, 832.0, 337.0, 200.0, 216.0, 792.0, 857.0, 434.0, 573.0, 136.0130812301867, 91.37170952422215, 88.4491315916821, 79.3422315465076, 68.75175017884781, 65.24794770091681, 82.28988698999206, 57.05065361799991, 55.33955684153317, 173.25642599101306, 47.33493320293258, 44.57908096995657, 43.334241887830984, 36.72769365377382, 35.41926576452398, 32.20514995397428, 31.998584311563192, 31.97880748930988, 31.615775634465738, 31.240769282043622, 31.053207734326264, 30.01950950886741, 29.53971796385143, 29.395395804324167, 29.15091647877391, 28.217011292322567, 27.211550977934888, 26.495346493620108, 26.336840058062116, 308.68884971329857, 122.86690630424675, 417.4853322200533, 37.87956360393785, 50.27681264688894, 396.33345517244396, 109.68603090760965, 311.01390355221247, 4358.756966663328, 638.9170743289766, 144.98264701901664, 60.192108021589135, 146.42193270700736, 84.25836319490121, 290.0045419270307, 547.4997794379302, 198.03046069456403, 146.82649727838123, 467.6845163227552, 119.14193696854323, 605.4580377094003, 94.61568652963726, 273.5579419694887, 121.95115187665895, 190.28508437260743, 169.9739905017333, 102.77496686397562, 412.91625531135105, 530.0105198389147, 263.60252035360105, 184.26959489295487, 173.5792482168036, 142.3899070114052, 122.64396050532987, 525.4829238658701, 813.7107168067165, 287.13611028630777, 171.85316408139187, 161.93209319745205, 155.61007272523864, 100.58478153475909, 301.21068784030336, 59.43603018856871, 59.22240103921366, 55.164372117379045, 54.17749124432039, 53.60558931015817, 41.96890951968434, 38.53188235382066, 36.185348664895265, 33.90269143055292, 28.995497210499536, 28.36337223960414, 28.312488651394943, 24.62114924916086, 23.480525329826914, 23.157987331909332, 23.888210646108067, 20.571812334712284, 19.66098817791698, 19.55852731456507, 18.391161213398767, 17.6439767031303, 48.42914766394668, 2300.04480783849, 2153.8942817661464, 272.59010749665396, 60.920031342175456, 91.43600662808115, 81.358281414926, 378.8140925342464, 161.55264864699774, 76.30102619479683, 218.68540918948526, 117.97120108819664, 96.79854576001956, 659.9868030777051, 132.80593619920788, 209.6575251967834, 86.91862042105079, 1558.5294683483855, 144.3947009411118, 101.00966147826855, 117.23259847627715, 100.98793916743607, 126.59650882393721, 308.7767114045718, 191.61296190699164, 142.9599449532427, 142.3347986931166, 107.36243320235394, 111.73086390404066, 103.97890581542016, 154.76401423607993, 118.95459464875529, 106.56364046046113, 101.71220018182659, 97.88751014562611, 96.96711792186208, 87.11528045362846, 69.58304646461733, 123.91025464872114, 49.08032767835761, 45.2841399206159, 43.25298297239247, 124.42532815714729, 32.89530175572984, 32.831559334802314, 30.669075291693346, 29.665386920166195, 26.244946450634245, 25.521717492160754, 24.39583712154012, 24.23940173837274, 23.593159836816653, 22.619843361798978, 22.600928618347805, 21.955676514583267, 20.8009138165628, 20.697807791762063, 18.007356418644193, 65.2968517231114, 16.853905098288482, 274.4463872936361, 453.6986281311914, 190.67587163028696, 798.6969110492543, 132.87212608240606, 47.34777782815358, 61.48164481286878, 157.17310688619568, 96.69979734362789, 84.28014876422344, 605.3035530625697, 131.0785289568785, 80.88315160666012, 366.90115211952815, 99.2313297903152, 73.82588500018792, 161.16251263926839, 671.7422778384808, 277.1180339008352, 87.23401164075318, 100.44848872858185, 84.76353203787205, 224.37708595916158, 79.65537357197441, 1937.3709053073349, 481.7469343887387, 126.80075101174465, 114.98179287117038, 60.71070890648868, 52.972326552231884, 41.63128814343422, 68.13652332308605, 31.37698098925821, 30.05004757668387, 28.561278419247564, 28.348665119732036, 22.998827289668593, 22.399301219917923, 19.30908610802309, 19.0677640736474, 157.78186475329633, 17.184271347968956, 16.09713430816569, 15.88189473975127, 15.39178218339749, 14.977526519486117, 13.76443511948344, 12.602176814564212, 12.109491262785108, 10.974652928057056, 10.726394007336443, 10.36928604534309, 10.0693359865712, 9.811927630135521, 85.8503704030599, 75.46405611530508, 924.1967431430312, 362.72091864282834, 49.44320149294718, 176.81691664721916, 76.71270472521628, 26.658708122642423, 128.8365956705125, 28.047456900201507, 232.65758222829916, 22.881047573965844, 387.34024565484077, 74.34040294306914, 44.393193572970574, 29.1253606269058, 130.31176762393025, 67.98765230142887, 42.27944269324532, 75.11260080890031, 86.73917143426277, 55.666232359937425, 81.98406732828556, 48.456708246009654, 38.27166340833573, 49.90207425770744, 1456.4786703939985, 201.4572279015902, 50.85336272191017, 46.948829212101046, 44.5981577301747, 43.657857429904986, 37.19141203435022, 35.1546736191673, 31.0140705718169, 24.277221461498865, 22.733457191163016, 21.452398559230396, 20.254737856354375, 19.46771989424078, 17.134647875914055, 17.245654749557026, 16.59581676039804, 16.50622505962934, 15.88605700250252, 15.769843613371481, 15.71636423196551, 15.262766837645312, 13.849648273248425, 13.299952835361896, 13.29358971677925, 12.458293484060391, 12.031466407004874, 11.98658318084157, 11.937060931362778, 11.790721814899058, 96.47605460638918, 33.13472936916768, 37.09337100567874, 54.37816289795644, 101.79802142266922, 111.90570918183279, 113.97090507751726, 149.10163232856436, 47.7811330495861, 60.356366853227165, 179.4594153176419, 157.76505791321262, 52.242309722880286, 69.81264926389797, 42.42091906243699, 46.145973714466486, 37.25772034198128, 90.72331979518853, 139.06384519256238, 78.13346811380693, 53.888660363955566, 33.55253692380417, 578.4229481076811, 271.93274015332173, 215.623934881351, 176.42175732683643, 134.2387194398432, 123.24021988149191, 105.66956200561475, 91.72087171797912, 84.62433470134313, 83.54238120929855, 70.55397425241156, 57.99266145055742, 48.99158428143279, 35.431803554944786, 32.33997694026669, 28.080287359229466, 25.460427952422933, 22.698542842062782, 21.623837623020822, 20.402225180536092, 20.350297298292876, 19.057481491396814, 18.621790820101666, 16.42960150267695, 40.99146635600884, 15.158748871577554, 13.403638036716384, 12.628764532847217, 70.02556254737684, 11.44931253638199, 83.82731776741541, 101.22884731925564, 44.44064191570343, 154.94219052549295, 59.21101026506462, 175.67566295463436, 204.5705442365488, 74.19240799420295, 163.5468079712157, 65.93057846629206, 37.82103129736377, 61.92597357902405, 35.422919804248885, 39.191066271476615, 829.5394435937096, 326.4464800768593, 170.87498071095368, 90.67869363390615, 83.60052683563731, 37.22147846182158, 34.0359623035795, 25.909709528866355, 23.466720787534502, 22.12078562589285, 21.25250532675272, 21.11129569661368, 18.076181630661946, 17.392896139740103, 14.402848049633622, 14.270731413058483, 13.820850638936559, 13.254463090715765, 11.927534252641914, 11.685870290213035, 11.342368376267164, 11.133382638864683, 8.910193211536525, 8.394607288493573, 8.326662419918902, 8.24432366440846, 8.083202993606003, 7.980625733430882, 7.8159264287307355, 7.835935261544702, 38.31821463613173, 69.7230852762106, 44.11747468917989, 41.49114634162928, 126.99520688745027, 23.055213653286764, 27.810710701757035, 30.538172897340715, 447.39910215871015, 22.669074361702908, 86.157481990403, 33.12972523853265, 15.38538087409947, 14.725861669821708, 199.75820909528798, 159.9593577648644, 83.79410602787446, 52.810762847186275, 52.136078152319584, 44.62837030205392, 34.651821571306925, 31.635308544086758, 30.69244393845931, 30.176541395019143, 29.694614934614343, 29.19085214629277, 28.721674692874164, 28.477138282799626, 27.710118997458174, 27.51599817942752, 27.384842306943305, 27.231644278208663, 25.798229004996543, 23.512188384195184, 23.360416745812728, 22.768256863039095, 21.51021762151225, 20.69713601338358, 18.67766160920717, 18.071048460844732, 17.49050347093889, 17.105313239923923, 16.810693650564343, 16.261586880339983, 41.338990652915825, 251.35927354338813, 42.07873768404884, 26.05876856801226, 34.20223074211832, 33.66835115201729], \"Total\": [1938.0, 6590.0, 1457.0, 2972.0, 830.0, 2823.0, 1359.0, 1062.0, 579.0, 1266.0, 815.0, 483.0, 327.0, 409.0, 1313.0, 553.0, 508.0, 526.0, 417.0, 272.0, 506.0, 519.0, 832.0, 337.0, 200.0, 216.0, 792.0, 857.0, 434.0, 573.0, 136.81620841181729, 92.1752498053734, 89.2526981134938, 80.1453232586772, 69.55513510985708, 66.05335692638292, 83.36503845300865, 57.85896101355961, 56.14310079955747, 176.04060181715815, 48.13852387004457, 45.38243980439039, 44.13903083327014, 37.53165769586013, 36.228930956875026, 33.01331563850089, 32.80232464212567, 32.78233583577436, 32.42057870757381, 32.044351505600616, 31.857891226963126, 30.823067296573125, 30.343129071630695, 30.19891993337108, 29.95845867736024, 29.0209831348181, 28.015083934717772, 27.299588318236925, 27.141307792147078, 318.2451782059497, 129.4621622882644, 468.74263023760903, 39.500086863818616, 53.08883303762065, 472.1398664700075, 122.13599283211748, 377.5870298732375, 6590.695496678084, 857.0622031957704, 177.9985986883232, 66.74617498807295, 181.9850444720212, 97.60702354930874, 417.6898827442458, 893.8984473183951, 275.9104944435037, 195.97703453164132, 832.1188149334141, 154.46143059302406, 1313.724383174066, 120.36960465984902, 506.9094655742838, 170.9337990977107, 331.07672736786026, 285.2142620451263, 137.6696512133592, 1359.7771337622034, 2823.539223170294, 1062.9854881461827, 519.0997549004172, 458.78034264578787, 434.15050314915624, 792.7778243658421, 526.2910919295052, 815.0373556893717, 287.94462377732935, 172.66147251833434, 162.74045631617042, 156.41870837163515, 101.39314804516671, 304.6939637982689, 60.24663970105978, 60.0307115890036, 55.97292606128717, 54.98563397514527, 54.414234495759835, 42.777090801387025, 39.3400091368738, 36.99386752087938, 34.71125983915181, 29.803662487526275, 29.171615177479545, 29.124109860814848, 25.431049439098985, 24.288613892199976, 23.966834672483024, 24.731781403019205, 21.381642892172117, 20.471590694302005, 20.367116053930893, 19.20016476079556, 18.453460424749803, 50.658100689715006, 2972.4909352537065, 2823.539223170294, 334.1649558846563, 68.44730378500302, 106.10762160504075, 98.32983354460765, 573.9393766843223, 222.73976428453287, 94.58432516680232, 322.41031055998553, 157.92279541036572, 124.82649363752748, 1266.892167066747, 184.1316872807466, 329.0121568130635, 112.57824222621495, 6590.695496678084, 237.3219829157909, 147.05045619314487, 198.79068102554004, 157.60193250456595, 238.51370380861388, 1313.724383174066, 857.0622031957704, 508.1211097834492, 893.8984473183951, 285.2142620451263, 434.15050314915624, 792.7778243658421, 155.5694673202095, 119.75990058040881, 107.36885109347732, 102.5176294579918, 98.69274564313537, 97.77224387117272, 87.92038740648536, 70.38800716026203, 125.61206141156651, 49.88515545158473, 46.08947288030539, 44.058037942620544, 126.75814527847723, 33.700355099671505, 33.63653782915336, 31.475094898734575, 30.47054469742051, 27.05202401212964, 26.32714880116086, 25.201186919111223, 25.044698074414466, 24.398626824983996, 23.424855061362184, 23.406979702274064, 22.760837795725674, 21.606410313344185, 21.502749954494135, 18.812144780779178, 68.30955920769303, 17.65918878486243, 320.0123597845032, 553.3722819948858, 224.51209505896355, 1062.9854881461827, 170.85094841442788, 53.92467610942817, 73.63840920457308, 221.03696429358214, 129.7894486249666, 111.64004613101713, 1266.892167066747, 195.00121831545505, 107.75760306025462, 792.7778243658421, 144.81864712090504, 101.88892428015865, 337.5340844229725, 2972.4909352537065, 832.1188149334141, 140.1630451869921, 201.29947073184744, 159.60676134011018, 6590.695496678084, 170.9121321712207, 1938.1841622715483, 483.51344110606095, 127.61380369961438, 115.79560963073328, 61.523627578256225, 53.78632352958205, 42.4446462255904, 69.508508204972, 32.19115310092384, 30.863097521834206, 29.374890947647945, 29.174683791030745, 23.81275383933403, 23.217130223752896, 20.122452965637017, 19.881618037628744, 165.2106770186909, 17.998173361846703, 16.91024082768959, 16.694877941958353, 16.205797426117435, 15.7916207743426, 14.578141285516429, 13.41603899745775, 12.924459456271544, 11.788514836946769, 11.541689829059852, 11.182783763441993, 10.882617227465833, 10.627586462539739, 94.51973460959682, 92.24173918643102, 1359.7771337622034, 508.1211097834492, 60.72773514618863, 247.32422113350208, 102.14775220881398, 31.347876677314787, 225.57673045179433, 34.30033406079787, 506.9094655742838, 27.041927697766518, 1313.724383174066, 145.8956838612527, 77.17982145091815, 39.1175044611514, 573.9393766843223, 243.93873831019172, 89.49182306652965, 472.1398664700075, 832.1188149334141, 238.51370380861388, 893.8984473183951, 195.97703453164132, 95.42260059457455, 458.78034264578787, 1457.2827092078905, 202.46595681131402, 51.6573778541453, 47.75285432911302, 45.40197679948468, 44.46207570331493, 37.995666908648104, 35.95943120524149, 31.81813505892387, 25.082812964314314, 23.537769471462145, 22.25662082239171, 21.059006076071654, 20.271548282816717, 17.938832270947046, 18.061255746216375, 17.399992660787134, 17.310105892353103, 16.69263716353397, 16.574102754109447, 16.521309979741275, 16.067330065658986, 14.65373142632462, 14.103933999942246, 14.097859858304574, 13.263677087031851, 12.835202788486681, 12.79104868932758, 12.741385131198372, 12.594609241705049, 106.51978846867576, 39.098446728922106, 44.45030617974173, 69.15701567713712, 141.4173638647141, 185.75882394337953, 193.3286147844906, 284.03945993704576, 71.74355950090485, 98.8628902792713, 434.15050314915624, 409.8764581277618, 140.1630451869921, 247.32422113350208, 98.51469458880067, 146.71359907245494, 98.31139465139495, 893.8984473183951, 2823.539223170294, 792.7778243658421, 519.0997549004172, 89.49182306652965, 579.2267668886182, 272.7364720575135, 216.42781198490633, 177.2257865803745, 135.04351648486892, 124.04804232540816, 106.47599916461857, 92.52478764109769, 85.42823762412426, 84.346064248251, 71.35772481264863, 58.79638963459054, 49.79548073983536, 36.23569930520208, 33.14352719128368, 28.888369078509882, 26.264888781872962, 23.502436173101792, 22.427627856931995, 21.206123793240227, 21.154348054510287, 19.862219236284115, 19.42572941744374, 17.233493732840248, 43.02523627073489, 15.96363012518952, 14.207841739150616, 13.432471835434, 74.53977397587208, 12.25444358306989, 91.20736871533916, 111.90079053368044, 49.28995668518004, 200.41587285565558, 85.11141059118506, 337.5340844229725, 519.0997549004172, 139.53574139492227, 458.78034264578787, 331.07672736786026, 98.8628902792713, 573.9393766843223, 98.51469458880067, 188.52145295500185, 830.34853294418, 327.255684973176, 171.68395214682658, 91.4874448042059, 84.40938248807338, 38.03086398841574, 34.846574693314096, 26.718859586953428, 24.275836570808057, 22.93029606150957, 22.06162778897621, 21.920405321303825, 18.888078641051102, 18.20240161958603, 15.21239236849943, 15.080591517419482, 14.6327107334266, 14.063952742064869, 12.736555717184059, 12.497103166525298, 12.157034194946014, 11.942309780555282, 9.719171060885124, 9.2034822280067, 9.137590271405355, 9.05414719998877, 8.901668590497923, 8.789891701812389, 8.624739995346843, 8.64810179234443, 50.048132507601174, 100.18864363255015, 66.91677078247497, 73.40959475344346, 417.6898827442458, 40.04693711520344, 55.67620946455435, 73.64973882647071, 6590.695496678084, 49.30324937085975, 792.7778243658421, 143.51123135726033, 36.30728829696693, 35.41338797324724, 200.5693464381909, 160.77051170962412, 84.60523561602687, 53.62225271936364, 52.94737733697736, 45.43952157827266, 35.46292318472108, 32.446442673179284, 31.503923455429714, 30.9877071933749, 30.50574468204141, 30.002010021223565, 29.532831253230956, 29.288352635162283, 28.521267271508755, 28.327114932107982, 28.196386296194053, 28.042756359728884, 26.60936356253442, 24.323292403881652, 24.171545808914907, 23.579386316424145, 22.322132840505677, 21.510116990941547, 19.488782383348845, 18.88216743227328, 18.30162685812521, 17.916475302646155, 17.62192400120969, 17.072695482769607, 46.03945374937277, 409.8764581277618, 55.20254388453873, 37.26793345073999, 137.6696512133592, 193.3286147844906], \"Category\": [\"Default\", \"Default\", \"Default\", \"Default\", \"Default\", \"Default\", \"Default\", \"Default\", \"Default\", \"Default\", \"Default\", \"Default\", \"Default\", \"Default\", \"Default\", \"Default\", \"Default\", \"Default\", \"Default\", \"Default\", \"Default\", \"Default\", \"Default\", \"Default\", \"Default\", \"Default\", \"Default\", \"Default\", \"Default\", \"Default\", \"Topic1\", \"Topic1\", \"Topic1\", \"Topic1\", \"Topic1\", \"Topic1\", \"Topic1\", \"Topic1\", \"Topic1\", \"Topic1\", \"Topic1\", \"Topic1\", \"Topic1\", \"Topic1\", \"Topic1\", \"Topic1\", \"Topic1\", \"Topic1\", \"Topic1\", \"Topic1\", \"Topic1\", \"Topic1\", \"Topic1\", \"Topic1\", \"Topic1\", \"Topic1\", \"Topic1\", \"Topic1\", \"Topic1\", \"Topic1\", \"Topic1\", \"Topic1\", \"Topic1\", \"Topic1\", \"Topic1\", \"Topic1\", \"Topic1\", \"Topic1\", \"Topic1\", \"Topic1\", \"Topic1\", \"Topic1\", \"Topic1\", \"Topic1\", \"Topic1\", \"Topic1\", \"Topic1\", \"Topic1\", \"Topic1\", \"Topic1\", \"Topic1\", \"Topic1\", \"Topic1\", \"Topic1\", \"Topic1\", \"Topic1\", \"Topic1\", \"Topic1\", \"Topic1\", \"Topic1\", \"Topic1\", \"Topic1\", \"Topic1\", \"Topic2\", \"Topic2\", \"Topic2\", \"Topic2\", \"Topic2\", \"Topic2\", \"Topic2\", \"Topic2\", \"Topic2\", \"Topic2\", \"Topic2\", \"Topic2\", \"Topic2\", \"Topic2\", \"Topic2\", \"Topic2\", \"Topic2\", \"Topic2\", \"Topic2\", \"Topic2\", \"Topic2\", \"Topic2\", \"Topic2\", \"Topic2\", \"Topic2\", \"Topic2\", \"Topic2\", \"Topic2\", \"Topic2\", \"Topic2\", \"Topic2\", \"Topic2\", \"Topic2\", \"Topic2\", \"Topic2\", \"Topic2\", \"Topic2\", \"Topic2\", \"Topic2\", \"Topic2\", \"Topic2\", \"Topic2\", \"Topic2\", \"Topic2\", \"Topic2\", \"Topic2\", \"Topic2\", \"Topic2\", \"Topic2\", \"Topic2\", \"Topic2\", \"Topic2\", \"Topic2\", \"Topic2\", \"Topic2\", \"Topic2\", \"Topic2\", \"Topic2\", \"Topic2\", \"Topic3\", \"Topic3\", \"Topic3\", \"Topic3\", \"Topic3\", \"Topic3\", \"Topic3\", \"Topic3\", \"Topic3\", \"Topic3\", \"Topic3\", \"Topic3\", \"Topic3\", \"Topic3\", \"Topic3\", \"Topic3\", \"Topic3\", \"Topic3\", \"Topic3\", \"Topic3\", \"Topic3\", \"Topic3\", \"Topic3\", \"Topic3\", \"Topic3\", \"Topic3\", \"Topic3\", \"Topic3\", \"Topic3\", \"Topic3\", \"Topic3\", \"Topic3\", \"Topic3\", \"Topic3\", \"Topic3\", \"Topic3\", \"Topic3\", \"Topic3\", \"Topic3\", \"Topic3\", \"Topic3\", \"Topic3\", \"Topic3\", \"Topic3\", \"Topic3\", \"Topic3\", \"Topic3\", \"Topic3\", \"Topic3\", \"Topic3\", \"Topic3\", \"Topic3\", \"Topic3\", \"Topic3\", \"Topic4\", \"Topic4\", \"Topic4\", \"Topic4\", \"Topic4\", \"Topic4\", \"Topic4\", \"Topic4\", \"Topic4\", \"Topic4\", \"Topic4\", \"Topic4\", \"Topic4\", \"Topic4\", \"Topic4\", \"Topic4\", \"Topic4\", \"Topic4\", \"Topic4\", \"Topic4\", \"Topic4\", \"Topic4\", \"Topic4\", \"Topic4\", \"Topic4\", \"Topic4\", \"Topic4\", \"Topic4\", \"Topic4\", \"Topic4\", \"Topic4\", \"Topic4\", \"Topic4\", \"Topic4\", \"Topic4\", \"Topic4\", \"Topic4\", \"Topic4\", \"Topic4\", \"Topic4\", \"Topic4\", \"Topic4\", \"Topic4\", \"Topic4\", \"Topic4\", \"Topic4\", \"Topic4\", \"Topic4\", \"Topic4\", \"Topic4\", \"Topic4\", \"Topic4\", \"Topic4\", \"Topic4\", \"Topic4\", \"Topic4\", \"Topic5\", \"Topic5\", \"Topic5\", \"Topic5\", \"Topic5\", \"Topic5\", \"Topic5\", \"Topic5\", \"Topic5\", \"Topic5\", \"Topic5\", \"Topic5\", \"Topic5\", \"Topic5\", \"Topic5\", \"Topic5\", \"Topic5\", \"Topic5\", \"Topic5\", \"Topic5\", \"Topic5\", \"Topic5\", \"Topic5\", \"Topic5\", \"Topic5\", \"Topic5\", \"Topic5\", \"Topic5\", \"Topic5\", \"Topic5\", \"Topic5\", \"Topic5\", \"Topic5\", \"Topic5\", \"Topic5\", \"Topic5\", \"Topic5\", \"Topic5\", \"Topic5\", \"Topic5\", \"Topic5\", \"Topic5\", \"Topic5\", \"Topic5\", \"Topic5\", \"Topic5\", \"Topic5\", \"Topic5\", \"Topic5\", \"Topic5\", \"Topic5\", \"Topic5\", \"Topic6\", \"Topic6\", \"Topic6\", \"Topic6\", \"Topic6\", \"Topic6\", \"Topic6\", \"Topic6\", \"Topic6\", \"Topic6\", \"Topic6\", \"Topic6\", \"Topic6\", \"Topic6\", \"Topic6\", \"Topic6\", \"Topic6\", \"Topic6\", \"Topic6\", \"Topic6\", \"Topic6\", \"Topic6\", \"Topic6\", \"Topic6\", \"Topic6\", \"Topic6\", \"Topic6\", \"Topic6\", \"Topic6\", \"Topic6\", \"Topic6\", \"Topic6\", \"Topic6\", \"Topic6\", \"Topic6\", \"Topic6\", \"Topic6\", \"Topic6\", \"Topic6\", \"Topic6\", \"Topic6\", \"Topic6\", \"Topic6\", \"Topic6\", \"Topic7\", \"Topic7\", \"Topic7\", \"Topic7\", \"Topic7\", \"Topic7\", \"Topic7\", \"Topic7\", \"Topic7\", \"Topic7\", \"Topic7\", \"Topic7\", \"Topic7\", \"Topic7\", \"Topic7\", \"Topic7\", \"Topic7\", \"Topic7\", \"Topic7\", \"Topic7\", \"Topic7\", \"Topic7\", \"Topic7\", \"Topic7\", \"Topic7\", \"Topic7\", \"Topic7\", \"Topic7\", \"Topic7\", \"Topic7\", \"Topic7\", \"Topic7\", \"Topic7\", \"Topic7\", \"Topic7\", \"Topic7\", \"Topic7\", \"Topic7\", \"Topic7\", \"Topic7\", \"Topic7\", \"Topic7\", \"Topic7\", \"Topic7\", \"Topic8\", \"Topic8\", \"Topic8\", \"Topic8\", \"Topic8\", \"Topic8\", \"Topic8\", \"Topic8\", \"Topic8\", \"Topic8\", \"Topic8\", \"Topic8\", \"Topic8\", \"Topic8\", \"Topic8\", \"Topic8\", \"Topic8\", \"Topic8\", \"Topic8\", \"Topic8\", \"Topic8\", \"Topic8\", \"Topic8\", \"Topic8\", \"Topic8\", \"Topic8\", \"Topic8\", \"Topic8\", \"Topic8\", \"Topic8\", \"Topic8\", \"Topic8\", \"Topic8\", \"Topic8\", \"Topic8\", \"Topic8\"], \"logprob\": [30.0, 29.0, 28.0, 27.0, 26.0, 25.0, 24.0, 23.0, 22.0, 21.0, 20.0, 19.0, 18.0, 17.0, 16.0, 15.0, 14.0, 13.0, 12.0, 11.0, 10.0, 9.0, 8.0, 7.0, 6.0, 5.0, 4.0, 3.0, 2.0, 1.0, -5.1679, -5.5657, -5.5982, -5.7069, -5.8501, -5.9025, -5.6704, -6.0367, -6.0672, -4.9259, -6.2234, -6.2834, -6.3117, -6.4771, -6.5134, -6.6085, -6.615, -6.6156, -6.627, -6.6389, -6.6449, -6.6788, -6.6949, -6.6998, -6.7082, -6.7407, -6.777, -6.8037, -6.8097, -4.3483, -5.2696, -4.0464, -6.4462, -6.1631, -4.0984, -5.383, -4.3408, -1.7007, -3.6209, -5.104, -5.9831, -5.0942, -5.6468, -4.4108, -3.7753, -4.7922, -5.0914, -3.9329, -5.3003, -3.6747, -5.5308, -4.4691, -5.277, -4.8321, -4.945, -5.4481, -4.0574, -3.8078, -4.5062, -4.8643, -4.924, -5.1221, -5.2714, -3.5835, -3.1462, -4.1878, -4.7012, -4.7606, -4.8004, -5.2368, -4.14, -5.7629, -5.7665, -5.8375, -5.8555, -5.8661, -6.1109, -6.1963, -6.2591, -6.3243, -6.4807, -6.5027, -6.5045, -6.6442, -6.6916, -6.7055, -6.6744, -6.8239, -6.8692, -6.8744, -6.9359, -6.9774, -5.9677, -2.1071, -2.1728, -4.2398, -5.7382, -5.3322, -5.4489, -3.9107, -4.763, -5.5131, -4.4602, -5.0774, -5.2752, -3.3556, -4.9589, -4.5023, -5.3828, -2.4963, -4.8752, -5.2326, -5.0836, -5.2328, -5.0068, -4.1152, -4.5923, -4.8852, -4.8896, -5.1716, -5.1317, -5.2036, -4.3473, -4.6104, -4.7204, -4.767, -4.8054, -4.8148, -4.9219, -5.1467, -4.5696, -5.4957, -5.5762, -5.6221, -4.5655, -5.8958, -5.8978, -5.9659, -5.9992, -6.1217, -6.1496, -6.1948, -6.2012, -6.2282, -6.2703, -6.2712, -6.3001, -6.3542, -6.3591, -6.4984, -5.2102, -6.5646, -3.7744, -3.2717, -4.1386, -2.7062, -4.4998, -5.5317, -5.2704, -4.3318, -4.8176, -4.955, -2.9834, -4.5134, -4.9962, -3.4841, -4.7917, -5.0875, -4.3068, -2.8793, -3.7647, -4.9206, -4.7795, -4.9493, -3.9758, -5.0115, -1.6146, -3.0062, -4.341, -4.4389, -5.0775, -5.2139, -5.4548, -4.9621, -5.7376, -5.7808, -5.8316, -5.8391, -6.0482, -6.0746, -6.2231, -6.2356, -4.1224, -6.3396, -6.405, -6.4185, -6.4498, -6.4771, -6.5615, -6.6498, -6.6896, -6.788, -6.8109, -6.8448, -6.8741, -6.9, -4.731, -4.86, -2.3547, -3.29, -5.2828, -4.0085, -4.8436, -5.9005, -4.3251, -5.8497, -3.7341, -6.0533, -3.2243, -4.875, -5.3906, -5.812, -4.3137, -4.9643, -5.4393, -4.8646, -4.7207, -5.1643, -4.7771, -5.303, -5.5389, -5.2736, -1.6701, -3.6483, -5.0249, -5.1048, -5.1562, -5.1775, -5.3378, -5.3941, -5.5194, -5.7643, -5.83, -5.888, -5.9455, -5.9851, -6.1128, -6.1063, -6.1447, -6.1501, -6.1884, -6.1958, -6.1992, -6.2284, -6.3256, -6.3661, -6.3666, -6.4315, -6.4663, -6.4701, -6.4742, -6.4865, -4.3846, -5.4533, -5.3404, -4.9579, -4.3309, -4.2362, -4.2179, -3.9492, -5.0872, -4.8536, -3.7639, -3.8927, -4.998, -4.708, -5.2062, -5.122, -5.336, -4.446, -4.0189, -4.5954, -4.9669, -5.4407, -2.3871, -3.1418, -3.3738, -3.5745, -3.8478, -3.9332, -4.0871, -4.2286, -4.3092, -4.322, -4.491, -4.6871, -4.8557, -5.1798, -5.2711, -5.4123, -5.5103, -5.6251, -5.6736, -5.7317, -5.7343, -5.7999, -5.8231, -5.9483, -5.034, -6.0288, -6.1519, -6.2114, -4.4985, -6.3095, -4.3186, -4.13, -4.9532, -3.7043, -4.6663, -3.5787, -3.4265, -4.4407, -3.6503, -4.5588, -5.1145, -4.6214, -5.18, -5.0789, -1.7555, -2.6881, -3.3355, -3.9691, -4.0504, -4.8595, -4.949, -5.2218, -5.3208, -5.3799, -5.4199, -5.4266, -5.5818, -5.6203, -5.809, -5.8182, -5.8502, -5.8921, -5.9976, -6.018, -6.0479, -6.0665, -6.2892, -6.3488, -6.3569, -6.3669, -6.3866, -6.3994, -6.4202, -6.4177, -4.8305, -4.2319, -4.6895, -4.7509, -3.6323, -5.3385, -5.151, -5.0574, -2.373, -5.3554, -4.0202, -4.976, -5.743, -5.7868, -3.0968, -3.319, -3.9656, -4.4272, -4.4401, -4.5956, -4.8486, -4.9397, -4.9699, -4.9869, -5.003, -5.0201, -5.0363, -5.0448, -5.0721, -5.0792, -5.0839, -5.0895, -5.1436, -5.2364, -5.2429, -5.2686, -5.3254, -5.3639, -5.4666, -5.4996, -5.5323, -5.5545, -5.5719, -5.6051, -4.6721, -2.867, -4.6544, -5.1336, -4.8616, -4.8774], \"loglift\": [30.0, 29.0, 28.0, 27.0, 26.0, 25.0, 24.0, 23.0, 22.0, 21.0, 20.0, 19.0, 18.0, 17.0, 16.0, 15.0, 14.0, 13.0, 12.0, 11.0, 10.0, 9.0, 8.0, 7.0, 6.0, 5.0, 4.0, 3.0, 2.0, 1.0, 1.2956, 1.2927, 1.2924, 1.2914, 1.2899, 1.2892, 1.2885, 1.2874, 1.2871, 1.2855, 1.2846, 1.2836, 1.2831, 1.2798, 1.2789, 1.2767, 1.2767, 1.2767, 1.2763, 1.2761, 1.2759, 1.2751, 1.2746, 1.2745, 1.2742, 1.2734, 1.2724, 1.2716, 1.2714, 1.271, 1.2492, 1.1857, 1.2596, 1.2471, 1.1265, 1.194, 1.1075, 0.888, 1.0077, 1.0963, 1.1981, 1.084, 1.1544, 0.9366, 0.8113, 0.9698, 1.0127, 0.7253, 1.0419, 0.5268, 1.0607, 0.6847, 0.9638, 0.7477, 0.7839, 1.0092, 0.1097, -0.3714, -0.0929, 0.2658, 0.3295, 0.1867, -0.5648, 1.5328, 1.5327, 1.5315, 1.5296, 1.5294, 1.5292, 1.5263, 1.5228, 1.5208, 1.5208, 1.5198, 1.5195, 1.5194, 1.5153, 1.5136, 1.5122, 1.5108, 1.5068, 1.5062, 1.5061, 1.502, 1.5005, 1.5, 1.4996, 1.4957, 1.4939, 1.4938, 1.4913, 1.4895, 1.4893, 1.2779, 1.2636, 1.3307, 1.4178, 1.3855, 1.3449, 1.1189, 1.2132, 1.3195, 1.1461, 1.2427, 1.28, 0.8822, 1.2076, 1.0837, 1.2757, 0.0924, 1.0375, 1.1588, 1.0062, 1.0893, 0.9009, 0.0863, 0.0363, 0.2662, -0.3031, 0.5573, 0.177, -0.497, 1.9878, 1.9862, 1.9854, 1.9851, 1.9848, 1.9847, 1.9838, 1.9815, 1.9793, 1.9767, 1.9753, 1.9745, 1.9744, 1.9688, 1.9687, 1.967, 1.9662, 1.9627, 1.9619, 1.9605, 1.9603, 1.9594, 1.958, 1.9579, 1.9569, 1.955, 1.9548, 1.9492, 1.9479, 1.9463, 1.8394, 1.7944, 1.8296, 1.7071, 1.7416, 1.8629, 1.8125, 1.652, 1.6987, 1.7118, 1.2544, 1.5957, 1.7061, 1.2225, 1.6149, 1.6708, 1.2537, 0.5057, 0.8934, 1.5187, 1.2978, 1.3601, -1.3871, 1.2295, 2.1981, 2.1948, 2.1921, 2.1914, 2.1852, 2.1832, 2.1791, 2.1786, 2.1729, 2.1718, 2.1704, 2.1698, 2.1637, 2.1626, 2.1572, 2.1567, 2.1525, 2.1522, 2.1492, 2.1486, 2.147, 2.1456, 2.1411, 2.1359, 2.1334, 2.127, 2.1252, 2.123, 2.1208, 2.1186, 2.1023, 1.9977, 1.8123, 1.8614, 1.9929, 1.8629, 1.9121, 2.0365, 1.6384, 1.9972, 1.4197, 2.0314, 0.9772, 1.5243, 1.6454, 1.9035, 0.7159, 0.9209, 1.4486, 0.3602, -0.0626, 0.7434, -0.1906, 0.8012, 1.2849, -0.02, 2.4277, 2.4233, 2.4126, 2.4113, 2.4104, 2.41, 2.4069, 2.4056, 2.4027, 2.3956, 2.3935, 2.3915, 2.3893, 2.3878, 2.3824, 2.3821, 2.381, 2.3807, 2.3788, 2.3785, 2.3783, 2.3769, 2.3718, 2.3696, 2.3695, 2.3656, 2.3636, 2.3633, 2.3631, 2.3623, 2.3292, 2.2628, 2.2473, 2.1879, 2.0996, 1.9215, 1.8998, 1.7838, 2.0218, 1.9348, 1.5448, 1.4735, 1.4414, 1.1634, 1.5857, 1.2716, 1.458, 0.1405, -0.5825, 0.1112, 0.1631, 1.4472, 2.6334, 2.6318, 2.631, 2.6302, 2.6288, 2.6282, 2.6271, 2.626, 2.6253, 2.6252, 2.6234, 2.621, 2.6185, 2.6123, 2.6102, 2.6064, 2.6036, 2.5999, 2.5983, 2.5961, 2.596, 2.5934, 2.5925, 2.587, 2.5863, 2.583, 2.5765, 2.5731, 2.5723, 2.5668, 2.5504, 2.5345, 2.5312, 2.3774, 2.2719, 1.9817, 1.7036, 2.0031, 1.6033, 1.021, 1.6739, 0.4082, 1.6119, 1.064, 2.9048, 2.9033, 2.901, 2.8968, 2.8961, 2.8842, 2.8822, 2.875, 2.8718, 2.8698, 2.8684, 2.8681, 2.8618, 2.8602, 2.851, 2.8505, 2.8486, 2.8464, 2.8401, 2.8386, 2.8364, 2.8356, 2.8188, 2.8137, 2.8128, 2.812, 2.8093, 2.8091, 2.8073, 2.8071, 2.6387, 2.5432, 2.4891, 2.3352, 1.7151, 2.3536, 2.2116, 2.0254, 0.2158, 2.1287, 0.6864, 1.4397, 2.0471, 2.0282, 2.9842, 2.9832, 2.9786, 2.973, 2.9728, 2.9702, 2.9651, 2.9629, 2.9621, 2.9617, 2.9613, 2.9608, 2.9604, 2.9601, 2.9594, 2.9592, 2.959, 2.9589, 2.9573, 2.9543, 2.9541, 2.9532, 2.9512, 2.9497, 2.9457, 2.9443, 2.9429, 2.9419, 2.9411, 2.9395, 2.8805, 2.4992, 2.7167, 2.6304, 1.5956, 1.2404]}, \"token.table\": {\"Topic\": [2, 3, 4, 6, 2, 3, 4, 6, 1, 5, 6, 7, 1, 4, 4, 1, 4, 1, 2, 1, 3, 4, 5, 6, 1, 2, 3, 2, 3, 1, 3, 4, 2, 8, 4, 5, 7, 1, 2, 5, 3, 4, 2, 4, 8, 8, 2, 3, 5, 2, 6, 1, 7, 2, 1, 2, 1, 3, 5, 1, 3, 3, 4, 8, 1, 3, 4, 5, 6, 7, 2, 3, 2, 1, 3, 5, 1, 4, 8, 1, 6, 4, 2, 1, 1, 1, 2, 5, 8, 5, 8, 5, 3, 1, 7, 8, 2, 3, 2, 2, 1, 6, 8, 5, 1, 4, 1, 2, 5, 7, 1, 4, 1, 4, 5, 2, 2, 1, 6, 4, 6, 1, 4, 1, 2, 4, 5, 8, 1, 2, 5, 2, 1, 3, 4, 7, 2, 8, 2, 5, 1, 7, 3, 8, 5, 1, 2, 3, 3, 1, 2, 4, 5, 4, 5, 5, 6, 2, 3, 1, 3, 2, 3, 4, 7, 1, 1, 2, 3, 4, 5, 6, 1, 6, 1, 2, 3, 5, 6, 7, 5, 3, 5, 2, 3, 5, 3, 2, 3, 1, 5, 7, 3, 1, 2, 2, 8, 3, 6, 6, 4, 1, 3, 6, 8, 4, 5, 7, 8, 8, 3, 4, 6, 8, 1, 8, 4, 1, 5, 3, 8, 6, 1, 6, 1, 2, 1, 2, 4, 1, 1, 8, 8, 3, 2, 6, 1, 2, 5, 2, 5, 6, 1, 5, 8, 3, 6, 1, 7, 1, 3, 7, 6, 6, 7, 1, 2, 4, 5, 6, 1, 6, 8, 4, 5, 1, 7, 3, 3, 3, 1, 3, 8, 8, 8, 3, 5, 8, 3, 1, 8, 8, 8, 1, 2, 7, 1, 1, 3, 4, 1, 2, 2, 3, 5, 7, 1, 2, 5, 7, 1, 2, 4, 5, 4, 1, 2, 3, 4, 2, 3, 2, 1, 8, 2, 3, 5, 5, 5, 1, 3, 7, 7, 7, 2, 1, 2, 5, 5, 1, 2, 6, 1, 2, 2, 1, 2, 3, 7, 5, 5, 1, 3, 5, 1, 5, 8, 7, 1, 2, 5, 1, 4, 8, 2, 1, 3, 1, 5, 1, 3, 8, 6, 1, 1, 3, 5, 6, 1, 3, 5, 6, 1, 8, 4, 1, 1, 5, 2, 3, 3, 2, 1, 2, 3, 7, 8, 5, 4, 2, 3, 5, 2, 2, 3, 1, 6, 5, 3, 1, 4, 4, 6, 4, 5, 1, 4, 1, 3, 5, 7, 7, 5, 1, 2, 4, 5, 2, 4, 3, 2, 2, 4, 4, 1, 8, 2, 3, 4, 8, 2, 3, 8, 7, 2, 3, 1, 4, 6, 6, 1, 4, 8, 1, 4, 6, 6, 6, 4, 7, 1, 4, 1, 5, 8, 4, 3, 1, 5, 1, 2, 3, 5, 6, 5, 8, 7, 4, 2, 5, 3, 5, 1, 4, 6, 5, 6, 3, 3, 5, 6, 1, 4, 4, 5, 8, 2, 4, 5, 6, 2, 3, 1, 2, 1, 1, 1, 2, 3, 3, 6, 1, 3, 7, 1, 2, 3, 6, 8, 7, 1, 1, 2, 3, 4, 5, 7, 1, 2, 3, 7, 7, 1, 4, 6, 4, 1, 7, 8, 1, 2, 3, 4, 1, 2, 3, 4, 5, 7, 3, 5, 2, 5, 8, 1, 1, 7, 1, 2, 1, 2, 5, 4, 5, 6, 7, 3, 1, 3, 5, 6, 4, 7, 1, 6, 4, 1, 4, 6, 1, 2, 3, 4, 6, 7, 5, 6, 7, 4, 7, 8, 1, 3, 3, 4, 7], \"Freq\": [0.6603484887018952, 0.0034846885947329566, 0.2265047586576422, 0.10802534643672165, 0.5324641644150822, 0.10062314918080294, 0.23478734808854018, 0.13416419890773726, 0.9693058507180315, 0.9553880573278265, 0.9809329876677162, 0.9474441769663969, 0.9870274151683924, 0.9583777764429201, 0.9603419068183391, 0.5405304469696224, 0.45964815380993435, 0.3553255922060321, 0.6408550859430222, 0.3328374374578024, 0.49677229471313794, 0.05464495241844517, 0.044709506524182416, 0.06954812125983931, 0.5090334951344644, 0.017552879142567736, 0.4680767771351397, 0.9821509088849371, 0.9895315815405805, 0.029278479076684773, 0.9515505699922552, 0.9914890002610756, 0.9975468102171903, 0.9628154826739377, 0.9255946872337082, 0.9585064267108689, 0.9518789910186642, 0.1877076810730157, 0.7628723491156146, 0.049228995602168264, 0.9626716270552875, 0.9556566253330007, 0.9769636516602852, 0.9475761986075403, 0.9903273282154709, 0.9821071904856045, 0.9973231566991313, 0.958286657267323, 0.9896074194466706, 0.9598371509307434, 0.9922727390989864, 0.4849468068976437, 0.5029077997457045, 0.996168962834114, 0.9836257683275934, 0.973034774237474, 0.16704157747398085, 0.7516870986329138, 0.07424070109954704, 0.007961018940080214, 0.9871663485699466, 0.23007602667849458, 0.7413560859640381, 0.9883956251778483, 0.37926646768809097, 0.13732061761120534, 0.10898461715175027, 0.017437538744280043, 0.3574695442577409, 0.9594293916217179, 0.7737618213472168, 0.2260730191066651, 0.9913571668046435, 0.16263915103100623, 0.11314027897809129, 0.721269278485332, 0.8605938071409913, 0.13318713681943914, 0.9560114339235473, 0.46583047003013495, 0.5303300735727691, 0.9445402962968079, 0.9793077305681192, 0.9940342710758326, 0.9857094186895903, 0.14082550364257684, 0.26756845692089604, 0.5245750010685988, 0.06337147663915958, 0.3854820077291439, 0.6123796451899691, 0.9927594898697948, 0.9523360973843534, 0.39953117897562634, 0.5743260697774629, 0.9647073724091084, 0.31073346488612585, 0.6836136227494769, 0.9923873872416212, 0.9754268080721803, 0.9006354101628415, 0.0655007571027521, 0.024562783913532043, 0.9568304812600226, 0.9660787408179977, 0.9853806046224822, 0.05575413358114119, 0.2787706679057059, 0.6690496029736942, 0.9757056554119069, 0.18113634525509517, 0.8068800834090603, 0.4146161444588224, 0.5700971986308808, 0.9684462079350539, 0.9469457624087062, 0.9961225383297935, 0.2937326479064281, 0.6932090490591704, 0.9442188798973057, 0.928424627532739, 0.7500878883656453, 0.24492665742551684, 0.7137266043578735, 0.0292510903425358, 0.10530392523312887, 0.11115414330163603, 0.04095152647955012, 0.7455701553718376, 0.22402107954834558, 0.03033618785550513, 0.9820747001736708, 0.40784348552148364, 0.013299244093091857, 0.5718674960029498, 0.9243489535568036, 0.9954500784074743, 0.9855689040645285, 0.8911965355363678, 0.10226845489761598, 0.6942950068473861, 0.30405333058488976, 0.9875737094194402, 0.9749198090607005, 0.9217286467770789, 0.1641276739530371, 0.6382742875951443, 0.19452168764804398, 0.9963394660274991, 0.10563875475280445, 0.5885587764799105, 0.160973340575702, 0.14085167300373927, 0.9629975012951724, 0.973795251152139, 0.9381560723799289, 0.9955295168079836, 0.8576198262055565, 0.13194151172393176, 0.14937856641418157, 0.8283720501150069, 0.7273061481427155, 0.18407130909784775, 0.089790882486755, 0.9951500357423985, 0.9858344201002671, 0.40993898998051026, 0.18037315559142453, 0.11068352729473777, 0.278758513186747, 0.020496949499025512, 0.9840250414692956, 0.9579494178803979, 0.951841076032047, 0.1551506566147836, 0.13118429502388207, 0.4629291949400454, 0.09838822126791157, 0.04414856082534493, 0.10847932088513326, 0.9842343596065621, 0.20243788519388514, 0.7808318428906998, 0.8237581319941326, 0.15254780222113568, 0.010169853481409044, 0.9845573913399603, 0.7770786246841929, 0.21630023573683718, 0.9732970346963284, 0.9335714109751059, 0.9339426936777271, 0.9965646359281968, 0.27697568383349475, 0.7223091362716628, 0.9826179167367118, 0.9371689441862177, 0.9929807845691083, 0.9930834750177927, 0.9565899849343611, 0.9872377075946911, 0.11126631503218176, 0.8715861344187571, 0.9209782190095456, 0.07674818491746213, 0.9597361945910146, 0.9872742697857911, 0.9602225283810703, 0.9952073816184912, 0.9971613486891111, 0.9849056881237973, 0.1746368663384654, 0.7733918366417754, 0.04490662277274825, 0.9500845484576755, 0.04634558772964271, 0.9895240916079938, 0.9418176505135873, 0.0376727060205435, 0.2951599131338898, 0.6976507037710122, 0.99155131910378, 0.08115243487732007, 0.8926767836505207, 0.31946869137374095, 0.6792586738917405, 0.003936069495031134, 0.2814289688947261, 0.7143966133481507, 0.9755406163776789, 0.21738128636062715, 0.7608345022621951, 0.9928463574196084, 0.983661915572404, 0.9704112942333434, 0.9658982901145589, 0.3270755163704478, 0.25797505516542363, 0.412299418523311, 0.3929826774864319, 0.6029323271024709, 0.9149876693922955, 0.9680070764760487, 0.9653614580151495, 0.9762847877044848, 0.9936547995052935, 0.8976335747464729, 0.9741944756881343, 0.8835729995653177, 0.26367430475451653, 0.26367430475451653, 0.4665006930272216, 0.9654977219327334, 0.9780842506196217, 0.8987079128669867, 0.4605227761231548, 0.23520915342488402, 0.2945823377845635, 0.009134336055335302, 0.9949868803470424, 0.023242173353971444, 0.9529291075128291, 0.9884522326791139, 0.995190146505944, 0.9435394603511661, 0.3287666117588813, 0.6575332235177626, 0.9944875956016398, 0.9759853594933462, 0.9810760003783248, 0.17890306981605367, 0.8204241787524077, 0.9681258381844376, 0.9532803935015698, 0.9754282699028272, 0.7262810999606402, 0.2649944553910444, 0.9834213297425537, 0.99210160429385, 0.9637665217393896, 0.9288791718782454, 0.9862406280504729, 0.9488473437344678, 0.19030637442574608, 0.803515803130928, 0.9101363556448004, 0.952395314424256, 0.562419682863978, 0.3328851541737648, 0.10455237694266259, 0.009845944969183024, 0.9878764785746967, 0.5520960600250691, 0.12950401407995446, 0.3135360340883108, 0.9250584916891068, 0.03484047870478429, 0.585320042240376, 0.146330010560094, 0.22994715945157632, 0.7176240265864302, 0.15584764213745705, 0.12322836820171024, 0.9733190661508115, 0.9720346435990878, 0.2220677770911092, 0.77279586427706, 0.9568286981498799, 0.9331116049940864, 0.7472005526078392, 0.2469561148449638, 0.9830502693122736, 0.9620232008858525, 0.025316400023311907, 0.07165887400844909, 0.7524181770887154, 0.17018982577006658, 0.9349287422840045, 0.9527885915081752, 0.3269327406125508, 0.1089775802041836, 0.558510098546441, 0.9275641937398811, 0.9210948469876765, 0.9614027736405676, 0.9872498332485682, 0.9596594758675799, 0.9991197938465984, 0.9047264888356358, 0.18254457544331898, 0.8169617884594439, 0.997882061122265, 0.8896139866532294, 0.10880171059787698, 0.937491955108315, 0.4344889813580543, 0.013577780667439197, 0.12220002600695277, 0.4209112006906151, 0.947664805781838, 0.9221257787111664, 0.04454103017199899, 0.8507336762851806, 0.10244436939559767, 0.15747923021484736, 0.8323902168499074, 0.9770996566264217, 0.9580114825518619, 0.3051528269574226, 0.3153245878560033, 0.3763551532474878, 0.0020681948317971275, 0.9968699089262154, 0.9867085261931868, 0.9818339492745068, 0.24835710641770728, 0.7516565455596519, 0.08449134315213766, 0.9012409936228017, 0.9840529387846723, 0.08688200389550658, 0.8905405399289424, 0.9958970907376017, 0.9602992446082079, 0.5738850976042495, 0.17518597716340248, 0.048327166114042065, 0.19934956022042352, 0.9915729562791512, 0.9665725048192841, 0.9418128308999131, 0.9454321139306314, 0.9886917044441701, 0.9575695167591196, 0.9658689690063684, 0.985964591099522, 0.9674091858149139, 0.9372742394869488, 0.9987272292709893, 0.0012269376280970386, 0.9766192716951043, 0.9731342628526624, 0.6613869510732322, 0.23654559686239254, 0.033987308336867174, 0.06782288761865905, 0.0001517290550752999, 0.9412413089583378, 0.9498708343079778, 0.20485692543597464, 0.7784563166567036, 0.011706110024912836, 0.981975059553901, 0.4636395061128487, 0.5325588921566505, 0.08936487358407134, 0.9025852231991206, 0.9497124378877998, 0.9822561352456082, 0.8146131546456499, 0.17977669619766068, 0.05366262582570706, 0.9390959519498735, 0.9782975027960088, 0.014386727982294248, 0.17345726718857918, 0.8130809399464649, 0.14639094472850017, 0.7473642967718167, 0.10786701190521066, 0.9567605247617413, 0.9995802570482732, 0.9911462709815481, 0.3037262428860824, 0.015443707265394022, 0.6795231196773369, 0.0014708292633708593, 0.12760034885854457, 0.8613023547951759, 0.9719337777747531, 0.9795092473610089, 0.996719425544615, 0.9993890352141973, 0.9689894314158906, 0.7481677994547361, 0.24696801147049544, 0.5209598868450716, 0.47754656294131553, 0.000789333161886472, 0.9819580029878556, 0.2871776929588632, 0.6717906746001978, 0.0358972116198579, 0.9961629849966428, 0.9475286152949932, 0.03948035897062472, 0.17492541003725814, 0.8163185801738714, 0.9786219535114907, 0.9864551269297321, 0.4191879046553075, 0.39822850942254207, 0.17815485947850568, 0.8022637268000689, 0.18133358208494707, 0.010989914065754369, 0.9678040020680954, 0.9692482093365824, 0.21978842064345458, 0.7592690894955704, 0.04237014293699713, 0.9563546548636496, 0.9827278378636979, 0.011361015466632346, 0.9515320278571998, 0.9284720990151001, 0.9818630655238095, 0.9648191403414873, 0.9770119063504801, 0.35445980905018554, 0.02504335607419789, 0.1213639563595744, 0.10402624830820663, 0.39491446117004364, 0.982085268901209, 0.9666019036552972, 0.9728940160620663, 0.9530666793959428, 0.9828302620155446, 0.9742871460753822, 0.620705692316637, 0.37099650575247267, 0.8387345109421208, 0.15885123313297744, 0.9949871654146903, 0.8440232991554897, 0.12788231805386208, 0.9763617847586421, 0.20301539870249607, 0.4263323372752418, 0.35527694772936813, 0.0846384094606603, 0.9098629017020982, 0.7156597893598862, 0.2830292952270736, 0.9840044223017923, 0.14526466837462448, 0.469316620902633, 0.379922978825941, 0.9431237973992825, 0.01577807876256129, 0.9782408832787999, 0.9709495105061207, 0.02828008283027536, 0.9851542267867841, 0.9761354456346999, 0.0062497586072825535, 0.1343698100565749, 0.8562169291977098, 0.4769888655103845, 0.5214288219243954, 0.9763490074369927, 0.29943513468479915, 0.698681980931198, 0.07584632396395807, 0.6067705917116646, 0.27388950320318195, 0.029495792652650364, 0.012641053993993012, 0.9203023206915204, 0.973071311567633, 0.7704188647167327, 0.0906375134960862, 0.0194223243205899, 0.0258964324274532, 0.0906375134960862, 0.9048259487970328, 0.3060174117439956, 0.686839079692079, 0.9826128912208812, 0.9946720032978396, 0.996016213872793, 0.41125274176760573, 0.5072117148467137, 0.07539633599072772, 0.9409474140952074, 0.5508535872030624, 0.41314019040229677, 0.9817235585450484, 0.009789740629395008, 0.09789740629395009, 0.13705636881153013, 0.7538100284634157, 0.6119263341836476, 0.15885473391970378, 0.034679554588104344, 0.09173301536208246, 0.10180127314572565, 0.9529820550873309, 0.9949508249388082, 0.9771529128061963, 0.2327643016020308, 0.589669564058478, 0.17586636121042326, 0.9796395143253919, 0.5647581647683311, 0.42356862357624836, 0.8236511728287068, 0.17479413957136541, 0.5960431248459195, 0.3751565550500787, 0.02454295219953786, 0.8505310811070487, 0.11093883666613678, 0.998023304024641, 0.9260048972921742, 0.9792181685445109, 0.19001346735931207, 0.7102884375098094, 0.09500673367965604, 0.9943281400100767, 0.9931291900161807, 0.9283455482385224, 0.9920187760547042, 0.9972996935394904, 0.918896602810006, 0.7892357897864609, 0.2076936288911739, 0.939635902508855, 0.33417947407310433, 0.24400406043433015, 0.010608872192796963, 0.2015685716631423, 0.2068730077595408, 0.9730954240537856, 0.6069011317645067, 0.3843707167841876, 0.9421699450354303, 0.9461722138102775, 0.8755043465928579, 0.9869462767547452, 0.8989279162547001, 0.08989279162547001, 0.9611110794645927, 0.8942317236510761, 0.8692362088401238], \"Term\": [\"....\", \"....\", \"....\", \"....\", \".....\", \".....\", \".....\", \".....\", \".......\", \"........\", \".........\", \"a1\", \"accessory\", \"airtel\", \"alot\", \"amazon\", \"amazon\", \"android\", \"android\", \"app\", \"app\", \"app\", \"app\", \"app\", \"apps\", \"apps\", \"apps\", \"aspect\", \"atmos\", \"average\", \"average\", \"awesome\", \"backup\", \"bahut\", \"bakwas\", \"bank\", \"batter\", \"battery\", \"battery\", \"battery\", \"battry\", \"beast\", \"bed\", \"bekar\", \"bhi\", \"bill\", \"bit\", \"blur\", \"body\", \"bokeh\", \"box\", \"brightness\", \"brightness\", \"budget\", \"bug\", \"build\", \"button\", \"button\", \"button\", \"buy\", \"buy\", \"buying\", \"buying\", \"cable\", \"call\", \"call\", \"call\", \"call\", \"call\", \"camara\", \"camera\", \"camera\", \"capacity\", \"card\", \"card\", \"card\", \"care\", \"care\", \"cash\", \"cast\", \"cast\", \"category\", \"cell\", \"center\", \"centre\", \"charge\", \"charge\", \"charge\", \"charge\", \"charger\", \"charger\", \"charging\", \"china\", \"choice\", \"choice\", \"chor\", \"clarity\", \"clarity\", \"color\", \"comment\", \"company\", \"company\", \"company\", \"comparison\", \"complain\", \"complaint\", \"con\", \"con\", \"con\", \"concern\", \"connection\", \"connection\", \"connectivity\", \"connectivity\", \"control\", \"cool\", \"core\", \"cost\", \"cost\", \"coverage\", \"crack\", \"customer\", \"customer\", \"data\", \"data\", \"data\", \"data\", \"data\", \"day\", \"day\", \"day\", \"deca\", \"delivery\", \"delivery\", \"delivery\", \"department\", \"depth\", \"description\", \"design\", \"design\", \"device\", \"device\", \"difference\", \"din\", \"discount\", \"display\", \"display\", \"display\", \"dolby\", \"drain\", \"drain\", \"drain\", \"drain\", \"drainage\", \"draining\", \"dust\", \"earphone\", \"effect\", \"effect\", \"etc\", \"etc\", \"everything\", \"everything\", \"everything\", \"excellent\", \"exchange\", \"experience\", \"experience\", \"experience\", \"experience\", \"experience\", \"facility\", \"fall\", \"fault\", \"feature\", \"feature\", \"feature\", \"feature\", \"feature\", \"feature\", \"finger\", \"fingerprint\", \"fingerprint\", \"flash\", \"flash\", \"flash\", \"fone\", \"front\", \"front\", \"functionality\", \"g\", \"g5s\", \"gallery\", \"game\", \"game\", \"gaming\", \"gaya\", \"gb\", \"glass\", \"gold\", \"good\", \"google\", \"google\", \"gorilla\", \"gorilla\", \"graphic\", \"gud\", \"gya\", \"h\", \"hai\", \"half\", \"handset\", \"handset\", \"handset\", \"hang\", \"hang\", \"hanging\", \"hardware\", \"hardware\", \"head\", \"head\", \"headphone\", \"headset\", \"headset\", \"heat\", \"heat\", \"heating\", \"heating\", \"heating\", \"hell\", \"hi\", \"hi\", \"ho\", \"home\", \"hota\", \"hotspot\", \"hour\", \"hour\", \"hour\", \"hr\", \"hr\", \"hv\", \"i.e\", \"iam\", \"icon\", \"image\", \"impression\", \"improvement\", \"indicator\", \"interface\", \"interface\", \"interface\", \"invoice\", \"iron\", \"isme\", \"issue\", \"issue\", \"issue\", \"issue\", \"item\", \"jack\", \"jack\", \"jata\", \"jio\", \"job\", \"k\", \"k\", \"k4\", \"k5\", \"k6\", \"k8\", \"k8\", \"ka\", \"kar\", \"ke\", \"key\", \"key\", \"ki\", \"killer\", \"kind\", \"kiya\", \"ko\", \"koi\", \"lag\", \"lag\", \"last\", \"lenevo\", \"lenovo\", \"lenovo\", \"lenovo\", \"life\", \"life\", \"light\", \"light\", \"light\", \"lol\", \"look\", \"look\", \"look\", \"look\", \"lot\", \"lot\", \"lot\", \"lover\", \"lte\", \"mah\", \"mah\", \"manager\", \"manufacturing\", \"mark\", \"mark\", \"max\", \"medium\", \"medium\", \"memory\", \"memory\", \"memory\", \"messenger\", \"metal\", \"mi\", \"mi\", \"mi\", \"mi4\", \"mia1\", \"mind\", \"minute\", \"mob\", \"mobile\", \"mobile.it\", \"mode\", \"mode\", \"money\", \"month\", \"month\", \"motion\", \"moto\", \"moto\", \"moto\", \"moto\", \"movie\", \"msg\", \"music\", \"music\", \"music\", \"n\", \"n\", \"nahi\", \"nd\", \"need\", \"need\", \"need\", \"network\", \"network\", \"nhi\", \"nice\", \"note\", \"note\", \"notification\", \"notification\", \"number\", \"offer\", \"offer\", \"ok\", \"online\", \"option\", \"option\", \"option\", \"option\", \"oreo\", \"output\", \"overheating\", \"packing\", \"paper\", \"par\", \"pc\", \"people\", \"percent\", \"perfect\", \"performance\", \"performance\", \"ph\", \"phn\", \"phone\", \"phone\", \"phone\", \"phone\", \"phone\", \"phone-\", \"phone.it\", \"photo\", \"photo\", \"photo\", \"photography\", \"picture\", \"picture\", \"piece\", \"piece\", \"pin\", \"player\", \"please\", \"please\", \"pls\", \"pls\", \"plz\", \"plz\", \"policy\", \"policy\", \"power\", \"power\", \"power\", \"pr\", \"price\", \"print\", \"problem\", \"problem\", \"problem\", \"problem\", \"process\", \"process\", \"processer\", \"processing\", \"processor\", \"product\", \"provide\", \"purchase\", \"purchase\", \"quality\", \"quality\", \"quality\", \"raha\", \"ram\", \"ram\", \"ram\", \"range\", \"rear\", \"rear\", \"reception\", \"reception\", \"record\", \"recorder\", \"refund\", \"refund\", \"refund\", \"replacement\", \"replacement\", \"replacement\", \"requirement\", \"restart\", \"result\", \"result\", \"return\", \"return\", \"review\", \"review\", \"rha\", \"rock\", \"rom\", \"saver\", \"scanner\", \"screen\", \"screen\", \"screen\", \"screen\", \"screen\", \"sd\", \"se\", \"segment\", \"selfi\", \"selfie\", \"seller\", \"sensor\", \"sensor\", \"service\", \"service\", \"set\", \"setting\", \"setting\", \"shot\", \"side\", \"side\", \"side\", \"signal\", \"signal\", \"sim\", \"sim\", \"sir\", \"slot\", \"slot\", \"slot\", \"smart\", \"smartphone\", \"smartphone\", \"software\", \"software\", \"solution\", \"something\", \"sound\", \"sound\", \"sound\", \"speaker\", \"speaker\", \"spec\", \"specification\", \"specification\", \"speed\", \"speed\", \"speed\", \"speed\", \"speed\", \"spent\", \"standby\", \"star\", \"star\", \"star\", \"star\", \"star\", \"stick\", \"stock\", \"stock\", \"stop\", \"super\", \"superb\", \"support\", \"support\", \"support\", \"surprise\", \"term\", \"term\", \"tha\", \"thanks\", \"thanks\", \"thanks\", \"thanks\", \"time\", \"time\", \"time\", \"time\", \"time\", \"toh\", \"touch\", \"tray\", \"turbo\", \"turbo\", \"turbo\", \"tv\", \"type\", \"type\", \"update\", \"update\", \"use\", \"use\", \"use\", \"v\", \"v\", \"value\", \"vasool\", \"vibe\", \"video\", \"video\", \"video\", \"voice\", \"volta\", \"vr\", \"warranty\", \"waste\", \"website\", \"week\", \"week\", \"wire\", \"work\", \"work\", \"work\", \"work\", \"work\", \"working\", \"worth\", \"worth\", \"wow\", \"wrost\", \"ya\", \"ye\", \"year\", \"year\", \"zoom\", \"\\ud83d\\udd0b\", \"\\ud83d\\ude0e\"]}, \"R\": 30, \"lambda.step\": 0.01, \"plot.opts\": {\"xlab\": \"PC1\", \"ylab\": \"PC2\"}, \"topic.order\": [4, 6, 3, 5, 1, 2, 7, 8]};\n",
       "\n",
       "function LDAvis_load_lib(url, callback){\n",
       "  var s = document.createElement('script');\n",
       "  s.src = url;\n",
       "  s.async = true;\n",
       "  s.onreadystatechange = s.onload = callback;\n",
       "  s.onerror = function(){console.warn(\"failed to load library \" + url);};\n",
       "  document.getElementsByTagName(\"head\")[0].appendChild(s);\n",
       "}\n",
       "\n",
       "if(typeof(LDAvis) !== \"undefined\"){\n",
       "   // already loaded: just create the visualization\n",
       "   !function(LDAvis){\n",
       "       new LDAvis(\"#\" + \"ldavis_el28491332821091973281725725177\", ldavis_el28491332821091973281725725177_data);\n",
       "   }(LDAvis);\n",
       "}else if(typeof define === \"function\" && define.amd){\n",
       "   // require.js is available: use it to load d3/LDAvis\n",
       "   require.config({paths: {d3: \"https://d3js.org/d3.v5\"}});\n",
       "   require([\"d3\"], function(d3){\n",
       "      window.d3 = d3;\n",
       "      LDAvis_load_lib(\"https://cdn.jsdelivr.net/gh/bmabey/pyLDAvis@3.4.0/pyLDAvis/js/ldavis.v3.0.0.js\", function(){\n",
       "        new LDAvis(\"#\" + \"ldavis_el28491332821091973281725725177\", ldavis_el28491332821091973281725725177_data);\n",
       "      });\n",
       "    });\n",
       "}else{\n",
       "    // require.js not available: dynamically load d3 & LDAvis\n",
       "    LDAvis_load_lib(\"https://d3js.org/d3.v5.js\", function(){\n",
       "         LDAvis_load_lib(\"https://cdn.jsdelivr.net/gh/bmabey/pyLDAvis@3.4.0/pyLDAvis/js/ldavis.v3.0.0.js\", function(){\n",
       "                 new LDAvis(\"#\" + \"ldavis_el28491332821091973281725725177\", ldavis_el28491332821091973281725725177_data);\n",
       "            })\n",
       "         });\n",
       "}\n",
       "</script>"
      ],
      "text/plain": [
       "PreparedData(topic_coordinates=              x         y  topics  cluster       Freq\n",
       "topic                                                \n",
       "3     -0.188278  0.072379       1        1  27.212838\n",
       "5     -0.248292 -0.052593       2        1  21.559823\n",
       "2     -0.136219 -0.144138       3        1  13.629160\n",
       "4      0.013968  0.352681       4        1  11.096995\n",
       "0      0.078263 -0.058712       5        1   8.818842\n",
       "1      0.189945 -0.010198       6        1   7.173691\n",
       "6      0.034725 -0.105505       7        1   5.470892\n",
       "7      0.255887 -0.053914       8        1   5.037759, topic_info=         Term         Freq        Total Category  logprob  loglift\n",
       "50    product  1938.000000  1938.000000  Default  30.0000  30.0000\n",
       "16      phone  6590.000000  6590.000000  Default  29.0000  29.0000\n",
       "12     mobile  1457.000000  1457.000000  Default  28.0000  28.0000\n",
       "58     camera  2972.000000  2972.000000  Default  27.0000  27.0000\n",
       "68      price   830.000000   830.000000  Default  26.0000  26.0000\n",
       "..        ...          ...          ...      ...      ...      ...\n",
       "5     charger   251.359274   409.876458   Topic8  -2.8670   2.4992\n",
       "779        hi    42.078738    55.202544   Topic8  -4.6544   2.7167\n",
       "670      head    26.058769    37.267933   Topic8  -5.1336   2.6304\n",
       "416  purchase    34.202231   137.669651   Topic8  -4.8616   1.5956\n",
       "187     turbo    33.668351   193.328615   Topic8  -4.8774   1.2404\n",
       "\n",
       "[438 rows x 6 columns], token_table=      Topic      Freq   Term\n",
       "term                        \n",
       "143       2  0.660348   ....\n",
       "143       3  0.003485   ....\n",
       "143       4  0.226505   ....\n",
       "143       6  0.108025   ....\n",
       "103       2  0.532464  .....\n",
       "...     ...       ...    ...\n",
       "29        1  0.898928   year\n",
       "29        3  0.089893   year\n",
       "2323      3  0.961111   zoom\n",
       "1275      4  0.894232      🔋\n",
       "6429      7  0.869236      😎\n",
       "\n",
       "[586 rows x 3 columns], R=30, lambda_step=0.01, plot_opts={'xlab': 'PC1', 'ylab': 'PC2'}, topic_order=[4, 6, 3, 5, 1, 2, 7, 8])"
      ]
     },
     "execution_count": 44,
     "metadata": {},
     "output_type": "execute_result"
    }
   ],
   "source": [
    "pyLDAvis.enable_notebook()\n",
    "LDAvis = pyLDAvis.gensim.prepare(lda_topic_model,corpus,id2word)\n",
    "LDAvis"
   ]
  },
  {
   "cell_type": "markdown",
   "metadata": {
    "id": "9_Zv4uTJu0KG"
   },
   "source": [
    "These are the topic heading\n",
    "\n",
    "- topic1 - phone features\n",
    "- topic2 - Amazon services\n",
    "- topic3 - normal mobile specification\n",
    "- topic4 - phone\n",
    "- topic5 - product review\n",
    "- topic6 - lenovo model\n",
    "- topic7 - product price\n",
    "- topic8 - shipping\n",
    "- topic9 - product durability\n",
    "- topic10 - battery charger\n",
    "- topic11 - overal specification\n",
    "- topic12 - overal review\n"
   ]
  },
  {
   "cell_type": "markdown",
   "metadata": {
    "id": "x5DK51qdu4Su"
   },
   "source": [
    "####**create a tabel with the topic name and the top 10 terms in each to present to the business.**"
   ]
  },
  {
   "cell_type": "code",
   "execution_count": 45,
   "metadata": {
    "colab": {
     "base_uri": "https://localhost:8080/",
     "height": 0
    },
    "id": "s21UhaURuvHq",
    "outputId": "eeda3dce-ba7d-4c68-ce16-26e6b361ae17"
   },
   "outputs": [
    {
     "name": "stderr",
     "output_type": "stream",
     "text": [
      "/usr/local/lib/python3.10/dist-packages/ipykernel/ipkernel.py:283: DeprecationWarning: `should_run_async` will not call `transform_cell` automatically in the future. Please pass the result to `transformed_cell` argument and any exception that happen during thetransform in `preprocessing_exc_tuple` in IPython 7.17 and above.\n",
      "  and should_run_async(code)\n"
     ]
    }
   ],
   "source": [
    "import numpy as np"
   ]
  },
  {
   "cell_type": "code",
   "execution_count": 54,
   "metadata": {
    "colab": {
     "base_uri": "https://localhost:8080/",
     "height": 0
    },
    "id": "4KY9_L39u7SE",
    "outputId": "d5727311-978c-4dcc-dd57-0c6cda4ec751"
   },
   "outputs": [
    {
     "name": "stderr",
     "output_type": "stream",
     "text": [
      "/usr/local/lib/python3.10/dist-packages/ipykernel/ipkernel.py:283: DeprecationWarning: `should_run_async` will not call `transform_cell` automatically in the future. Please pass the result to `transformed_cell` argument and any exception that happen during thetransform in `preprocessing_exc_tuple` in IPython 7.17 and above.\n",
      "  and should_run_async(code)\n"
     ]
    }
   ],
   "source": [
    "def __init__(topic,topics_words):\n",
    "  print(topic, topics_words)"
   ]
  },
  {
   "cell_type": "code",
   "execution_count": 69,
   "metadata": {
    "colab": {
     "base_uri": "https://localhost:8080/",
     "height": 0
    },
    "id": "6UiLn1vozbgO",
    "outputId": "1146e35b-e5a0-4788-bbf5-e935cbdfcf7d"
   },
   "outputs": [
    {
     "name": "stdout",
     "output_type": "stream",
     "text": [
      "6 [(9, ['camera', 'battery', 'quality', 'phone', 'performance', 'backup', 'issue', 'life', 'day', 'mode']), (2, ['note', 'k8', 'lenovo', 'sound', 'dolby', 'killer', 'gallery', 'system', 'atmos', 'excellent']), (10, ['phone', 'h', 'ram', 'hang', 'gb', 'game', 'ho', 'u', 'lot', 'interface']), (11, ['feature', 'delivery', 'time', 'star', 'experience', 'camera', 'condition', 'cost', 'class', 'awesome']), (3, ['phone', 'day', 'amazon', 'service', 'issue', 'time', 'lenovo', 'battery', 'month', 'device']), (1, ['money', '....', 'waste', 'value', 'glass', 'speaker', 'gorilla', 'set', 'ok', 'piece']), (4, ['product', 'problem', 'network', 'issue', 'heating', 'jio', 'sim', 'volta', 'connection', 'signal']), (0, ['mobile', 'call', 'screen', 'feature', 'option', 'music', 'software', 'app', 'video', 'card']), (7, ['charger', 'hai', 'handset', 'box', 'turbo', 'charge', 'plz', 'hi', 'cable', 'bhi']), (6, ['range', 'price', 'work', 'mobile', 'specification', 'super', '......', 'bit', 'cam', 'k'])]\n"
     ]
    },
    {
     "name": "stderr",
     "output_type": "stream",
     "text": [
      "/usr/local/lib/python3.10/dist-packages/ipykernel/ipkernel.py:283: DeprecationWarning: `should_run_async` will not call `transform_cell` automatically in the future. Please pass the result to `transformed_cell` argument and any exception that happen during thetransform in `preprocessing_exc_tuple` in IPython 7.17 and above.\n",
      "  and should_run_async(code)\n"
     ]
    }
   ],
   "source": [
    "Topics_table = __init__(topic,topics_words)\n",
    "Topics_table"
   ]
  },
  {
   "cell_type": "code",
   "execution_count": null,
   "metadata": {
    "id": "ajj4BSb37xMR"
   },
   "outputs": [],
   "source": []
  }
 ],
 "metadata": {
  "colab": {
   "provenance": []
  },
  "kernelspec": {
   "display_name": "Python 3 (ipykernel)",
   "language": "python",
   "name": "python3"
  },
  "language_info": {
   "codemirror_mode": {
    "name": "ipython",
    "version": 3
   },
   "file_extension": ".py",
   "mimetype": "text/x-python",
   "name": "python",
   "nbconvert_exporter": "python",
   "pygments_lexer": "ipython3",
   "version": "3.9.13"
  }
 },
 "nbformat": 4,
 "nbformat_minor": 1
}
